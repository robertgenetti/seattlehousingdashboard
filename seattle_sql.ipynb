{
    "metadata": {
        "kernelspec": {
            "name": "SQL",
            "display_name": "SQL",
            "language": "sql"
        },
        "language_info": {
            "name": "sql",
            "version": ""
        }
    },
    "nbformat_minor": 2,
    "nbformat": 4,
    "cells": [
        {
            "cell_type": "code",
            "source": [
                "-- check database row count\n",
                "select count(*)\n",
                "FROM seattle_mortgage"
            ],
            "metadata": {
                "language": "sql",
                "azdata_cell_guid": "1055f90f-cd08-4d68-b846-47fd9e281329"
            },
            "outputs": [
                {
                    "output_type": "display_data",
                    "data": {
                        "text/html": "(1 row(s) affected)"
                    },
                    "metadata": {}
                },
                {
                    "output_type": "display_data",
                    "data": {
                        "text/html": "Total execution time: 00:00:00.017"
                    },
                    "metadata": {}
                },
                {
                    "output_type": "execute_result",
                    "execution_count": 19,
                    "data": {
                        "application/vnd.dataresource+json": {
                            "schema": {
                                "fields": [
                                    {
                                        "name": "count"
                                    }
                                ]
                            },
                            "data": [
                                {
                                    "0": "1012"
                                }
                            ]
                        },
                        "text/html": "<table><tr><th>count</th></tr><tr><td>1012</td></tr></table>"
                    },
                    "metadata": {}
                }
            ],
            "execution_count": 19
        },
        {
            "cell_type": "markdown",
            "source": [
                "# Distressed Property Market Dashboard Project\n",
                "\n",
                "## Python, SQL and Tableau: Data Extraction, Key Metrics, Dashboard\n",
                "\n",
                "### Here are a few key metrics using SQL\n",
                "\n",
                "- (Panel) Overall distress property market trend\n",
                "- (Panel) Residential/conventional home loan market\n",
                "- (Agg. Val.) Average appraisal value\n",
                "- (Cross-sectional) List of distressed properties in the king county area"
            ],
            "metadata": {
                "language": "sql",
                "azdata_cell_guid": "3e966526-52e6-4e57-960c-f50aa5bb9620"
            },
            "attachments": {}
        },
        {
            "cell_type": "code",
            "source": [
                "-- (Panel) Overall distress property market trend\n",
                "select \"SERIES\", \"YEAR\", \"QUARTER\", \"MARKET\", \"VALUE\"\n",
                "FROM seattle_mortgage\n",
                "where \"SERIES\" != 'Percent in Forbearance'"
            ],
            "metadata": {
                "azdata_cell_guid": "5d0fb2bd-268a-499f-a55f-a011515765b6",
                "language": "sql"
            },
            "outputs": [
                {
                    "output_type": "display_data",
                    "data": {
                        "text/html": "(972 row(s) affected)"
                    },
                    "metadata": {}
                },
                {
                    "output_type": "display_data",
                    "data": {
                        "text/html": "Total execution time: 00:00:00.062"
                    },
                    "metadata": {}
                },
                {
                    "output_type": "execute_result",
                    "execution_count": 20,
                    "data": {
                        "application/vnd.dataresource+json": {
                            "schema": {
                                "fields": [
                                    {
                                        "name": "SERIES"
                                    },
                                    {
                                        "name": "YEAR"
                                    },
                                    {
                                        "name": "QUARTER"
                                    },
                                    {
                                        "name": "MARKET"
                                    },
                                    {
                                        "name": "VALUE"
                                    }
                                ]
                            },
                            "data": [
                                {
                                    "0": "Percent 30 or 60 Days Past Due Date",
                                    "1": "2002",
                                    "2": "1",
                                    "3": "Enterprise",
                                    "4": "0.7"
                                },
                                {
                                    "0": "Percent 30 or 60 Days Past Due Date",
                                    "1": "2002",
                                    "2": "2",
                                    "3": "Enterprise",
                                    "4": "0.7"
                                },
                                {
                                    "0": "Percent 30 or 60 Days Past Due Date",
                                    "1": "2002",
                                    "2": "3",
                                    "3": "Enterprise",
                                    "4": "0.8"
                                },
                                {
                                    "0": "Percent 30 or 60 Days Past Due Date",
                                    "1": "2002",
                                    "2": "4",
                                    "3": "Enterprise",
                                    "4": "0.8"
                                },
                                {
                                    "0": "Percent 30 or 60 Days Past Due Date",
                                    "1": "2003",
                                    "2": "1",
                                    "3": "Enterprise",
                                    "4": "0.7"
                                },
                                {
                                    "0": "Percent 30 or 60 Days Past Due Date",
                                    "1": "2003",
                                    "2": "2",
                                    "3": "Enterprise",
                                    "4": "0.7"
                                },
                                {
                                    "0": "Percent 30 or 60 Days Past Due Date",
                                    "1": "2003",
                                    "2": "3",
                                    "3": "Enterprise",
                                    "4": "0.8"
                                },
                                {
                                    "0": "Percent 30 or 60 Days Past Due Date",
                                    "1": "2003",
                                    "2": "4",
                                    "3": "Enterprise",
                                    "4": "0.9"
                                },
                                {
                                    "0": "Percent 30 or 60 Days Past Due Date",
                                    "1": "2004",
                                    "2": "1",
                                    "3": "Enterprise",
                                    "4": "0.7"
                                },
                                {
                                    "0": "Percent 30 or 60 Days Past Due Date",
                                    "1": "2004",
                                    "2": "2",
                                    "3": "Enterprise",
                                    "4": "0.6"
                                },
                                {
                                    "0": "Percent 30 or 60 Days Past Due Date",
                                    "1": "2004",
                                    "2": "3",
                                    "3": "Enterprise",
                                    "4": "0.9"
                                },
                                {
                                    "0": "Percent 30 or 60 Days Past Due Date",
                                    "1": "2004",
                                    "2": "4",
                                    "3": "Enterprise",
                                    "4": "0.7"
                                },
                                {
                                    "0": "Percent 30 or 60 Days Past Due Date",
                                    "1": "2005",
                                    "2": "1",
                                    "3": "Enterprise",
                                    "4": "0.5"
                                },
                                {
                                    "0": "Percent 30 or 60 Days Past Due Date",
                                    "1": "2005",
                                    "2": "2",
                                    "3": "Enterprise",
                                    "4": "0.5"
                                },
                                {
                                    "0": "Percent 30 or 60 Days Past Due Date",
                                    "1": "2005",
                                    "2": "3",
                                    "3": "Enterprise",
                                    "4": "0.6"
                                },
                                {
                                    "0": "Percent 30 or 60 Days Past Due Date",
                                    "1": "2005",
                                    "2": "4",
                                    "3": "Enterprise",
                                    "4": "0.5"
                                },
                                {
                                    "0": "Percent 30 or 60 Days Past Due Date",
                                    "1": "2006",
                                    "2": "1",
                                    "3": "Enterprise",
                                    "4": "0.4"
                                },
                                {
                                    "0": "Percent 30 or 60 Days Past Due Date",
                                    "1": "2006",
                                    "2": "2",
                                    "3": "Enterprise",
                                    "4": "0.5"
                                },
                                {
                                    "0": "Percent 30 or 60 Days Past Due Date",
                                    "1": "2006",
                                    "2": "3",
                                    "3": "Enterprise",
                                    "4": "0.5"
                                },
                                {
                                    "0": "Percent 30 or 60 Days Past Due Date",
                                    "1": "2006",
                                    "2": "4",
                                    "3": "Enterprise",
                                    "4": "0.5"
                                },
                                {
                                    "0": "Percent 30 or 60 Days Past Due Date",
                                    "1": "2007",
                                    "2": "1",
                                    "3": "Enterprise",
                                    "4": "0.5"
                                },
                                {
                                    "0": "Percent 30 or 60 Days Past Due Date",
                                    "1": "2007",
                                    "2": "2",
                                    "3": "Enterprise",
                                    "4": "0.5"
                                },
                                {
                                    "0": "Percent 30 or 60 Days Past Due Date",
                                    "1": "2007",
                                    "2": "3",
                                    "3": "Enterprise",
                                    "4": "0.5"
                                },
                                {
                                    "0": "Percent 30 or 60 Days Past Due Date",
                                    "1": "2007",
                                    "2": "4",
                                    "3": "Enterprise",
                                    "4": "0.6"
                                },
                                {
                                    "0": "Percent 30 or 60 Days Past Due Date",
                                    "1": "2008",
                                    "2": "1",
                                    "3": "Enterprise",
                                    "4": "0.7"
                                },
                                {
                                    "0": "Percent 30 or 60 Days Past Due Date",
                                    "1": "2008",
                                    "2": "2",
                                    "3": "Enterprise",
                                    "4": "0.7"
                                },
                                {
                                    "0": "Percent 30 or 60 Days Past Due Date",
                                    "1": "2008",
                                    "2": "3",
                                    "3": "Enterprise",
                                    "4": "0.9"
                                },
                                {
                                    "0": "Percent 30 or 60 Days Past Due Date",
                                    "1": "2008",
                                    "2": "4",
                                    "3": "Enterprise",
                                    "4": "1.3"
                                },
                                {
                                    "0": "Percent 30 or 60 Days Past Due Date",
                                    "1": "2009",
                                    "2": "1",
                                    "3": "Enterprise",
                                    "4": "1.3"
                                },
                                {
                                    "0": "Percent 30 or 60 Days Past Due Date",
                                    "1": "2009",
                                    "2": "2",
                                    "3": "Enterprise",
                                    "4": "1.4"
                                },
                                {
                                    "0": "Percent 30 or 60 Days Past Due Date",
                                    "1": "2009",
                                    "2": "3",
                                    "3": "Enterprise",
                                    "4": "1.3"
                                },
                                {
                                    "0": "Percent 30 or 60 Days Past Due Date",
                                    "1": "2009",
                                    "2": "4",
                                    "3": "Enterprise",
                                    "4": "1.4"
                                },
                                {
                                    "0": "Percent 30 or 60 Days Past Due Date",
                                    "1": "2010",
                                    "2": "1",
                                    "3": "Enterprise",
                                    "4": "1.5"
                                },
                                {
                                    "0": "Percent 30 or 60 Days Past Due Date",
                                    "1": "2010",
                                    "2": "2",
                                    "3": "Enterprise",
                                    "4": "1.4"
                                },
                                {
                                    "0": "Percent 30 or 60 Days Past Due Date",
                                    "1": "2010",
                                    "2": "3",
                                    "3": "Enterprise",
                                    "4": "1.4"
                                },
                                {
                                    "0": "Percent 30 or 60 Days Past Due Date",
                                    "1": "2010",
                                    "2": "4",
                                    "3": "Enterprise",
                                    "4": "1.6"
                                },
                                {
                                    "0": "Percent 30 or 60 Days Past Due Date",
                                    "1": "2011",
                                    "2": "1",
                                    "3": "Enterprise",
                                    "4": "1.5"
                                },
                                {
                                    "0": "Percent 30 or 60 Days Past Due Date",
                                    "1": "2011",
                                    "2": "2",
                                    "3": "Enterprise",
                                    "4": "1.3"
                                },
                                {
                                    "0": "Percent 30 or 60 Days Past Due Date",
                                    "1": "2011",
                                    "2": "3",
                                    "3": "Enterprise",
                                    "4": "1.3"
                                },
                                {
                                    "0": "Percent 30 or 60 Days Past Due Date",
                                    "1": "2011",
                                    "2": "4",
                                    "3": "Enterprise",
                                    "4": "1.1"
                                },
                                {
                                    "0": "Percent 30 or 60 Days Past Due Date",
                                    "1": "2012",
                                    "2": "1",
                                    "3": "Enterprise",
                                    "4": "1.3"
                                },
                                {
                                    "0": "Percent 30 or 60 Days Past Due Date",
                                    "1": "2012",
                                    "2": "2",
                                    "3": "Enterprise",
                                    "4": "1.1"
                                },
                                {
                                    "0": "Percent 30 or 60 Days Past Due Date",
                                    "1": "2012",
                                    "2": "3",
                                    "3": "Enterprise",
                                    "4": "1.0"
                                },
                                {
                                    "0": "Percent 30 or 60 Days Past Due Date",
                                    "1": "2012",
                                    "2": "4",
                                    "3": "Enterprise",
                                    "4": "0.9"
                                },
                                {
                                    "0": "Percent 30 or 60 Days Past Due Date",
                                    "1": "2013",
                                    "2": "1",
                                    "3": "Enterprise",
                                    "4": "0.9"
                                },
                                {
                                    "0": "Percent 30 or 60 Days Past Due Date",
                                    "1": "2013",
                                    "2": "2",
                                    "3": "Enterprise",
                                    "4": "0.7"
                                },
                                {
                                    "0": "Percent 30 or 60 Days Past Due Date",
                                    "1": "2013",
                                    "2": "3",
                                    "3": "Enterprise",
                                    "4": "0.7"
                                },
                                {
                                    "0": "Percent 30 or 60 Days Past Due Date",
                                    "1": "2013",
                                    "2": "4",
                                    "3": "Enterprise",
                                    "4": "0.7"
                                },
                                {
                                    "0": "Percent 30 or 60 Days Past Due Date",
                                    "1": "2014",
                                    "2": "1",
                                    "3": "Enterprise",
                                    "4": "0.6"
                                },
                                {
                                    "0": "Percent 30 or 60 Days Past Due Date",
                                    "1": "2014",
                                    "2": "2",
                                    "3": "Enterprise",
                                    "4": "0.6"
                                },
                                {
                                    "0": "Percent 30 or 60 Days Past Due Date",
                                    "1": "2014",
                                    "2": "3",
                                    "3": "Enterprise",
                                    "4": "0.7"
                                },
                                {
                                    "0": "Percent 30 or 60 Days Past Due Date",
                                    "1": "2014",
                                    "2": "4",
                                    "3": "Enterprise",
                                    "4": "0.6"
                                },
                                {
                                    "0": "Percent 30 or 60 Days Past Due Date",
                                    "1": "2015",
                                    "2": "1",
                                    "3": "Enterprise",
                                    "4": "0.5"
                                },
                                {
                                    "0": "Percent 30 or 60 Days Past Due Date",
                                    "1": "2015",
                                    "2": "2",
                                    "3": "Enterprise",
                                    "4": "0.5"
                                },
                                {
                                    "0": "Percent 30 or 60 Days Past Due Date",
                                    "1": "2015",
                                    "2": "3",
                                    "3": "Enterprise",
                                    "4": "0.5"
                                },
                                {
                                    "0": "Percent 30 or 60 Days Past Due Date",
                                    "1": "2015",
                                    "2": "4",
                                    "3": "Enterprise",
                                    "4": "0.5"
                                },
                                {
                                    "0": "Percent 30 or 60 Days Past Due Date",
                                    "1": "2016",
                                    "2": "1",
                                    "3": "Enterprise",
                                    "4": "0.5"
                                },
                                {
                                    "0": "Percent 30 or 60 Days Past Due Date",
                                    "1": "2016",
                                    "2": "2",
                                    "3": "Enterprise",
                                    "4": "0.5"
                                },
                                {
                                    "0": "Percent 30 or 60 Days Past Due Date",
                                    "1": "2016",
                                    "2": "3",
                                    "3": "Enterprise",
                                    "4": "0.5"
                                },
                                {
                                    "0": "Percent 30 or 60 Days Past Due Date",
                                    "1": "2016",
                                    "2": "4",
                                    "3": "Enterprise",
                                    "4": "0.3"
                                },
                                {
                                    "0": "Percent 30 or 60 Days Past Due Date",
                                    "1": "2017",
                                    "2": "1",
                                    "3": "Enterprise",
                                    "4": "0.4"
                                },
                                {
                                    "0": "Percent 30 or 60 Days Past Due Date",
                                    "1": "2017",
                                    "2": "2",
                                    "3": "Enterprise",
                                    "4": "0.4"
                                },
                                {
                                    "0": "Percent 30 or 60 Days Past Due Date",
                                    "1": "2017",
                                    "2": "3",
                                    "3": "Enterprise",
                                    "4": "0.5"
                                },
                                {
                                    "0": "Percent 30 or 60 Days Past Due Date",
                                    "1": "2017",
                                    "2": "4",
                                    "3": "Enterprise",
                                    "4": "0.5"
                                },
                                {
                                    "0": "Percent 30 or 60 Days Past Due Date",
                                    "1": "2018",
                                    "2": "1",
                                    "3": "Enterprise",
                                    "4": "0.4"
                                },
                                {
                                    "0": "Percent 30 or 60 Days Past Due Date",
                                    "1": "2018",
                                    "2": "2",
                                    "3": "Enterprise",
                                    "4": "0.5"
                                },
                                {
                                    "0": "Percent 30 or 60 Days Past Due Date",
                                    "1": "2018",
                                    "2": "3",
                                    "3": "Enterprise",
                                    "4": "0.5"
                                },
                                {
                                    "0": "Percent 30 or 60 Days Past Due Date",
                                    "1": "2018",
                                    "2": "4",
                                    "3": "Enterprise",
                                    "4": "0.4"
                                },
                                {
                                    "0": "Percent 30 or 60 Days Past Due Date",
                                    "1": "2019",
                                    "2": "1",
                                    "3": "Enterprise",
                                    "4": "0.4"
                                },
                                {
                                    "0": "Percent 30 or 60 Days Past Due Date",
                                    "1": "2019",
                                    "2": "2",
                                    "3": "Enterprise",
                                    "4": "0.3"
                                },
                                {
                                    "0": "Percent 30 or 60 Days Past Due Date",
                                    "1": "2019",
                                    "2": "3",
                                    "3": "Enterprise",
                                    "4": "0.4"
                                },
                                {
                                    "0": "Percent 30 or 60 Days Past Due Date",
                                    "1": "2019",
                                    "2": "4",
                                    "3": "Enterprise",
                                    "4": "0.4"
                                },
                                {
                                    "0": "Percent 30 or 60 Days Past Due Date",
                                    "1": "2020",
                                    "2": "1",
                                    "3": "Enterprise",
                                    "4": "0.4"
                                },
                                {
                                    "0": "Percent 30 or 60 Days Past Due Date",
                                    "1": "2020",
                                    "2": "2",
                                    "3": "Enterprise",
                                    "4": "0.2"
                                },
                                {
                                    "0": "Percent 30 or 60 Days Past Due Date",
                                    "1": "2020",
                                    "2": "3",
                                    "3": "Enterprise",
                                    "4": "0.2"
                                },
                                {
                                    "0": "Percent 30 or 60 Days Past Due Date",
                                    "1": "2020",
                                    "2": "4",
                                    "3": "Enterprise",
                                    "4": "0.2"
                                },
                                {
                                    "0": "Percent 30 or 60 Days Past Due Date",
                                    "1": "2021",
                                    "2": "1",
                                    "3": "Enterprise",
                                    "4": "0.1"
                                },
                                {
                                    "0": "Percent 30 or 60 Days Past Due Date",
                                    "1": "2021",
                                    "2": "2",
                                    "3": "Enterprise",
                                    "4": "0.2"
                                },
                                {
                                    "0": "Percent 30 or 60 Days Past Due Date",
                                    "1": "2021",
                                    "2": "3",
                                    "3": "Enterprise",
                                    "4": "0.2"
                                },
                                {
                                    "0": "Percent 30 or 60 Days Past Due Date",
                                    "1": "2021",
                                    "2": "4",
                                    "3": "Enterprise",
                                    "4": "0.3"
                                },
                                {
                                    "0": "Percent 30 or 60 Days Past Due Date",
                                    "1": "2022",
                                    "2": "1",
                                    "3": "Enterprise",
                                    "4": "0.2"
                                },
                                {
                                    "0": "Percent 30 or 60 Days Past Due Date",
                                    "1": "2002",
                                    "2": "1",
                                    "3": "Government",
                                    "4": "3.3"
                                },
                                {
                                    "0": "Percent 30 or 60 Days Past Due Date",
                                    "1": "2002",
                                    "2": "2",
                                    "3": "Government",
                                    "4": "3.3"
                                },
                                {
                                    "0": "Percent 30 or 60 Days Past Due Date",
                                    "1": "2002",
                                    "2": "3",
                                    "3": "Government",
                                    "4": "4.2"
                                },
                                {
                                    "0": "Percent 30 or 60 Days Past Due Date",
                                    "1": "2002",
                                    "2": "4",
                                    "3": "Government",
                                    "4": "3.6"
                                },
                                {
                                    "0": "Percent 30 or 60 Days Past Due Date",
                                    "1": "2003",
                                    "2": "1",
                                    "3": "Government",
                                    "4": "3.5"
                                },
                                {
                                    "0": "Percent 30 or 60 Days Past Due Date",
                                    "1": "2003",
                                    "2": "2",
                                    "3": "Government",
                                    "4": "3.7"
                                },
                                {
                                    "0": "Percent 30 or 60 Days Past Due Date",
                                    "1": "2003",
                                    "2": "3",
                                    "3": "Government",
                                    "4": "4.5"
                                },
                                {
                                    "0": "Percent 30 or 60 Days Past Due Date",
                                    "1": "2003",
                                    "2": "4",
                                    "3": "Government",
                                    "4": "4.5"
                                },
                                {
                                    "0": "Percent 30 or 60 Days Past Due Date",
                                    "1": "2004",
                                    "2": "1",
                                    "3": "Government",
                                    "4": "4.1"
                                },
                                {
                                    "0": "Percent 30 or 60 Days Past Due Date",
                                    "1": "2004",
                                    "2": "2",
                                    "3": "Government",
                                    "4": "4.1"
                                },
                                {
                                    "0": "Percent 30 or 60 Days Past Due Date",
                                    "1": "2004",
                                    "2": "3",
                                    "3": "Government",
                                    "4": "4.7"
                                },
                                {
                                    "0": "Percent 30 or 60 Days Past Due Date",
                                    "1": "2004",
                                    "2": "4",
                                    "3": "Government",
                                    "4": "4.3"
                                },
                                {
                                    "0": "Percent 30 or 60 Days Past Due Date",
                                    "1": "2005",
                                    "2": "1",
                                    "3": "Government",
                                    "4": "4.0"
                                },
                                {
                                    "0": "Percent 30 or 60 Days Past Due Date",
                                    "1": "2005",
                                    "2": "2",
                                    "3": "Government",
                                    "4": "4.3"
                                },
                                {
                                    "0": "Percent 30 or 60 Days Past Due Date",
                                    "1": "2005",
                                    "2": "3",
                                    "3": "Government",
                                    "4": "4.1"
                                },
                                {
                                    "0": "Percent 30 or 60 Days Past Due Date",
                                    "1": "2005",
                                    "2": "4",
                                    "3": "Government",
                                    "4": "4.8"
                                },
                                {
                                    "0": "Percent 30 or 60 Days Past Due Date",
                                    "1": "2006",
                                    "2": "1",
                                    "3": "Government",
                                    "4": "3.9"
                                },
                                {
                                    "0": "Percent 30 or 60 Days Past Due Date",
                                    "1": "2006",
                                    "2": "2",
                                    "3": "Government",
                                    "4": "3.7"
                                },
                                {
                                    "0": "Percent 30 or 60 Days Past Due Date",
                                    "1": "2006",
                                    "2": "3",
                                    "3": "Government",
                                    "4": "3.5"
                                },
                                {
                                    "0": "Percent 30 or 60 Days Past Due Date",
                                    "1": "2006",
                                    "2": "4",
                                    "3": "Government",
                                    "4": "3.4"
                                },
                                {
                                    "0": "Percent 30 or 60 Days Past Due Date",
                                    "1": "2007",
                                    "2": "1",
                                    "3": "Government",
                                    "4": "2.8"
                                },
                                {
                                    "0": "Percent 30 or 60 Days Past Due Date",
                                    "1": "2007",
                                    "2": "2",
                                    "3": "Government",
                                    "4": "3.2"
                                },
                                {
                                    "0": "Percent 30 or 60 Days Past Due Date",
                                    "1": "2007",
                                    "2": "3",
                                    "3": "Government",
                                    "4": "2.9"
                                },
                                {
                                    "0": "Percent 30 or 60 Days Past Due Date",
                                    "1": "2007",
                                    "2": "4",
                                    "3": "Government",
                                    "4": "2.6"
                                },
                                {
                                    "0": "Percent 30 or 60 Days Past Due Date",
                                    "1": "2008",
                                    "2": "1",
                                    "3": "Government",
                                    "4": "2.7"
                                },
                                {
                                    "0": "Percent 30 or 60 Days Past Due Date",
                                    "1": "2008",
                                    "2": "2",
                                    "3": "Government",
                                    "4": "2.7"
                                },
                                {
                                    "0": "Percent 30 or 60 Days Past Due Date",
                                    "1": "2008",
                                    "2": "3",
                                    "3": "Government",
                                    "4": "3.9"
                                },
                                {
                                    "0": "Percent 30 or 60 Days Past Due Date",
                                    "1": "2008",
                                    "2": "4",
                                    "3": "Government",
                                    "4": "3.8"
                                },
                                {
                                    "0": "Percent 30 or 60 Days Past Due Date",
                                    "1": "2009",
                                    "2": "1",
                                    "3": "Government",
                                    "4": "3.9"
                                },
                                {
                                    "0": "Percent 30 or 60 Days Past Due Date",
                                    "1": "2009",
                                    "2": "2",
                                    "3": "Government",
                                    "4": "3.6"
                                },
                                {
                                    "0": "Percent 30 or 60 Days Past Due Date",
                                    "1": "2009",
                                    "2": "3",
                                    "3": "Government",
                                    "4": "3.9"
                                },
                                {
                                    "0": "Percent 30 or 60 Days Past Due Date",
                                    "1": "2009",
                                    "2": "4",
                                    "3": "Government",
                                    "4": "3.7"
                                },
                                {
                                    "0": "Percent 30 or 60 Days Past Due Date",
                                    "1": "2010",
                                    "2": "1",
                                    "3": "Government",
                                    "4": "3.5"
                                },
                                {
                                    "0": "Percent 30 or 60 Days Past Due Date",
                                    "1": "2010",
                                    "2": "2",
                                    "3": "Government",
                                    "4": "3.7"
                                },
                                {
                                    "0": "Percent 30 or 60 Days Past Due Date",
                                    "1": "2010",
                                    "2": "3",
                                    "3": "Government",
                                    "4": "3.2"
                                },
                                {
                                    "0": "Percent 30 or 60 Days Past Due Date",
                                    "1": "2010",
                                    "2": "4",
                                    "3": "Government",
                                    "4": "3.8"
                                },
                                {
                                    "0": "Percent 30 or 60 Days Past Due Date",
                                    "1": "2011",
                                    "2": "1",
                                    "3": "Government",
                                    "4": "3.1"
                                },
                                {
                                    "0": "Percent 30 or 60 Days Past Due Date",
                                    "1": "2011",
                                    "2": "2",
                                    "3": "Government",
                                    "4": "3.2"
                                },
                                {
                                    "0": "Percent 30 or 60 Days Past Due Date",
                                    "1": "2011",
                                    "2": "3",
                                    "3": "Government",
                                    "4": "3.7"
                                },
                                {
                                    "0": "Percent 30 or 60 Days Past Due Date",
                                    "1": "2011",
                                    "2": "4",
                                    "3": "Government",
                                    "4": "3.4"
                                },
                                {
                                    "0": "Percent 30 or 60 Days Past Due Date",
                                    "1": "2012",
                                    "2": "1",
                                    "3": "Government",
                                    "4": "3.3"
                                },
                                {
                                    "0": "Percent 30 or 60 Days Past Due Date",
                                    "1": "2012",
                                    "2": "2",
                                    "3": "Government",
                                    "4": "3.0"
                                },
                                {
                                    "0": "Percent 30 or 60 Days Past Due Date",
                                    "1": "2012",
                                    "2": "3",
                                    "3": "Government",
                                    "4": "2.7"
                                },
                                {
                                    "0": "Percent 30 or 60 Days Past Due Date",
                                    "1": "2012",
                                    "2": "4",
                                    "3": "Government",
                                    "4": "2.7"
                                },
                                {
                                    "0": "Percent 30 or 60 Days Past Due Date",
                                    "1": "2013",
                                    "2": "1",
                                    "3": "Government",
                                    "4": "2.6"
                                },
                                {
                                    "0": "Percent 30 or 60 Days Past Due Date",
                                    "1": "2013",
                                    "2": "2",
                                    "3": "Government",
                                    "4": "2.3"
                                },
                                {
                                    "0": "Percent 30 or 60 Days Past Due Date",
                                    "1": "2013",
                                    "2": "3",
                                    "3": "Government",
                                    "4": "2.6"
                                },
                                {
                                    "0": "Percent 30 or 60 Days Past Due Date",
                                    "1": "2013",
                                    "2": "4",
                                    "3": "Government",
                                    "4": "2.1"
                                },
                                {
                                    "0": "Percent 30 or 60 Days Past Due Date",
                                    "1": "2014",
                                    "2": "1",
                                    "3": "Government",
                                    "4": "1.4"
                                },
                                {
                                    "0": "Percent 30 or 60 Days Past Due Date",
                                    "1": "2014",
                                    "2": "2",
                                    "3": "Government",
                                    "4": "1.8"
                                },
                                {
                                    "0": "Percent 30 or 60 Days Past Due Date",
                                    "1": "2014",
                                    "2": "3",
                                    "3": "Government",
                                    "4": "2.1"
                                },
                                {
                                    "0": "Percent 30 or 60 Days Past Due Date",
                                    "1": "2014",
                                    "2": "4",
                                    "3": "Government",
                                    "4": "2.3"
                                },
                                {
                                    "0": "Percent 30 or 60 Days Past Due Date",
                                    "1": "2015",
                                    "2": "1",
                                    "3": "Government",
                                    "4": "1.4"
                                },
                                {
                                    "0": "Percent 30 or 60 Days Past Due Date",
                                    "1": "2015",
                                    "2": "2",
                                    "3": "Government",
                                    "4": "2.0"
                                },
                                {
                                    "0": "Percent 30 or 60 Days Past Due Date",
                                    "1": "2015",
                                    "2": "3",
                                    "3": "Government",
                                    "4": "2.2"
                                },
                                {
                                    "0": "Percent 30 or 60 Days Past Due Date",
                                    "1": "2015",
                                    "2": "4",
                                    "3": "Government",
                                    "4": "2.2"
                                },
                                {
                                    "0": "Percent 30 or 60 Days Past Due Date",
                                    "1": "2016",
                                    "2": "1",
                                    "3": "Government",
                                    "4": "1.7"
                                },
                                {
                                    "0": "Percent 30 or 60 Days Past Due Date",
                                    "1": "2016",
                                    "2": "2",
                                    "3": "Government",
                                    "4": "2.0"
                                },
                                {
                                    "0": "Percent 30 or 60 Days Past Due Date",
                                    "1": "2016",
                                    "2": "3",
                                    "3": "Government",
                                    "4": "1.8"
                                },
                                {
                                    "0": "Percent 30 or 60 Days Past Due Date",
                                    "1": "2016",
                                    "2": "4",
                                    "3": "Government",
                                    "4": "1.5"
                                },
                                {
                                    "0": "Percent 30 or 60 Days Past Due Date",
                                    "1": "2017",
                                    "2": "1",
                                    "3": "Government",
                                    "4": "1.6"
                                },
                                {
                                    "0": "Percent 30 or 60 Days Past Due Date",
                                    "1": "2017",
                                    "2": "2",
                                    "3": "Government",
                                    "4": "1.8"
                                },
                                {
                                    "0": "Percent 30 or 60 Days Past Due Date",
                                    "1": "2017",
                                    "2": "3",
                                    "3": "Government",
                                    "4": "1.7"
                                },
                                {
                                    "0": "Percent 30 or 60 Days Past Due Date",
                                    "1": "2017",
                                    "2": "4",
                                    "3": "Government",
                                    "4": "2.4"
                                },
                                {
                                    "0": "Percent 30 or 60 Days Past Due Date",
                                    "1": "2018",
                                    "2": "1",
                                    "3": "Government",
                                    "4": "2.1"
                                },
                                {
                                    "0": "Percent 30 or 60 Days Past Due Date",
                                    "1": "2018",
                                    "2": "2",
                                    "3": "Government",
                                    "4": "2.3"
                                },
                                {
                                    "0": "Percent 30 or 60 Days Past Due Date",
                                    "1": "2018",
                                    "2": "3",
                                    "3": "Government",
                                    "4": "2.4"
                                },
                                {
                                    "0": "Percent 30 or 60 Days Past Due Date",
                                    "1": "2018",
                                    "2": "4",
                                    "3": "Government",
                                    "4": "2.2"
                                },
                                {
                                    "0": "Percent 30 or 60 Days Past Due Date",
                                    "1": "2019",
                                    "2": "1",
                                    "3": "Government",
                                    "4": "1.8"
                                },
                                {
                                    "0": "Percent 30 or 60 Days Past Due Date",
                                    "1": "2019",
                                    "2": "2",
                                    "3": "Government",
                                    "4": "2.0"
                                },
                                {
                                    "0": "Percent 30 or 60 Days Past Due Date",
                                    "1": "2019",
                                    "2": "3",
                                    "3": "Government",
                                    "4": "2.0"
                                },
                                {
                                    "0": "Percent 30 or 60 Days Past Due Date",
                                    "1": "2019",
                                    "2": "4",
                                    "3": "Government",
                                    "4": "2.9"
                                },
                                {
                                    "0": "Percent 30 or 60 Days Past Due Date",
                                    "1": "2020",
                                    "2": "1",
                                    "3": "Government",
                                    "4": "2.0"
                                },
                                {
                                    "0": "Percent 30 or 60 Days Past Due Date",
                                    "1": "2020",
                                    "2": "2",
                                    "3": "Government",
                                    "4": "0.8"
                                },
                                {
                                    "0": "Percent 30 or 60 Days Past Due Date",
                                    "1": "2020",
                                    "2": "3",
                                    "3": "Government",
                                    "4": "1.1"
                                },
                                {
                                    "0": "Percent 30 or 60 Days Past Due Date",
                                    "1": "2020",
                                    "2": "4",
                                    "3": "Government",
                                    "4": "1.2"
                                },
                                {
                                    "0": "Percent 30 or 60 Days Past Due Date",
                                    "1": "2021",
                                    "2": "1",
                                    "3": "Government",
                                    "4": "0.8"
                                },
                                {
                                    "0": "Percent 30 or 60 Days Past Due Date",
                                    "1": "2021",
                                    "2": "2",
                                    "3": "Government",
                                    "4": "0.5"
                                },
                                {
                                    "0": "Percent 30 or 60 Days Past Due Date",
                                    "1": "2021",
                                    "2": "3",
                                    "3": "Government",
                                    "4": "0.8"
                                },
                                {
                                    "0": "Percent 30 or 60 Days Past Due Date",
                                    "1": "2021",
                                    "2": "4",
                                    "3": "Government",
                                    "4": "1.2"
                                },
                                {
                                    "0": "Percent 30 or 60 Days Past Due Date",
                                    "1": "2022",
                                    "2": "1",
                                    "3": "Government",
                                    "4": "1.0"
                                },
                                {
                                    "0": "Percent 30 or 60 Days Past Due Date",
                                    "1": "2002",
                                    "2": "1",
                                    "3": "Overall Market",
                                    "4": "1.4"
                                },
                                {
                                    "0": "Percent 30 or 60 Days Past Due Date",
                                    "1": "2002",
                                    "2": "2",
                                    "3": "Overall Market",
                                    "4": "1.3"
                                },
                                {
                                    "0": "Percent 30 or 60 Days Past Due Date",
                                    "1": "2002",
                                    "2": "3",
                                    "3": "Overall Market",
                                    "4": "1.6"
                                },
                                {
                                    "0": "Percent 30 or 60 Days Past Due Date",
                                    "1": "2002",
                                    "2": "4",
                                    "3": "Overall Market",
                                    "4": "1.5"
                                },
                                {
                                    "0": "Percent 30 or 60 Days Past Due Date",
                                    "1": "2003",
                                    "2": "1",
                                    "3": "Overall Market",
                                    "4": "1.3"
                                },
                                {
                                    "0": "Percent 30 or 60 Days Past Due Date",
                                    "1": "2003",
                                    "2": "2",
                                    "3": "Overall Market",
                                    "4": "1.3"
                                },
                                {
                                    "0": "Percent 30 or 60 Days Past Due Date",
                                    "1": "2003",
                                    "2": "3",
                                    "3": "Overall Market",
                                    "4": "1.4"
                                },
                                {
                                    "0": "Percent 30 or 60 Days Past Due Date",
                                    "1": "2003",
                                    "2": "4",
                                    "3": "Overall Market",
                                    "4": "1.5"
                                },
                                {
                                    "0": "Percent 30 or 60 Days Past Due Date",
                                    "1": "2004",
                                    "2": "1",
                                    "3": "Overall Market",
                                    "4": "1.3"
                                },
                                {
                                    "0": "Percent 30 or 60 Days Past Due Date",
                                    "1": "2004",
                                    "2": "2",
                                    "3": "Overall Market",
                                    "4": "1.2"
                                },
                                {
                                    "0": "Percent 30 or 60 Days Past Due Date",
                                    "1": "2004",
                                    "2": "3",
                                    "3": "Overall Market",
                                    "4": "1.4"
                                },
                                {
                                    "0": "Percent 30 or 60 Days Past Due Date",
                                    "1": "2004",
                                    "2": "4",
                                    "3": "Overall Market",
                                    "4": "1.3"
                                },
                                {
                                    "0": "Percent 30 or 60 Days Past Due Date",
                                    "1": "2005",
                                    "2": "1",
                                    "3": "Overall Market",
                                    "4": "1.2"
                                },
                                {
                                    "0": "Percent 30 or 60 Days Past Due Date",
                                    "1": "2005",
                                    "2": "2",
                                    "3": "Overall Market",
                                    "4": "1.2"
                                },
                                {
                                    "0": "Percent 30 or 60 Days Past Due Date",
                                    "1": "2005",
                                    "2": "3",
                                    "3": "Overall Market",
                                    "4": "1.2"
                                },
                                {
                                    "0": "Percent 30 or 60 Days Past Due Date",
                                    "1": "2005",
                                    "2": "4",
                                    "3": "Overall Market",
                                    "4": "1.3"
                                },
                                {
                                    "0": "Percent 30 or 60 Days Past Due Date",
                                    "1": "2006",
                                    "2": "1",
                                    "3": "Overall Market",
                                    "4": "1.1"
                                },
                                {
                                    "0": "Percent 30 or 60 Days Past Due Date",
                                    "1": "2006",
                                    "2": "2",
                                    "3": "Overall Market",
                                    "4": "1.2"
                                },
                                {
                                    "0": "Percent 30 or 60 Days Past Due Date",
                                    "1": "2006",
                                    "2": "3",
                                    "3": "Overall Market",
                                    "4": "1.2"
                                },
                                {
                                    "0": "Percent 30 or 60 Days Past Due Date",
                                    "1": "2006",
                                    "2": "4",
                                    "3": "Overall Market",
                                    "4": "1.2"
                                },
                                {
                                    "0": "Percent 30 or 60 Days Past Due Date",
                                    "1": "2007",
                                    "2": "1",
                                    "3": "Overall Market",
                                    "4": "1.1"
                                },
                                {
                                    "0": "Percent 30 or 60 Days Past Due Date",
                                    "1": "2007",
                                    "2": "2",
                                    "3": "Overall Market",
                                    "4": "1.2"
                                },
                                {
                                    "0": "Percent 30 or 60 Days Past Due Date",
                                    "1": "2007",
                                    "2": "3",
                                    "3": "Overall Market",
                                    "4": "1.2"
                                },
                                {
                                    "0": "Percent 30 or 60 Days Past Due Date",
                                    "1": "2007",
                                    "2": "4",
                                    "3": "Overall Market",
                                    "4": "1.5"
                                },
                                {
                                    "0": "Percent 30 or 60 Days Past Due Date",
                                    "1": "2008",
                                    "2": "1",
                                    "3": "Overall Market",
                                    "4": "1.5"
                                },
                                {
                                    "0": "Percent 30 or 60 Days Past Due Date",
                                    "1": "2008",
                                    "2": "2",
                                    "3": "Overall Market",
                                    "4": "1.5"
                                },
                                {
                                    "0": "Percent 30 or 60 Days Past Due Date",
                                    "1": "2008",
                                    "2": "3",
                                    "3": "Overall Market",
                                    "4": "1.8"
                                },
                                {
                                    "0": "Percent 30 or 60 Days Past Due Date",
                                    "1": "2008",
                                    "2": "4",
                                    "3": "Overall Market",
                                    "4": "2.3"
                                },
                                {
                                    "0": "Percent 30 or 60 Days Past Due Date",
                                    "1": "2009",
                                    "2": "1",
                                    "3": "Overall Market",
                                    "4": "2.4"
                                },
                                {
                                    "0": "Percent 30 or 60 Days Past Due Date",
                                    "1": "2009",
                                    "2": "2",
                                    "3": "Overall Market",
                                    "4": "2.3"
                                },
                                {
                                    "0": "Percent 30 or 60 Days Past Due Date",
                                    "1": "2009",
                                    "2": "3",
                                    "3": "Overall Market",
                                    "4": "2.3"
                                },
                                {
                                    "0": "Percent 30 or 60 Days Past Due Date",
                                    "1": "2009",
                                    "2": "4",
                                    "3": "Overall Market",
                                    "4": "2.4"
                                },
                                {
                                    "0": "Percent 30 or 60 Days Past Due Date",
                                    "1": "2010",
                                    "2": "1",
                                    "3": "Overall Market",
                                    "4": "2.2"
                                },
                                {
                                    "0": "Percent 30 or 60 Days Past Due Date",
                                    "1": "2010",
                                    "2": "2",
                                    "3": "Overall Market",
                                    "4": "2.1"
                                },
                                {
                                    "0": "Percent 30 or 60 Days Past Due Date",
                                    "1": "2010",
                                    "2": "3",
                                    "3": "Overall Market",
                                    "4": "2.0"
                                },
                                {
                                    "0": "Percent 30 or 60 Days Past Due Date",
                                    "1": "2010",
                                    "2": "4",
                                    "3": "Overall Market",
                                    "4": "2.3"
                                },
                                {
                                    "0": "Percent 30 or 60 Days Past Due Date",
                                    "1": "2011",
                                    "2": "1",
                                    "3": "Overall Market",
                                    "4": "2.0"
                                },
                                {
                                    "0": "Percent 30 or 60 Days Past Due Date",
                                    "1": "2011",
                                    "2": "2",
                                    "3": "Overall Market",
                                    "4": "1.9"
                                },
                                {
                                    "0": "Percent 30 or 60 Days Past Due Date",
                                    "1": "2011",
                                    "2": "3",
                                    "3": "Overall Market",
                                    "4": "2.1"
                                },
                                {
                                    "0": "Percent 30 or 60 Days Past Due Date",
                                    "1": "2011",
                                    "2": "4",
                                    "3": "Overall Market",
                                    "4": "1.9"
                                },
                                {
                                    "0": "Percent 30 or 60 Days Past Due Date",
                                    "1": "2012",
                                    "2": "1",
                                    "3": "Overall Market",
                                    "4": "1.9"
                                },
                                {
                                    "0": "Percent 30 or 60 Days Past Due Date",
                                    "1": "2012",
                                    "2": "2",
                                    "3": "Overall Market",
                                    "4": "1.7"
                                },
                                {
                                    "0": "Percent 30 or 60 Days Past Due Date",
                                    "1": "2012",
                                    "2": "3",
                                    "3": "Overall Market",
                                    "4": "1.6"
                                },
                                {
                                    "0": "Percent 30 or 60 Days Past Due Date",
                                    "1": "2012",
                                    "2": "4",
                                    "3": "Overall Market",
                                    "4": "1.5"
                                },
                                {
                                    "0": "Percent 30 or 60 Days Past Due Date",
                                    "1": "2013",
                                    "2": "1",
                                    "3": "Overall Market",
                                    "4": "1.4"
                                },
                                {
                                    "0": "Percent 30 or 60 Days Past Due Date",
                                    "1": "2013",
                                    "2": "2",
                                    "3": "Overall Market",
                                    "4": "1.2"
                                },
                                {
                                    "0": "Percent 30 or 60 Days Past Due Date",
                                    "1": "2013",
                                    "2": "3",
                                    "3": "Overall Market",
                                    "4": "1.2"
                                },
                                {
                                    "0": "Percent 30 or 60 Days Past Due Date",
                                    "1": "2013",
                                    "2": "4",
                                    "3": "Overall Market",
                                    "4": "1.2"
                                },
                                {
                                    "0": "Percent 30 or 60 Days Past Due Date",
                                    "1": "2014",
                                    "2": "1",
                                    "3": "Overall Market",
                                    "4": "1.1"
                                },
                                {
                                    "0": "Percent 30 or 60 Days Past Due Date",
                                    "1": "2014",
                                    "2": "2",
                                    "3": "Overall Market",
                                    "4": "0.9"
                                },
                                {
                                    "0": "Percent 30 or 60 Days Past Due Date",
                                    "1": "2014",
                                    "2": "3",
                                    "3": "Overall Market",
                                    "4": "1.1"
                                },
                                {
                                    "0": "Percent 30 or 60 Days Past Due Date",
                                    "1": "2014",
                                    "2": "4",
                                    "3": "Overall Market",
                                    "4": "1.1"
                                },
                                {
                                    "0": "Percent 30 or 60 Days Past Due Date",
                                    "1": "2015",
                                    "2": "1",
                                    "3": "Overall Market",
                                    "4": "0.8"
                                },
                                {
                                    "0": "Percent 30 or 60 Days Past Due Date",
                                    "1": "2015",
                                    "2": "2",
                                    "3": "Overall Market",
                                    "4": "0.9"
                                },
                                {
                                    "0": "Percent 30 or 60 Days Past Due Date",
                                    "1": "2015",
                                    "2": "3",
                                    "3": "Overall Market",
                                    "4": "1.0"
                                },
                                {
                                    "0": "Percent 30 or 60 Days Past Due Date",
                                    "1": "2015",
                                    "2": "4",
                                    "3": "Overall Market",
                                    "4": "0.9"
                                },
                                {
                                    "0": "Percent 30 or 60 Days Past Due Date",
                                    "1": "2016",
                                    "2": "1",
                                    "3": "Overall Market",
                                    "4": "0.8"
                                },
                                {
                                    "0": "Percent 30 or 60 Days Past Due Date",
                                    "1": "2016",
                                    "2": "2",
                                    "3": "Overall Market",
                                    "4": "0.8"
                                },
                                {
                                    "0": "Percent 30 or 60 Days Past Due Date",
                                    "1": "2016",
                                    "2": "3",
                                    "3": "Overall Market",
                                    "4": "0.8"
                                },
                                {
                                    "0": "Percent 30 or 60 Days Past Due Date",
                                    "1": "2016",
                                    "2": "4",
                                    "3": "Overall Market",
                                    "4": "0.7"
                                },
                                {
                                    "0": "Percent 30 or 60 Days Past Due Date",
                                    "1": "2017",
                                    "2": "1",
                                    "3": "Overall Market",
                                    "4": "0.7"
                                },
                                {
                                    "0": "Percent 30 or 60 Days Past Due Date",
                                    "1": "2017",
                                    "2": "2",
                                    "3": "Overall Market",
                                    "4": "0.7"
                                },
                                {
                                    "0": "Percent 30 or 60 Days Past Due Date",
                                    "1": "2017",
                                    "2": "3",
                                    "3": "Overall Market",
                                    "4": "0.8"
                                },
                                {
                                    "0": "Percent 30 or 60 Days Past Due Date",
                                    "1": "2017",
                                    "2": "4",
                                    "3": "Overall Market",
                                    "4": "0.8"
                                },
                                {
                                    "0": "Percent 30 or 60 Days Past Due Date",
                                    "1": "2018",
                                    "2": "1",
                                    "3": "Overall Market",
                                    "4": "0.7"
                                },
                                {
                                    "0": "Percent 30 or 60 Days Past Due Date",
                                    "1": "2018",
                                    "2": "2",
                                    "3": "Overall Market",
                                    "4": "0.7"
                                },
                                {
                                    "0": "Percent 30 or 60 Days Past Due Date",
                                    "1": "2018",
                                    "2": "3",
                                    "3": "Overall Market",
                                    "4": "0.8"
                                },
                                {
                                    "0": "Percent 30 or 60 Days Past Due Date",
                                    "1": "2018",
                                    "2": "4",
                                    "3": "Overall Market",
                                    "4": "0.7"
                                },
                                {
                                    "0": "Percent 30 or 60 Days Past Due Date",
                                    "1": "2019",
                                    "2": "1",
                                    "3": "Overall Market",
                                    "4": "0.6"
                                },
                                {
                                    "0": "Percent 30 or 60 Days Past Due Date",
                                    "1": "2019",
                                    "2": "2",
                                    "3": "Overall Market",
                                    "4": "0.6"
                                },
                                {
                                    "0": "Percent 30 or 60 Days Past Due Date",
                                    "1": "2019",
                                    "2": "3",
                                    "3": "Overall Market",
                                    "4": "0.6"
                                },
                                {
                                    "0": "Percent 30 or 60 Days Past Due Date",
                                    "1": "2019",
                                    "2": "4",
                                    "3": "Overall Market",
                                    "4": "0.7"
                                },
                                {
                                    "0": "Percent 30 or 60 Days Past Due Date",
                                    "1": "2020",
                                    "2": "1",
                                    "3": "Overall Market",
                                    "4": "0.6"
                                },
                                {
                                    "0": "Percent 30 or 60 Days Past Due Date",
                                    "1": "2020",
                                    "2": "2",
                                    "3": "Overall Market",
                                    "4": "0.3"
                                },
                                {
                                    "0": "Percent 30 or 60 Days Past Due Date",
                                    "1": "2020",
                                    "2": "3",
                                    "3": "Overall Market",
                                    "4": "0.3"
                                },
                                {
                                    "0": "Percent 30 or 60 Days Past Due Date",
                                    "1": "2020",
                                    "2": "4",
                                    "3": "Overall Market",
                                    "4": "0.3"
                                },
                                {
                                    "0": "Percent 30 or 60 Days Past Due Date",
                                    "1": "2021",
                                    "2": "1",
                                    "3": "Overall Market",
                                    "4": "0.2"
                                },
                                {
                                    "0": "Percent 30 or 60 Days Past Due Date",
                                    "1": "2021",
                                    "2": "2",
                                    "3": "Overall Market",
                                    "4": "0.2"
                                },
                                {
                                    "0": "Percent 30 or 60 Days Past Due Date",
                                    "1": "2021",
                                    "2": "3",
                                    "3": "Overall Market",
                                    "4": "0.3"
                                },
                                {
                                    "0": "Percent 30 or 60 Days Past Due Date",
                                    "1": "2021",
                                    "2": "4",
                                    "3": "Overall Market",
                                    "4": "0.3"
                                },
                                {
                                    "0": "Percent 30 or 60 Days Past Due Date",
                                    "1": "2022",
                                    "2": "1",
                                    "3": "Overall Market",
                                    "4": "0.3"
                                },
                                {
                                    "0": "Percent 30 or 60 Days Past Due Date",
                                    "1": "2002",
                                    "2": "1",
                                    "3": "Other Conventional",
                                    "4": "2.1"
                                },
                                {
                                    "0": "Percent 30 or 60 Days Past Due Date",
                                    "1": "2002",
                                    "2": "2",
                                    "3": "Other Conventional",
                                    "4": "1.9"
                                },
                                {
                                    "0": "Percent 30 or 60 Days Past Due Date",
                                    "1": "2002",
                                    "2": "3",
                                    "3": "Other Conventional",
                                    "4": "2.2"
                                },
                                {
                                    "0": "Percent 30 or 60 Days Past Due Date",
                                    "1": "2002",
                                    "2": "4",
                                    "3": "Other Conventional",
                                    "4": "2.3"
                                },
                                {
                                    "0": "Percent 30 or 60 Days Past Due Date",
                                    "1": "2003",
                                    "2": "1",
                                    "3": "Other Conventional",
                                    "4": "2.0"
                                },
                                {
                                    "0": "Percent 30 or 60 Days Past Due Date",
                                    "1": "2003",
                                    "2": "2",
                                    "3": "Other Conventional",
                                    "4": "1.8"
                                },
                                {
                                    "0": "Percent 30 or 60 Days Past Due Date",
                                    "1": "2003",
                                    "2": "3",
                                    "3": "Other Conventional",
                                    "4": "1.8"
                                },
                                {
                                    "0": "Percent 30 or 60 Days Past Due Date",
                                    "1": "2003",
                                    "2": "4",
                                    "3": "Other Conventional",
                                    "4": "2.1"
                                },
                                {
                                    "0": "Percent 30 or 60 Days Past Due Date",
                                    "1": "2004",
                                    "2": "1",
                                    "3": "Other Conventional",
                                    "4": "1.8"
                                },
                                {
                                    "0": "Percent 30 or 60 Days Past Due Date",
                                    "1": "2004",
                                    "2": "2",
                                    "3": "Other Conventional",
                                    "4": "1.7"
                                },
                                {
                                    "0": "Percent 30 or 60 Days Past Due Date",
                                    "1": "2004",
                                    "2": "3",
                                    "3": "Other Conventional",
                                    "4": "1.6"
                                },
                                {
                                    "0": "Percent 30 or 60 Days Past Due Date",
                                    "1": "2004",
                                    "2": "4",
                                    "3": "Other Conventional",
                                    "4": "1.9"
                                },
                                {
                                    "0": "Percent 30 or 60 Days Past Due Date",
                                    "1": "2005",
                                    "2": "1",
                                    "3": "Other Conventional",
                                    "4": "1.7"
                                },
                                {
                                    "0": "Percent 30 or 60 Days Past Due Date",
                                    "1": "2005",
                                    "2": "2",
                                    "3": "Other Conventional",
                                    "4": "1.7"
                                },
                                {
                                    "0": "Percent 30 or 60 Days Past Due Date",
                                    "1": "2005",
                                    "2": "3",
                                    "3": "Other Conventional",
                                    "4": "1.7"
                                },
                                {
                                    "0": "Percent 30 or 60 Days Past Due Date",
                                    "1": "2005",
                                    "2": "4",
                                    "3": "Other Conventional",
                                    "4": "1.9"
                                },
                                {
                                    "0": "Percent 30 or 60 Days Past Due Date",
                                    "1": "2006",
                                    "2": "1",
                                    "3": "Other Conventional",
                                    "4": "1.7"
                                },
                                {
                                    "0": "Percent 30 or 60 Days Past Due Date",
                                    "1": "2006",
                                    "2": "2",
                                    "3": "Other Conventional",
                                    "4": "1.8"
                                },
                                {
                                    "0": "Percent 30 or 60 Days Past Due Date",
                                    "1": "2006",
                                    "2": "3",
                                    "3": "Other Conventional",
                                    "4": "1.9"
                                },
                                {
                                    "0": "Percent 30 or 60 Days Past Due Date",
                                    "1": "2006",
                                    "2": "4",
                                    "3": "Other Conventional",
                                    "4": "2.1"
                                },
                                {
                                    "0": "Percent 30 or 60 Days Past Due Date",
                                    "1": "2007",
                                    "2": "1",
                                    "3": "Other Conventional",
                                    "4": "2.0"
                                },
                                {
                                    "0": "Percent 30 or 60 Days Past Due Date",
                                    "1": "2007",
                                    "2": "2",
                                    "3": "Other Conventional",
                                    "4": "2.1"
                                },
                                {
                                    "0": "Percent 30 or 60 Days Past Due Date",
                                    "1": "2007",
                                    "2": "3",
                                    "3": "Other Conventional",
                                    "4": "2.4"
                                },
                                {
                                    "0": "Percent 30 or 60 Days Past Due Date",
                                    "1": "2007",
                                    "2": "4",
                                    "3": "Other Conventional",
                                    "4": "3.0"
                                },
                                {
                                    "0": "Percent 30 or 60 Days Past Due Date",
                                    "1": "2008",
                                    "2": "1",
                                    "3": "Other Conventional",
                                    "4": "2.9"
                                },
                                {
                                    "0": "Percent 30 or 60 Days Past Due Date",
                                    "1": "2008",
                                    "2": "2",
                                    "3": "Other Conventional",
                                    "4": "3.0"
                                },
                                {
                                    "0": "Percent 30 or 60 Days Past Due Date",
                                    "1": "2008",
                                    "2": "3",
                                    "3": "Other Conventional",
                                    "4": "3.2"
                                },
                                {
                                    "0": "Percent 30 or 60 Days Past Due Date",
                                    "1": "2008",
                                    "2": "4",
                                    "3": "Other Conventional",
                                    "4": "4.3"
                                },
                                {
                                    "0": "Percent 30 or 60 Days Past Due Date",
                                    "1": "2009",
                                    "2": "1",
                                    "3": "Other Conventional",
                                    "4": "4.3"
                                },
                                {
                                    "0": "Percent 30 or 60 Days Past Due Date",
                                    "1": "2009",
                                    "2": "2",
                                    "3": "Other Conventional",
                                    "4": "4.2"
                                },
                                {
                                    "0": "Percent 30 or 60 Days Past Due Date",
                                    "1": "2009",
                                    "2": "3",
                                    "3": "Other Conventional",
                                    "4": "4.1"
                                },
                                {
                                    "0": "Percent 30 or 60 Days Past Due Date",
                                    "1": "2009",
                                    "2": "4",
                                    "3": "Other Conventional",
                                    "4": "4.3"
                                },
                                {
                                    "0": "Percent 30 or 60 Days Past Due Date",
                                    "1": "2010",
                                    "2": "1",
                                    "3": "Other Conventional",
                                    "4": "3.7"
                                },
                                {
                                    "0": "Percent 30 or 60 Days Past Due Date",
                                    "1": "2010",
                                    "2": "2",
                                    "3": "Other Conventional",
                                    "4": "3.4"
                                },
                                {
                                    "0": "Percent 30 or 60 Days Past Due Date",
                                    "1": "2010",
                                    "2": "3",
                                    "3": "Other Conventional",
                                    "4": "3.2"
                                },
                                {
                                    "0": "Percent 30 or 60 Days Past Due Date",
                                    "1": "2010",
                                    "2": "4",
                                    "3": "Other Conventional",
                                    "4": "3.9"
                                },
                                {
                                    "0": "Percent 30 or 60 Days Past Due Date",
                                    "1": "2011",
                                    "2": "1",
                                    "3": "Other Conventional",
                                    "4": "3.2"
                                },
                                {
                                    "0": "Percent 30 or 60 Days Past Due Date",
                                    "1": "2011",
                                    "2": "2",
                                    "3": "Other Conventional",
                                    "4": "3.0"
                                },
                                {
                                    "0": "Percent 30 or 60 Days Past Due Date",
                                    "1": "2011",
                                    "2": "3",
                                    "3": "Other Conventional",
                                    "4": "3.9"
                                },
                                {
                                    "0": "Percent 30 or 60 Days Past Due Date",
                                    "1": "2011",
                                    "2": "4",
                                    "3": "Other Conventional",
                                    "4": "3.7"
                                },
                                {
                                    "0": "Percent 30 or 60 Days Past Due Date",
                                    "1": "2012",
                                    "2": "1",
                                    "3": "Other Conventional",
                                    "4": "3.2"
                                },
                                {
                                    "0": "Percent 30 or 60 Days Past Due Date",
                                    "1": "2012",
                                    "2": "2",
                                    "3": "Other Conventional",
                                    "4": "3.2"
                                },
                                {
                                    "0": "Percent 30 or 60 Days Past Due Date",
                                    "1": "2012",
                                    "2": "3",
                                    "3": "Other Conventional",
                                    "4": "3.0"
                                },
                                {
                                    "0": "Percent 30 or 60 Days Past Due Date",
                                    "1": "2012",
                                    "2": "4",
                                    "3": "Other Conventional",
                                    "4": "2.9"
                                },
                                {
                                    "0": "Percent 30 or 60 Days Past Due Date",
                                    "1": "2013",
                                    "2": "1",
                                    "3": "Other Conventional",
                                    "4": "2.6"
                                },
                                {
                                    "0": "Percent 30 or 60 Days Past Due Date",
                                    "1": "2013",
                                    "2": "2",
                                    "3": "Other Conventional",
                                    "4": "2.4"
                                },
                                {
                                    "0": "Percent 30 or 60 Days Past Due Date",
                                    "1": "2013",
                                    "2": "3",
                                    "3": "Other Conventional",
                                    "4": "2.0"
                                },
                                {
                                    "0": "Percent 30 or 60 Days Past Due Date",
                                    "1": "2013",
                                    "2": "4",
                                    "3": "Other Conventional",
                                    "4": "2.4"
                                },
                                {
                                    "0": "Percent 30 or 60 Days Past Due Date",
                                    "1": "2014",
                                    "2": "1",
                                    "3": "Other Conventional",
                                    "4": "2.5"
                                },
                                {
                                    "0": "Percent 30 or 60 Days Past Due Date",
                                    "1": "2014",
                                    "2": "2",
                                    "3": "Other Conventional",
                                    "4": "1.4"
                                },
                                {
                                    "0": "Percent 30 or 60 Days Past Due Date",
                                    "1": "2014",
                                    "2": "3",
                                    "3": "Other Conventional",
                                    "4": "1.8"
                                },
                                {
                                    "0": "Percent 30 or 60 Days Past Due Date",
                                    "1": "2014",
                                    "2": "4",
                                    "3": "Other Conventional",
                                    "4": "1.9"
                                },
                                {
                                    "0": "Percent 30 or 60 Days Past Due Date",
                                    "1": "2015",
                                    "2": "1",
                                    "3": "Other Conventional",
                                    "4": "1.4"
                                },
                                {
                                    "0": "Percent 30 or 60 Days Past Due Date",
                                    "1": "2015",
                                    "2": "2",
                                    "3": "Other Conventional",
                                    "4": "1.6"
                                },
                                {
                                    "0": "Percent 30 or 60 Days Past Due Date",
                                    "1": "2015",
                                    "2": "3",
                                    "3": "Other Conventional",
                                    "4": "1.8"
                                },
                                {
                                    "0": "Percent 30 or 60 Days Past Due Date",
                                    "1": "2015",
                                    "2": "4",
                                    "3": "Other Conventional",
                                    "4": "1.5"
                                },
                                {
                                    "0": "Percent 30 or 60 Days Past Due Date",
                                    "1": "2016",
                                    "2": "1",
                                    "3": "Other Conventional",
                                    "4": "1.4"
                                },
                                {
                                    "0": "Percent 30 or 60 Days Past Due Date",
                                    "1": "2016",
                                    "2": "2",
                                    "3": "Other Conventional",
                                    "4": "1.1"
                                },
                                {
                                    "0": "Percent 30 or 60 Days Past Due Date",
                                    "1": "2016",
                                    "2": "3",
                                    "3": "Other Conventional",
                                    "4": "1.2"
                                },
                                {
                                    "0": "Percent 30 or 60 Days Past Due Date",
                                    "1": "2016",
                                    "2": "4",
                                    "3": "Other Conventional",
                                    "4": "1.3"
                                },
                                {
                                    "0": "Percent 30 or 60 Days Past Due Date",
                                    "1": "2017",
                                    "2": "1",
                                    "3": "Other Conventional",
                                    "4": "1.0"
                                },
                                {
                                    "0": "Percent 30 or 60 Days Past Due Date",
                                    "1": "2017",
                                    "2": "2",
                                    "3": "Other Conventional",
                                    "4": "1.0"
                                },
                                {
                                    "0": "Percent 30 or 60 Days Past Due Date",
                                    "1": "2017",
                                    "2": "3",
                                    "3": "Other Conventional",
                                    "4": "0.9"
                                },
                                {
                                    "0": "Percent 30 or 60 Days Past Due Date",
                                    "1": "2017",
                                    "2": "4",
                                    "3": "Other Conventional",
                                    "4": "0.9"
                                },
                                {
                                    "0": "Percent 30 or 60 Days Past Due Date",
                                    "1": "2018",
                                    "2": "1",
                                    "3": "Other Conventional",
                                    "4": "0.8"
                                },
                                {
                                    "0": "Percent 30 or 60 Days Past Due Date",
                                    "1": "2018",
                                    "2": "2",
                                    "3": "Other Conventional",
                                    "4": "0.8"
                                },
                                {
                                    "0": "Percent 30 or 60 Days Past Due Date",
                                    "1": "2018",
                                    "2": "3",
                                    "3": "Other Conventional",
                                    "4": "0.8"
                                },
                                {
                                    "0": "Percent 30 or 60 Days Past Due Date",
                                    "1": "2018",
                                    "2": "4",
                                    "3": "Other Conventional",
                                    "4": "0.7"
                                },
                                {
                                    "0": "Percent 30 or 60 Days Past Due Date",
                                    "1": "2019",
                                    "2": "1",
                                    "3": "Other Conventional",
                                    "4": "0.6"
                                },
                                {
                                    "0": "Percent 30 or 60 Days Past Due Date",
                                    "1": "2019",
                                    "2": "2",
                                    "3": "Other Conventional",
                                    "4": "0.6"
                                },
                                {
                                    "0": "Percent 30 or 60 Days Past Due Date",
                                    "1": "2019",
                                    "2": "3",
                                    "3": "Other Conventional",
                                    "4": "0.6"
                                },
                                {
                                    "0": "Percent 30 or 60 Days Past Due Date",
                                    "1": "2019",
                                    "2": "4",
                                    "3": "Other Conventional",
                                    "4": "0.6"
                                },
                                {
                                    "0": "Percent 30 or 60 Days Past Due Date",
                                    "1": "2020",
                                    "2": "1",
                                    "3": "Other Conventional",
                                    "4": "0.7"
                                },
                                {
                                    "0": "Percent 30 or 60 Days Past Due Date",
                                    "1": "2020",
                                    "2": "2",
                                    "3": "Other Conventional",
                                    "4": "0.3"
                                },
                                {
                                    "0": "Percent 30 or 60 Days Past Due Date",
                                    "1": "2020",
                                    "2": "3",
                                    "3": "Other Conventional",
                                    "4": "0.2"
                                },
                                {
                                    "0": "Percent 30 or 60 Days Past Due Date",
                                    "1": "2020",
                                    "2": "4",
                                    "3": "Other Conventional",
                                    "4": "0.2"
                                },
                                {
                                    "0": "Percent 30 or 60 Days Past Due Date",
                                    "1": "2021",
                                    "2": "1",
                                    "3": "Other Conventional",
                                    "4": "0.2"
                                },
                                {
                                    "0": "Percent 30 or 60 Days Past Due Date",
                                    "1": "2021",
                                    "2": "2",
                                    "3": "Other Conventional",
                                    "4": "0.3"
                                },
                                {
                                    "0": "Percent 30 or 60 Days Past Due Date",
                                    "1": "2021",
                                    "2": "3",
                                    "3": "Other Conventional",
                                    "4": "0.4"
                                },
                                {
                                    "0": "Percent 30 or 60 Days Past Due Date",
                                    "1": "2021",
                                    "2": "4",
                                    "3": "Other Conventional",
                                    "4": "0.3"
                                },
                                {
                                    "0": "Percent 30 or 60 Days Past Due Date",
                                    "1": "2022",
                                    "2": "1",
                                    "3": "Other Conventional",
                                    "4": "0.4"
                                },
                                {
                                    "0": "Percent 90 to 180 Days Past Due Date",
                                    "1": "2002",
                                    "2": "1",
                                    "3": "Enterprise",
                                    "4": "0.1"
                                },
                                {
                                    "0": "Percent 90 to 180 Days Past Due Date",
                                    "1": "2002",
                                    "2": "2",
                                    "3": "Enterprise",
                                    "4": "0.1"
                                },
                                {
                                    "0": "Percent 90 to 180 Days Past Due Date",
                                    "1": "2002",
                                    "2": "3",
                                    "3": "Enterprise",
                                    "4": "0.1"
                                },
                                {
                                    "0": "Percent 90 to 180 Days Past Due Date",
                                    "1": "2002",
                                    "2": "4",
                                    "3": "Enterprise",
                                    "4": "0.1"
                                },
                                {
                                    "0": "Percent 90 to 180 Days Past Due Date",
                                    "1": "2003",
                                    "2": "1",
                                    "3": "Enterprise",
                                    "4": "0.1"
                                },
                                {
                                    "0": "Percent 90 to 180 Days Past Due Date",
                                    "1": "2003",
                                    "2": "2",
                                    "3": "Enterprise",
                                    "4": "0.1"
                                },
                                {
                                    "0": "Percent 90 to 180 Days Past Due Date",
                                    "1": "2003",
                                    "2": "3",
                                    "3": "Enterprise",
                                    "4": "0.1"
                                },
                                {
                                    "0": "Percent 90 to 180 Days Past Due Date",
                                    "1": "2003",
                                    "2": "4",
                                    "3": "Enterprise",
                                    "4": "0.2"
                                },
                                {
                                    "0": "Percent 90 to 180 Days Past Due Date",
                                    "1": "2004",
                                    "2": "1",
                                    "3": "Enterprise",
                                    "4": "0.1"
                                },
                                {
                                    "0": "Percent 90 to 180 Days Past Due Date",
                                    "1": "2004",
                                    "2": "2",
                                    "3": "Enterprise",
                                    "4": "0.1"
                                },
                                {
                                    "0": "Percent 90 to 180 Days Past Due Date",
                                    "1": "2004",
                                    "2": "3",
                                    "3": "Enterprise",
                                    "4": "0.1"
                                },
                                {
                                    "0": "Percent 90 to 180 Days Past Due Date",
                                    "1": "2004",
                                    "2": "4",
                                    "3": "Enterprise",
                                    "4": "0.1"
                                },
                                {
                                    "0": "Percent 90 to 180 Days Past Due Date",
                                    "1": "2005",
                                    "2": "1",
                                    "3": "Enterprise",
                                    "4": "0.2"
                                },
                                {
                                    "0": "Percent 90 to 180 Days Past Due Date",
                                    "1": "2005",
                                    "2": "2",
                                    "3": "Enterprise",
                                    "4": "0.1"
                                },
                                {
                                    "0": "Percent 90 to 180 Days Past Due Date",
                                    "1": "2005",
                                    "2": "3",
                                    "3": "Enterprise",
                                    "4": "0.1"
                                },
                                {
                                    "0": "Percent 90 to 180 Days Past Due Date",
                                    "1": "2005",
                                    "2": "4",
                                    "3": "Enterprise",
                                    "4": "0.1"
                                },
                                {
                                    "0": "Percent 90 to 180 Days Past Due Date",
                                    "1": "2006",
                                    "2": "1",
                                    "3": "Enterprise",
                                    "4": "0.1"
                                },
                                {
                                    "0": "Percent 90 to 180 Days Past Due Date",
                                    "1": "2006",
                                    "2": "2",
                                    "3": "Enterprise",
                                    "4": "0.1"
                                },
                                {
                                    "0": "Percent 90 to 180 Days Past Due Date",
                                    "1": "2006",
                                    "2": "3",
                                    "3": "Enterprise",
                                    "4": "0.1"
                                },
                                {
                                    "0": "Percent 90 to 180 Days Past Due Date",
                                    "1": "2006",
                                    "2": "4",
                                    "3": "Enterprise",
                                    "4": "0.1"
                                },
                                {
                                    "0": "Percent 90 to 180 Days Past Due Date",
                                    "1": "2007",
                                    "2": "1",
                                    "3": "Enterprise",
                                    "4": "0.1"
                                },
                                {
                                    "0": "Percent 90 to 180 Days Past Due Date",
                                    "1": "2007",
                                    "2": "2",
                                    "3": "Enterprise",
                                    "4": "0.1"
                                },
                                {
                                    "0": "Percent 90 to 180 Days Past Due Date",
                                    "1": "2007",
                                    "2": "3",
                                    "3": "Enterprise",
                                    "4": "0.1"
                                },
                                {
                                    "0": "Percent 90 to 180 Days Past Due Date",
                                    "1": "2007",
                                    "2": "4",
                                    "3": "Enterprise",
                                    "4": "0.2"
                                },
                                {
                                    "0": "Percent 90 to 180 Days Past Due Date",
                                    "1": "2008",
                                    "2": "1",
                                    "3": "Enterprise",
                                    "4": "0.2"
                                },
                                {
                                    "0": "Percent 90 to 180 Days Past Due Date",
                                    "1": "2008",
                                    "2": "2",
                                    "3": "Enterprise",
                                    "4": "0.2"
                                },
                                {
                                    "0": "Percent 90 to 180 Days Past Due Date",
                                    "1": "2008",
                                    "2": "3",
                                    "3": "Enterprise",
                                    "4": "0.3"
                                },
                                {
                                    "0": "Percent 90 to 180 Days Past Due Date",
                                    "1": "2008",
                                    "2": "4",
                                    "3": "Enterprise",
                                    "4": "0.5"
                                },
                                {
                                    "0": "Percent 90 to 180 Days Past Due Date",
                                    "1": "2009",
                                    "2": "1",
                                    "3": "Enterprise",
                                    "4": "0.8"
                                },
                                {
                                    "0": "Percent 90 to 180 Days Past Due Date",
                                    "1": "2009",
                                    "2": "2",
                                    "3": "Enterprise",
                                    "4": "1.1"
                                },
                                {
                                    "0": "Percent 90 to 180 Days Past Due Date",
                                    "1": "2009",
                                    "2": "3",
                                    "3": "Enterprise",
                                    "4": "1.6"
                                },
                                {
                                    "0": "Percent 90 to 180 Days Past Due Date",
                                    "1": "2009",
                                    "2": "4",
                                    "3": "Enterprise",
                                    "4": "1.9"
                                },
                                {
                                    "0": "Percent 90 to 180 Days Past Due Date",
                                    "1": "2010",
                                    "2": "1",
                                    "3": "Enterprise",
                                    "4": "2.1"
                                },
                                {
                                    "0": "Percent 90 to 180 Days Past Due Date",
                                    "1": "2010",
                                    "2": "2",
                                    "3": "Enterprise",
                                    "4": "2.1"
                                },
                                {
                                    "0": "Percent 90 to 180 Days Past Due Date",
                                    "1": "2010",
                                    "2": "3",
                                    "3": "Enterprise",
                                    "4": "2.0"
                                },
                                {
                                    "0": "Percent 90 to 180 Days Past Due Date",
                                    "1": "2010",
                                    "2": "4",
                                    "3": "Enterprise",
                                    "4": "1.8"
                                },
                                {
                                    "0": "Percent 90 to 180 Days Past Due Date",
                                    "1": "2011",
                                    "2": "1",
                                    "3": "Enterprise",
                                    "4": "1.8"
                                },
                                {
                                    "0": "Percent 90 to 180 Days Past Due Date",
                                    "1": "2011",
                                    "2": "2",
                                    "3": "Enterprise",
                                    "4": "1.9"
                                },
                                {
                                    "0": "Percent 90 to 180 Days Past Due Date",
                                    "1": "2011",
                                    "2": "3",
                                    "3": "Enterprise",
                                    "4": "2.1"
                                },
                                {
                                    "0": "Percent 90 to 180 Days Past Due Date",
                                    "1": "2011",
                                    "2": "4",
                                    "3": "Enterprise",
                                    "4": "2.2"
                                },
                                {
                                    "0": "Percent 90 to 180 Days Past Due Date",
                                    "1": "2012",
                                    "2": "1",
                                    "3": "Enterprise",
                                    "4": "2.2"
                                },
                                {
                                    "0": "Percent 90 to 180 Days Past Due Date",
                                    "1": "2012",
                                    "2": "2",
                                    "3": "Enterprise",
                                    "4": "2.2"
                                },
                                {
                                    "0": "Percent 90 to 180 Days Past Due Date",
                                    "1": "2012",
                                    "2": "3",
                                    "3": "Enterprise",
                                    "4": "2.0"
                                },
                                {
                                    "0": "Percent 90 to 180 Days Past Due Date",
                                    "1": "2012",
                                    "2": "4",
                                    "3": "Enterprise",
                                    "4": "1.7"
                                },
                                {
                                    "0": "Percent 90 to 180 Days Past Due Date",
                                    "1": "2013",
                                    "2": "1",
                                    "3": "Enterprise",
                                    "4": "1.4"
                                },
                                {
                                    "0": "Percent 90 to 180 Days Past Due Date",
                                    "1": "2013",
                                    "2": "2",
                                    "3": "Enterprise",
                                    "4": "1.3"
                                },
                                {
                                    "0": "Percent 90 to 180 Days Past Due Date",
                                    "1": "2013",
                                    "2": "3",
                                    "3": "Enterprise",
                                    "4": "1.1"
                                },
                                {
                                    "0": "Percent 90 to 180 Days Past Due Date",
                                    "1": "2013",
                                    "2": "4",
                                    "3": "Enterprise",
                                    "4": "1.0"
                                },
                                {
                                    "0": "Percent 90 to 180 Days Past Due Date",
                                    "1": "2014",
                                    "2": "1",
                                    "3": "Enterprise",
                                    "4": "0.8"
                                },
                                {
                                    "0": "Percent 90 to 180 Days Past Due Date",
                                    "1": "2014",
                                    "2": "2",
                                    "3": "Enterprise",
                                    "4": "0.7"
                                },
                                {
                                    "0": "Percent 90 to 180 Days Past Due Date",
                                    "1": "2014",
                                    "2": "3",
                                    "3": "Enterprise",
                                    "4": "0.6"
                                },
                                {
                                    "0": "Percent 90 to 180 Days Past Due Date",
                                    "1": "2014",
                                    "2": "4",
                                    "3": "Enterprise",
                                    "4": "0.6"
                                },
                                {
                                    "0": "Percent 90 to 180 Days Past Due Date",
                                    "1": "2015",
                                    "2": "1",
                                    "3": "Enterprise",
                                    "4": "0.5"
                                },
                                {
                                    "0": "Percent 90 to 180 Days Past Due Date",
                                    "1": "2015",
                                    "2": "2",
                                    "3": "Enterprise",
                                    "4": "0.4"
                                },
                                {
                                    "0": "Percent 90 to 180 Days Past Due Date",
                                    "1": "2015",
                                    "2": "3",
                                    "3": "Enterprise",
                                    "4": "0.4"
                                },
                                {
                                    "0": "Percent 90 to 180 Days Past Due Date",
                                    "1": "2015",
                                    "2": "4",
                                    "3": "Enterprise",
                                    "4": "0.4"
                                },
                                {
                                    "0": "Percent 90 to 180 Days Past Due Date",
                                    "1": "2016",
                                    "2": "1",
                                    "3": "Enterprise",
                                    "4": "0.4"
                                },
                                {
                                    "0": "Percent 90 to 180 Days Past Due Date",
                                    "1": "2016",
                                    "2": "2",
                                    "3": "Enterprise",
                                    "4": "0.3"
                                },
                                {
                                    "0": "Percent 90 to 180 Days Past Due Date",
                                    "1": "2016",
                                    "2": "3",
                                    "3": "Enterprise",
                                    "4": "0.3"
                                },
                                {
                                    "0": "Percent 90 to 180 Days Past Due Date",
                                    "1": "2016",
                                    "2": "4",
                                    "3": "Enterprise",
                                    "4": "0.3"
                                },
                                {
                                    "0": "Percent 90 to 180 Days Past Due Date",
                                    "1": "2017",
                                    "2": "1",
                                    "3": "Enterprise",
                                    "4": "0.3"
                                },
                                {
                                    "0": "Percent 90 to 180 Days Past Due Date",
                                    "1": "2017",
                                    "2": "2",
                                    "3": "Enterprise",
                                    "4": "0.3"
                                },
                                {
                                    "0": "Percent 90 to 180 Days Past Due Date",
                                    "1": "2017",
                                    "2": "3",
                                    "3": "Enterprise",
                                    "4": "0.2"
                                },
                                {
                                    "0": "Percent 90 to 180 Days Past Due Date",
                                    "1": "2017",
                                    "2": "4",
                                    "3": "Enterprise",
                                    "4": "0.2"
                                },
                                {
                                    "0": "Percent 90 to 180 Days Past Due Date",
                                    "1": "2018",
                                    "2": "1",
                                    "3": "Enterprise",
                                    "4": "0.2"
                                },
                                {
                                    "0": "Percent 90 to 180 Days Past Due Date",
                                    "1": "2018",
                                    "2": "2",
                                    "3": "Enterprise",
                                    "4": "0.2"
                                },
                                {
                                    "0": "Percent 90 to 180 Days Past Due Date",
                                    "1": "2018",
                                    "2": "3",
                                    "3": "Enterprise",
                                    "4": "0.2"
                                },
                                {
                                    "0": "Percent 90 to 180 Days Past Due Date",
                                    "1": "2018",
                                    "2": "4",
                                    "3": "Enterprise",
                                    "4": "0.2"
                                },
                                {
                                    "0": "Percent 90 to 180 Days Past Due Date",
                                    "1": "2019",
                                    "2": "1",
                                    "3": "Enterprise",
                                    "4": "0.2"
                                },
                                {
                                    "0": "Percent 90 to 180 Days Past Due Date",
                                    "1": "2019",
                                    "2": "2",
                                    "3": "Enterprise",
                                    "4": "0.2"
                                },
                                {
                                    "0": "Percent 90 to 180 Days Past Due Date",
                                    "1": "2019",
                                    "2": "3",
                                    "3": "Enterprise",
                                    "4": "0.2"
                                },
                                {
                                    "0": "Percent 90 to 180 Days Past Due Date",
                                    "1": "2019",
                                    "2": "4",
                                    "3": "Enterprise",
                                    "4": "0.2"
                                },
                                {
                                    "0": "Percent 90 to 180 Days Past Due Date",
                                    "1": "2020",
                                    "2": "1",
                                    "3": "Enterprise",
                                    "4": "0.2"
                                },
                                {
                                    "0": "Percent 90 to 180 Days Past Due Date",
                                    "1": "2020",
                                    "2": "2",
                                    "3": "Enterprise",
                                    "4": "0.1"
                                },
                                {
                                    "0": "Percent 90 to 180 Days Past Due Date",
                                    "1": "2020",
                                    "2": "3",
                                    "3": "Enterprise",
                                    "4": "0.1"
                                },
                                {
                                    "0": "Percent 90 to 180 Days Past Due Date",
                                    "1": "2020",
                                    "2": "4",
                                    "3": "Enterprise",
                                    "4": "0.1"
                                },
                                {
                                    "0": "Percent 90 to 180 Days Past Due Date",
                                    "1": "2021",
                                    "2": "1",
                                    "3": "Enterprise",
                                    "4": "0.1"
                                },
                                {
                                    "0": "Percent 90 to 180 Days Past Due Date",
                                    "1": "2021",
                                    "2": "2",
                                    "3": "Enterprise",
                                    "4": "0.1"
                                },
                                {
                                    "0": "Percent 90 to 180 Days Past Due Date",
                                    "1": "2021",
                                    "2": "3",
                                    "3": "Enterprise",
                                    "4": "0.1"
                                },
                                {
                                    "0": "Percent 90 to 180 Days Past Due Date",
                                    "1": "2021",
                                    "2": "4",
                                    "3": "Enterprise",
                                    "4": "0.1"
                                },
                                {
                                    "0": "Percent 90 to 180 Days Past Due Date",
                                    "1": "2022",
                                    "2": "1",
                                    "3": "Enterprise",
                                    "4": "0.1"
                                },
                                {
                                    "0": "Percent 90 to 180 Days Past Due Date",
                                    "1": "2002",
                                    "2": "1",
                                    "3": "Government",
                                    "4": "0.8"
                                },
                                {
                                    "0": "Percent 90 to 180 Days Past Due Date",
                                    "1": "2002",
                                    "2": "2",
                                    "3": "Government",
                                    "4": "0.9"
                                },
                                {
                                    "0": "Percent 90 to 180 Days Past Due Date",
                                    "1": "2002",
                                    "2": "3",
                                    "3": "Government",
                                    "4": "1.0"
                                },
                                {
                                    "0": "Percent 90 to 180 Days Past Due Date",
                                    "1": "2002",
                                    "2": "4",
                                    "3": "Government",
                                    "4": "1.0"
                                },
                                {
                                    "0": "Percent 90 to 180 Days Past Due Date",
                                    "1": "2003",
                                    "2": "1",
                                    "3": "Government",
                                    "4": "1.1"
                                },
                                {
                                    "0": "Percent 90 to 180 Days Past Due Date",
                                    "1": "2003",
                                    "2": "2",
                                    "3": "Government",
                                    "4": "0.8"
                                },
                                {
                                    "0": "Percent 90 to 180 Days Past Due Date",
                                    "1": "2003",
                                    "2": "3",
                                    "3": "Government",
                                    "4": "1.3"
                                },
                                {
                                    "0": "Percent 90 to 180 Days Past Due Date",
                                    "1": "2003",
                                    "2": "4",
                                    "3": "Government",
                                    "4": "1.3"
                                },
                                {
                                    "0": "Percent 90 to 180 Days Past Due Date",
                                    "1": "2004",
                                    "2": "1",
                                    "3": "Government",
                                    "4": "1.8"
                                },
                                {
                                    "0": "Percent 90 to 180 Days Past Due Date",
                                    "1": "2004",
                                    "2": "2",
                                    "3": "Government",
                                    "4": "1.9"
                                },
                                {
                                    "0": "Percent 90 to 180 Days Past Due Date",
                                    "1": "2004",
                                    "2": "3",
                                    "3": "Government",
                                    "4": "2.0"
                                },
                                {
                                    "0": "Percent 90 to 180 Days Past Due Date",
                                    "1": "2004",
                                    "2": "4",
                                    "3": "Government",
                                    "4": "2.6"
                                },
                                {
                                    "0": "Percent 90 to 180 Days Past Due Date",
                                    "1": "2005",
                                    "2": "1",
                                    "3": "Government",
                                    "4": "2.1"
                                },
                                {
                                    "0": "Percent 90 to 180 Days Past Due Date",
                                    "1": "2005",
                                    "2": "2",
                                    "3": "Government",
                                    "4": "2.2"
                                },
                                {
                                    "0": "Percent 90 to 180 Days Past Due Date",
                                    "1": "2005",
                                    "2": "3",
                                    "3": "Government",
                                    "4": "1.9"
                                },
                                {
                                    "0": "Percent 90 to 180 Days Past Due Date",
                                    "1": "2005",
                                    "2": "4",
                                    "3": "Government",
                                    "4": "1.9"
                                },
                                {
                                    "0": "Percent 90 to 180 Days Past Due Date",
                                    "1": "2006",
                                    "2": "1",
                                    "3": "Government",
                                    "4": "1.7"
                                },
                                {
                                    "0": "Percent 90 to 180 Days Past Due Date",
                                    "1": "2006",
                                    "2": "2",
                                    "3": "Government",
                                    "4": "2.0"
                                },
                                {
                                    "0": "Percent 90 to 180 Days Past Due Date",
                                    "1": "2006",
                                    "2": "3",
                                    "3": "Government",
                                    "4": "1.6"
                                },
                                {
                                    "0": "Percent 90 to 180 Days Past Due Date",
                                    "1": "2006",
                                    "2": "4",
                                    "3": "Government",
                                    "4": "2.4"
                                },
                                {
                                    "0": "Percent 90 to 180 Days Past Due Date",
                                    "1": "2007",
                                    "2": "1",
                                    "3": "Government",
                                    "4": "1.6"
                                },
                                {
                                    "0": "Percent 90 to 180 Days Past Due Date",
                                    "1": "2007",
                                    "2": "2",
                                    "3": "Government",
                                    "4": "1.9"
                                },
                                {
                                    "0": "Percent 90 to 180 Days Past Due Date",
                                    "1": "2007",
                                    "2": "3",
                                    "3": "Government",
                                    "4": "1.6"
                                },
                                {
                                    "0": "Percent 90 to 180 Days Past Due Date",
                                    "1": "2007",
                                    "2": "4",
                                    "3": "Government",
                                    "4": "2.1"
                                },
                                {
                                    "0": "Percent 90 to 180 Days Past Due Date",
                                    "1": "2008",
                                    "2": "1",
                                    "3": "Government",
                                    "4": "1.2"
                                },
                                {
                                    "0": "Percent 90 to 180 Days Past Due Date",
                                    "1": "2008",
                                    "2": "2",
                                    "3": "Government",
                                    "4": "1.3"
                                },
                                {
                                    "0": "Percent 90 to 180 Days Past Due Date",
                                    "1": "2008",
                                    "2": "3",
                                    "3": "Government",
                                    "4": "1.5"
                                },
                                {
                                    "0": "Percent 90 to 180 Days Past Due Date",
                                    "1": "2008",
                                    "2": "4",
                                    "3": "Government",
                                    "4": "2.3"
                                },
                                {
                                    "0": "Percent 90 to 180 Days Past Due Date",
                                    "1": "2009",
                                    "2": "1",
                                    "3": "Government",
                                    "4": "2.6"
                                },
                                {
                                    "0": "Percent 90 to 180 Days Past Due Date",
                                    "1": "2009",
                                    "2": "2",
                                    "3": "Government",
                                    "4": "2.7"
                                },
                                {
                                    "0": "Percent 90 to 180 Days Past Due Date",
                                    "1": "2009",
                                    "2": "3",
                                    "3": "Government",
                                    "4": "3.3"
                                },
                                {
                                    "0": "Percent 90 to 180 Days Past Due Date",
                                    "1": "2009",
                                    "2": "4",
                                    "3": "Government",
                                    "4": "3.6"
                                },
                                {
                                    "0": "Percent 90 to 180 Days Past Due Date",
                                    "1": "2010",
                                    "2": "1",
                                    "3": "Government",
                                    "4": "4.0"
                                },
                                {
                                    "0": "Percent 90 to 180 Days Past Due Date",
                                    "1": "2010",
                                    "2": "2",
                                    "3": "Government",
                                    "4": "3.5"
                                },
                                {
                                    "0": "Percent 90 to 180 Days Past Due Date",
                                    "1": "2010",
                                    "2": "3",
                                    "3": "Government",
                                    "4": "3.9"
                                },
                                {
                                    "0": "Percent 90 to 180 Days Past Due Date",
                                    "1": "2010",
                                    "2": "4",
                                    "3": "Government",
                                    "4": "3.5"
                                },
                                {
                                    "0": "Percent 90 to 180 Days Past Due Date",
                                    "1": "2011",
                                    "2": "1",
                                    "3": "Government",
                                    "4": "3.7"
                                },
                                {
                                    "0": "Percent 90 to 180 Days Past Due Date",
                                    "1": "2011",
                                    "2": "2",
                                    "3": "Government",
                                    "4": "3.6"
                                },
                                {
                                    "0": "Percent 90 to 180 Days Past Due Date",
                                    "1": "2011",
                                    "2": "3",
                                    "3": "Government",
                                    "4": "4.2"
                                },
                                {
                                    "0": "Percent 90 to 180 Days Past Due Date",
                                    "1": "2011",
                                    "2": "4",
                                    "3": "Government",
                                    "4": "4.5"
                                },
                                {
                                    "0": "Percent 90 to 180 Days Past Due Date",
                                    "1": "2012",
                                    "2": "1",
                                    "3": "Government",
                                    "4": "5.1"
                                },
                                {
                                    "0": "Percent 90 to 180 Days Past Due Date",
                                    "1": "2012",
                                    "2": "2",
                                    "3": "Government",
                                    "4": "5.7"
                                },
                                {
                                    "0": "Percent 90 to 180 Days Past Due Date",
                                    "1": "2012",
                                    "2": "3",
                                    "3": "Government",
                                    "4": "5.3"
                                },
                                {
                                    "0": "Percent 90 to 180 Days Past Due Date",
                                    "1": "2012",
                                    "2": "4",
                                    "3": "Government",
                                    "4": "5.2"
                                },
                                {
                                    "0": "Percent 90 to 180 Days Past Due Date",
                                    "1": "2013",
                                    "2": "1",
                                    "3": "Government",
                                    "4": "5.0"
                                },
                                {
                                    "0": "Percent 90 to 180 Days Past Due Date",
                                    "1": "2013",
                                    "2": "2",
                                    "3": "Government",
                                    "4": "4.3"
                                },
                                {
                                    "0": "Percent 90 to 180 Days Past Due Date",
                                    "1": "2013",
                                    "2": "3",
                                    "3": "Government",
                                    "4": "4.0"
                                },
                                {
                                    "0": "Percent 90 to 180 Days Past Due Date",
                                    "1": "2013",
                                    "2": "4",
                                    "3": "Government",
                                    "4": "3.8"
                                },
                                {
                                    "0": "Percent 90 to 180 Days Past Due Date",
                                    "1": "2014",
                                    "2": "1",
                                    "3": "Government",
                                    "4": "3.6"
                                },
                                {
                                    "0": "Percent 90 to 180 Days Past Due Date",
                                    "1": "2014",
                                    "2": "2",
                                    "3": "Government",
                                    "4": "3.1"
                                },
                                {
                                    "0": "Percent 90 to 180 Days Past Due Date",
                                    "1": "2014",
                                    "2": "3",
                                    "3": "Government",
                                    "4": "3.1"
                                },
                                {
                                    "0": "Percent 90 to 180 Days Past Due Date",
                                    "1": "2014",
                                    "2": "4",
                                    "3": "Government",
                                    "4": "2.9"
                                },
                                {
                                    "0": "Percent 90 to 180 Days Past Due Date",
                                    "1": "2015",
                                    "2": "1",
                                    "3": "Government",
                                    "4": "2.6"
                                },
                                {
                                    "0": "Percent 90 to 180 Days Past Due Date",
                                    "1": "2015",
                                    "2": "2",
                                    "3": "Government",
                                    "4": "2.2"
                                },
                                {
                                    "0": "Percent 90 to 180 Days Past Due Date",
                                    "1": "2015",
                                    "2": "3",
                                    "3": "Government",
                                    "4": "2.1"
                                },
                                {
                                    "0": "Percent 90 to 180 Days Past Due Date",
                                    "1": "2015",
                                    "2": "4",
                                    "3": "Government",
                                    "4": "2.0"
                                },
                                {
                                    "0": "Percent 90 to 180 Days Past Due Date",
                                    "1": "2016",
                                    "2": "1",
                                    "3": "Government",
                                    "4": "2.0"
                                },
                                {
                                    "0": "Percent 90 to 180 Days Past Due Date",
                                    "1": "2016",
                                    "2": "2",
                                    "3": "Government",
                                    "4": "1.8"
                                },
                                {
                                    "0": "Percent 90 to 180 Days Past Due Date",
                                    "1": "2016",
                                    "2": "3",
                                    "3": "Government",
                                    "4": "1.9"
                                },
                                {
                                    "0": "Percent 90 to 180 Days Past Due Date",
                                    "1": "2016",
                                    "2": "4",
                                    "3": "Government",
                                    "4": "1.8"
                                },
                                {
                                    "0": "Percent 90 to 180 Days Past Due Date",
                                    "1": "2017",
                                    "2": "1",
                                    "3": "Government",
                                    "4": "1.5"
                                },
                                {
                                    "0": "Percent 90 to 180 Days Past Due Date",
                                    "1": "2017",
                                    "2": "2",
                                    "3": "Government",
                                    "4": "1.2"
                                },
                                {
                                    "0": "Percent 90 to 180 Days Past Due Date",
                                    "1": "2017",
                                    "2": "3",
                                    "3": "Government",
                                    "4": "1.1"
                                },
                                {
                                    "0": "Percent 90 to 180 Days Past Due Date",
                                    "1": "2017",
                                    "2": "4",
                                    "3": "Government",
                                    "4": "0.9"
                                },
                                {
                                    "0": "Percent 90 to 180 Days Past Due Date",
                                    "1": "2018",
                                    "2": "1",
                                    "3": "Government",
                                    "4": "0.8"
                                },
                                {
                                    "0": "Percent 90 to 180 Days Past Due Date",
                                    "1": "2018",
                                    "2": "2",
                                    "3": "Government",
                                    "4": "0.9"
                                },
                                {
                                    "0": "Percent 90 to 180 Days Past Due Date",
                                    "1": "2018",
                                    "2": "3",
                                    "3": "Government",
                                    "4": "0.9"
                                },
                                {
                                    "0": "Percent 90 to 180 Days Past Due Date",
                                    "1": "2018",
                                    "2": "4",
                                    "3": "Government",
                                    "4": "1.0"
                                },
                                {
                                    "0": "Percent 90 to 180 Days Past Due Date",
                                    "1": "2019",
                                    "2": "1",
                                    "3": "Government",
                                    "4": "0.9"
                                },
                                {
                                    "0": "Percent 90 to 180 Days Past Due Date",
                                    "1": "2019",
                                    "2": "2",
                                    "3": "Government",
                                    "4": "0.8"
                                },
                                {
                                    "0": "Percent 90 to 180 Days Past Due Date",
                                    "1": "2019",
                                    "2": "3",
                                    "3": "Government",
                                    "4": "0.8"
                                },
                                {
                                    "0": "Percent 90 to 180 Days Past Due Date",
                                    "1": "2019",
                                    "2": "4",
                                    "3": "Government",
                                    "4": "0.8"
                                },
                                {
                                    "0": "Percent 90 to 180 Days Past Due Date",
                                    "1": "2020",
                                    "2": "1",
                                    "3": "Government",
                                    "4": "0.7"
                                },
                                {
                                    "0": "Percent 90 to 180 Days Past Due Date",
                                    "1": "2020",
                                    "2": "2",
                                    "3": "Government",
                                    "4": "0.6"
                                },
                                {
                                    "0": "Percent 90 to 180 Days Past Due Date",
                                    "1": "2020",
                                    "2": "3",
                                    "3": "Government",
                                    "4": "0.6"
                                },
                                {
                                    "0": "Percent 90 to 180 Days Past Due Date",
                                    "1": "2020",
                                    "2": "4",
                                    "3": "Government",
                                    "4": "0.5"
                                },
                                {
                                    "0": "Percent 90 to 180 Days Past Due Date",
                                    "1": "2021",
                                    "2": "1",
                                    "3": "Government",
                                    "4": "0.5"
                                },
                                {
                                    "0": "Percent 90 to 180 Days Past Due Date",
                                    "1": "2021",
                                    "2": "2",
                                    "3": "Government",
                                    "4": "0.4"
                                },
                                {
                                    "0": "Percent 90 to 180 Days Past Due Date",
                                    "1": "2021",
                                    "2": "3",
                                    "3": "Government",
                                    "4": "0.4"
                                },
                                {
                                    "0": "Percent 90 to 180 Days Past Due Date",
                                    "1": "2021",
                                    "2": "4",
                                    "3": "Government",
                                    "4": "0.4"
                                },
                                {
                                    "0": "Percent 90 to 180 Days Past Due Date",
                                    "1": "2022",
                                    "2": "1",
                                    "3": "Government",
                                    "4": "0.5"
                                },
                                {
                                    "0": "Percent 90 to 180 Days Past Due Date",
                                    "1": "2002",
                                    "2": "1",
                                    "3": "Overall Market",
                                    "4": "0.3"
                                },
                                {
                                    "0": "Percent 90 to 180 Days Past Due Date",
                                    "1": "2002",
                                    "2": "2",
                                    "3": "Overall Market",
                                    "4": "0.3"
                                },
                                {
                                    "0": "Percent 90 to 180 Days Past Due Date",
                                    "1": "2002",
                                    "2": "3",
                                    "3": "Overall Market",
                                    "4": "0.4"
                                },
                                {
                                    "0": "Percent 90 to 180 Days Past Due Date",
                                    "1": "2002",
                                    "2": "4",
                                    "3": "Overall Market",
                                    "4": "0.4"
                                },
                                {
                                    "0": "Percent 90 to 180 Days Past Due Date",
                                    "1": "2003",
                                    "2": "1",
                                    "3": "Overall Market",
                                    "4": "0.4"
                                },
                                {
                                    "0": "Percent 90 to 180 Days Past Due Date",
                                    "1": "2003",
                                    "2": "2",
                                    "3": "Overall Market",
                                    "4": "0.4"
                                },
                                {
                                    "0": "Percent 90 to 180 Days Past Due Date",
                                    "1": "2003",
                                    "2": "3",
                                    "3": "Overall Market",
                                    "4": "0.4"
                                },
                                {
                                    "0": "Percent 90 to 180 Days Past Due Date",
                                    "1": "2003",
                                    "2": "4",
                                    "3": "Overall Market",
                                    "4": "0.5"
                                },
                                {
                                    "0": "Percent 90 to 180 Days Past Due Date",
                                    "1": "2004",
                                    "2": "1",
                                    "3": "Overall Market",
                                    "4": "0.5"
                                },
                                {
                                    "0": "Percent 90 to 180 Days Past Due Date",
                                    "1": "2004",
                                    "2": "2",
                                    "3": "Overall Market",
                                    "4": "0.4"
                                },
                                {
                                    "0": "Percent 90 to 180 Days Past Due Date",
                                    "1": "2004",
                                    "2": "3",
                                    "3": "Overall Market",
                                    "4": "0.4"
                                },
                                {
                                    "0": "Percent 90 to 180 Days Past Due Date",
                                    "1": "2004",
                                    "2": "4",
                                    "3": "Overall Market",
                                    "4": "0.5"
                                },
                                {
                                    "0": "Percent 90 to 180 Days Past Due Date",
                                    "1": "2005",
                                    "2": "1",
                                    "3": "Overall Market",
                                    "4": "0.5"
                                },
                                {
                                    "0": "Percent 90 to 180 Days Past Due Date",
                                    "1": "2005",
                                    "2": "2",
                                    "3": "Overall Market",
                                    "4": "0.5"
                                },
                                {
                                    "0": "Percent 90 to 180 Days Past Due Date",
                                    "1": "2005",
                                    "2": "3",
                                    "3": "Overall Market",
                                    "4": "0.4"
                                },
                                {
                                    "0": "Percent 90 to 180 Days Past Due Date",
                                    "1": "2005",
                                    "2": "4",
                                    "3": "Overall Market",
                                    "4": "0.3"
                                },
                                {
                                    "0": "Percent 90 to 180 Days Past Due Date",
                                    "1": "2006",
                                    "2": "1",
                                    "3": "Overall Market",
                                    "4": "0.3"
                                },
                                {
                                    "0": "Percent 90 to 180 Days Past Due Date",
                                    "1": "2006",
                                    "2": "2",
                                    "3": "Overall Market",
                                    "4": "0.4"
                                },
                                {
                                    "0": "Percent 90 to 180 Days Past Due Date",
                                    "1": "2006",
                                    "2": "3",
                                    "3": "Overall Market",
                                    "4": "0.4"
                                },
                                {
                                    "0": "Percent 90 to 180 Days Past Due Date",
                                    "1": "2006",
                                    "2": "4",
                                    "3": "Overall Market",
                                    "4": "0.5"
                                },
                                {
                                    "0": "Percent 90 to 180 Days Past Due Date",
                                    "1": "2007",
                                    "2": "1",
                                    "3": "Overall Market",
                                    "4": "0.4"
                                },
                                {
                                    "0": "Percent 90 to 180 Days Past Due Date",
                                    "1": "2007",
                                    "2": "2",
                                    "3": "Overall Market",
                                    "4": "0.4"
                                },
                                {
                                    "0": "Percent 90 to 180 Days Past Due Date",
                                    "1": "2007",
                                    "2": "3",
                                    "3": "Overall Market",
                                    "4": "0.5"
                                },
                                {
                                    "0": "Percent 90 to 180 Days Past Due Date",
                                    "1": "2007",
                                    "2": "4",
                                    "3": "Overall Market",
                                    "4": "0.6"
                                },
                                {
                                    "0": "Percent 90 to 180 Days Past Due Date",
                                    "1": "2008",
                                    "2": "1",
                                    "3": "Overall Market",
                                    "4": "0.6"
                                },
                                {
                                    "0": "Percent 90 to 180 Days Past Due Date",
                                    "1": "2008",
                                    "2": "2",
                                    "3": "Overall Market",
                                    "4": "0.8"
                                },
                                {
                                    "0": "Percent 90 to 180 Days Past Due Date",
                                    "1": "2008",
                                    "2": "3",
                                    "3": "Overall Market",
                                    "4": "0.9"
                                },
                                {
                                    "0": "Percent 90 to 180 Days Past Due Date",
                                    "1": "2008",
                                    "2": "4",
                                    "3": "Overall Market",
                                    "4": "1.3"
                                },
                                {
                                    "0": "Percent 90 to 180 Days Past Due Date",
                                    "1": "2009",
                                    "2": "1",
                                    "3": "Overall Market",
                                    "4": "1.9"
                                },
                                {
                                    "0": "Percent 90 to 180 Days Past Due Date",
                                    "1": "2009",
                                    "2": "2",
                                    "3": "Overall Market",
                                    "4": "2.3"
                                },
                                {
                                    "0": "Percent 90 to 180 Days Past Due Date",
                                    "1": "2009",
                                    "2": "3",
                                    "3": "Overall Market",
                                    "4": "3.0"
                                },
                                {
                                    "0": "Percent 90 to 180 Days Past Due Date",
                                    "1": "2009",
                                    "2": "4",
                                    "3": "Overall Market",
                                    "4": "3.5"
                                },
                                {
                                    "0": "Percent 90 to 180 Days Past Due Date",
                                    "1": "2010",
                                    "2": "1",
                                    "3": "Overall Market",
                                    "4": "3.8"
                                },
                                {
                                    "0": "Percent 90 to 180 Days Past Due Date",
                                    "1": "2010",
                                    "2": "2",
                                    "3": "Overall Market",
                                    "4": "3.8"
                                },
                                {
                                    "0": "Percent 90 to 180 Days Past Due Date",
                                    "1": "2010",
                                    "2": "3",
                                    "3": "Overall Market",
                                    "4": "3.8"
                                },
                                {
                                    "0": "Percent 90 to 180 Days Past Due Date",
                                    "1": "2010",
                                    "2": "4",
                                    "3": "Overall Market",
                                    "4": "3.6"
                                },
                                {
                                    "0": "Percent 90 to 180 Days Past Due Date",
                                    "1": "2011",
                                    "2": "1",
                                    "3": "Overall Market",
                                    "4": "3.6"
                                },
                                {
                                    "0": "Percent 90 to 180 Days Past Due Date",
                                    "1": "2011",
                                    "2": "2",
                                    "3": "Overall Market",
                                    "4": "3.7"
                                },
                                {
                                    "0": "Percent 90 to 180 Days Past Due Date",
                                    "1": "2011",
                                    "2": "3",
                                    "3": "Overall Market",
                                    "4": "3.9"
                                },
                                {
                                    "0": "Percent 90 to 180 Days Past Due Date",
                                    "1": "2011",
                                    "2": "4",
                                    "3": "Overall Market",
                                    "4": "4.1"
                                },
                                {
                                    "0": "Percent 90 to 180 Days Past Due Date",
                                    "1": "2012",
                                    "2": "1",
                                    "3": "Overall Market",
                                    "4": "4.1"
                                },
                                {
                                    "0": "Percent 90 to 180 Days Past Due Date",
                                    "1": "2012",
                                    "2": "2",
                                    "3": "Overall Market",
                                    "4": "4.1"
                                },
                                {
                                    "0": "Percent 90 to 180 Days Past Due Date",
                                    "1": "2012",
                                    "2": "3",
                                    "3": "Overall Market",
                                    "4": "3.8"
                                },
                                {
                                    "0": "Percent 90 to 180 Days Past Due Date",
                                    "1": "2012",
                                    "2": "4",
                                    "3": "Overall Market",
                                    "4": "3.4"
                                },
                                {
                                    "0": "Percent 90 to 180 Days Past Due Date",
                                    "1": "2013",
                                    "2": "1",
                                    "3": "Overall Market",
                                    "4": "3.0"
                                },
                                {
                                    "0": "Percent 90 to 180 Days Past Due Date",
                                    "1": "2013",
                                    "2": "2",
                                    "3": "Overall Market",
                                    "4": "2.7"
                                },
                                {
                                    "0": "Percent 90 to 180 Days Past Due Date",
                                    "1": "2013",
                                    "2": "3",
                                    "3": "Overall Market",
                                    "4": "2.3"
                                },
                                {
                                    "0": "Percent 90 to 180 Days Past Due Date",
                                    "1": "2013",
                                    "2": "4",
                                    "3": "Overall Market",
                                    "4": "2.2"
                                },
                                {
                                    "0": "Percent 90 to 180 Days Past Due Date",
                                    "1": "2014",
                                    "2": "1",
                                    "3": "Overall Market",
                                    "4": "1.9"
                                },
                                {
                                    "0": "Percent 90 to 180 Days Past Due Date",
                                    "1": "2014",
                                    "2": "2",
                                    "3": "Overall Market",
                                    "4": "1.7"
                                },
                                {
                                    "0": "Percent 90 to 180 Days Past Due Date",
                                    "1": "2014",
                                    "2": "3",
                                    "3": "Overall Market",
                                    "4": "1.7"
                                },
                                {
                                    "0": "Percent 90 to 180 Days Past Due Date",
                                    "1": "2014",
                                    "2": "4",
                                    "3": "Overall Market",
                                    "4": "1.5"
                                },
                                {
                                    "0": "Percent 90 to 180 Days Past Due Date",
                                    "1": "2015",
                                    "2": "1",
                                    "3": "Overall Market",
                                    "4": "1.3"
                                },
                                {
                                    "0": "Percent 90 to 180 Days Past Due Date",
                                    "1": "2015",
                                    "2": "2",
                                    "3": "Overall Market",
                                    "4": "1.1"
                                },
                                {
                                    "0": "Percent 90 to 180 Days Past Due Date",
                                    "1": "2015",
                                    "2": "3",
                                    "3": "Overall Market",
                                    "4": "1.1"
                                },
                                {
                                    "0": "Percent 90 to 180 Days Past Due Date",
                                    "1": "2015",
                                    "2": "4",
                                    "3": "Overall Market",
                                    "4": "1.0"
                                },
                                {
                                    "0": "Percent 90 to 180 Days Past Due Date",
                                    "1": "2016",
                                    "2": "1",
                                    "3": "Overall Market",
                                    "4": "0.9"
                                },
                                {
                                    "0": "Percent 90 to 180 Days Past Due Date",
                                    "1": "2016",
                                    "2": "2",
                                    "3": "Overall Market",
                                    "4": "0.8"
                                },
                                {
                                    "0": "Percent 90 to 180 Days Past Due Date",
                                    "1": "2016",
                                    "2": "3",
                                    "3": "Overall Market",
                                    "4": "0.8"
                                },
                                {
                                    "0": "Percent 90 to 180 Days Past Due Date",
                                    "1": "2016",
                                    "2": "4",
                                    "3": "Overall Market",
                                    "4": "0.7"
                                },
                                {
                                    "0": "Percent 90 to 180 Days Past Due Date",
                                    "1": "2017",
                                    "2": "1",
                                    "3": "Overall Market",
                                    "4": "0.7"
                                },
                                {
                                    "0": "Percent 90 to 180 Days Past Due Date",
                                    "1": "2017",
                                    "2": "2",
                                    "3": "Overall Market",
                                    "4": "0.5"
                                },
                                {
                                    "0": "Percent 90 to 180 Days Past Due Date",
                                    "1": "2017",
                                    "2": "3",
                                    "3": "Overall Market",
                                    "4": "0.4"
                                },
                                {
                                    "0": "Percent 90 to 180 Days Past Due Date",
                                    "1": "2017",
                                    "2": "4",
                                    "3": "Overall Market",
                                    "4": "0.4"
                                },
                                {
                                    "0": "Percent 90 to 180 Days Past Due Date",
                                    "1": "2018",
                                    "2": "1",
                                    "3": "Overall Market",
                                    "4": "0.3"
                                },
                                {
                                    "0": "Percent 90 to 180 Days Past Due Date",
                                    "1": "2018",
                                    "2": "2",
                                    "3": "Overall Market",
                                    "4": "0.4"
                                },
                                {
                                    "0": "Percent 90 to 180 Days Past Due Date",
                                    "1": "2018",
                                    "2": "3",
                                    "3": "Overall Market",
                                    "4": "0.4"
                                },
                                {
                                    "0": "Percent 90 to 180 Days Past Due Date",
                                    "1": "2018",
                                    "2": "4",
                                    "3": "Overall Market",
                                    "4": "0.4"
                                },
                                {
                                    "0": "Percent 90 to 180 Days Past Due Date",
                                    "1": "2019",
                                    "2": "1",
                                    "3": "Overall Market",
                                    "4": "0.3"
                                },
                                {
                                    "0": "Percent 90 to 180 Days Past Due Date",
                                    "1": "2019",
                                    "2": "2",
                                    "3": "Overall Market",
                                    "4": "0.3"
                                },
                                {
                                    "0": "Percent 90 to 180 Days Past Due Date",
                                    "1": "2019",
                                    "2": "3",
                                    "3": "Overall Market",
                                    "4": "0.3"
                                },
                                {
                                    "0": "Percent 90 to 180 Days Past Due Date",
                                    "1": "2019",
                                    "2": "4",
                                    "3": "Overall Market",
                                    "4": "0.3"
                                },
                                {
                                    "0": "Percent 90 to 180 Days Past Due Date",
                                    "1": "2020",
                                    "2": "1",
                                    "3": "Overall Market",
                                    "4": "0.2"
                                },
                                {
                                    "0": "Percent 90 to 180 Days Past Due Date",
                                    "1": "2020",
                                    "2": "2",
                                    "3": "Overall Market",
                                    "4": "0.2"
                                },
                                {
                                    "0": "Percent 90 to 180 Days Past Due Date",
                                    "1": "2020",
                                    "2": "3",
                                    "3": "Overall Market",
                                    "4": "0.2"
                                },
                                {
                                    "0": "Percent 90 to 180 Days Past Due Date",
                                    "1": "2020",
                                    "2": "4",
                                    "3": "Overall Market",
                                    "4": "0.2"
                                },
                                {
                                    "0": "Percent 90 to 180 Days Past Due Date",
                                    "1": "2021",
                                    "2": "1",
                                    "3": "Overall Market",
                                    "4": "0.2"
                                },
                                {
                                    "0": "Percent 90 to 180 Days Past Due Date",
                                    "1": "2021",
                                    "2": "2",
                                    "3": "Overall Market",
                                    "4": "0.2"
                                },
                                {
                                    "0": "Percent 90 to 180 Days Past Due Date",
                                    "1": "2021",
                                    "2": "3",
                                    "3": "Overall Market",
                                    "4": "0.1"
                                },
                                {
                                    "0": "Percent 90 to 180 Days Past Due Date",
                                    "1": "2021",
                                    "2": "4",
                                    "3": "Overall Market",
                                    "4": "0.2"
                                },
                                {
                                    "0": "Percent 90 to 180 Days Past Due Date",
                                    "1": "2022",
                                    "2": "1",
                                    "3": "Overall Market",
                                    "4": "0.2"
                                },
                                {
                                    "0": "Percent 90 to 180 Days Past Due Date",
                                    "1": "2002",
                                    "2": "1",
                                    "3": "Other Conventional",
                                    "4": "0.5"
                                },
                                {
                                    "0": "Percent 90 to 180 Days Past Due Date",
                                    "1": "2002",
                                    "2": "2",
                                    "3": "Other Conventional",
                                    "4": "0.6"
                                },
                                {
                                    "0": "Percent 90 to 180 Days Past Due Date",
                                    "1": "2002",
                                    "2": "3",
                                    "3": "Other Conventional",
                                    "4": "0.7"
                                },
                                {
                                    "0": "Percent 90 to 180 Days Past Due Date",
                                    "1": "2002",
                                    "2": "4",
                                    "3": "Other Conventional",
                                    "4": "0.7"
                                },
                                {
                                    "0": "Percent 90 to 180 Days Past Due Date",
                                    "1": "2003",
                                    "2": "1",
                                    "3": "Other Conventional",
                                    "4": "0.7"
                                },
                                {
                                    "0": "Percent 90 to 180 Days Past Due Date",
                                    "1": "2003",
                                    "2": "2",
                                    "3": "Other Conventional",
                                    "4": "0.8"
                                },
                                {
                                    "0": "Percent 90 to 180 Days Past Due Date",
                                    "1": "2003",
                                    "2": "3",
                                    "3": "Other Conventional",
                                    "4": "0.9"
                                },
                                {
                                    "0": "Percent 90 to 180 Days Past Due Date",
                                    "1": "2003",
                                    "2": "4",
                                    "3": "Other Conventional",
                                    "4": "0.9"
                                },
                                {
                                    "0": "Percent 90 to 180 Days Past Due Date",
                                    "1": "2004",
                                    "2": "1",
                                    "3": "Other Conventional",
                                    "4": "0.8"
                                },
                                {
                                    "0": "Percent 90 to 180 Days Past Due Date",
                                    "1": "2004",
                                    "2": "2",
                                    "3": "Other Conventional",
                                    "4": "0.6"
                                },
                                {
                                    "0": "Percent 90 to 180 Days Past Due Date",
                                    "1": "2004",
                                    "2": "3",
                                    "3": "Other Conventional",
                                    "4": "0.6"
                                },
                                {
                                    "0": "Percent 90 to 180 Days Past Due Date",
                                    "1": "2004",
                                    "2": "4",
                                    "3": "Other Conventional",
                                    "4": "0.8"
                                },
                                {
                                    "0": "Percent 90 to 180 Days Past Due Date",
                                    "1": "2005",
                                    "2": "1",
                                    "3": "Other Conventional",
                                    "4": "0.8"
                                },
                                {
                                    "0": "Percent 90 to 180 Days Past Due Date",
                                    "1": "2005",
                                    "2": "2",
                                    "3": "Other Conventional",
                                    "4": "0.7"
                                },
                                {
                                    "0": "Percent 90 to 180 Days Past Due Date",
                                    "1": "2005",
                                    "2": "3",
                                    "3": "Other Conventional",
                                    "4": "0.7"
                                },
                                {
                                    "0": "Percent 90 to 180 Days Past Due Date",
                                    "1": "2005",
                                    "2": "4",
                                    "3": "Other Conventional",
                                    "4": "0.5"
                                },
                                {
                                    "0": "Percent 90 to 180 Days Past Due Date",
                                    "1": "2006",
                                    "2": "1",
                                    "3": "Other Conventional",
                                    "4": "0.5"
                                },
                                {
                                    "0": "Percent 90 to 180 Days Past Due Date",
                                    "1": "2006",
                                    "2": "2",
                                    "3": "Other Conventional",
                                    "4": "0.6"
                                },
                                {
                                    "0": "Percent 90 to 180 Days Past Due Date",
                                    "1": "2006",
                                    "2": "3",
                                    "3": "Other Conventional",
                                    "4": "0.8"
                                },
                                {
                                    "0": "Percent 90 to 180 Days Past Due Date",
                                    "1": "2006",
                                    "2": "4",
                                    "3": "Other Conventional",
                                    "4": "0.8"
                                },
                                {
                                    "0": "Percent 90 to 180 Days Past Due Date",
                                    "1": "2007",
                                    "2": "1",
                                    "3": "Other Conventional",
                                    "4": "0.7"
                                },
                                {
                                    "0": "Percent 90 to 180 Days Past Due Date",
                                    "1": "2007",
                                    "2": "2",
                                    "3": "Other Conventional",
                                    "4": "0.7"
                                },
                                {
                                    "0": "Percent 90 to 180 Days Past Due Date",
                                    "1": "2007",
                                    "2": "3",
                                    "3": "Other Conventional",
                                    "4": "1.0"
                                },
                                {
                                    "0": "Percent 90 to 180 Days Past Due Date",
                                    "1": "2007",
                                    "2": "4",
                                    "3": "Other Conventional",
                                    "4": "1.2"
                                },
                                {
                                    "0": "Percent 90 to 180 Days Past Due Date",
                                    "1": "2008",
                                    "2": "1",
                                    "3": "Other Conventional",
                                    "4": "1.4"
                                },
                                {
                                    "0": "Percent 90 to 180 Days Past Due Date",
                                    "1": "2008",
                                    "2": "2",
                                    "3": "Other Conventional",
                                    "4": "1.8"
                                },
                                {
                                    "0": "Percent 90 to 180 Days Past Due Date",
                                    "1": "2008",
                                    "2": "3",
                                    "3": "Other Conventional",
                                    "4": "2.0"
                                },
                                {
                                    "0": "Percent 90 to 180 Days Past Due Date",
                                    "1": "2008",
                                    "2": "4",
                                    "3": "Other Conventional",
                                    "4": "2.7"
                                },
                                {
                                    "0": "Percent 90 to 180 Days Past Due Date",
                                    "1": "2009",
                                    "2": "1",
                                    "3": "Other Conventional",
                                    "4": "4.1"
                                },
                                {
                                    "0": "Percent 90 to 180 Days Past Due Date",
                                    "1": "2009",
                                    "2": "2",
                                    "3": "Other Conventional",
                                    "4": "4.9"
                                },
                                {
                                    "0": "Percent 90 to 180 Days Past Due Date",
                                    "1": "2009",
                                    "2": "3",
                                    "3": "Other Conventional",
                                    "4": "6.3"
                                },
                                {
                                    "0": "Percent 90 to 180 Days Past Due Date",
                                    "1": "2009",
                                    "2": "4",
                                    "3": "Other Conventional",
                                    "4": "7.5"
                                },
                                {
                                    "0": "Percent 90 to 180 Days Past Due Date",
                                    "1": "2010",
                                    "2": "1",
                                    "3": "Other Conventional",
                                    "4": "8.0"
                                },
                                {
                                    "0": "Percent 90 to 180 Days Past Due Date",
                                    "1": "2010",
                                    "2": "2",
                                    "3": "Other Conventional",
                                    "4": "8.4"
                                },
                                {
                                    "0": "Percent 90 to 180 Days Past Due Date",
                                    "1": "2010",
                                    "2": "3",
                                    "3": "Other Conventional",
                                    "4": "8.6"
                                },
                                {
                                    "0": "Percent 90 to 180 Days Past Due Date",
                                    "1": "2010",
                                    "2": "4",
                                    "3": "Other Conventional",
                                    "4": "8.8"
                                },
                                {
                                    "0": "Percent 90 to 180 Days Past Due Date",
                                    "1": "2011",
                                    "2": "1",
                                    "3": "Other Conventional",
                                    "4": "8.8"
                                },
                                {
                                    "0": "Percent 90 to 180 Days Past Due Date",
                                    "1": "2011",
                                    "2": "2",
                                    "3": "Other Conventional",
                                    "4": "9.0"
                                },
                                {
                                    "0": "Percent 90 to 180 Days Past Due Date",
                                    "1": "2011",
                                    "2": "3",
                                    "3": "Other Conventional",
                                    "4": "9.3"
                                },
                                {
                                    "0": "Percent 90 to 180 Days Past Due Date",
                                    "1": "2011",
                                    "2": "4",
                                    "3": "Other Conventional",
                                    "4": "9.7"
                                },
                                {
                                    "0": "Percent 90 to 180 Days Past Due Date",
                                    "1": "2012",
                                    "2": "1",
                                    "3": "Other Conventional",
                                    "4": "9.7"
                                },
                                {
                                    "0": "Percent 90 to 180 Days Past Due Date",
                                    "1": "2012",
                                    "2": "2",
                                    "3": "Other Conventional",
                                    "4": "9.1"
                                },
                                {
                                    "0": "Percent 90 to 180 Days Past Due Date",
                                    "1": "2012",
                                    "2": "3",
                                    "3": "Other Conventional",
                                    "4": "8.7"
                                },
                                {
                                    "0": "Percent 90 to 180 Days Past Due Date",
                                    "1": "2012",
                                    "2": "4",
                                    "3": "Other Conventional",
                                    "4": "7.7"
                                },
                                {
                                    "0": "Percent 90 to 180 Days Past Due Date",
                                    "1": "2013",
                                    "2": "1",
                                    "3": "Other Conventional",
                                    "4": "7.0"
                                },
                                {
                                    "0": "Percent 90 to 180 Days Past Due Date",
                                    "1": "2013",
                                    "2": "2",
                                    "3": "Other Conventional",
                                    "4": "6.5"
                                },
                                {
                                    "0": "Percent 90 to 180 Days Past Due Date",
                                    "1": "2013",
                                    "2": "3",
                                    "3": "Other Conventional",
                                    "4": "5.8"
                                },
                                {
                                    "0": "Percent 90 to 180 Days Past Due Date",
                                    "1": "2013",
                                    "2": "4",
                                    "3": "Other Conventional",
                                    "4": "5.6"
                                },
                                {
                                    "0": "Percent 90 to 180 Days Past Due Date",
                                    "1": "2014",
                                    "2": "1",
                                    "3": "Other Conventional",
                                    "4": "4.8"
                                },
                                {
                                    "0": "Percent 90 to 180 Days Past Due Date",
                                    "1": "2014",
                                    "2": "2",
                                    "3": "Other Conventional",
                                    "4": "4.7"
                                },
                                {
                                    "0": "Percent 90 to 180 Days Past Due Date",
                                    "1": "2014",
                                    "2": "3",
                                    "3": "Other Conventional",
                                    "4": "4.5"
                                },
                                {
                                    "0": "Percent 90 to 180 Days Past Due Date",
                                    "1": "2014",
                                    "2": "4",
                                    "3": "Other Conventional",
                                    "4": "3.8"
                                },
                                {
                                    "0": "Percent 90 to 180 Days Past Due Date",
                                    "1": "2015",
                                    "2": "1",
                                    "3": "Other Conventional",
                                    "4": "3.4"
                                },
                                {
                                    "0": "Percent 90 to 180 Days Past Due Date",
                                    "1": "2015",
                                    "2": "2",
                                    "3": "Other Conventional",
                                    "4": "3.0"
                                },
                                {
                                    "0": "Percent 90 to 180 Days Past Due Date",
                                    "1": "2015",
                                    "2": "3",
                                    "3": "Other Conventional",
                                    "4": "2.9"
                                },
                                {
                                    "0": "Percent 90 to 180 Days Past Due Date",
                                    "1": "2015",
                                    "2": "4",
                                    "3": "Other Conventional",
                                    "4": "2.3"
                                },
                                {
                                    "0": "Percent 90 to 180 Days Past Due Date",
                                    "1": "2016",
                                    "2": "1",
                                    "3": "Other Conventional",
                                    "4": "2.1"
                                },
                                {
                                    "0": "Percent 90 to 180 Days Past Due Date",
                                    "1": "2016",
                                    "2": "2",
                                    "3": "Other Conventional",
                                    "4": "1.9"
                                },
                                {
                                    "0": "Percent 90 to 180 Days Past Due Date",
                                    "1": "2016",
                                    "2": "3",
                                    "3": "Other Conventional",
                                    "4": "1.7"
                                },
                                {
                                    "0": "Percent 90 to 180 Days Past Due Date",
                                    "1": "2016",
                                    "2": "4",
                                    "3": "Other Conventional",
                                    "4": "1.3"
                                },
                                {
                                    "0": "Percent 90 to 180 Days Past Due Date",
                                    "1": "2017",
                                    "2": "1",
                                    "3": "Other Conventional",
                                    "4": "1.3"
                                },
                                {
                                    "0": "Percent 90 to 180 Days Past Due Date",
                                    "1": "2017",
                                    "2": "2",
                                    "3": "Other Conventional",
                                    "4": "1.0"
                                },
                                {
                                    "0": "Percent 90 to 180 Days Past Due Date",
                                    "1": "2017",
                                    "2": "3",
                                    "3": "Other Conventional",
                                    "4": "0.8"
                                },
                                {
                                    "0": "Percent 90 to 180 Days Past Due Date",
                                    "1": "2017",
                                    "2": "4",
                                    "3": "Other Conventional",
                                    "4": "0.8"
                                },
                                {
                                    "0": "Percent 90 to 180 Days Past Due Date",
                                    "1": "2018",
                                    "2": "1",
                                    "3": "Other Conventional",
                                    "4": "0.6"
                                },
                                {
                                    "0": "Percent 90 to 180 Days Past Due Date",
                                    "1": "2018",
                                    "2": "2",
                                    "3": "Other Conventional",
                                    "4": "0.5"
                                },
                                {
                                    "0": "Percent 90 to 180 Days Past Due Date",
                                    "1": "2018",
                                    "2": "3",
                                    "3": "Other Conventional",
                                    "4": "0.5"
                                },
                                {
                                    "0": "Percent 90 to 180 Days Past Due Date",
                                    "1": "2018",
                                    "2": "4",
                                    "3": "Other Conventional",
                                    "4": "0.6"
                                },
                                {
                                    "0": "Percent 90 to 180 Days Past Due Date",
                                    "1": "2019",
                                    "2": "1",
                                    "3": "Other Conventional",
                                    "4": "0.4"
                                },
                                {
                                    "0": "Percent 90 to 180 Days Past Due Date",
                                    "1": "2019",
                                    "2": "2",
                                    "3": "Other Conventional",
                                    "4": "0.3"
                                },
                                {
                                    "0": "Percent 90 to 180 Days Past Due Date",
                                    "1": "2019",
                                    "2": "3",
                                    "3": "Other Conventional",
                                    "4": "0.3"
                                },
                                {
                                    "0": "Percent 90 to 180 Days Past Due Date",
                                    "1": "2019",
                                    "2": "4",
                                    "3": "Other Conventional",
                                    "4": "0.2"
                                },
                                {
                                    "0": "Percent 90 to 180 Days Past Due Date",
                                    "1": "2020",
                                    "2": "1",
                                    "3": "Other Conventional",
                                    "4": "0.2"
                                },
                                {
                                    "0": "Percent 90 to 180 Days Past Due Date",
                                    "1": "2020",
                                    "2": "2",
                                    "3": "Other Conventional",
                                    "4": "0.4"
                                },
                                {
                                    "0": "Percent 90 to 180 Days Past Due Date",
                                    "1": "2020",
                                    "2": "3",
                                    "3": "Other Conventional",
                                    "4": "0.4"
                                },
                                {
                                    "0": "Percent 90 to 180 Days Past Due Date",
                                    "1": "2020",
                                    "2": "4",
                                    "3": "Other Conventional",
                                    "4": "0.4"
                                },
                                {
                                    "0": "Percent 90 to 180 Days Past Due Date",
                                    "1": "2021",
                                    "2": "1",
                                    "3": "Other Conventional",
                                    "4": "0.3"
                                },
                                {
                                    "0": "Percent 90 to 180 Days Past Due Date",
                                    "1": "2021",
                                    "2": "2",
                                    "3": "Other Conventional",
                                    "4": "0.3"
                                },
                                {
                                    "0": "Percent 90 to 180 Days Past Due Date",
                                    "1": "2021",
                                    "2": "3",
                                    "3": "Other Conventional",
                                    "4": "0.3"
                                },
                                {
                                    "0": "Percent 90 to 180 Days Past Due Date",
                                    "1": "2021",
                                    "2": "4",
                                    "3": "Other Conventional",
                                    "4": "0.3"
                                },
                                {
                                    "0": "Percent 90 to 180 Days Past Due Date",
                                    "1": "2022",
                                    "2": "1",
                                    "3": "Other Conventional",
                                    "4": "0.3"
                                },
                                {
                                    "0": "Percent in the Process of Foreclosure, Bankruptcy, or Deed in Lieu",
                                    "1": "2002",
                                    "2": "1",
                                    "3": "Enterprise",
                                    "4": "0.3"
                                },
                                {
                                    "0": "Percent in the Process of Foreclosure, Bankruptcy, or Deed in Lieu",
                                    "1": "2002",
                                    "2": "2",
                                    "3": "Enterprise",
                                    "4": "0.3"
                                },
                                {
                                    "0": "Percent in the Process of Foreclosure, Bankruptcy, or Deed in Lieu",
                                    "1": "2002",
                                    "2": "3",
                                    "3": "Enterprise",
                                    "4": "0.3"
                                },
                                {
                                    "0": "Percent in the Process of Foreclosure, Bankruptcy, or Deed in Lieu",
                                    "1": "2002",
                                    "2": "4",
                                    "3": "Enterprise",
                                    "4": "0.3"
                                },
                                {
                                    "0": "Percent in the Process of Foreclosure, Bankruptcy, or Deed in Lieu",
                                    "1": "2003",
                                    "2": "1",
                                    "3": "Enterprise",
                                    "4": "0.4"
                                },
                                {
                                    "0": "Percent in the Process of Foreclosure, Bankruptcy, or Deed in Lieu",
                                    "1": "2003",
                                    "2": "2",
                                    "3": "Enterprise",
                                    "4": "0.3"
                                },
                                {
                                    "0": "Percent in the Process of Foreclosure, Bankruptcy, or Deed in Lieu",
                                    "1": "2003",
                                    "2": "3",
                                    "3": "Enterprise",
                                    "4": "0.3"
                                },
                                {
                                    "0": "Percent in the Process of Foreclosure, Bankruptcy, or Deed in Lieu",
                                    "1": "2003",
                                    "2": "4",
                                    "3": "Enterprise",
                                    "4": "0.3"
                                },
                                {
                                    "0": "Percent in the Process of Foreclosure, Bankruptcy, or Deed in Lieu",
                                    "1": "2004",
                                    "2": "1",
                                    "3": "Enterprise",
                                    "4": "0.3"
                                },
                                {
                                    "0": "Percent in the Process of Foreclosure, Bankruptcy, or Deed in Lieu",
                                    "1": "2004",
                                    "2": "2",
                                    "3": "Enterprise",
                                    "4": "0.3"
                                },
                                {
                                    "0": "Percent in the Process of Foreclosure, Bankruptcy, or Deed in Lieu",
                                    "1": "2004",
                                    "2": "3",
                                    "3": "Enterprise",
                                    "4": "0.2"
                                },
                                {
                                    "0": "Percent in the Process of Foreclosure, Bankruptcy, or Deed in Lieu",
                                    "1": "2004",
                                    "2": "4",
                                    "3": "Enterprise",
                                    "4": "0.3"
                                },
                                {
                                    "0": "Percent in the Process of Foreclosure, Bankruptcy, or Deed in Lieu",
                                    "1": "2005",
                                    "2": "1",
                                    "3": "Enterprise",
                                    "4": "0.3"
                                },
                                {
                                    "0": "Percent in the Process of Foreclosure, Bankruptcy, or Deed in Lieu",
                                    "1": "2005",
                                    "2": "2",
                                    "3": "Enterprise",
                                    "4": "0.2"
                                },
                                {
                                    "0": "Percent in the Process of Foreclosure, Bankruptcy, or Deed in Lieu",
                                    "1": "2005",
                                    "2": "3",
                                    "3": "Enterprise",
                                    "4": "0.3"
                                },
                                {
                                    "0": "Percent in the Process of Foreclosure, Bankruptcy, or Deed in Lieu",
                                    "1": "2005",
                                    "2": "4",
                                    "3": "Enterprise",
                                    "4": "0.2"
                                },
                                {
                                    "0": "Percent in the Process of Foreclosure, Bankruptcy, or Deed in Lieu",
                                    "1": "2006",
                                    "2": "1",
                                    "3": "Enterprise",
                                    "4": "0.2"
                                },
                                {
                                    "0": "Percent in the Process of Foreclosure, Bankruptcy, or Deed in Lieu",
                                    "1": "2006",
                                    "2": "2",
                                    "3": "Enterprise",
                                    "4": "0.2"
                                },
                                {
                                    "0": "Percent in the Process of Foreclosure, Bankruptcy, or Deed in Lieu",
                                    "1": "2006",
                                    "2": "3",
                                    "3": "Enterprise",
                                    "4": "0.1"
                                },
                                {
                                    "0": "Percent in the Process of Foreclosure, Bankruptcy, or Deed in Lieu",
                                    "1": "2006",
                                    "2": "4",
                                    "3": "Enterprise",
                                    "4": "0.2"
                                },
                                {
                                    "0": "Percent in the Process of Foreclosure, Bankruptcy, or Deed in Lieu",
                                    "1": "2007",
                                    "2": "1",
                                    "3": "Enterprise",
                                    "4": "0.1"
                                },
                                {
                                    "0": "Percent in the Process of Foreclosure, Bankruptcy, or Deed in Lieu",
                                    "1": "2007",
                                    "2": "2",
                                    "3": "Enterprise",
                                    "4": "0.1"
                                },
                                {
                                    "0": "Percent in the Process of Foreclosure, Bankruptcy, or Deed in Lieu",
                                    "1": "2007",
                                    "2": "3",
                                    "3": "Enterprise",
                                    "4": "0.1"
                                },
                                {
                                    "0": "Percent in the Process of Foreclosure, Bankruptcy, or Deed in Lieu",
                                    "1": "2007",
                                    "2": "4",
                                    "3": "Enterprise",
                                    "4": "0.1"
                                },
                                {
                                    "0": "Percent in the Process of Foreclosure, Bankruptcy, or Deed in Lieu",
                                    "1": "2008",
                                    "2": "1",
                                    "3": "Enterprise",
                                    "4": "0.1"
                                },
                                {
                                    "0": "Percent in the Process of Foreclosure, Bankruptcy, or Deed in Lieu",
                                    "1": "2008",
                                    "2": "2",
                                    "3": "Enterprise",
                                    "4": "0.2"
                                },
                                {
                                    "0": "Percent in the Process of Foreclosure, Bankruptcy, or Deed in Lieu",
                                    "1": "2008",
                                    "2": "3",
                                    "3": "Enterprise",
                                    "4": "0.2"
                                },
                                {
                                    "0": "Percent in the Process of Foreclosure, Bankruptcy, or Deed in Lieu",
                                    "1": "2008",
                                    "2": "4",
                                    "3": "Enterprise",
                                    "4": "0.3"
                                },
                                {
                                    "0": "Percent in the Process of Foreclosure, Bankruptcy, or Deed in Lieu",
                                    "1": "2009",
                                    "2": "1",
                                    "3": "Enterprise",
                                    "4": "0.4"
                                },
                                {
                                    "0": "Percent in the Process of Foreclosure, Bankruptcy, or Deed in Lieu",
                                    "1": "2009",
                                    "2": "2",
                                    "3": "Enterprise",
                                    "4": "0.6"
                                },
                                {
                                    "0": "Percent in the Process of Foreclosure, Bankruptcy, or Deed in Lieu",
                                    "1": "2009",
                                    "2": "3",
                                    "3": "Enterprise",
                                    "4": "0.8"
                                },
                                {
                                    "0": "Percent in the Process of Foreclosure, Bankruptcy, or Deed in Lieu",
                                    "1": "2009",
                                    "2": "4",
                                    "3": "Enterprise",
                                    "4": "0.8"
                                },
                                {
                                    "0": "Percent in the Process of Foreclosure, Bankruptcy, or Deed in Lieu",
                                    "1": "2010",
                                    "2": "1",
                                    "3": "Enterprise",
                                    "4": "0.9"
                                },
                                {
                                    "0": "Percent in the Process of Foreclosure, Bankruptcy, or Deed in Lieu",
                                    "1": "2010",
                                    "2": "2",
                                    "3": "Enterprise",
                                    "4": "1.1"
                                },
                                {
                                    "0": "Percent in the Process of Foreclosure, Bankruptcy, or Deed in Lieu",
                                    "1": "2010",
                                    "2": "3",
                                    "3": "Enterprise",
                                    "4": "1.3"
                                },
                                {
                                    "0": "Percent in the Process of Foreclosure, Bankruptcy, or Deed in Lieu",
                                    "1": "2010",
                                    "2": "4",
                                    "3": "Enterprise",
                                    "4": "1.8"
                                },
                                {
                                    "0": "Percent in the Process of Foreclosure, Bankruptcy, or Deed in Lieu",
                                    "1": "2011",
                                    "2": "1",
                                    "3": "Enterprise",
                                    "4": "1.9"
                                },
                                {
                                    "0": "Percent in the Process of Foreclosure, Bankruptcy, or Deed in Lieu",
                                    "1": "2011",
                                    "2": "2",
                                    "3": "Enterprise",
                                    "4": "1.9"
                                },
                                {
                                    "0": "Percent in the Process of Foreclosure, Bankruptcy, or Deed in Lieu",
                                    "1": "2011",
                                    "2": "3",
                                    "3": "Enterprise",
                                    "4": "1.8"
                                },
                                {
                                    "0": "Percent in the Process of Foreclosure, Bankruptcy, or Deed in Lieu",
                                    "1": "2011",
                                    "2": "4",
                                    "3": "Enterprise",
                                    "4": "1.7"
                                },
                                {
                                    "0": "Percent in the Process of Foreclosure, Bankruptcy, or Deed in Lieu",
                                    "1": "2012",
                                    "2": "1",
                                    "3": "Enterprise",
                                    "4": "1.7"
                                },
                                {
                                    "0": "Percent in the Process of Foreclosure, Bankruptcy, or Deed in Lieu",
                                    "1": "2012",
                                    "2": "2",
                                    "3": "Enterprise",
                                    "4": "1.7"
                                },
                                {
                                    "0": "Percent in the Process of Foreclosure, Bankruptcy, or Deed in Lieu",
                                    "1": "2012",
                                    "2": "3",
                                    "3": "Enterprise",
                                    "4": "1.9"
                                },
                                {
                                    "0": "Percent in the Process of Foreclosure, Bankruptcy, or Deed in Lieu",
                                    "1": "2012",
                                    "2": "4",
                                    "3": "Enterprise",
                                    "4": "1.8"
                                },
                                {
                                    "0": "Percent in the Process of Foreclosure, Bankruptcy, or Deed in Lieu",
                                    "1": "2013",
                                    "2": "1",
                                    "3": "Enterprise",
                                    "4": "1.7"
                                },
                                {
                                    "0": "Percent in the Process of Foreclosure, Bankruptcy, or Deed in Lieu",
                                    "1": "2013",
                                    "2": "2",
                                    "3": "Enterprise",
                                    "4": "1.4"
                                },
                                {
                                    "0": "Percent in the Process of Foreclosure, Bankruptcy, or Deed in Lieu",
                                    "1": "2013",
                                    "2": "3",
                                    "3": "Enterprise",
                                    "4": "1.2"
                                },
                                {
                                    "0": "Percent in the Process of Foreclosure, Bankruptcy, or Deed in Lieu",
                                    "1": "2013",
                                    "2": "4",
                                    "3": "Enterprise",
                                    "4": "1.0"
                                },
                                {
                                    "0": "Percent in the Process of Foreclosure, Bankruptcy, or Deed in Lieu",
                                    "1": "2014",
                                    "2": "1",
                                    "3": "Enterprise",
                                    "4": "1.0"
                                },
                                {
                                    "0": "Percent in the Process of Foreclosure, Bankruptcy, or Deed in Lieu",
                                    "1": "2014",
                                    "2": "2",
                                    "3": "Enterprise",
                                    "4": "0.9"
                                },
                                {
                                    "0": "Percent in the Process of Foreclosure, Bankruptcy, or Deed in Lieu",
                                    "1": "2014",
                                    "2": "3",
                                    "3": "Enterprise",
                                    "4": "0.8"
                                },
                                {
                                    "0": "Percent in the Process of Foreclosure, Bankruptcy, or Deed in Lieu",
                                    "1": "2014",
                                    "2": "4",
                                    "3": "Enterprise",
                                    "4": "0.6"
                                },
                                {
                                    "0": "Percent in the Process of Foreclosure, Bankruptcy, or Deed in Lieu",
                                    "1": "2015",
                                    "2": "1",
                                    "3": "Enterprise",
                                    "4": "0.6"
                                },
                                {
                                    "0": "Percent in the Process of Foreclosure, Bankruptcy, or Deed in Lieu",
                                    "1": "2015",
                                    "2": "2",
                                    "3": "Enterprise",
                                    "4": "0.5"
                                },
                                {
                                    "0": "Percent in the Process of Foreclosure, Bankruptcy, or Deed in Lieu",
                                    "1": "2015",
                                    "2": "3",
                                    "3": "Enterprise",
                                    "4": "0.4"
                                },
                                {
                                    "0": "Percent in the Process of Foreclosure, Bankruptcy, or Deed in Lieu",
                                    "1": "2015",
                                    "2": "4",
                                    "3": "Enterprise",
                                    "4": "0.3"
                                },
                                {
                                    "0": "Percent in the Process of Foreclosure, Bankruptcy, or Deed in Lieu",
                                    "1": "2016",
                                    "2": "1",
                                    "3": "Enterprise",
                                    "4": "0.3"
                                },
                                {
                                    "0": "Percent in the Process of Foreclosure, Bankruptcy, or Deed in Lieu",
                                    "1": "2016",
                                    "2": "2",
                                    "3": "Enterprise",
                                    "4": "0.2"
                                },
                                {
                                    "0": "Percent in the Process of Foreclosure, Bankruptcy, or Deed in Lieu",
                                    "1": "2016",
                                    "2": "3",
                                    "3": "Enterprise",
                                    "4": "0.1"
                                },
                                {
                                    "0": "Percent in the Process of Foreclosure, Bankruptcy, or Deed in Lieu",
                                    "1": "2016",
                                    "2": "4",
                                    "3": "Enterprise",
                                    "4": "0.1"
                                },
                                {
                                    "0": "Percent in the Process of Foreclosure, Bankruptcy, or Deed in Lieu",
                                    "1": "2017",
                                    "2": "1",
                                    "3": "Enterprise",
                                    "4": "0.1"
                                },
                                {
                                    "0": "Percent in the Process of Foreclosure, Bankruptcy, or Deed in Lieu",
                                    "1": "2017",
                                    "2": "2",
                                    "3": "Enterprise",
                                    "4": "0.1"
                                },
                                {
                                    "0": "Percent in the Process of Foreclosure, Bankruptcy, or Deed in Lieu",
                                    "1": "2017",
                                    "2": "3",
                                    "3": "Enterprise",
                                    "4": "0.1"
                                },
                                {
                                    "0": "Percent in the Process of Foreclosure, Bankruptcy, or Deed in Lieu",
                                    "1": "2017",
                                    "2": "4",
                                    "3": "Enterprise",
                                    "4": "0.1"
                                },
                                {
                                    "0": "Percent in the Process of Foreclosure, Bankruptcy, or Deed in Lieu",
                                    "1": "2018",
                                    "2": "1",
                                    "3": "Enterprise",
                                    "4": "0.1"
                                },
                                {
                                    "0": "Percent in the Process of Foreclosure, Bankruptcy, or Deed in Lieu",
                                    "1": "2018",
                                    "2": "2",
                                    "3": "Enterprise",
                                    "4": "0.1"
                                },
                                {
                                    "0": "Percent in the Process of Foreclosure, Bankruptcy, or Deed in Lieu",
                                    "1": "2018",
                                    "2": "3",
                                    "3": "Enterprise",
                                    "4": "0.1"
                                },
                                {
                                    "0": "Percent in the Process of Foreclosure, Bankruptcy, or Deed in Lieu",
                                    "1": "2018",
                                    "2": "4",
                                    "3": "Enterprise",
                                    "4": "0.0"
                                },
                                {
                                    "0": "Percent in the Process of Foreclosure, Bankruptcy, or Deed in Lieu",
                                    "1": "2019",
                                    "2": "1",
                                    "3": "Enterprise",
                                    "4": "0.0"
                                },
                                {
                                    "0": "Percent in the Process of Foreclosure, Bankruptcy, or Deed in Lieu",
                                    "1": "2019",
                                    "2": "2",
                                    "3": "Enterprise",
                                    "4": "0.0"
                                },
                                {
                                    "0": "Percent in the Process of Foreclosure, Bankruptcy, or Deed in Lieu",
                                    "1": "2019",
                                    "2": "3",
                                    "3": "Enterprise",
                                    "4": "0.0"
                                },
                                {
                                    "0": "Percent in the Process of Foreclosure, Bankruptcy, or Deed in Lieu",
                                    "1": "2019",
                                    "2": "4",
                                    "3": "Enterprise",
                                    "4": "0.0"
                                },
                                {
                                    "0": "Percent in the Process of Foreclosure, Bankruptcy, or Deed in Lieu",
                                    "1": "2020",
                                    "2": "1",
                                    "3": "Enterprise",
                                    "4": "0.0"
                                },
                                {
                                    "0": "Percent in the Process of Foreclosure, Bankruptcy, or Deed in Lieu",
                                    "1": "2020",
                                    "2": "2",
                                    "3": "Enterprise",
                                    "4": "0.0"
                                },
                                {
                                    "0": "Percent in the Process of Foreclosure, Bankruptcy, or Deed in Lieu",
                                    "1": "2020",
                                    "2": "3",
                                    "3": "Enterprise",
                                    "4": "0.0"
                                },
                                {
                                    "0": "Percent in the Process of Foreclosure, Bankruptcy, or Deed in Lieu",
                                    "1": "2020",
                                    "2": "4",
                                    "3": "Enterprise",
                                    "4": "0.0"
                                },
                                {
                                    "0": "Percent in the Process of Foreclosure, Bankruptcy, or Deed in Lieu",
                                    "1": "2021",
                                    "2": "1",
                                    "3": "Enterprise",
                                    "4": "0.0"
                                },
                                {
                                    "0": "Percent in the Process of Foreclosure, Bankruptcy, or Deed in Lieu",
                                    "1": "2021",
                                    "2": "2",
                                    "3": "Enterprise",
                                    "4": "0.0"
                                },
                                {
                                    "0": "Percent in the Process of Foreclosure, Bankruptcy, or Deed in Lieu",
                                    "1": "2021",
                                    "2": "3",
                                    "3": "Enterprise",
                                    "4": "0.0"
                                },
                                {
                                    "0": "Percent in the Process of Foreclosure, Bankruptcy, or Deed in Lieu",
                                    "1": "2021",
                                    "2": "4",
                                    "3": "Enterprise",
                                    "4": "0.0"
                                },
                                {
                                    "0": "Percent in the Process of Foreclosure, Bankruptcy, or Deed in Lieu",
                                    "1": "2022",
                                    "2": "1",
                                    "3": "Enterprise",
                                    "4": "0.0"
                                },
                                {
                                    "0": "Percent in the Process of Foreclosure, Bankruptcy, or Deed in Lieu",
                                    "1": "2002",
                                    "2": "1",
                                    "3": "Government",
                                    "4": "1.5"
                                },
                                {
                                    "0": "Percent in the Process of Foreclosure, Bankruptcy, or Deed in Lieu",
                                    "1": "2002",
                                    "2": "2",
                                    "3": "Government",
                                    "4": "1.4"
                                },
                                {
                                    "0": "Percent in the Process of Foreclosure, Bankruptcy, or Deed in Lieu",
                                    "1": "2002",
                                    "2": "3",
                                    "3": "Government",
                                    "4": "1.6"
                                },
                                {
                                    "0": "Percent in the Process of Foreclosure, Bankruptcy, or Deed in Lieu",
                                    "1": "2002",
                                    "2": "4",
                                    "3": "Government",
                                    "4": "1.9"
                                },
                                {
                                    "0": "Percent in the Process of Foreclosure, Bankruptcy, or Deed in Lieu",
                                    "1": "2003",
                                    "2": "1",
                                    "3": "Government",
                                    "4": "2.2"
                                },
                                {
                                    "0": "Percent in the Process of Foreclosure, Bankruptcy, or Deed in Lieu",
                                    "1": "2003",
                                    "2": "2",
                                    "3": "Government",
                                    "4": "2.2"
                                },
                                {
                                    "0": "Percent in the Process of Foreclosure, Bankruptcy, or Deed in Lieu",
                                    "1": "2003",
                                    "2": "3",
                                    "3": "Government",
                                    "4": "2.0"
                                },
                                {
                                    "0": "Percent in the Process of Foreclosure, Bankruptcy, or Deed in Lieu",
                                    "1": "2003",
                                    "2": "4",
                                    "3": "Government",
                                    "4": "1.7"
                                },
                                {
                                    "0": "Percent in the Process of Foreclosure, Bankruptcy, or Deed in Lieu",
                                    "1": "2004",
                                    "2": "1",
                                    "3": "Government",
                                    "4": "1.5"
                                },
                                {
                                    "0": "Percent in the Process of Foreclosure, Bankruptcy, or Deed in Lieu",
                                    "1": "2004",
                                    "2": "2",
                                    "3": "Government",
                                    "4": "1.5"
                                },
                                {
                                    "0": "Percent in the Process of Foreclosure, Bankruptcy, or Deed in Lieu",
                                    "1": "2004",
                                    "2": "3",
                                    "3": "Government",
                                    "4": "1.7"
                                },
                                {
                                    "0": "Percent in the Process of Foreclosure, Bankruptcy, or Deed in Lieu",
                                    "1": "2004",
                                    "2": "4",
                                    "3": "Government",
                                    "4": "1.4"
                                },
                                {
                                    "0": "Percent in the Process of Foreclosure, Bankruptcy, or Deed in Lieu",
                                    "1": "2005",
                                    "2": "1",
                                    "3": "Government",
                                    "4": "1.7"
                                },
                                {
                                    "0": "Percent in the Process of Foreclosure, Bankruptcy, or Deed in Lieu",
                                    "1": "2005",
                                    "2": "2",
                                    "3": "Government",
                                    "4": "1.5"
                                },
                                {
                                    "0": "Percent in the Process of Foreclosure, Bankruptcy, or Deed in Lieu",
                                    "1": "2005",
                                    "2": "3",
                                    "3": "Government",
                                    "4": "1.3"
                                },
                                {
                                    "0": "Percent in the Process of Foreclosure, Bankruptcy, or Deed in Lieu",
                                    "1": "2005",
                                    "2": "4",
                                    "3": "Government",
                                    "4": "1.3"
                                },
                                {
                                    "0": "Percent in the Process of Foreclosure, Bankruptcy, or Deed in Lieu",
                                    "1": "2006",
                                    "2": "1",
                                    "3": "Government",
                                    "4": "1.3"
                                },
                                {
                                    "0": "Percent in the Process of Foreclosure, Bankruptcy, or Deed in Lieu",
                                    "1": "2006",
                                    "2": "2",
                                    "3": "Government",
                                    "4": "0.9"
                                },
                                {
                                    "0": "Percent in the Process of Foreclosure, Bankruptcy, or Deed in Lieu",
                                    "1": "2006",
                                    "2": "3",
                                    "3": "Government",
                                    "4": "1.1"
                                },
                                {
                                    "0": "Percent in the Process of Foreclosure, Bankruptcy, or Deed in Lieu",
                                    "1": "2006",
                                    "2": "4",
                                    "3": "Government",
                                    "4": "0.6"
                                },
                                {
                                    "0": "Percent in the Process of Foreclosure, Bankruptcy, or Deed in Lieu",
                                    "1": "2007",
                                    "2": "1",
                                    "3": "Government",
                                    "4": "0.4"
                                },
                                {
                                    "0": "Percent in the Process of Foreclosure, Bankruptcy, or Deed in Lieu",
                                    "1": "2007",
                                    "2": "2",
                                    "3": "Government",
                                    "4": "0.4"
                                },
                                {
                                    "0": "Percent in the Process of Foreclosure, Bankruptcy, or Deed in Lieu",
                                    "1": "2007",
                                    "2": "3",
                                    "3": "Government",
                                    "4": "0.7"
                                },
                                {
                                    "0": "Percent in the Process of Foreclosure, Bankruptcy, or Deed in Lieu",
                                    "1": "2007",
                                    "2": "4",
                                    "3": "Government",
                                    "4": "0.4"
                                },
                                {
                                    "0": "Percent in the Process of Foreclosure, Bankruptcy, or Deed in Lieu",
                                    "1": "2008",
                                    "2": "1",
                                    "3": "Government",
                                    "4": "0.5"
                                },
                                {
                                    "0": "Percent in the Process of Foreclosure, Bankruptcy, or Deed in Lieu",
                                    "1": "2008",
                                    "2": "2",
                                    "3": "Government",
                                    "4": "0.4"
                                },
                                {
                                    "0": "Percent in the Process of Foreclosure, Bankruptcy, or Deed in Lieu",
                                    "1": "2008",
                                    "2": "3",
                                    "3": "Government",
                                    "4": "0.4"
                                },
                                {
                                    "0": "Percent in the Process of Foreclosure, Bankruptcy, or Deed in Lieu",
                                    "1": "2008",
                                    "2": "4",
                                    "3": "Government",
                                    "4": "0.4"
                                },
                                {
                                    "0": "Percent in the Process of Foreclosure, Bankruptcy, or Deed in Lieu",
                                    "1": "2009",
                                    "2": "1",
                                    "3": "Government",
                                    "4": "0.6"
                                },
                                {
                                    "0": "Percent in the Process of Foreclosure, Bankruptcy, or Deed in Lieu",
                                    "1": "2009",
                                    "2": "2",
                                    "3": "Government",
                                    "4": "0.8"
                                },
                                {
                                    "0": "Percent in the Process of Foreclosure, Bankruptcy, or Deed in Lieu",
                                    "1": "2009",
                                    "2": "3",
                                    "3": "Government",
                                    "4": "1.0"
                                },
                                {
                                    "0": "Percent in the Process of Foreclosure, Bankruptcy, or Deed in Lieu",
                                    "1": "2009",
                                    "2": "4",
                                    "3": "Government",
                                    "4": "0.9"
                                },
                                {
                                    "0": "Percent in the Process of Foreclosure, Bankruptcy, or Deed in Lieu",
                                    "1": "2010",
                                    "2": "1",
                                    "3": "Government",
                                    "4": "1.3"
                                },
                                {
                                    "0": "Percent in the Process of Foreclosure, Bankruptcy, or Deed in Lieu",
                                    "1": "2010",
                                    "2": "2",
                                    "3": "Government",
                                    "4": "1.6"
                                },
                                {
                                    "0": "Percent in the Process of Foreclosure, Bankruptcy, or Deed in Lieu",
                                    "1": "2010",
                                    "2": "3",
                                    "3": "Government",
                                    "4": "1.8"
                                },
                                {
                                    "0": "Percent in the Process of Foreclosure, Bankruptcy, or Deed in Lieu",
                                    "1": "2010",
                                    "2": "4",
                                    "3": "Government",
                                    "4": "1.8"
                                },
                                {
                                    "0": "Percent in the Process of Foreclosure, Bankruptcy, or Deed in Lieu",
                                    "1": "2011",
                                    "2": "1",
                                    "3": "Government",
                                    "4": "2.0"
                                },
                                {
                                    "0": "Percent in the Process of Foreclosure, Bankruptcy, or Deed in Lieu",
                                    "1": "2011",
                                    "2": "2",
                                    "3": "Government",
                                    "4": "2.2"
                                },
                                {
                                    "0": "Percent in the Process of Foreclosure, Bankruptcy, or Deed in Lieu",
                                    "1": "2011",
                                    "2": "3",
                                    "3": "Government",
                                    "4": "1.9"
                                },
                                {
                                    "0": "Percent in the Process of Foreclosure, Bankruptcy, or Deed in Lieu",
                                    "1": "2011",
                                    "2": "4",
                                    "3": "Government",
                                    "4": "1.7"
                                },
                                {
                                    "0": "Percent in the Process of Foreclosure, Bankruptcy, or Deed in Lieu",
                                    "1": "2012",
                                    "2": "1",
                                    "3": "Government",
                                    "4": "1.8"
                                },
                                {
                                    "0": "Percent in the Process of Foreclosure, Bankruptcy, or Deed in Lieu",
                                    "1": "2012",
                                    "2": "2",
                                    "3": "Government",
                                    "4": "1.9"
                                },
                                {
                                    "0": "Percent in the Process of Foreclosure, Bankruptcy, or Deed in Lieu",
                                    "1": "2012",
                                    "2": "3",
                                    "3": "Government",
                                    "4": "2.0"
                                },
                                {
                                    "0": "Percent in the Process of Foreclosure, Bankruptcy, or Deed in Lieu",
                                    "1": "2012",
                                    "2": "4",
                                    "3": "Government",
                                    "4": "1.9"
                                },
                                {
                                    "0": "Percent in the Process of Foreclosure, Bankruptcy, or Deed in Lieu",
                                    "1": "2013",
                                    "2": "1",
                                    "3": "Government",
                                    "4": "1.9"
                                },
                                {
                                    "0": "Percent in the Process of Foreclosure, Bankruptcy, or Deed in Lieu",
                                    "1": "2013",
                                    "2": "2",
                                    "3": "Government",
                                    "4": "2.0"
                                },
                                {
                                    "0": "Percent in the Process of Foreclosure, Bankruptcy, or Deed in Lieu",
                                    "1": "2013",
                                    "2": "3",
                                    "3": "Government",
                                    "4": "1.8"
                                },
                                {
                                    "0": "Percent in the Process of Foreclosure, Bankruptcy, or Deed in Lieu",
                                    "1": "2013",
                                    "2": "4",
                                    "3": "Government",
                                    "4": "1.7"
                                },
                                {
                                    "0": "Percent in the Process of Foreclosure, Bankruptcy, or Deed in Lieu",
                                    "1": "2014",
                                    "2": "1",
                                    "3": "Government",
                                    "4": "1.5"
                                },
                                {
                                    "0": "Percent in the Process of Foreclosure, Bankruptcy, or Deed in Lieu",
                                    "1": "2014",
                                    "2": "2",
                                    "3": "Government",
                                    "4": "1.3"
                                },
                                {
                                    "0": "Percent in the Process of Foreclosure, Bankruptcy, or Deed in Lieu",
                                    "1": "2014",
                                    "2": "3",
                                    "3": "Government",
                                    "4": "0.9"
                                },
                                {
                                    "0": "Percent in the Process of Foreclosure, Bankruptcy, or Deed in Lieu",
                                    "1": "2014",
                                    "2": "4",
                                    "3": "Government",
                                    "4": "1.2"
                                },
                                {
                                    "0": "Percent in the Process of Foreclosure, Bankruptcy, or Deed in Lieu",
                                    "1": "2015",
                                    "2": "1",
                                    "3": "Government",
                                    "4": "1.3"
                                },
                                {
                                    "0": "Percent in the Process of Foreclosure, Bankruptcy, or Deed in Lieu",
                                    "1": "2015",
                                    "2": "2",
                                    "3": "Government",
                                    "4": "1.3"
                                },
                                {
                                    "0": "Percent in the Process of Foreclosure, Bankruptcy, or Deed in Lieu",
                                    "1": "2015",
                                    "2": "3",
                                    "3": "Government",
                                    "4": "1.1"
                                },
                                {
                                    "0": "Percent in the Process of Foreclosure, Bankruptcy, or Deed in Lieu",
                                    "1": "2015",
                                    "2": "4",
                                    "3": "Government",
                                    "4": "0.8"
                                },
                                {
                                    "0": "Percent in the Process of Foreclosure, Bankruptcy, or Deed in Lieu",
                                    "1": "2016",
                                    "2": "1",
                                    "3": "Government",
                                    "4": "0.7"
                                },
                                {
                                    "0": "Percent in the Process of Foreclosure, Bankruptcy, or Deed in Lieu",
                                    "1": "2016",
                                    "2": "2",
                                    "3": "Government",
                                    "4": "0.6"
                                },
                                {
                                    "0": "Percent in the Process of Foreclosure, Bankruptcy, or Deed in Lieu",
                                    "1": "2016",
                                    "2": "3",
                                    "3": "Government",
                                    "4": "0.6"
                                },
                                {
                                    "0": "Percent in the Process of Foreclosure, Bankruptcy, or Deed in Lieu",
                                    "1": "2016",
                                    "2": "4",
                                    "3": "Government",
                                    "4": "0.7"
                                },
                                {
                                    "0": "Percent in the Process of Foreclosure, Bankruptcy, or Deed in Lieu",
                                    "1": "2017",
                                    "2": "1",
                                    "3": "Government",
                                    "4": "0.6"
                                },
                                {
                                    "0": "Percent in the Process of Foreclosure, Bankruptcy, or Deed in Lieu",
                                    "1": "2017",
                                    "2": "2",
                                    "3": "Government",
                                    "4": "0.5"
                                },
                                {
                                    "0": "Percent in the Process of Foreclosure, Bankruptcy, or Deed in Lieu",
                                    "1": "2017",
                                    "2": "3",
                                    "3": "Government",
                                    "4": "0.5"
                                },
                                {
                                    "0": "Percent in the Process of Foreclosure, Bankruptcy, or Deed in Lieu",
                                    "1": "2017",
                                    "2": "4",
                                    "3": "Government",
                                    "4": "0.4"
                                },
                                {
                                    "0": "Percent in the Process of Foreclosure, Bankruptcy, or Deed in Lieu",
                                    "1": "2018",
                                    "2": "1",
                                    "3": "Government",
                                    "4": "0.3"
                                },
                                {
                                    "0": "Percent in the Process of Foreclosure, Bankruptcy, or Deed in Lieu",
                                    "1": "2018",
                                    "2": "2",
                                    "3": "Government",
                                    "4": "0.3"
                                },
                                {
                                    "0": "Percent in the Process of Foreclosure, Bankruptcy, or Deed in Lieu",
                                    "1": "2018",
                                    "2": "3",
                                    "3": "Government",
                                    "4": "0.2"
                                },
                                {
                                    "0": "Percent in the Process of Foreclosure, Bankruptcy, or Deed in Lieu",
                                    "1": "2018",
                                    "2": "4",
                                    "3": "Government",
                                    "4": "0.2"
                                },
                                {
                                    "0": "Percent in the Process of Foreclosure, Bankruptcy, or Deed in Lieu",
                                    "1": "2019",
                                    "2": "1",
                                    "3": "Government",
                                    "4": "0.1"
                                },
                                {
                                    "0": "Percent in the Process of Foreclosure, Bankruptcy, or Deed in Lieu",
                                    "1": "2019",
                                    "2": "2",
                                    "3": "Government",
                                    "4": "0.2"
                                },
                                {
                                    "0": "Percent in the Process of Foreclosure, Bankruptcy, or Deed in Lieu",
                                    "1": "2019",
                                    "2": "3",
                                    "3": "Government",
                                    "4": "0.2"
                                },
                                {
                                    "0": "Percent in the Process of Foreclosure, Bankruptcy, or Deed in Lieu",
                                    "1": "2019",
                                    "2": "4",
                                    "3": "Government",
                                    "4": "0.2"
                                },
                                {
                                    "0": "Percent in the Process of Foreclosure, Bankruptcy, or Deed in Lieu",
                                    "1": "2020",
                                    "2": "1",
                                    "3": "Government",
                                    "4": "0.2"
                                },
                                {
                                    "0": "Percent in the Process of Foreclosure, Bankruptcy, or Deed in Lieu",
                                    "1": "2020",
                                    "2": "2",
                                    "3": "Government",
                                    "4": "0.1"
                                },
                                {
                                    "0": "Percent in the Process of Foreclosure, Bankruptcy, or Deed in Lieu",
                                    "1": "2020",
                                    "2": "3",
                                    "3": "Government",
                                    "4": "0.1"
                                },
                                {
                                    "0": "Percent in the Process of Foreclosure, Bankruptcy, or Deed in Lieu",
                                    "1": "2020",
                                    "2": "4",
                                    "3": "Government",
                                    "4": "0.1"
                                },
                                {
                                    "0": "Percent in the Process of Foreclosure, Bankruptcy, or Deed in Lieu",
                                    "1": "2021",
                                    "2": "1",
                                    "3": "Government",
                                    "4": "0.1"
                                },
                                {
                                    "0": "Percent in the Process of Foreclosure, Bankruptcy, or Deed in Lieu",
                                    "1": "2021",
                                    "2": "2",
                                    "3": "Government",
                                    "4": "0.1"
                                },
                                {
                                    "0": "Percent in the Process of Foreclosure, Bankruptcy, or Deed in Lieu",
                                    "1": "2021",
                                    "2": "3",
                                    "3": "Government",
                                    "4": "0.0"
                                },
                                {
                                    "0": "Percent in the Process of Foreclosure, Bankruptcy, or Deed in Lieu",
                                    "1": "2021",
                                    "2": "4",
                                    "3": "Government",
                                    "4": "0.0"
                                },
                                {
                                    "0": "Percent in the Process of Foreclosure, Bankruptcy, or Deed in Lieu",
                                    "1": "2022",
                                    "2": "1",
                                    "3": "Government",
                                    "4": "0.0"
                                },
                                {
                                    "0": "Percent in the Process of Foreclosure, Bankruptcy, or Deed in Lieu",
                                    "1": "2002",
                                    "2": "1",
                                    "3": "Overall Market",
                                    "4": "0.8"
                                },
                                {
                                    "0": "Percent in the Process of Foreclosure, Bankruptcy, or Deed in Lieu",
                                    "1": "2002",
                                    "2": "2",
                                    "3": "Overall Market",
                                    "4": "0.8"
                                },
                                {
                                    "0": "Percent in the Process of Foreclosure, Bankruptcy, or Deed in Lieu",
                                    "1": "2002",
                                    "2": "3",
                                    "3": "Overall Market",
                                    "4": "0.8"
                                },
                                {
                                    "0": "Percent in the Process of Foreclosure, Bankruptcy, or Deed in Lieu",
                                    "1": "2002",
                                    "2": "4",
                                    "3": "Overall Market",
                                    "4": "0.9"
                                },
                                {
                                    "0": "Percent in the Process of Foreclosure, Bankruptcy, or Deed in Lieu",
                                    "1": "2003",
                                    "2": "1",
                                    "3": "Overall Market",
                                    "4": "1.0"
                                },
                                {
                                    "0": "Percent in the Process of Foreclosure, Bankruptcy, or Deed in Lieu",
                                    "1": "2003",
                                    "2": "2",
                                    "3": "Overall Market",
                                    "4": "0.9"
                                },
                                {
                                    "0": "Percent in the Process of Foreclosure, Bankruptcy, or Deed in Lieu",
                                    "1": "2003",
                                    "2": "3",
                                    "3": "Overall Market",
                                    "4": "0.8"
                                },
                                {
                                    "0": "Percent in the Process of Foreclosure, Bankruptcy, or Deed in Lieu",
                                    "1": "2003",
                                    "2": "4",
                                    "3": "Overall Market",
                                    "4": "0.8"
                                },
                                {
                                    "0": "Percent in the Process of Foreclosure, Bankruptcy, or Deed in Lieu",
                                    "1": "2004",
                                    "2": "1",
                                    "3": "Overall Market",
                                    "4": "0.8"
                                },
                                {
                                    "0": "Percent in the Process of Foreclosure, Bankruptcy, or Deed in Lieu",
                                    "1": "2004",
                                    "2": "2",
                                    "3": "Overall Market",
                                    "4": "0.8"
                                },
                                {
                                    "0": "Percent in the Process of Foreclosure, Bankruptcy, or Deed in Lieu",
                                    "1": "2004",
                                    "2": "3",
                                    "3": "Overall Market",
                                    "4": "0.7"
                                },
                                {
                                    "0": "Percent in the Process of Foreclosure, Bankruptcy, or Deed in Lieu",
                                    "1": "2004",
                                    "2": "4",
                                    "3": "Overall Market",
                                    "4": "0.7"
                                },
                                {
                                    "0": "Percent in the Process of Foreclosure, Bankruptcy, or Deed in Lieu",
                                    "1": "2005",
                                    "2": "1",
                                    "3": "Overall Market",
                                    "4": "0.7"
                                },
                                {
                                    "0": "Percent in the Process of Foreclosure, Bankruptcy, or Deed in Lieu",
                                    "1": "2005",
                                    "2": "2",
                                    "3": "Overall Market",
                                    "4": "0.5"
                                },
                                {
                                    "0": "Percent in the Process of Foreclosure, Bankruptcy, or Deed in Lieu",
                                    "1": "2005",
                                    "2": "3",
                                    "3": "Overall Market",
                                    "4": "0.5"
                                },
                                {
                                    "0": "Percent in the Process of Foreclosure, Bankruptcy, or Deed in Lieu",
                                    "1": "2005",
                                    "2": "4",
                                    "3": "Overall Market",
                                    "4": "0.5"
                                },
                                {
                                    "0": "Percent in the Process of Foreclosure, Bankruptcy, or Deed in Lieu",
                                    "1": "2006",
                                    "2": "1",
                                    "3": "Overall Market",
                                    "4": "0.4"
                                },
                                {
                                    "0": "Percent in the Process of Foreclosure, Bankruptcy, or Deed in Lieu",
                                    "1": "2006",
                                    "2": "2",
                                    "3": "Overall Market",
                                    "4": "0.4"
                                },
                                {
                                    "0": "Percent in the Process of Foreclosure, Bankruptcy, or Deed in Lieu",
                                    "1": "2006",
                                    "2": "3",
                                    "3": "Overall Market",
                                    "4": "0.3"
                                },
                                {
                                    "0": "Percent in the Process of Foreclosure, Bankruptcy, or Deed in Lieu",
                                    "1": "2006",
                                    "2": "4",
                                    "3": "Overall Market",
                                    "4": "0.4"
                                },
                                {
                                    "0": "Percent in the Process of Foreclosure, Bankruptcy, or Deed in Lieu",
                                    "1": "2007",
                                    "2": "1",
                                    "3": "Overall Market",
                                    "4": "0.3"
                                },
                                {
                                    "0": "Percent in the Process of Foreclosure, Bankruptcy, or Deed in Lieu",
                                    "1": "2007",
                                    "2": "2",
                                    "3": "Overall Market",
                                    "4": "0.4"
                                },
                                {
                                    "0": "Percent in the Process of Foreclosure, Bankruptcy, or Deed in Lieu",
                                    "1": "2007",
                                    "2": "3",
                                    "3": "Overall Market",
                                    "4": "0.4"
                                },
                                {
                                    "0": "Percent in the Process of Foreclosure, Bankruptcy, or Deed in Lieu",
                                    "1": "2007",
                                    "2": "4",
                                    "3": "Overall Market",
                                    "4": "0.4"
                                },
                                {
                                    "0": "Percent in the Process of Foreclosure, Bankruptcy, or Deed in Lieu",
                                    "1": "2008",
                                    "2": "1",
                                    "3": "Overall Market",
                                    "4": "0.5"
                                },
                                {
                                    "0": "Percent in the Process of Foreclosure, Bankruptcy, or Deed in Lieu",
                                    "1": "2008",
                                    "2": "2",
                                    "3": "Overall Market",
                                    "4": "0.6"
                                },
                                {
                                    "0": "Percent in the Process of Foreclosure, Bankruptcy, or Deed in Lieu",
                                    "1": "2008",
                                    "2": "3",
                                    "3": "Overall Market",
                                    "4": "0.8"
                                },
                                {
                                    "0": "Percent in the Process of Foreclosure, Bankruptcy, or Deed in Lieu",
                                    "1": "2008",
                                    "2": "4",
                                    "3": "Overall Market",
                                    "4": "0.9"
                                },
                                {
                                    "0": "Percent in the Process of Foreclosure, Bankruptcy, or Deed in Lieu",
                                    "1": "2009",
                                    "2": "1",
                                    "3": "Overall Market",
                                    "4": "1.1"
                                },
                                {
                                    "0": "Percent in the Process of Foreclosure, Bankruptcy, or Deed in Lieu",
                                    "1": "2009",
                                    "2": "2",
                                    "3": "Overall Market",
                                    "4": "1.6"
                                },
                                {
                                    "0": "Percent in the Process of Foreclosure, Bankruptcy, or Deed in Lieu",
                                    "1": "2009",
                                    "2": "3",
                                    "3": "Overall Market",
                                    "4": "1.7"
                                },
                                {
                                    "0": "Percent in the Process of Foreclosure, Bankruptcy, or Deed in Lieu",
                                    "1": "2009",
                                    "2": "4",
                                    "3": "Overall Market",
                                    "4": "1.7"
                                },
                                {
                                    "0": "Percent in the Process of Foreclosure, Bankruptcy, or Deed in Lieu",
                                    "1": "2010",
                                    "2": "1",
                                    "3": "Overall Market",
                                    "4": "1.8"
                                },
                                {
                                    "0": "Percent in the Process of Foreclosure, Bankruptcy, or Deed in Lieu",
                                    "1": "2010",
                                    "2": "2",
                                    "3": "Overall Market",
                                    "4": "2.0"
                                },
                                {
                                    "0": "Percent in the Process of Foreclosure, Bankruptcy, or Deed in Lieu",
                                    "1": "2010",
                                    "2": "3",
                                    "3": "Overall Market",
                                    "4": "2.2"
                                },
                                {
                                    "0": "Percent in the Process of Foreclosure, Bankruptcy, or Deed in Lieu",
                                    "1": "2010",
                                    "2": "4",
                                    "3": "Overall Market",
                                    "4": "2.6"
                                },
                                {
                                    "0": "Percent in the Process of Foreclosure, Bankruptcy, or Deed in Lieu",
                                    "1": "2011",
                                    "2": "1",
                                    "3": "Overall Market",
                                    "4": "2.6"
                                },
                                {
                                    "0": "Percent in the Process of Foreclosure, Bankruptcy, or Deed in Lieu",
                                    "1": "2011",
                                    "2": "2",
                                    "3": "Overall Market",
                                    "4": "2.7"
                                },
                                {
                                    "0": "Percent in the Process of Foreclosure, Bankruptcy, or Deed in Lieu",
                                    "1": "2011",
                                    "2": "3",
                                    "3": "Overall Market",
                                    "4": "2.5"
                                },
                                {
                                    "0": "Percent in the Process of Foreclosure, Bankruptcy, or Deed in Lieu",
                                    "1": "2011",
                                    "2": "4",
                                    "3": "Overall Market",
                                    "4": "2.2"
                                },
                                {
                                    "0": "Percent in the Process of Foreclosure, Bankruptcy, or Deed in Lieu",
                                    "1": "2012",
                                    "2": "1",
                                    "3": "Overall Market",
                                    "4": "2.2"
                                },
                                {
                                    "0": "Percent in the Process of Foreclosure, Bankruptcy, or Deed in Lieu",
                                    "1": "2012",
                                    "2": "2",
                                    "3": "Overall Market",
                                    "4": "2.3"
                                },
                                {
                                    "0": "Percent in the Process of Foreclosure, Bankruptcy, or Deed in Lieu",
                                    "1": "2012",
                                    "2": "3",
                                    "3": "Overall Market",
                                    "4": "2.4"
                                },
                                {
                                    "0": "Percent in the Process of Foreclosure, Bankruptcy, or Deed in Lieu",
                                    "1": "2012",
                                    "2": "4",
                                    "3": "Overall Market",
                                    "4": "2.3"
                                },
                                {
                                    "0": "Percent in the Process of Foreclosure, Bankruptcy, or Deed in Lieu",
                                    "1": "2013",
                                    "2": "1",
                                    "3": "Overall Market",
                                    "4": "2.2"
                                },
                                {
                                    "0": "Percent in the Process of Foreclosure, Bankruptcy, or Deed in Lieu",
                                    "1": "2013",
                                    "2": "2",
                                    "3": "Overall Market",
                                    "4": "1.9"
                                },
                                {
                                    "0": "Percent in the Process of Foreclosure, Bankruptcy, or Deed in Lieu",
                                    "1": "2013",
                                    "2": "3",
                                    "3": "Overall Market",
                                    "4": "1.7"
                                },
                                {
                                    "0": "Percent in the Process of Foreclosure, Bankruptcy, or Deed in Lieu",
                                    "1": "2013",
                                    "2": "4",
                                    "3": "Overall Market",
                                    "4": "1.4"
                                },
                                {
                                    "0": "Percent in the Process of Foreclosure, Bankruptcy, or Deed in Lieu",
                                    "1": "2014",
                                    "2": "1",
                                    "3": "Overall Market",
                                    "4": "1.3"
                                },
                                {
                                    "0": "Percent in the Process of Foreclosure, Bankruptcy, or Deed in Lieu",
                                    "1": "2014",
                                    "2": "2",
                                    "3": "Overall Market",
                                    "4": "1.2"
                                },
                                {
                                    "0": "Percent in the Process of Foreclosure, Bankruptcy, or Deed in Lieu",
                                    "1": "2014",
                                    "2": "3",
                                    "3": "Overall Market",
                                    "4": "1.1"
                                },
                                {
                                    "0": "Percent in the Process of Foreclosure, Bankruptcy, or Deed in Lieu",
                                    "1": "2014",
                                    "2": "4",
                                    "3": "Overall Market",
                                    "4": "1.0"
                                },
                                {
                                    "0": "Percent in the Process of Foreclosure, Bankruptcy, or Deed in Lieu",
                                    "1": "2015",
                                    "2": "1",
                                    "3": "Overall Market",
                                    "4": "1.0"
                                },
                                {
                                    "0": "Percent in the Process of Foreclosure, Bankruptcy, or Deed in Lieu",
                                    "1": "2015",
                                    "2": "2",
                                    "3": "Overall Market",
                                    "4": "0.9"
                                },
                                {
                                    "0": "Percent in the Process of Foreclosure, Bankruptcy, or Deed in Lieu",
                                    "1": "2015",
                                    "2": "3",
                                    "3": "Overall Market",
                                    "4": "0.8"
                                },
                                {
                                    "0": "Percent in the Process of Foreclosure, Bankruptcy, or Deed in Lieu",
                                    "1": "2015",
                                    "2": "4",
                                    "3": "Overall Market",
                                    "4": "0.7"
                                },
                                {
                                    "0": "Percent in the Process of Foreclosure, Bankruptcy, or Deed in Lieu",
                                    "1": "2016",
                                    "2": "1",
                                    "3": "Overall Market",
                                    "4": "0.5"
                                },
                                {
                                    "0": "Percent in the Process of Foreclosure, Bankruptcy, or Deed in Lieu",
                                    "1": "2016",
                                    "2": "2",
                                    "3": "Overall Market",
                                    "4": "0.4"
                                },
                                {
                                    "0": "Percent in the Process of Foreclosure, Bankruptcy, or Deed in Lieu",
                                    "1": "2016",
                                    "2": "3",
                                    "3": "Overall Market",
                                    "4": "0.4"
                                },
                                {
                                    "0": "Percent in the Process of Foreclosure, Bankruptcy, or Deed in Lieu",
                                    "1": "2016",
                                    "2": "4",
                                    "3": "Overall Market",
                                    "4": "0.4"
                                },
                                {
                                    "0": "Percent in the Process of Foreclosure, Bankruptcy, or Deed in Lieu",
                                    "1": "2017",
                                    "2": "1",
                                    "3": "Overall Market",
                                    "4": "0.3"
                                },
                                {
                                    "0": "Percent in the Process of Foreclosure, Bankruptcy, or Deed in Lieu",
                                    "1": "2017",
                                    "2": "2",
                                    "3": "Overall Market",
                                    "4": "0.3"
                                },
                                {
                                    "0": "Percent in the Process of Foreclosure, Bankruptcy, or Deed in Lieu",
                                    "1": "2017",
                                    "2": "3",
                                    "3": "Overall Market",
                                    "4": "0.3"
                                },
                                {
                                    "0": "Percent in the Process of Foreclosure, Bankruptcy, or Deed in Lieu",
                                    "1": "2017",
                                    "2": "4",
                                    "3": "Overall Market",
                                    "4": "0.2"
                                },
                                {
                                    "0": "Percent in the Process of Foreclosure, Bankruptcy, or Deed in Lieu",
                                    "1": "2018",
                                    "2": "1",
                                    "3": "Overall Market",
                                    "4": "0.2"
                                },
                                {
                                    "0": "Percent in the Process of Foreclosure, Bankruptcy, or Deed in Lieu",
                                    "1": "2018",
                                    "2": "2",
                                    "3": "Overall Market",
                                    "4": "0.2"
                                },
                                {
                                    "0": "Percent in the Process of Foreclosure, Bankruptcy, or Deed in Lieu",
                                    "1": "2018",
                                    "2": "3",
                                    "3": "Overall Market",
                                    "4": "0.1"
                                },
                                {
                                    "0": "Percent in the Process of Foreclosure, Bankruptcy, or Deed in Lieu",
                                    "1": "2018",
                                    "2": "4",
                                    "3": "Overall Market",
                                    "4": "0.1"
                                },
                                {
                                    "0": "Percent in the Process of Foreclosure, Bankruptcy, or Deed in Lieu",
                                    "1": "2019",
                                    "2": "1",
                                    "3": "Overall Market",
                                    "4": "0.1"
                                },
                                {
                                    "0": "Percent in the Process of Foreclosure, Bankruptcy, or Deed in Lieu",
                                    "1": "2019",
                                    "2": "2",
                                    "3": "Overall Market",
                                    "4": "0.1"
                                },
                                {
                                    "0": "Percent in the Process of Foreclosure, Bankruptcy, or Deed in Lieu",
                                    "1": "2019",
                                    "2": "3",
                                    "3": "Overall Market",
                                    "4": "0.1"
                                },
                                {
                                    "0": "Percent in the Process of Foreclosure, Bankruptcy, or Deed in Lieu",
                                    "1": "2019",
                                    "2": "4",
                                    "3": "Overall Market",
                                    "4": "0.1"
                                },
                                {
                                    "0": "Percent in the Process of Foreclosure, Bankruptcy, or Deed in Lieu",
                                    "1": "2020",
                                    "2": "1",
                                    "3": "Overall Market",
                                    "4": "0.1"
                                },
                                {
                                    "0": "Percent in the Process of Foreclosure, Bankruptcy, or Deed in Lieu",
                                    "1": "2020",
                                    "2": "2",
                                    "3": "Overall Market",
                                    "4": "0.0"
                                },
                                {
                                    "0": "Percent in the Process of Foreclosure, Bankruptcy, or Deed in Lieu",
                                    "1": "2020",
                                    "2": "3",
                                    "3": "Overall Market",
                                    "4": "0.1"
                                },
                                {
                                    "0": "Percent in the Process of Foreclosure, Bankruptcy, or Deed in Lieu",
                                    "1": "2020",
                                    "2": "4",
                                    "3": "Overall Market",
                                    "4": "0.1"
                                },
                                {
                                    "0": "Percent in the Process of Foreclosure, Bankruptcy, or Deed in Lieu",
                                    "1": "2021",
                                    "2": "1",
                                    "3": "Overall Market",
                                    "4": "0.0"
                                },
                                {
                                    "0": "Percent in the Process of Foreclosure, Bankruptcy, or Deed in Lieu",
                                    "1": "2021",
                                    "2": "2",
                                    "3": "Overall Market",
                                    "4": "0.0"
                                },
                                {
                                    "0": "Percent in the Process of Foreclosure, Bankruptcy, or Deed in Lieu",
                                    "1": "2021",
                                    "2": "3",
                                    "3": "Overall Market",
                                    "4": "0.0"
                                },
                                {
                                    "0": "Percent in the Process of Foreclosure, Bankruptcy, or Deed in Lieu",
                                    "1": "2021",
                                    "2": "4",
                                    "3": "Overall Market",
                                    "4": "0.0"
                                },
                                {
                                    "0": "Percent in the Process of Foreclosure, Bankruptcy, or Deed in Lieu",
                                    "1": "2022",
                                    "2": "1",
                                    "3": "Overall Market",
                                    "4": "0.0"
                                },
                                {
                                    "0": "Percent in the Process of Foreclosure, Bankruptcy, or Deed in Lieu",
                                    "1": "2002",
                                    "2": "1",
                                    "3": "Other Conventional",
                                    "4": "1.5"
                                },
                                {
                                    "0": "Percent in the Process of Foreclosure, Bankruptcy, or Deed in Lieu",
                                    "1": "2002",
                                    "2": "2",
                                    "3": "Other Conventional",
                                    "4": "1.7"
                                },
                                {
                                    "0": "Percent in the Process of Foreclosure, Bankruptcy, or Deed in Lieu",
                                    "1": "2002",
                                    "2": "3",
                                    "3": "Other Conventional",
                                    "4": "1.7"
                                },
                                {
                                    "0": "Percent in the Process of Foreclosure, Bankruptcy, or Deed in Lieu",
                                    "1": "2002",
                                    "2": "4",
                                    "3": "Other Conventional",
                                    "4": "1.9"
                                },
                                {
                                    "0": "Percent in the Process of Foreclosure, Bankruptcy, or Deed in Lieu",
                                    "1": "2003",
                                    "2": "1",
                                    "3": "Other Conventional",
                                    "4": "1.8"
                                },
                                {
                                    "0": "Percent in the Process of Foreclosure, Bankruptcy, or Deed in Lieu",
                                    "1": "2003",
                                    "2": "2",
                                    "3": "Other Conventional",
                                    "4": "1.7"
                                },
                                {
                                    "0": "Percent in the Process of Foreclosure, Bankruptcy, or Deed in Lieu",
                                    "1": "2003",
                                    "2": "3",
                                    "3": "Other Conventional",
                                    "4": "1.6"
                                },
                                {
                                    "0": "Percent in the Process of Foreclosure, Bankruptcy, or Deed in Lieu",
                                    "1": "2003",
                                    "2": "4",
                                    "3": "Other Conventional",
                                    "4": "1.7"
                                },
                                {
                                    "0": "Percent in the Process of Foreclosure, Bankruptcy, or Deed in Lieu",
                                    "1": "2004",
                                    "2": "1",
                                    "3": "Other Conventional",
                                    "4": "1.7"
                                },
                                {
                                    "0": "Percent in the Process of Foreclosure, Bankruptcy, or Deed in Lieu",
                                    "1": "2004",
                                    "2": "2",
                                    "3": "Other Conventional",
                                    "4": "1.5"
                                },
                                {
                                    "0": "Percent in the Process of Foreclosure, Bankruptcy, or Deed in Lieu",
                                    "1": "2004",
                                    "2": "3",
                                    "3": "Other Conventional",
                                    "4": "1.4"
                                },
                                {
                                    "0": "Percent in the Process of Foreclosure, Bankruptcy, or Deed in Lieu",
                                    "1": "2004",
                                    "2": "4",
                                    "3": "Other Conventional",
                                    "4": "1.2"
                                },
                                {
                                    "0": "Percent in the Process of Foreclosure, Bankruptcy, or Deed in Lieu",
                                    "1": "2005",
                                    "2": "1",
                                    "3": "Other Conventional",
                                    "4": "1.1"
                                },
                                {
                                    "0": "Percent in the Process of Foreclosure, Bankruptcy, or Deed in Lieu",
                                    "1": "2005",
                                    "2": "2",
                                    "3": "Other Conventional",
                                    "4": "0.9"
                                },
                                {
                                    "0": "Percent in the Process of Foreclosure, Bankruptcy, or Deed in Lieu",
                                    "1": "2005",
                                    "2": "3",
                                    "3": "Other Conventional",
                                    "4": "0.8"
                                },
                                {
                                    "0": "Percent in the Process of Foreclosure, Bankruptcy, or Deed in Lieu",
                                    "1": "2005",
                                    "2": "4",
                                    "3": "Other Conventional",
                                    "4": "0.8"
                                },
                                {
                                    "0": "Percent in the Process of Foreclosure, Bankruptcy, or Deed in Lieu",
                                    "1": "2006",
                                    "2": "1",
                                    "3": "Other Conventional",
                                    "4": "0.7"
                                },
                                {
                                    "0": "Percent in the Process of Foreclosure, Bankruptcy, or Deed in Lieu",
                                    "1": "2006",
                                    "2": "2",
                                    "3": "Other Conventional",
                                    "4": "0.6"
                                },
                                {
                                    "0": "Percent in the Process of Foreclosure, Bankruptcy, or Deed in Lieu",
                                    "1": "2006",
                                    "2": "3",
                                    "3": "Other Conventional",
                                    "4": "0.6"
                                },
                                {
                                    "0": "Percent in the Process of Foreclosure, Bankruptcy, or Deed in Lieu",
                                    "1": "2006",
                                    "2": "4",
                                    "3": "Other Conventional",
                                    "4": "0.6"
                                },
                                {
                                    "0": "Percent in the Process of Foreclosure, Bankruptcy, or Deed in Lieu",
                                    "1": "2007",
                                    "2": "1",
                                    "3": "Other Conventional",
                                    "4": "0.6"
                                },
                                {
                                    "0": "Percent in the Process of Foreclosure, Bankruptcy, or Deed in Lieu",
                                    "1": "2007",
                                    "2": "2",
                                    "3": "Other Conventional",
                                    "4": "0.7"
                                },
                                {
                                    "0": "Percent in the Process of Foreclosure, Bankruptcy, or Deed in Lieu",
                                    "1": "2007",
                                    "2": "3",
                                    "3": "Other Conventional",
                                    "4": "0.7"
                                },
                                {
                                    "0": "Percent in the Process of Foreclosure, Bankruptcy, or Deed in Lieu",
                                    "1": "2007",
                                    "2": "4",
                                    "3": "Other Conventional",
                                    "4": "0.8"
                                },
                                {
                                    "0": "Percent in the Process of Foreclosure, Bankruptcy, or Deed in Lieu",
                                    "1": "2008",
                                    "2": "1",
                                    "3": "Other Conventional",
                                    "4": "1.2"
                                },
                                {
                                    "0": "Percent in the Process of Foreclosure, Bankruptcy, or Deed in Lieu",
                                    "1": "2008",
                                    "2": "2",
                                    "3": "Other Conventional",
                                    "4": "1.6"
                                },
                                {
                                    "0": "Percent in the Process of Foreclosure, Bankruptcy, or Deed in Lieu",
                                    "1": "2008",
                                    "2": "3",
                                    "3": "Other Conventional",
                                    "4": "2.0"
                                },
                                {
                                    "0": "Percent in the Process of Foreclosure, Bankruptcy, or Deed in Lieu",
                                    "1": "2008",
                                    "2": "4",
                                    "3": "Other Conventional",
                                    "4": "2.1"
                                },
                                {
                                    "0": "Percent in the Process of Foreclosure, Bankruptcy, or Deed in Lieu",
                                    "1": "2009",
                                    "2": "1",
                                    "3": "Other Conventional",
                                    "4": "2.7"
                                },
                                {
                                    "0": "Percent in the Process of Foreclosure, Bankruptcy, or Deed in Lieu",
                                    "1": "2009",
                                    "2": "2",
                                    "3": "Other Conventional",
                                    "4": "3.8"
                                },
                                {
                                    "0": "Percent in the Process of Foreclosure, Bankruptcy, or Deed in Lieu",
                                    "1": "2009",
                                    "2": "3",
                                    "3": "Other Conventional",
                                    "4": "4.0"
                                },
                                {
                                    "0": "Percent in the Process of Foreclosure, Bankruptcy, or Deed in Lieu",
                                    "1": "2009",
                                    "2": "4",
                                    "3": "Other Conventional",
                                    "4": "3.9"
                                },
                                {
                                    "0": "Percent in the Process of Foreclosure, Bankruptcy, or Deed in Lieu",
                                    "1": "2010",
                                    "2": "1",
                                    "3": "Other Conventional",
                                    "4": "4.3"
                                },
                                {
                                    "0": "Percent in the Process of Foreclosure, Bankruptcy, or Deed in Lieu",
                                    "1": "2010",
                                    "2": "2",
                                    "3": "Other Conventional",
                                    "4": "4.4"
                                },
                                {
                                    "0": "Percent in the Process of Foreclosure, Bankruptcy, or Deed in Lieu",
                                    "1": "2010",
                                    "2": "3",
                                    "3": "Other Conventional",
                                    "4": "4.7"
                                },
                                {
                                    "0": "Percent in the Process of Foreclosure, Bankruptcy, or Deed in Lieu",
                                    "1": "2010",
                                    "2": "4",
                                    "3": "Other Conventional",
                                    "4": "5.1"
                                },
                                {
                                    "0": "Percent in the Process of Foreclosure, Bankruptcy, or Deed in Lieu",
                                    "1": "2011",
                                    "2": "1",
                                    "3": "Other Conventional",
                                    "4": "5.0"
                                },
                                {
                                    "0": "Percent in the Process of Foreclosure, Bankruptcy, or Deed in Lieu",
                                    "1": "2011",
                                    "2": "2",
                                    "3": "Other Conventional",
                                    "4": "5.3"
                                },
                                {
                                    "0": "Percent in the Process of Foreclosure, Bankruptcy, or Deed in Lieu",
                                    "1": "2011",
                                    "2": "3",
                                    "3": "Other Conventional",
                                    "4": "4.7"
                                },
                                {
                                    "0": "Percent in the Process of Foreclosure, Bankruptcy, or Deed in Lieu",
                                    "1": "2011",
                                    "2": "4",
                                    "3": "Other Conventional",
                                    "4": "3.8"
                                },
                                {
                                    "0": "Percent in the Process of Foreclosure, Bankruptcy, or Deed in Lieu",
                                    "1": "2012",
                                    "2": "1",
                                    "3": "Other Conventional",
                                    "4": "3.9"
                                },
                                {
                                    "0": "Percent in the Process of Foreclosure, Bankruptcy, or Deed in Lieu",
                                    "1": "2012",
                                    "2": "2",
                                    "3": "Other Conventional",
                                    "4": "4.2"
                                },
                                {
                                    "0": "Percent in the Process of Foreclosure, Bankruptcy, or Deed in Lieu",
                                    "1": "2012",
                                    "2": "3",
                                    "3": "Other Conventional",
                                    "4": "4.4"
                                },
                                {
                                    "0": "Percent in the Process of Foreclosure, Bankruptcy, or Deed in Lieu",
                                    "1": "2012",
                                    "2": "4",
                                    "3": "Other Conventional",
                                    "4": "4.2"
                                },
                                {
                                    "0": "Percent in the Process of Foreclosure, Bankruptcy, or Deed in Lieu",
                                    "1": "2013",
                                    "2": "1",
                                    "3": "Other Conventional",
                                    "4": "4.3"
                                },
                                {
                                    "0": "Percent in the Process of Foreclosure, Bankruptcy, or Deed in Lieu",
                                    "1": "2013",
                                    "2": "2",
                                    "3": "Other Conventional",
                                    "4": "3.7"
                                },
                                {
                                    "0": "Percent in the Process of Foreclosure, Bankruptcy, or Deed in Lieu",
                                    "1": "2013",
                                    "2": "3",
                                    "3": "Other Conventional",
                                    "4": "3.3"
                                },
                                {
                                    "0": "Percent in the Process of Foreclosure, Bankruptcy, or Deed in Lieu",
                                    "1": "2013",
                                    "2": "4",
                                    "3": "Other Conventional",
                                    "4": "2.6"
                                },
                                {
                                    "0": "Percent in the Process of Foreclosure, Bankruptcy, or Deed in Lieu",
                                    "1": "2014",
                                    "2": "1",
                                    "3": "Other Conventional",
                                    "4": "2.6"
                                },
                                {
                                    "0": "Percent in the Process of Foreclosure, Bankruptcy, or Deed in Lieu",
                                    "1": "2014",
                                    "2": "2",
                                    "3": "Other Conventional",
                                    "4": "2.6"
                                },
                                {
                                    "0": "Percent in the Process of Foreclosure, Bankruptcy, or Deed in Lieu",
                                    "1": "2014",
                                    "2": "3",
                                    "3": "Other Conventional",
                                    "4": "2.2"
                                },
                                {
                                    "0": "Percent in the Process of Foreclosure, Bankruptcy, or Deed in Lieu",
                                    "1": "2014",
                                    "2": "4",
                                    "3": "Other Conventional",
                                    "4": "2.3"
                                },
                                {
                                    "0": "Percent in the Process of Foreclosure, Bankruptcy, or Deed in Lieu",
                                    "1": "2015",
                                    "2": "1",
                                    "3": "Other Conventional",
                                    "4": "2.1"
                                },
                                {
                                    "0": "Percent in the Process of Foreclosure, Bankruptcy, or Deed in Lieu",
                                    "1": "2015",
                                    "2": "2",
                                    "3": "Other Conventional",
                                    "4": "2.0"
                                },
                                {
                                    "0": "Percent in the Process of Foreclosure, Bankruptcy, or Deed in Lieu",
                                    "1": "2015",
                                    "2": "3",
                                    "3": "Other Conventional",
                                    "4": "1.8"
                                },
                                {
                                    "0": "Percent in the Process of Foreclosure, Bankruptcy, or Deed in Lieu",
                                    "1": "2015",
                                    "2": "4",
                                    "3": "Other Conventional",
                                    "4": "1.8"
                                },
                                {
                                    "0": "Percent in the Process of Foreclosure, Bankruptcy, or Deed in Lieu",
                                    "1": "2016",
                                    "2": "1",
                                    "3": "Other Conventional",
                                    "4": "1.4"
                                },
                                {
                                    "0": "Percent in the Process of Foreclosure, Bankruptcy, or Deed in Lieu",
                                    "1": "2016",
                                    "2": "2",
                                    "3": "Other Conventional",
                                    "4": "1.2"
                                },
                                {
                                    "0": "Percent in the Process of Foreclosure, Bankruptcy, or Deed in Lieu",
                                    "1": "2016",
                                    "2": "3",
                                    "3": "Other Conventional",
                                    "4": "1.1"
                                },
                                {
                                    "0": "Percent in the Process of Foreclosure, Bankruptcy, or Deed in Lieu",
                                    "1": "2016",
                                    "2": "4",
                                    "3": "Other Conventional",
                                    "4": "1.0"
                                },
                                {
                                    "0": "Percent in the Process of Foreclosure, Bankruptcy, or Deed in Lieu",
                                    "1": "2017",
                                    "2": "1",
                                    "3": "Other Conventional",
                                    "4": "0.9"
                                },
                                {
                                    "0": "Percent in the Process of Foreclosure, Bankruptcy, or Deed in Lieu",
                                    "1": "2017",
                                    "2": "2",
                                    "3": "Other Conventional",
                                    "4": "0.8"
                                },
                                {
                                    "0": "Percent in the Process of Foreclosure, Bankruptcy, or Deed in Lieu",
                                    "1": "2017",
                                    "2": "3",
                                    "3": "Other Conventional",
                                    "4": "0.8"
                                },
                                {
                                    "0": "Percent in the Process of Foreclosure, Bankruptcy, or Deed in Lieu",
                                    "1": "2017",
                                    "2": "4",
                                    "3": "Other Conventional",
                                    "4": "0.5"
                                },
                                {
                                    "0": "Percent in the Process of Foreclosure, Bankruptcy, or Deed in Lieu",
                                    "1": "2018",
                                    "2": "1",
                                    "3": "Other Conventional",
                                    "4": "0.4"
                                },
                                {
                                    "0": "Percent in the Process of Foreclosure, Bankruptcy, or Deed in Lieu",
                                    "1": "2018",
                                    "2": "2",
                                    "3": "Other Conventional",
                                    "4": "0.4"
                                },
                                {
                                    "0": "Percent in the Process of Foreclosure, Bankruptcy, or Deed in Lieu",
                                    "1": "2018",
                                    "2": "3",
                                    "3": "Other Conventional",
                                    "4": "0.3"
                                },
                                {
                                    "0": "Percent in the Process of Foreclosure, Bankruptcy, or Deed in Lieu",
                                    "1": "2018",
                                    "2": "4",
                                    "3": "Other Conventional",
                                    "4": "0.2"
                                },
                                {
                                    "0": "Percent in the Process of Foreclosure, Bankruptcy, or Deed in Lieu",
                                    "1": "2019",
                                    "2": "1",
                                    "3": "Other Conventional",
                                    "4": "0.3"
                                },
                                {
                                    "0": "Percent in the Process of Foreclosure, Bankruptcy, or Deed in Lieu",
                                    "1": "2019",
                                    "2": "2",
                                    "3": "Other Conventional",
                                    "4": "0.2"
                                },
                                {
                                    "0": "Percent in the Process of Foreclosure, Bankruptcy, or Deed in Lieu",
                                    "1": "2019",
                                    "2": "3",
                                    "3": "Other Conventional",
                                    "4": "0.2"
                                },
                                {
                                    "0": "Percent in the Process of Foreclosure, Bankruptcy, or Deed in Lieu",
                                    "1": "2019",
                                    "2": "4",
                                    "3": "Other Conventional",
                                    "4": "0.2"
                                },
                                {
                                    "0": "Percent in the Process of Foreclosure, Bankruptcy, or Deed in Lieu",
                                    "1": "2020",
                                    "2": "1",
                                    "3": "Other Conventional",
                                    "4": "0.1"
                                },
                                {
                                    "0": "Percent in the Process of Foreclosure, Bankruptcy, or Deed in Lieu",
                                    "1": "2020",
                                    "2": "2",
                                    "3": "Other Conventional",
                                    "4": "0.1"
                                },
                                {
                                    "0": "Percent in the Process of Foreclosure, Bankruptcy, or Deed in Lieu",
                                    "1": "2020",
                                    "2": "3",
                                    "3": "Other Conventional",
                                    "4": "0.2"
                                },
                                {
                                    "0": "Percent in the Process of Foreclosure, Bankruptcy, or Deed in Lieu",
                                    "1": "2020",
                                    "2": "4",
                                    "3": "Other Conventional",
                                    "4": "0.2"
                                },
                                {
                                    "0": "Percent in the Process of Foreclosure, Bankruptcy, or Deed in Lieu",
                                    "1": "2021",
                                    "2": "1",
                                    "3": "Other Conventional",
                                    "4": "0.2"
                                },
                                {
                                    "0": "Percent in the Process of Foreclosure, Bankruptcy, or Deed in Lieu",
                                    "1": "2021",
                                    "2": "2",
                                    "3": "Other Conventional",
                                    "4": "0.2"
                                },
                                {
                                    "0": "Percent in the Process of Foreclosure, Bankruptcy, or Deed in Lieu",
                                    "1": "2021",
                                    "2": "3",
                                    "3": "Other Conventional",
                                    "4": "0.1"
                                },
                                {
                                    "0": "Percent in the Process of Foreclosure, Bankruptcy, or Deed in Lieu",
                                    "1": "2021",
                                    "2": "4",
                                    "3": "Other Conventional",
                                    "4": "0.1"
                                },
                                {
                                    "0": "Percent in the Process of Foreclosure, Bankruptcy, or Deed in Lieu",
                                    "1": "2022",
                                    "2": "1",
                                    "3": "Other Conventional",
                                    "4": "0.2"
                                }
                            ]
                        },
                        "text/html": "<table><tr><th>SERIES</th><th>YEAR</th><th>QUARTER</th><th>MARKET</th><th>VALUE</th></tr><tr><td>Percent 30 or 60 Days Past Due Date</td><td>2002</td><td>1</td><td>Enterprise</td><td>0.7</td></tr><tr><td>Percent 30 or 60 Days Past Due Date</td><td>2002</td><td>2</td><td>Enterprise</td><td>0.7</td></tr><tr><td>Percent 30 or 60 Days Past Due Date</td><td>2002</td><td>3</td><td>Enterprise</td><td>0.8</td></tr><tr><td>Percent 30 or 60 Days Past Due Date</td><td>2002</td><td>4</td><td>Enterprise</td><td>0.8</td></tr><tr><td>Percent 30 or 60 Days Past Due Date</td><td>2003</td><td>1</td><td>Enterprise</td><td>0.7</td></tr><tr><td>Percent 30 or 60 Days Past Due Date</td><td>2003</td><td>2</td><td>Enterprise</td><td>0.7</td></tr><tr><td>Percent 30 or 60 Days Past Due Date</td><td>2003</td><td>3</td><td>Enterprise</td><td>0.8</td></tr><tr><td>Percent 30 or 60 Days Past Due Date</td><td>2003</td><td>4</td><td>Enterprise</td><td>0.9</td></tr><tr><td>Percent 30 or 60 Days Past Due Date</td><td>2004</td><td>1</td><td>Enterprise</td><td>0.7</td></tr><tr><td>Percent 30 or 60 Days Past Due Date</td><td>2004</td><td>2</td><td>Enterprise</td><td>0.6</td></tr><tr><td>Percent 30 or 60 Days Past Due Date</td><td>2004</td><td>3</td><td>Enterprise</td><td>0.9</td></tr><tr><td>Percent 30 or 60 Days Past Due Date</td><td>2004</td><td>4</td><td>Enterprise</td><td>0.7</td></tr><tr><td>Percent 30 or 60 Days Past Due Date</td><td>2005</td><td>1</td><td>Enterprise</td><td>0.5</td></tr><tr><td>Percent 30 or 60 Days Past Due Date</td><td>2005</td><td>2</td><td>Enterprise</td><td>0.5</td></tr><tr><td>Percent 30 or 60 Days Past Due Date</td><td>2005</td><td>3</td><td>Enterprise</td><td>0.6</td></tr><tr><td>Percent 30 or 60 Days Past Due Date</td><td>2005</td><td>4</td><td>Enterprise</td><td>0.5</td></tr><tr><td>Percent 30 or 60 Days Past Due Date</td><td>2006</td><td>1</td><td>Enterprise</td><td>0.4</td></tr><tr><td>Percent 30 or 60 Days Past Due Date</td><td>2006</td><td>2</td><td>Enterprise</td><td>0.5</td></tr><tr><td>Percent 30 or 60 Days Past Due Date</td><td>2006</td><td>3</td><td>Enterprise</td><td>0.5</td></tr><tr><td>Percent 30 or 60 Days Past Due Date</td><td>2006</td><td>4</td><td>Enterprise</td><td>0.5</td></tr><tr><td>Percent 30 or 60 Days Past Due Date</td><td>2007</td><td>1</td><td>Enterprise</td><td>0.5</td></tr><tr><td>Percent 30 or 60 Days Past Due Date</td><td>2007</td><td>2</td><td>Enterprise</td><td>0.5</td></tr><tr><td>Percent 30 or 60 Days Past Due Date</td><td>2007</td><td>3</td><td>Enterprise</td><td>0.5</td></tr><tr><td>Percent 30 or 60 Days Past Due Date</td><td>2007</td><td>4</td><td>Enterprise</td><td>0.6</td></tr><tr><td>Percent 30 or 60 Days Past Due Date</td><td>2008</td><td>1</td><td>Enterprise</td><td>0.7</td></tr><tr><td>Percent 30 or 60 Days Past Due Date</td><td>2008</td><td>2</td><td>Enterprise</td><td>0.7</td></tr><tr><td>Percent 30 or 60 Days Past Due Date</td><td>2008</td><td>3</td><td>Enterprise</td><td>0.9</td></tr><tr><td>Percent 30 or 60 Days Past Due Date</td><td>2008</td><td>4</td><td>Enterprise</td><td>1.3</td></tr><tr><td>Percent 30 or 60 Days Past Due Date</td><td>2009</td><td>1</td><td>Enterprise</td><td>1.3</td></tr><tr><td>Percent 30 or 60 Days Past Due Date</td><td>2009</td><td>2</td><td>Enterprise</td><td>1.4</td></tr><tr><td>Percent 30 or 60 Days Past Due Date</td><td>2009</td><td>3</td><td>Enterprise</td><td>1.3</td></tr><tr><td>Percent 30 or 60 Days Past Due Date</td><td>2009</td><td>4</td><td>Enterprise</td><td>1.4</td></tr><tr><td>Percent 30 or 60 Days Past Due Date</td><td>2010</td><td>1</td><td>Enterprise</td><td>1.5</td></tr><tr><td>Percent 30 or 60 Days Past Due Date</td><td>2010</td><td>2</td><td>Enterprise</td><td>1.4</td></tr><tr><td>Percent 30 or 60 Days Past Due Date</td><td>2010</td><td>3</td><td>Enterprise</td><td>1.4</td></tr><tr><td>Percent 30 or 60 Days Past Due Date</td><td>2010</td><td>4</td><td>Enterprise</td><td>1.6</td></tr><tr><td>Percent 30 or 60 Days Past Due Date</td><td>2011</td><td>1</td><td>Enterprise</td><td>1.5</td></tr><tr><td>Percent 30 or 60 Days Past Due Date</td><td>2011</td><td>2</td><td>Enterprise</td><td>1.3</td></tr><tr><td>Percent 30 or 60 Days Past Due Date</td><td>2011</td><td>3</td><td>Enterprise</td><td>1.3</td></tr><tr><td>Percent 30 or 60 Days Past Due Date</td><td>2011</td><td>4</td><td>Enterprise</td><td>1.1</td></tr><tr><td>Percent 30 or 60 Days Past Due Date</td><td>2012</td><td>1</td><td>Enterprise</td><td>1.3</td></tr><tr><td>Percent 30 or 60 Days Past Due Date</td><td>2012</td><td>2</td><td>Enterprise</td><td>1.1</td></tr><tr><td>Percent 30 or 60 Days Past Due Date</td><td>2012</td><td>3</td><td>Enterprise</td><td>1.0</td></tr><tr><td>Percent 30 or 60 Days Past Due Date</td><td>2012</td><td>4</td><td>Enterprise</td><td>0.9</td></tr><tr><td>Percent 30 or 60 Days Past Due Date</td><td>2013</td><td>1</td><td>Enterprise</td><td>0.9</td></tr><tr><td>Percent 30 or 60 Days Past Due Date</td><td>2013</td><td>2</td><td>Enterprise</td><td>0.7</td></tr><tr><td>Percent 30 or 60 Days Past Due Date</td><td>2013</td><td>3</td><td>Enterprise</td><td>0.7</td></tr><tr><td>Percent 30 or 60 Days Past Due Date</td><td>2013</td><td>4</td><td>Enterprise</td><td>0.7</td></tr><tr><td>Percent 30 or 60 Days Past Due Date</td><td>2014</td><td>1</td><td>Enterprise</td><td>0.6</td></tr><tr><td>Percent 30 or 60 Days Past Due Date</td><td>2014</td><td>2</td><td>Enterprise</td><td>0.6</td></tr><tr><td>Percent 30 or 60 Days Past Due Date</td><td>2014</td><td>3</td><td>Enterprise</td><td>0.7</td></tr><tr><td>Percent 30 or 60 Days Past Due Date</td><td>2014</td><td>4</td><td>Enterprise</td><td>0.6</td></tr><tr><td>Percent 30 or 60 Days Past Due Date</td><td>2015</td><td>1</td><td>Enterprise</td><td>0.5</td></tr><tr><td>Percent 30 or 60 Days Past Due Date</td><td>2015</td><td>2</td><td>Enterprise</td><td>0.5</td></tr><tr><td>Percent 30 or 60 Days Past Due Date</td><td>2015</td><td>3</td><td>Enterprise</td><td>0.5</td></tr><tr><td>Percent 30 or 60 Days Past Due Date</td><td>2015</td><td>4</td><td>Enterprise</td><td>0.5</td></tr><tr><td>Percent 30 or 60 Days Past Due Date</td><td>2016</td><td>1</td><td>Enterprise</td><td>0.5</td></tr><tr><td>Percent 30 or 60 Days Past Due Date</td><td>2016</td><td>2</td><td>Enterprise</td><td>0.5</td></tr><tr><td>Percent 30 or 60 Days Past Due Date</td><td>2016</td><td>3</td><td>Enterprise</td><td>0.5</td></tr><tr><td>Percent 30 or 60 Days Past Due Date</td><td>2016</td><td>4</td><td>Enterprise</td><td>0.3</td></tr><tr><td>Percent 30 or 60 Days Past Due Date</td><td>2017</td><td>1</td><td>Enterprise</td><td>0.4</td></tr><tr><td>Percent 30 or 60 Days Past Due Date</td><td>2017</td><td>2</td><td>Enterprise</td><td>0.4</td></tr><tr><td>Percent 30 or 60 Days Past Due Date</td><td>2017</td><td>3</td><td>Enterprise</td><td>0.5</td></tr><tr><td>Percent 30 or 60 Days Past Due Date</td><td>2017</td><td>4</td><td>Enterprise</td><td>0.5</td></tr><tr><td>Percent 30 or 60 Days Past Due Date</td><td>2018</td><td>1</td><td>Enterprise</td><td>0.4</td></tr><tr><td>Percent 30 or 60 Days Past Due Date</td><td>2018</td><td>2</td><td>Enterprise</td><td>0.5</td></tr><tr><td>Percent 30 or 60 Days Past Due Date</td><td>2018</td><td>3</td><td>Enterprise</td><td>0.5</td></tr><tr><td>Percent 30 or 60 Days Past Due Date</td><td>2018</td><td>4</td><td>Enterprise</td><td>0.4</td></tr><tr><td>Percent 30 or 60 Days Past Due Date</td><td>2019</td><td>1</td><td>Enterprise</td><td>0.4</td></tr><tr><td>Percent 30 or 60 Days Past Due Date</td><td>2019</td><td>2</td><td>Enterprise</td><td>0.3</td></tr><tr><td>Percent 30 or 60 Days Past Due Date</td><td>2019</td><td>3</td><td>Enterprise</td><td>0.4</td></tr><tr><td>Percent 30 or 60 Days Past Due Date</td><td>2019</td><td>4</td><td>Enterprise</td><td>0.4</td></tr><tr><td>Percent 30 or 60 Days Past Due Date</td><td>2020</td><td>1</td><td>Enterprise</td><td>0.4</td></tr><tr><td>Percent 30 or 60 Days Past Due Date</td><td>2020</td><td>2</td><td>Enterprise</td><td>0.2</td></tr><tr><td>Percent 30 or 60 Days Past Due Date</td><td>2020</td><td>3</td><td>Enterprise</td><td>0.2</td></tr><tr><td>Percent 30 or 60 Days Past Due Date</td><td>2020</td><td>4</td><td>Enterprise</td><td>0.2</td></tr><tr><td>Percent 30 or 60 Days Past Due Date</td><td>2021</td><td>1</td><td>Enterprise</td><td>0.1</td></tr><tr><td>Percent 30 or 60 Days Past Due Date</td><td>2021</td><td>2</td><td>Enterprise</td><td>0.2</td></tr><tr><td>Percent 30 or 60 Days Past Due Date</td><td>2021</td><td>3</td><td>Enterprise</td><td>0.2</td></tr><tr><td>Percent 30 or 60 Days Past Due Date</td><td>2021</td><td>4</td><td>Enterprise</td><td>0.3</td></tr><tr><td>Percent 30 or 60 Days Past Due Date</td><td>2022</td><td>1</td><td>Enterprise</td><td>0.2</td></tr><tr><td>Percent 30 or 60 Days Past Due Date</td><td>2002</td><td>1</td><td>Government</td><td>3.3</td></tr><tr><td>Percent 30 or 60 Days Past Due Date</td><td>2002</td><td>2</td><td>Government</td><td>3.3</td></tr><tr><td>Percent 30 or 60 Days Past Due Date</td><td>2002</td><td>3</td><td>Government</td><td>4.2</td></tr><tr><td>Percent 30 or 60 Days Past Due Date</td><td>2002</td><td>4</td><td>Government</td><td>3.6</td></tr><tr><td>Percent 30 or 60 Days Past Due Date</td><td>2003</td><td>1</td><td>Government</td><td>3.5</td></tr><tr><td>Percent 30 or 60 Days Past Due Date</td><td>2003</td><td>2</td><td>Government</td><td>3.7</td></tr><tr><td>Percent 30 or 60 Days Past Due Date</td><td>2003</td><td>3</td><td>Government</td><td>4.5</td></tr><tr><td>Percent 30 or 60 Days Past Due Date</td><td>2003</td><td>4</td><td>Government</td><td>4.5</td></tr><tr><td>Percent 30 or 60 Days Past Due Date</td><td>2004</td><td>1</td><td>Government</td><td>4.1</td></tr><tr><td>Percent 30 or 60 Days Past Due Date</td><td>2004</td><td>2</td><td>Government</td><td>4.1</td></tr><tr><td>Percent 30 or 60 Days Past Due Date</td><td>2004</td><td>3</td><td>Government</td><td>4.7</td></tr><tr><td>Percent 30 or 60 Days Past Due Date</td><td>2004</td><td>4</td><td>Government</td><td>4.3</td></tr><tr><td>Percent 30 or 60 Days Past Due Date</td><td>2005</td><td>1</td><td>Government</td><td>4.0</td></tr><tr><td>Percent 30 or 60 Days Past Due Date</td><td>2005</td><td>2</td><td>Government</td><td>4.3</td></tr><tr><td>Percent 30 or 60 Days Past Due Date</td><td>2005</td><td>3</td><td>Government</td><td>4.1</td></tr><tr><td>Percent 30 or 60 Days Past Due Date</td><td>2005</td><td>4</td><td>Government</td><td>4.8</td></tr><tr><td>Percent 30 or 60 Days Past Due Date</td><td>2006</td><td>1</td><td>Government</td><td>3.9</td></tr><tr><td>Percent 30 or 60 Days Past Due Date</td><td>2006</td><td>2</td><td>Government</td><td>3.7</td></tr><tr><td>Percent 30 or 60 Days Past Due Date</td><td>2006</td><td>3</td><td>Government</td><td>3.5</td></tr><tr><td>Percent 30 or 60 Days Past Due Date</td><td>2006</td><td>4</td><td>Government</td><td>3.4</td></tr><tr><td>Percent 30 or 60 Days Past Due Date</td><td>2007</td><td>1</td><td>Government</td><td>2.8</td></tr><tr><td>Percent 30 or 60 Days Past Due Date</td><td>2007</td><td>2</td><td>Government</td><td>3.2</td></tr><tr><td>Percent 30 or 60 Days Past Due Date</td><td>2007</td><td>3</td><td>Government</td><td>2.9</td></tr><tr><td>Percent 30 or 60 Days Past Due Date</td><td>2007</td><td>4</td><td>Government</td><td>2.6</td></tr><tr><td>Percent 30 or 60 Days Past Due Date</td><td>2008</td><td>1</td><td>Government</td><td>2.7</td></tr><tr><td>Percent 30 or 60 Days Past Due Date</td><td>2008</td><td>2</td><td>Government</td><td>2.7</td></tr><tr><td>Percent 30 or 60 Days Past Due Date</td><td>2008</td><td>3</td><td>Government</td><td>3.9</td></tr><tr><td>Percent 30 or 60 Days Past Due Date</td><td>2008</td><td>4</td><td>Government</td><td>3.8</td></tr><tr><td>Percent 30 or 60 Days Past Due Date</td><td>2009</td><td>1</td><td>Government</td><td>3.9</td></tr><tr><td>Percent 30 or 60 Days Past Due Date</td><td>2009</td><td>2</td><td>Government</td><td>3.6</td></tr><tr><td>Percent 30 or 60 Days Past Due Date</td><td>2009</td><td>3</td><td>Government</td><td>3.9</td></tr><tr><td>Percent 30 or 60 Days Past Due Date</td><td>2009</td><td>4</td><td>Government</td><td>3.7</td></tr><tr><td>Percent 30 or 60 Days Past Due Date</td><td>2010</td><td>1</td><td>Government</td><td>3.5</td></tr><tr><td>Percent 30 or 60 Days Past Due Date</td><td>2010</td><td>2</td><td>Government</td><td>3.7</td></tr><tr><td>Percent 30 or 60 Days Past Due Date</td><td>2010</td><td>3</td><td>Government</td><td>3.2</td></tr><tr><td>Percent 30 or 60 Days Past Due Date</td><td>2010</td><td>4</td><td>Government</td><td>3.8</td></tr><tr><td>Percent 30 or 60 Days Past Due Date</td><td>2011</td><td>1</td><td>Government</td><td>3.1</td></tr><tr><td>Percent 30 or 60 Days Past Due Date</td><td>2011</td><td>2</td><td>Government</td><td>3.2</td></tr><tr><td>Percent 30 or 60 Days Past Due Date</td><td>2011</td><td>3</td><td>Government</td><td>3.7</td></tr><tr><td>Percent 30 or 60 Days Past Due Date</td><td>2011</td><td>4</td><td>Government</td><td>3.4</td></tr><tr><td>Percent 30 or 60 Days Past Due Date</td><td>2012</td><td>1</td><td>Government</td><td>3.3</td></tr><tr><td>Percent 30 or 60 Days Past Due Date</td><td>2012</td><td>2</td><td>Government</td><td>3.0</td></tr><tr><td>Percent 30 or 60 Days Past Due Date</td><td>2012</td><td>3</td><td>Government</td><td>2.7</td></tr><tr><td>Percent 30 or 60 Days Past Due Date</td><td>2012</td><td>4</td><td>Government</td><td>2.7</td></tr><tr><td>Percent 30 or 60 Days Past Due Date</td><td>2013</td><td>1</td><td>Government</td><td>2.6</td></tr><tr><td>Percent 30 or 60 Days Past Due Date</td><td>2013</td><td>2</td><td>Government</td><td>2.3</td></tr><tr><td>Percent 30 or 60 Days Past Due Date</td><td>2013</td><td>3</td><td>Government</td><td>2.6</td></tr><tr><td>Percent 30 or 60 Days Past Due Date</td><td>2013</td><td>4</td><td>Government</td><td>2.1</td></tr><tr><td>Percent 30 or 60 Days Past Due Date</td><td>2014</td><td>1</td><td>Government</td><td>1.4</td></tr><tr><td>Percent 30 or 60 Days Past Due Date</td><td>2014</td><td>2</td><td>Government</td><td>1.8</td></tr><tr><td>Percent 30 or 60 Days Past Due Date</td><td>2014</td><td>3</td><td>Government</td><td>2.1</td></tr><tr><td>Percent 30 or 60 Days Past Due Date</td><td>2014</td><td>4</td><td>Government</td><td>2.3</td></tr><tr><td>Percent 30 or 60 Days Past Due Date</td><td>2015</td><td>1</td><td>Government</td><td>1.4</td></tr><tr><td>Percent 30 or 60 Days Past Due Date</td><td>2015</td><td>2</td><td>Government</td><td>2.0</td></tr><tr><td>Percent 30 or 60 Days Past Due Date</td><td>2015</td><td>3</td><td>Government</td><td>2.2</td></tr><tr><td>Percent 30 or 60 Days Past Due Date</td><td>2015</td><td>4</td><td>Government</td><td>2.2</td></tr><tr><td>Percent 30 or 60 Days Past Due Date</td><td>2016</td><td>1</td><td>Government</td><td>1.7</td></tr><tr><td>Percent 30 or 60 Days Past Due Date</td><td>2016</td><td>2</td><td>Government</td><td>2.0</td></tr><tr><td>Percent 30 or 60 Days Past Due Date</td><td>2016</td><td>3</td><td>Government</td><td>1.8</td></tr><tr><td>Percent 30 or 60 Days Past Due Date</td><td>2016</td><td>4</td><td>Government</td><td>1.5</td></tr><tr><td>Percent 30 or 60 Days Past Due Date</td><td>2017</td><td>1</td><td>Government</td><td>1.6</td></tr><tr><td>Percent 30 or 60 Days Past Due Date</td><td>2017</td><td>2</td><td>Government</td><td>1.8</td></tr><tr><td>Percent 30 or 60 Days Past Due Date</td><td>2017</td><td>3</td><td>Government</td><td>1.7</td></tr><tr><td>Percent 30 or 60 Days Past Due Date</td><td>2017</td><td>4</td><td>Government</td><td>2.4</td></tr><tr><td>Percent 30 or 60 Days Past Due Date</td><td>2018</td><td>1</td><td>Government</td><td>2.1</td></tr><tr><td>Percent 30 or 60 Days Past Due Date</td><td>2018</td><td>2</td><td>Government</td><td>2.3</td></tr><tr><td>Percent 30 or 60 Days Past Due Date</td><td>2018</td><td>3</td><td>Government</td><td>2.4</td></tr><tr><td>Percent 30 or 60 Days Past Due Date</td><td>2018</td><td>4</td><td>Government</td><td>2.2</td></tr><tr><td>Percent 30 or 60 Days Past Due Date</td><td>2019</td><td>1</td><td>Government</td><td>1.8</td></tr><tr><td>Percent 30 or 60 Days Past Due Date</td><td>2019</td><td>2</td><td>Government</td><td>2.0</td></tr><tr><td>Percent 30 or 60 Days Past Due Date</td><td>2019</td><td>3</td><td>Government</td><td>2.0</td></tr><tr><td>Percent 30 or 60 Days Past Due Date</td><td>2019</td><td>4</td><td>Government</td><td>2.9</td></tr><tr><td>Percent 30 or 60 Days Past Due Date</td><td>2020</td><td>1</td><td>Government</td><td>2.0</td></tr><tr><td>Percent 30 or 60 Days Past Due Date</td><td>2020</td><td>2</td><td>Government</td><td>0.8</td></tr><tr><td>Percent 30 or 60 Days Past Due Date</td><td>2020</td><td>3</td><td>Government</td><td>1.1</td></tr><tr><td>Percent 30 or 60 Days Past Due Date</td><td>2020</td><td>4</td><td>Government</td><td>1.2</td></tr><tr><td>Percent 30 or 60 Days Past Due Date</td><td>2021</td><td>1</td><td>Government</td><td>0.8</td></tr><tr><td>Percent 30 or 60 Days Past Due Date</td><td>2021</td><td>2</td><td>Government</td><td>0.5</td></tr><tr><td>Percent 30 or 60 Days Past Due Date</td><td>2021</td><td>3</td><td>Government</td><td>0.8</td></tr><tr><td>Percent 30 or 60 Days Past Due Date</td><td>2021</td><td>4</td><td>Government</td><td>1.2</td></tr><tr><td>Percent 30 or 60 Days Past Due Date</td><td>2022</td><td>1</td><td>Government</td><td>1.0</td></tr><tr><td>Percent 30 or 60 Days Past Due Date</td><td>2002</td><td>1</td><td>Overall Market</td><td>1.4</td></tr><tr><td>Percent 30 or 60 Days Past Due Date</td><td>2002</td><td>2</td><td>Overall Market</td><td>1.3</td></tr><tr><td>Percent 30 or 60 Days Past Due Date</td><td>2002</td><td>3</td><td>Overall Market</td><td>1.6</td></tr><tr><td>Percent 30 or 60 Days Past Due Date</td><td>2002</td><td>4</td><td>Overall Market</td><td>1.5</td></tr><tr><td>Percent 30 or 60 Days Past Due Date</td><td>2003</td><td>1</td><td>Overall Market</td><td>1.3</td></tr><tr><td>Percent 30 or 60 Days Past Due Date</td><td>2003</td><td>2</td><td>Overall Market</td><td>1.3</td></tr><tr><td>Percent 30 or 60 Days Past Due Date</td><td>2003</td><td>3</td><td>Overall Market</td><td>1.4</td></tr><tr><td>Percent 30 or 60 Days Past Due Date</td><td>2003</td><td>4</td><td>Overall Market</td><td>1.5</td></tr><tr><td>Percent 30 or 60 Days Past Due Date</td><td>2004</td><td>1</td><td>Overall Market</td><td>1.3</td></tr><tr><td>Percent 30 or 60 Days Past Due Date</td><td>2004</td><td>2</td><td>Overall Market</td><td>1.2</td></tr><tr><td>Percent 30 or 60 Days Past Due Date</td><td>2004</td><td>3</td><td>Overall Market</td><td>1.4</td></tr><tr><td>Percent 30 or 60 Days Past Due Date</td><td>2004</td><td>4</td><td>Overall Market</td><td>1.3</td></tr><tr><td>Percent 30 or 60 Days Past Due Date</td><td>2005</td><td>1</td><td>Overall Market</td><td>1.2</td></tr><tr><td>Percent 30 or 60 Days Past Due Date</td><td>2005</td><td>2</td><td>Overall Market</td><td>1.2</td></tr><tr><td>Percent 30 or 60 Days Past Due Date</td><td>2005</td><td>3</td><td>Overall Market</td><td>1.2</td></tr><tr><td>Percent 30 or 60 Days Past Due Date</td><td>2005</td><td>4</td><td>Overall Market</td><td>1.3</td></tr><tr><td>Percent 30 or 60 Days Past Due Date</td><td>2006</td><td>1</td><td>Overall Market</td><td>1.1</td></tr><tr><td>Percent 30 or 60 Days Past Due Date</td><td>2006</td><td>2</td><td>Overall Market</td><td>1.2</td></tr><tr><td>Percent 30 or 60 Days Past Due Date</td><td>2006</td><td>3</td><td>Overall Market</td><td>1.2</td></tr><tr><td>Percent 30 or 60 Days Past Due Date</td><td>2006</td><td>4</td><td>Overall Market</td><td>1.2</td></tr><tr><td>Percent 30 or 60 Days Past Due Date</td><td>2007</td><td>1</td><td>Overall Market</td><td>1.1</td></tr><tr><td>Percent 30 or 60 Days Past Due Date</td><td>2007</td><td>2</td><td>Overall Market</td><td>1.2</td></tr><tr><td>Percent 30 or 60 Days Past Due Date</td><td>2007</td><td>3</td><td>Overall Market</td><td>1.2</td></tr><tr><td>Percent 30 or 60 Days Past Due Date</td><td>2007</td><td>4</td><td>Overall Market</td><td>1.5</td></tr><tr><td>Percent 30 or 60 Days Past Due Date</td><td>2008</td><td>1</td><td>Overall Market</td><td>1.5</td></tr><tr><td>Percent 30 or 60 Days Past Due Date</td><td>2008</td><td>2</td><td>Overall Market</td><td>1.5</td></tr><tr><td>Percent 30 or 60 Days Past Due Date</td><td>2008</td><td>3</td><td>Overall Market</td><td>1.8</td></tr><tr><td>Percent 30 or 60 Days Past Due Date</td><td>2008</td><td>4</td><td>Overall Market</td><td>2.3</td></tr><tr><td>Percent 30 or 60 Days Past Due Date</td><td>2009</td><td>1</td><td>Overall Market</td><td>2.4</td></tr><tr><td>Percent 30 or 60 Days Past Due Date</td><td>2009</td><td>2</td><td>Overall Market</td><td>2.3</td></tr><tr><td>Percent 30 or 60 Days Past Due Date</td><td>2009</td><td>3</td><td>Overall Market</td><td>2.3</td></tr><tr><td>Percent 30 or 60 Days Past Due Date</td><td>2009</td><td>4</td><td>Overall Market</td><td>2.4</td></tr><tr><td>Percent 30 or 60 Days Past Due Date</td><td>2010</td><td>1</td><td>Overall Market</td><td>2.2</td></tr><tr><td>Percent 30 or 60 Days Past Due Date</td><td>2010</td><td>2</td><td>Overall Market</td><td>2.1</td></tr><tr><td>Percent 30 or 60 Days Past Due Date</td><td>2010</td><td>3</td><td>Overall Market</td><td>2.0</td></tr><tr><td>Percent 30 or 60 Days Past Due Date</td><td>2010</td><td>4</td><td>Overall Market</td><td>2.3</td></tr><tr><td>Percent 30 or 60 Days Past Due Date</td><td>2011</td><td>1</td><td>Overall Market</td><td>2.0</td></tr><tr><td>Percent 30 or 60 Days Past Due Date</td><td>2011</td><td>2</td><td>Overall Market</td><td>1.9</td></tr><tr><td>Percent 30 or 60 Days Past Due Date</td><td>2011</td><td>3</td><td>Overall Market</td><td>2.1</td></tr><tr><td>Percent 30 or 60 Days Past Due Date</td><td>2011</td><td>4</td><td>Overall Market</td><td>1.9</td></tr><tr><td>Percent 30 or 60 Days Past Due Date</td><td>2012</td><td>1</td><td>Overall Market</td><td>1.9</td></tr><tr><td>Percent 30 or 60 Days Past Due Date</td><td>2012</td><td>2</td><td>Overall Market</td><td>1.7</td></tr><tr><td>Percent 30 or 60 Days Past Due Date</td><td>2012</td><td>3</td><td>Overall Market</td><td>1.6</td></tr><tr><td>Percent 30 or 60 Days Past Due Date</td><td>2012</td><td>4</td><td>Overall Market</td><td>1.5</td></tr><tr><td>Percent 30 or 60 Days Past Due Date</td><td>2013</td><td>1</td><td>Overall Market</td><td>1.4</td></tr><tr><td>Percent 30 or 60 Days Past Due Date</td><td>2013</td><td>2</td><td>Overall Market</td><td>1.2</td></tr><tr><td>Percent 30 or 60 Days Past Due Date</td><td>2013</td><td>3</td><td>Overall Market</td><td>1.2</td></tr><tr><td>Percent 30 or 60 Days Past Due Date</td><td>2013</td><td>4</td><td>Overall Market</td><td>1.2</td></tr><tr><td>Percent 30 or 60 Days Past Due Date</td><td>2014</td><td>1</td><td>Overall Market</td><td>1.1</td></tr><tr><td>Percent 30 or 60 Days Past Due Date</td><td>2014</td><td>2</td><td>Overall Market</td><td>0.9</td></tr><tr><td>Percent 30 or 60 Days Past Due Date</td><td>2014</td><td>3</td><td>Overall Market</td><td>1.1</td></tr><tr><td>Percent 30 or 60 Days Past Due Date</td><td>2014</td><td>4</td><td>Overall Market</td><td>1.1</td></tr><tr><td>Percent 30 or 60 Days Past Due Date</td><td>2015</td><td>1</td><td>Overall Market</td><td>0.8</td></tr><tr><td>Percent 30 or 60 Days Past Due Date</td><td>2015</td><td>2</td><td>Overall Market</td><td>0.9</td></tr><tr><td>Percent 30 or 60 Days Past Due Date</td><td>2015</td><td>3</td><td>Overall Market</td><td>1.0</td></tr><tr><td>Percent 30 or 60 Days Past Due Date</td><td>2015</td><td>4</td><td>Overall Market</td><td>0.9</td></tr><tr><td>Percent 30 or 60 Days Past Due Date</td><td>2016</td><td>1</td><td>Overall Market</td><td>0.8</td></tr><tr><td>Percent 30 or 60 Days Past Due Date</td><td>2016</td><td>2</td><td>Overall Market</td><td>0.8</td></tr><tr><td>Percent 30 or 60 Days Past Due Date</td><td>2016</td><td>3</td><td>Overall Market</td><td>0.8</td></tr><tr><td>Percent 30 or 60 Days Past Due Date</td><td>2016</td><td>4</td><td>Overall Market</td><td>0.7</td></tr><tr><td>Percent 30 or 60 Days Past Due Date</td><td>2017</td><td>1</td><td>Overall Market</td><td>0.7</td></tr><tr><td>Percent 30 or 60 Days Past Due Date</td><td>2017</td><td>2</td><td>Overall Market</td><td>0.7</td></tr><tr><td>Percent 30 or 60 Days Past Due Date</td><td>2017</td><td>3</td><td>Overall Market</td><td>0.8</td></tr><tr><td>Percent 30 or 60 Days Past Due Date</td><td>2017</td><td>4</td><td>Overall Market</td><td>0.8</td></tr><tr><td>Percent 30 or 60 Days Past Due Date</td><td>2018</td><td>1</td><td>Overall Market</td><td>0.7</td></tr><tr><td>Percent 30 or 60 Days Past Due Date</td><td>2018</td><td>2</td><td>Overall Market</td><td>0.7</td></tr><tr><td>Percent 30 or 60 Days Past Due Date</td><td>2018</td><td>3</td><td>Overall Market</td><td>0.8</td></tr><tr><td>Percent 30 or 60 Days Past Due Date</td><td>2018</td><td>4</td><td>Overall Market</td><td>0.7</td></tr><tr><td>Percent 30 or 60 Days Past Due Date</td><td>2019</td><td>1</td><td>Overall Market</td><td>0.6</td></tr><tr><td>Percent 30 or 60 Days Past Due Date</td><td>2019</td><td>2</td><td>Overall Market</td><td>0.6</td></tr><tr><td>Percent 30 or 60 Days Past Due Date</td><td>2019</td><td>3</td><td>Overall Market</td><td>0.6</td></tr><tr><td>Percent 30 or 60 Days Past Due Date</td><td>2019</td><td>4</td><td>Overall Market</td><td>0.7</td></tr><tr><td>Percent 30 or 60 Days Past Due Date</td><td>2020</td><td>1</td><td>Overall Market</td><td>0.6</td></tr><tr><td>Percent 30 or 60 Days Past Due Date</td><td>2020</td><td>2</td><td>Overall Market</td><td>0.3</td></tr><tr><td>Percent 30 or 60 Days Past Due Date</td><td>2020</td><td>3</td><td>Overall Market</td><td>0.3</td></tr><tr><td>Percent 30 or 60 Days Past Due Date</td><td>2020</td><td>4</td><td>Overall Market</td><td>0.3</td></tr><tr><td>Percent 30 or 60 Days Past Due Date</td><td>2021</td><td>1</td><td>Overall Market</td><td>0.2</td></tr><tr><td>Percent 30 or 60 Days Past Due Date</td><td>2021</td><td>2</td><td>Overall Market</td><td>0.2</td></tr><tr><td>Percent 30 or 60 Days Past Due Date</td><td>2021</td><td>3</td><td>Overall Market</td><td>0.3</td></tr><tr><td>Percent 30 or 60 Days Past Due Date</td><td>2021</td><td>4</td><td>Overall Market</td><td>0.3</td></tr><tr><td>Percent 30 or 60 Days Past Due Date</td><td>2022</td><td>1</td><td>Overall Market</td><td>0.3</td></tr><tr><td>Percent 30 or 60 Days Past Due Date</td><td>2002</td><td>1</td><td>Other Conventional</td><td>2.1</td></tr><tr><td>Percent 30 or 60 Days Past Due Date</td><td>2002</td><td>2</td><td>Other Conventional</td><td>1.9</td></tr><tr><td>Percent 30 or 60 Days Past Due Date</td><td>2002</td><td>3</td><td>Other Conventional</td><td>2.2</td></tr><tr><td>Percent 30 or 60 Days Past Due Date</td><td>2002</td><td>4</td><td>Other Conventional</td><td>2.3</td></tr><tr><td>Percent 30 or 60 Days Past Due Date</td><td>2003</td><td>1</td><td>Other Conventional</td><td>2.0</td></tr><tr><td>Percent 30 or 60 Days Past Due Date</td><td>2003</td><td>2</td><td>Other Conventional</td><td>1.8</td></tr><tr><td>Percent 30 or 60 Days Past Due Date</td><td>2003</td><td>3</td><td>Other Conventional</td><td>1.8</td></tr><tr><td>Percent 30 or 60 Days Past Due Date</td><td>2003</td><td>4</td><td>Other Conventional</td><td>2.1</td></tr><tr><td>Percent 30 or 60 Days Past Due Date</td><td>2004</td><td>1</td><td>Other Conventional</td><td>1.8</td></tr><tr><td>Percent 30 or 60 Days Past Due Date</td><td>2004</td><td>2</td><td>Other Conventional</td><td>1.7</td></tr><tr><td>Percent 30 or 60 Days Past Due Date</td><td>2004</td><td>3</td><td>Other Conventional</td><td>1.6</td></tr><tr><td>Percent 30 or 60 Days Past Due Date</td><td>2004</td><td>4</td><td>Other Conventional</td><td>1.9</td></tr><tr><td>Percent 30 or 60 Days Past Due Date</td><td>2005</td><td>1</td><td>Other Conventional</td><td>1.7</td></tr><tr><td>Percent 30 or 60 Days Past Due Date</td><td>2005</td><td>2</td><td>Other Conventional</td><td>1.7</td></tr><tr><td>Percent 30 or 60 Days Past Due Date</td><td>2005</td><td>3</td><td>Other Conventional</td><td>1.7</td></tr><tr><td>Percent 30 or 60 Days Past Due Date</td><td>2005</td><td>4</td><td>Other Conventional</td><td>1.9</td></tr><tr><td>Percent 30 or 60 Days Past Due Date</td><td>2006</td><td>1</td><td>Other Conventional</td><td>1.7</td></tr><tr><td>Percent 30 or 60 Days Past Due Date</td><td>2006</td><td>2</td><td>Other Conventional</td><td>1.8</td></tr><tr><td>Percent 30 or 60 Days Past Due Date</td><td>2006</td><td>3</td><td>Other Conventional</td><td>1.9</td></tr><tr><td>Percent 30 or 60 Days Past Due Date</td><td>2006</td><td>4</td><td>Other Conventional</td><td>2.1</td></tr><tr><td>Percent 30 or 60 Days Past Due Date</td><td>2007</td><td>1</td><td>Other Conventional</td><td>2.0</td></tr><tr><td>Percent 30 or 60 Days Past Due Date</td><td>2007</td><td>2</td><td>Other Conventional</td><td>2.1</td></tr><tr><td>Percent 30 or 60 Days Past Due Date</td><td>2007</td><td>3</td><td>Other Conventional</td><td>2.4</td></tr><tr><td>Percent 30 or 60 Days Past Due Date</td><td>2007</td><td>4</td><td>Other Conventional</td><td>3.0</td></tr><tr><td>Percent 30 or 60 Days Past Due Date</td><td>2008</td><td>1</td><td>Other Conventional</td><td>2.9</td></tr><tr><td>Percent 30 or 60 Days Past Due Date</td><td>2008</td><td>2</td><td>Other Conventional</td><td>3.0</td></tr><tr><td>Percent 30 or 60 Days Past Due Date</td><td>2008</td><td>3</td><td>Other Conventional</td><td>3.2</td></tr><tr><td>Percent 30 or 60 Days Past Due Date</td><td>2008</td><td>4</td><td>Other Conventional</td><td>4.3</td></tr><tr><td>Percent 30 or 60 Days Past Due Date</td><td>2009</td><td>1</td><td>Other Conventional</td><td>4.3</td></tr><tr><td>Percent 30 or 60 Days Past Due Date</td><td>2009</td><td>2</td><td>Other Conventional</td><td>4.2</td></tr><tr><td>Percent 30 or 60 Days Past Due Date</td><td>2009</td><td>3</td><td>Other Conventional</td><td>4.1</td></tr><tr><td>Percent 30 or 60 Days Past Due Date</td><td>2009</td><td>4</td><td>Other Conventional</td><td>4.3</td></tr><tr><td>Percent 30 or 60 Days Past Due Date</td><td>2010</td><td>1</td><td>Other Conventional</td><td>3.7</td></tr><tr><td>Percent 30 or 60 Days Past Due Date</td><td>2010</td><td>2</td><td>Other Conventional</td><td>3.4</td></tr><tr><td>Percent 30 or 60 Days Past Due Date</td><td>2010</td><td>3</td><td>Other Conventional</td><td>3.2</td></tr><tr><td>Percent 30 or 60 Days Past Due Date</td><td>2010</td><td>4</td><td>Other Conventional</td><td>3.9</td></tr><tr><td>Percent 30 or 60 Days Past Due Date</td><td>2011</td><td>1</td><td>Other Conventional</td><td>3.2</td></tr><tr><td>Percent 30 or 60 Days Past Due Date</td><td>2011</td><td>2</td><td>Other Conventional</td><td>3.0</td></tr><tr><td>Percent 30 or 60 Days Past Due Date</td><td>2011</td><td>3</td><td>Other Conventional</td><td>3.9</td></tr><tr><td>Percent 30 or 60 Days Past Due Date</td><td>2011</td><td>4</td><td>Other Conventional</td><td>3.7</td></tr><tr><td>Percent 30 or 60 Days Past Due Date</td><td>2012</td><td>1</td><td>Other Conventional</td><td>3.2</td></tr><tr><td>Percent 30 or 60 Days Past Due Date</td><td>2012</td><td>2</td><td>Other Conventional</td><td>3.2</td></tr><tr><td>Percent 30 or 60 Days Past Due Date</td><td>2012</td><td>3</td><td>Other Conventional</td><td>3.0</td></tr><tr><td>Percent 30 or 60 Days Past Due Date</td><td>2012</td><td>4</td><td>Other Conventional</td><td>2.9</td></tr><tr><td>Percent 30 or 60 Days Past Due Date</td><td>2013</td><td>1</td><td>Other Conventional</td><td>2.6</td></tr><tr><td>Percent 30 or 60 Days Past Due Date</td><td>2013</td><td>2</td><td>Other Conventional</td><td>2.4</td></tr><tr><td>Percent 30 or 60 Days Past Due Date</td><td>2013</td><td>3</td><td>Other Conventional</td><td>2.0</td></tr><tr><td>Percent 30 or 60 Days Past Due Date</td><td>2013</td><td>4</td><td>Other Conventional</td><td>2.4</td></tr><tr><td>Percent 30 or 60 Days Past Due Date</td><td>2014</td><td>1</td><td>Other Conventional</td><td>2.5</td></tr><tr><td>Percent 30 or 60 Days Past Due Date</td><td>2014</td><td>2</td><td>Other Conventional</td><td>1.4</td></tr><tr><td>Percent 30 or 60 Days Past Due Date</td><td>2014</td><td>3</td><td>Other Conventional</td><td>1.8</td></tr><tr><td>Percent 30 or 60 Days Past Due Date</td><td>2014</td><td>4</td><td>Other Conventional</td><td>1.9</td></tr><tr><td>Percent 30 or 60 Days Past Due Date</td><td>2015</td><td>1</td><td>Other Conventional</td><td>1.4</td></tr><tr><td>Percent 30 or 60 Days Past Due Date</td><td>2015</td><td>2</td><td>Other Conventional</td><td>1.6</td></tr><tr><td>Percent 30 or 60 Days Past Due Date</td><td>2015</td><td>3</td><td>Other Conventional</td><td>1.8</td></tr><tr><td>Percent 30 or 60 Days Past Due Date</td><td>2015</td><td>4</td><td>Other Conventional</td><td>1.5</td></tr><tr><td>Percent 30 or 60 Days Past Due Date</td><td>2016</td><td>1</td><td>Other Conventional</td><td>1.4</td></tr><tr><td>Percent 30 or 60 Days Past Due Date</td><td>2016</td><td>2</td><td>Other Conventional</td><td>1.1</td></tr><tr><td>Percent 30 or 60 Days Past Due Date</td><td>2016</td><td>3</td><td>Other Conventional</td><td>1.2</td></tr><tr><td>Percent 30 or 60 Days Past Due Date</td><td>2016</td><td>4</td><td>Other Conventional</td><td>1.3</td></tr><tr><td>Percent 30 or 60 Days Past Due Date</td><td>2017</td><td>1</td><td>Other Conventional</td><td>1.0</td></tr><tr><td>Percent 30 or 60 Days Past Due Date</td><td>2017</td><td>2</td><td>Other Conventional</td><td>1.0</td></tr><tr><td>Percent 30 or 60 Days Past Due Date</td><td>2017</td><td>3</td><td>Other Conventional</td><td>0.9</td></tr><tr><td>Percent 30 or 60 Days Past Due Date</td><td>2017</td><td>4</td><td>Other Conventional</td><td>0.9</td></tr><tr><td>Percent 30 or 60 Days Past Due Date</td><td>2018</td><td>1</td><td>Other Conventional</td><td>0.8</td></tr><tr><td>Percent 30 or 60 Days Past Due Date</td><td>2018</td><td>2</td><td>Other Conventional</td><td>0.8</td></tr><tr><td>Percent 30 or 60 Days Past Due Date</td><td>2018</td><td>3</td><td>Other Conventional</td><td>0.8</td></tr><tr><td>Percent 30 or 60 Days Past Due Date</td><td>2018</td><td>4</td><td>Other Conventional</td><td>0.7</td></tr><tr><td>Percent 30 or 60 Days Past Due Date</td><td>2019</td><td>1</td><td>Other Conventional</td><td>0.6</td></tr><tr><td>Percent 30 or 60 Days Past Due Date</td><td>2019</td><td>2</td><td>Other Conventional</td><td>0.6</td></tr><tr><td>Percent 30 or 60 Days Past Due Date</td><td>2019</td><td>3</td><td>Other Conventional</td><td>0.6</td></tr><tr><td>Percent 30 or 60 Days Past Due Date</td><td>2019</td><td>4</td><td>Other Conventional</td><td>0.6</td></tr><tr><td>Percent 30 or 60 Days Past Due Date</td><td>2020</td><td>1</td><td>Other Conventional</td><td>0.7</td></tr><tr><td>Percent 30 or 60 Days Past Due Date</td><td>2020</td><td>2</td><td>Other Conventional</td><td>0.3</td></tr><tr><td>Percent 30 or 60 Days Past Due Date</td><td>2020</td><td>3</td><td>Other Conventional</td><td>0.2</td></tr><tr><td>Percent 30 or 60 Days Past Due Date</td><td>2020</td><td>4</td><td>Other Conventional</td><td>0.2</td></tr><tr><td>Percent 30 or 60 Days Past Due Date</td><td>2021</td><td>1</td><td>Other Conventional</td><td>0.2</td></tr><tr><td>Percent 30 or 60 Days Past Due Date</td><td>2021</td><td>2</td><td>Other Conventional</td><td>0.3</td></tr><tr><td>Percent 30 or 60 Days Past Due Date</td><td>2021</td><td>3</td><td>Other Conventional</td><td>0.4</td></tr><tr><td>Percent 30 or 60 Days Past Due Date</td><td>2021</td><td>4</td><td>Other Conventional</td><td>0.3</td></tr><tr><td>Percent 30 or 60 Days Past Due Date</td><td>2022</td><td>1</td><td>Other Conventional</td><td>0.4</td></tr><tr><td>Percent 90 to 180 Days Past Due Date</td><td>2002</td><td>1</td><td>Enterprise</td><td>0.1</td></tr><tr><td>Percent 90 to 180 Days Past Due Date</td><td>2002</td><td>2</td><td>Enterprise</td><td>0.1</td></tr><tr><td>Percent 90 to 180 Days Past Due Date</td><td>2002</td><td>3</td><td>Enterprise</td><td>0.1</td></tr><tr><td>Percent 90 to 180 Days Past Due Date</td><td>2002</td><td>4</td><td>Enterprise</td><td>0.1</td></tr><tr><td>Percent 90 to 180 Days Past Due Date</td><td>2003</td><td>1</td><td>Enterprise</td><td>0.1</td></tr><tr><td>Percent 90 to 180 Days Past Due Date</td><td>2003</td><td>2</td><td>Enterprise</td><td>0.1</td></tr><tr><td>Percent 90 to 180 Days Past Due Date</td><td>2003</td><td>3</td><td>Enterprise</td><td>0.1</td></tr><tr><td>Percent 90 to 180 Days Past Due Date</td><td>2003</td><td>4</td><td>Enterprise</td><td>0.2</td></tr><tr><td>Percent 90 to 180 Days Past Due Date</td><td>2004</td><td>1</td><td>Enterprise</td><td>0.1</td></tr><tr><td>Percent 90 to 180 Days Past Due Date</td><td>2004</td><td>2</td><td>Enterprise</td><td>0.1</td></tr><tr><td>Percent 90 to 180 Days Past Due Date</td><td>2004</td><td>3</td><td>Enterprise</td><td>0.1</td></tr><tr><td>Percent 90 to 180 Days Past Due Date</td><td>2004</td><td>4</td><td>Enterprise</td><td>0.1</td></tr><tr><td>Percent 90 to 180 Days Past Due Date</td><td>2005</td><td>1</td><td>Enterprise</td><td>0.2</td></tr><tr><td>Percent 90 to 180 Days Past Due Date</td><td>2005</td><td>2</td><td>Enterprise</td><td>0.1</td></tr><tr><td>Percent 90 to 180 Days Past Due Date</td><td>2005</td><td>3</td><td>Enterprise</td><td>0.1</td></tr><tr><td>Percent 90 to 180 Days Past Due Date</td><td>2005</td><td>4</td><td>Enterprise</td><td>0.1</td></tr><tr><td>Percent 90 to 180 Days Past Due Date</td><td>2006</td><td>1</td><td>Enterprise</td><td>0.1</td></tr><tr><td>Percent 90 to 180 Days Past Due Date</td><td>2006</td><td>2</td><td>Enterprise</td><td>0.1</td></tr><tr><td>Percent 90 to 180 Days Past Due Date</td><td>2006</td><td>3</td><td>Enterprise</td><td>0.1</td></tr><tr><td>Percent 90 to 180 Days Past Due Date</td><td>2006</td><td>4</td><td>Enterprise</td><td>0.1</td></tr><tr><td>Percent 90 to 180 Days Past Due Date</td><td>2007</td><td>1</td><td>Enterprise</td><td>0.1</td></tr><tr><td>Percent 90 to 180 Days Past Due Date</td><td>2007</td><td>2</td><td>Enterprise</td><td>0.1</td></tr><tr><td>Percent 90 to 180 Days Past Due Date</td><td>2007</td><td>3</td><td>Enterprise</td><td>0.1</td></tr><tr><td>Percent 90 to 180 Days Past Due Date</td><td>2007</td><td>4</td><td>Enterprise</td><td>0.2</td></tr><tr><td>Percent 90 to 180 Days Past Due Date</td><td>2008</td><td>1</td><td>Enterprise</td><td>0.2</td></tr><tr><td>Percent 90 to 180 Days Past Due Date</td><td>2008</td><td>2</td><td>Enterprise</td><td>0.2</td></tr><tr><td>Percent 90 to 180 Days Past Due Date</td><td>2008</td><td>3</td><td>Enterprise</td><td>0.3</td></tr><tr><td>Percent 90 to 180 Days Past Due Date</td><td>2008</td><td>4</td><td>Enterprise</td><td>0.5</td></tr><tr><td>Percent 90 to 180 Days Past Due Date</td><td>2009</td><td>1</td><td>Enterprise</td><td>0.8</td></tr><tr><td>Percent 90 to 180 Days Past Due Date</td><td>2009</td><td>2</td><td>Enterprise</td><td>1.1</td></tr><tr><td>Percent 90 to 180 Days Past Due Date</td><td>2009</td><td>3</td><td>Enterprise</td><td>1.6</td></tr><tr><td>Percent 90 to 180 Days Past Due Date</td><td>2009</td><td>4</td><td>Enterprise</td><td>1.9</td></tr><tr><td>Percent 90 to 180 Days Past Due Date</td><td>2010</td><td>1</td><td>Enterprise</td><td>2.1</td></tr><tr><td>Percent 90 to 180 Days Past Due Date</td><td>2010</td><td>2</td><td>Enterprise</td><td>2.1</td></tr><tr><td>Percent 90 to 180 Days Past Due Date</td><td>2010</td><td>3</td><td>Enterprise</td><td>2.0</td></tr><tr><td>Percent 90 to 180 Days Past Due Date</td><td>2010</td><td>4</td><td>Enterprise</td><td>1.8</td></tr><tr><td>Percent 90 to 180 Days Past Due Date</td><td>2011</td><td>1</td><td>Enterprise</td><td>1.8</td></tr><tr><td>Percent 90 to 180 Days Past Due Date</td><td>2011</td><td>2</td><td>Enterprise</td><td>1.9</td></tr><tr><td>Percent 90 to 180 Days Past Due Date</td><td>2011</td><td>3</td><td>Enterprise</td><td>2.1</td></tr><tr><td>Percent 90 to 180 Days Past Due Date</td><td>2011</td><td>4</td><td>Enterprise</td><td>2.2</td></tr><tr><td>Percent 90 to 180 Days Past Due Date</td><td>2012</td><td>1</td><td>Enterprise</td><td>2.2</td></tr><tr><td>Percent 90 to 180 Days Past Due Date</td><td>2012</td><td>2</td><td>Enterprise</td><td>2.2</td></tr><tr><td>Percent 90 to 180 Days Past Due Date</td><td>2012</td><td>3</td><td>Enterprise</td><td>2.0</td></tr><tr><td>Percent 90 to 180 Days Past Due Date</td><td>2012</td><td>4</td><td>Enterprise</td><td>1.7</td></tr><tr><td>Percent 90 to 180 Days Past Due Date</td><td>2013</td><td>1</td><td>Enterprise</td><td>1.4</td></tr><tr><td>Percent 90 to 180 Days Past Due Date</td><td>2013</td><td>2</td><td>Enterprise</td><td>1.3</td></tr><tr><td>Percent 90 to 180 Days Past Due Date</td><td>2013</td><td>3</td><td>Enterprise</td><td>1.1</td></tr><tr><td>Percent 90 to 180 Days Past Due Date</td><td>2013</td><td>4</td><td>Enterprise</td><td>1.0</td></tr><tr><td>Percent 90 to 180 Days Past Due Date</td><td>2014</td><td>1</td><td>Enterprise</td><td>0.8</td></tr><tr><td>Percent 90 to 180 Days Past Due Date</td><td>2014</td><td>2</td><td>Enterprise</td><td>0.7</td></tr><tr><td>Percent 90 to 180 Days Past Due Date</td><td>2014</td><td>3</td><td>Enterprise</td><td>0.6</td></tr><tr><td>Percent 90 to 180 Days Past Due Date</td><td>2014</td><td>4</td><td>Enterprise</td><td>0.6</td></tr><tr><td>Percent 90 to 180 Days Past Due Date</td><td>2015</td><td>1</td><td>Enterprise</td><td>0.5</td></tr><tr><td>Percent 90 to 180 Days Past Due Date</td><td>2015</td><td>2</td><td>Enterprise</td><td>0.4</td></tr><tr><td>Percent 90 to 180 Days Past Due Date</td><td>2015</td><td>3</td><td>Enterprise</td><td>0.4</td></tr><tr><td>Percent 90 to 180 Days Past Due Date</td><td>2015</td><td>4</td><td>Enterprise</td><td>0.4</td></tr><tr><td>Percent 90 to 180 Days Past Due Date</td><td>2016</td><td>1</td><td>Enterprise</td><td>0.4</td></tr><tr><td>Percent 90 to 180 Days Past Due Date</td><td>2016</td><td>2</td><td>Enterprise</td><td>0.3</td></tr><tr><td>Percent 90 to 180 Days Past Due Date</td><td>2016</td><td>3</td><td>Enterprise</td><td>0.3</td></tr><tr><td>Percent 90 to 180 Days Past Due Date</td><td>2016</td><td>4</td><td>Enterprise</td><td>0.3</td></tr><tr><td>Percent 90 to 180 Days Past Due Date</td><td>2017</td><td>1</td><td>Enterprise</td><td>0.3</td></tr><tr><td>Percent 90 to 180 Days Past Due Date</td><td>2017</td><td>2</td><td>Enterprise</td><td>0.3</td></tr><tr><td>Percent 90 to 180 Days Past Due Date</td><td>2017</td><td>3</td><td>Enterprise</td><td>0.2</td></tr><tr><td>Percent 90 to 180 Days Past Due Date</td><td>2017</td><td>4</td><td>Enterprise</td><td>0.2</td></tr><tr><td>Percent 90 to 180 Days Past Due Date</td><td>2018</td><td>1</td><td>Enterprise</td><td>0.2</td></tr><tr><td>Percent 90 to 180 Days Past Due Date</td><td>2018</td><td>2</td><td>Enterprise</td><td>0.2</td></tr><tr><td>Percent 90 to 180 Days Past Due Date</td><td>2018</td><td>3</td><td>Enterprise</td><td>0.2</td></tr><tr><td>Percent 90 to 180 Days Past Due Date</td><td>2018</td><td>4</td><td>Enterprise</td><td>0.2</td></tr><tr><td>Percent 90 to 180 Days Past Due Date</td><td>2019</td><td>1</td><td>Enterprise</td><td>0.2</td></tr><tr><td>Percent 90 to 180 Days Past Due Date</td><td>2019</td><td>2</td><td>Enterprise</td><td>0.2</td></tr><tr><td>Percent 90 to 180 Days Past Due Date</td><td>2019</td><td>3</td><td>Enterprise</td><td>0.2</td></tr><tr><td>Percent 90 to 180 Days Past Due Date</td><td>2019</td><td>4</td><td>Enterprise</td><td>0.2</td></tr><tr><td>Percent 90 to 180 Days Past Due Date</td><td>2020</td><td>1</td><td>Enterprise</td><td>0.2</td></tr><tr><td>Percent 90 to 180 Days Past Due Date</td><td>2020</td><td>2</td><td>Enterprise</td><td>0.1</td></tr><tr><td>Percent 90 to 180 Days Past Due Date</td><td>2020</td><td>3</td><td>Enterprise</td><td>0.1</td></tr><tr><td>Percent 90 to 180 Days Past Due Date</td><td>2020</td><td>4</td><td>Enterprise</td><td>0.1</td></tr><tr><td>Percent 90 to 180 Days Past Due Date</td><td>2021</td><td>1</td><td>Enterprise</td><td>0.1</td></tr><tr><td>Percent 90 to 180 Days Past Due Date</td><td>2021</td><td>2</td><td>Enterprise</td><td>0.1</td></tr><tr><td>Percent 90 to 180 Days Past Due Date</td><td>2021</td><td>3</td><td>Enterprise</td><td>0.1</td></tr><tr><td>Percent 90 to 180 Days Past Due Date</td><td>2021</td><td>4</td><td>Enterprise</td><td>0.1</td></tr><tr><td>Percent 90 to 180 Days Past Due Date</td><td>2022</td><td>1</td><td>Enterprise</td><td>0.1</td></tr><tr><td>Percent 90 to 180 Days Past Due Date</td><td>2002</td><td>1</td><td>Government</td><td>0.8</td></tr><tr><td>Percent 90 to 180 Days Past Due Date</td><td>2002</td><td>2</td><td>Government</td><td>0.9</td></tr><tr><td>Percent 90 to 180 Days Past Due Date</td><td>2002</td><td>3</td><td>Government</td><td>1.0</td></tr><tr><td>Percent 90 to 180 Days Past Due Date</td><td>2002</td><td>4</td><td>Government</td><td>1.0</td></tr><tr><td>Percent 90 to 180 Days Past Due Date</td><td>2003</td><td>1</td><td>Government</td><td>1.1</td></tr><tr><td>Percent 90 to 180 Days Past Due Date</td><td>2003</td><td>2</td><td>Government</td><td>0.8</td></tr><tr><td>Percent 90 to 180 Days Past Due Date</td><td>2003</td><td>3</td><td>Government</td><td>1.3</td></tr><tr><td>Percent 90 to 180 Days Past Due Date</td><td>2003</td><td>4</td><td>Government</td><td>1.3</td></tr><tr><td>Percent 90 to 180 Days Past Due Date</td><td>2004</td><td>1</td><td>Government</td><td>1.8</td></tr><tr><td>Percent 90 to 180 Days Past Due Date</td><td>2004</td><td>2</td><td>Government</td><td>1.9</td></tr><tr><td>Percent 90 to 180 Days Past Due Date</td><td>2004</td><td>3</td><td>Government</td><td>2.0</td></tr><tr><td>Percent 90 to 180 Days Past Due Date</td><td>2004</td><td>4</td><td>Government</td><td>2.6</td></tr><tr><td>Percent 90 to 180 Days Past Due Date</td><td>2005</td><td>1</td><td>Government</td><td>2.1</td></tr><tr><td>Percent 90 to 180 Days Past Due Date</td><td>2005</td><td>2</td><td>Government</td><td>2.2</td></tr><tr><td>Percent 90 to 180 Days Past Due Date</td><td>2005</td><td>3</td><td>Government</td><td>1.9</td></tr><tr><td>Percent 90 to 180 Days Past Due Date</td><td>2005</td><td>4</td><td>Government</td><td>1.9</td></tr><tr><td>Percent 90 to 180 Days Past Due Date</td><td>2006</td><td>1</td><td>Government</td><td>1.7</td></tr><tr><td>Percent 90 to 180 Days Past Due Date</td><td>2006</td><td>2</td><td>Government</td><td>2.0</td></tr><tr><td>Percent 90 to 180 Days Past Due Date</td><td>2006</td><td>3</td><td>Government</td><td>1.6</td></tr><tr><td>Percent 90 to 180 Days Past Due Date</td><td>2006</td><td>4</td><td>Government</td><td>2.4</td></tr><tr><td>Percent 90 to 180 Days Past Due Date</td><td>2007</td><td>1</td><td>Government</td><td>1.6</td></tr><tr><td>Percent 90 to 180 Days Past Due Date</td><td>2007</td><td>2</td><td>Government</td><td>1.9</td></tr><tr><td>Percent 90 to 180 Days Past Due Date</td><td>2007</td><td>3</td><td>Government</td><td>1.6</td></tr><tr><td>Percent 90 to 180 Days Past Due Date</td><td>2007</td><td>4</td><td>Government</td><td>2.1</td></tr><tr><td>Percent 90 to 180 Days Past Due Date</td><td>2008</td><td>1</td><td>Government</td><td>1.2</td></tr><tr><td>Percent 90 to 180 Days Past Due Date</td><td>2008</td><td>2</td><td>Government</td><td>1.3</td></tr><tr><td>Percent 90 to 180 Days Past Due Date</td><td>2008</td><td>3</td><td>Government</td><td>1.5</td></tr><tr><td>Percent 90 to 180 Days Past Due Date</td><td>2008</td><td>4</td><td>Government</td><td>2.3</td></tr><tr><td>Percent 90 to 180 Days Past Due Date</td><td>2009</td><td>1</td><td>Government</td><td>2.6</td></tr><tr><td>Percent 90 to 180 Days Past Due Date</td><td>2009</td><td>2</td><td>Government</td><td>2.7</td></tr><tr><td>Percent 90 to 180 Days Past Due Date</td><td>2009</td><td>3</td><td>Government</td><td>3.3</td></tr><tr><td>Percent 90 to 180 Days Past Due Date</td><td>2009</td><td>4</td><td>Government</td><td>3.6</td></tr><tr><td>Percent 90 to 180 Days Past Due Date</td><td>2010</td><td>1</td><td>Government</td><td>4.0</td></tr><tr><td>Percent 90 to 180 Days Past Due Date</td><td>2010</td><td>2</td><td>Government</td><td>3.5</td></tr><tr><td>Percent 90 to 180 Days Past Due Date</td><td>2010</td><td>3</td><td>Government</td><td>3.9</td></tr><tr><td>Percent 90 to 180 Days Past Due Date</td><td>2010</td><td>4</td><td>Government</td><td>3.5</td></tr><tr><td>Percent 90 to 180 Days Past Due Date</td><td>2011</td><td>1</td><td>Government</td><td>3.7</td></tr><tr><td>Percent 90 to 180 Days Past Due Date</td><td>2011</td><td>2</td><td>Government</td><td>3.6</td></tr><tr><td>Percent 90 to 180 Days Past Due Date</td><td>2011</td><td>3</td><td>Government</td><td>4.2</td></tr><tr><td>Percent 90 to 180 Days Past Due Date</td><td>2011</td><td>4</td><td>Government</td><td>4.5</td></tr><tr><td>Percent 90 to 180 Days Past Due Date</td><td>2012</td><td>1</td><td>Government</td><td>5.1</td></tr><tr><td>Percent 90 to 180 Days Past Due Date</td><td>2012</td><td>2</td><td>Government</td><td>5.7</td></tr><tr><td>Percent 90 to 180 Days Past Due Date</td><td>2012</td><td>3</td><td>Government</td><td>5.3</td></tr><tr><td>Percent 90 to 180 Days Past Due Date</td><td>2012</td><td>4</td><td>Government</td><td>5.2</td></tr><tr><td>Percent 90 to 180 Days Past Due Date</td><td>2013</td><td>1</td><td>Government</td><td>5.0</td></tr><tr><td>Percent 90 to 180 Days Past Due Date</td><td>2013</td><td>2</td><td>Government</td><td>4.3</td></tr><tr><td>Percent 90 to 180 Days Past Due Date</td><td>2013</td><td>3</td><td>Government</td><td>4.0</td></tr><tr><td>Percent 90 to 180 Days Past Due Date</td><td>2013</td><td>4</td><td>Government</td><td>3.8</td></tr><tr><td>Percent 90 to 180 Days Past Due Date</td><td>2014</td><td>1</td><td>Government</td><td>3.6</td></tr><tr><td>Percent 90 to 180 Days Past Due Date</td><td>2014</td><td>2</td><td>Government</td><td>3.1</td></tr><tr><td>Percent 90 to 180 Days Past Due Date</td><td>2014</td><td>3</td><td>Government</td><td>3.1</td></tr><tr><td>Percent 90 to 180 Days Past Due Date</td><td>2014</td><td>4</td><td>Government</td><td>2.9</td></tr><tr><td>Percent 90 to 180 Days Past Due Date</td><td>2015</td><td>1</td><td>Government</td><td>2.6</td></tr><tr><td>Percent 90 to 180 Days Past Due Date</td><td>2015</td><td>2</td><td>Government</td><td>2.2</td></tr><tr><td>Percent 90 to 180 Days Past Due Date</td><td>2015</td><td>3</td><td>Government</td><td>2.1</td></tr><tr><td>Percent 90 to 180 Days Past Due Date</td><td>2015</td><td>4</td><td>Government</td><td>2.0</td></tr><tr><td>Percent 90 to 180 Days Past Due Date</td><td>2016</td><td>1</td><td>Government</td><td>2.0</td></tr><tr><td>Percent 90 to 180 Days Past Due Date</td><td>2016</td><td>2</td><td>Government</td><td>1.8</td></tr><tr><td>Percent 90 to 180 Days Past Due Date</td><td>2016</td><td>3</td><td>Government</td><td>1.9</td></tr><tr><td>Percent 90 to 180 Days Past Due Date</td><td>2016</td><td>4</td><td>Government</td><td>1.8</td></tr><tr><td>Percent 90 to 180 Days Past Due Date</td><td>2017</td><td>1</td><td>Government</td><td>1.5</td></tr><tr><td>Percent 90 to 180 Days Past Due Date</td><td>2017</td><td>2</td><td>Government</td><td>1.2</td></tr><tr><td>Percent 90 to 180 Days Past Due Date</td><td>2017</td><td>3</td><td>Government</td><td>1.1</td></tr><tr><td>Percent 90 to 180 Days Past Due Date</td><td>2017</td><td>4</td><td>Government</td><td>0.9</td></tr><tr><td>Percent 90 to 180 Days Past Due Date</td><td>2018</td><td>1</td><td>Government</td><td>0.8</td></tr><tr><td>Percent 90 to 180 Days Past Due Date</td><td>2018</td><td>2</td><td>Government</td><td>0.9</td></tr><tr><td>Percent 90 to 180 Days Past Due Date</td><td>2018</td><td>3</td><td>Government</td><td>0.9</td></tr><tr><td>Percent 90 to 180 Days Past Due Date</td><td>2018</td><td>4</td><td>Government</td><td>1.0</td></tr><tr><td>Percent 90 to 180 Days Past Due Date</td><td>2019</td><td>1</td><td>Government</td><td>0.9</td></tr><tr><td>Percent 90 to 180 Days Past Due Date</td><td>2019</td><td>2</td><td>Government</td><td>0.8</td></tr><tr><td>Percent 90 to 180 Days Past Due Date</td><td>2019</td><td>3</td><td>Government</td><td>0.8</td></tr><tr><td>Percent 90 to 180 Days Past Due Date</td><td>2019</td><td>4</td><td>Government</td><td>0.8</td></tr><tr><td>Percent 90 to 180 Days Past Due Date</td><td>2020</td><td>1</td><td>Government</td><td>0.7</td></tr><tr><td>Percent 90 to 180 Days Past Due Date</td><td>2020</td><td>2</td><td>Government</td><td>0.6</td></tr><tr><td>Percent 90 to 180 Days Past Due Date</td><td>2020</td><td>3</td><td>Government</td><td>0.6</td></tr><tr><td>Percent 90 to 180 Days Past Due Date</td><td>2020</td><td>4</td><td>Government</td><td>0.5</td></tr><tr><td>Percent 90 to 180 Days Past Due Date</td><td>2021</td><td>1</td><td>Government</td><td>0.5</td></tr><tr><td>Percent 90 to 180 Days Past Due Date</td><td>2021</td><td>2</td><td>Government</td><td>0.4</td></tr><tr><td>Percent 90 to 180 Days Past Due Date</td><td>2021</td><td>3</td><td>Government</td><td>0.4</td></tr><tr><td>Percent 90 to 180 Days Past Due Date</td><td>2021</td><td>4</td><td>Government</td><td>0.4</td></tr><tr><td>Percent 90 to 180 Days Past Due Date</td><td>2022</td><td>1</td><td>Government</td><td>0.5</td></tr><tr><td>Percent 90 to 180 Days Past Due Date</td><td>2002</td><td>1</td><td>Overall Market</td><td>0.3</td></tr><tr><td>Percent 90 to 180 Days Past Due Date</td><td>2002</td><td>2</td><td>Overall Market</td><td>0.3</td></tr><tr><td>Percent 90 to 180 Days Past Due Date</td><td>2002</td><td>3</td><td>Overall Market</td><td>0.4</td></tr><tr><td>Percent 90 to 180 Days Past Due Date</td><td>2002</td><td>4</td><td>Overall Market</td><td>0.4</td></tr><tr><td>Percent 90 to 180 Days Past Due Date</td><td>2003</td><td>1</td><td>Overall Market</td><td>0.4</td></tr><tr><td>Percent 90 to 180 Days Past Due Date</td><td>2003</td><td>2</td><td>Overall Market</td><td>0.4</td></tr><tr><td>Percent 90 to 180 Days Past Due Date</td><td>2003</td><td>3</td><td>Overall Market</td><td>0.4</td></tr><tr><td>Percent 90 to 180 Days Past Due Date</td><td>2003</td><td>4</td><td>Overall Market</td><td>0.5</td></tr><tr><td>Percent 90 to 180 Days Past Due Date</td><td>2004</td><td>1</td><td>Overall Market</td><td>0.5</td></tr><tr><td>Percent 90 to 180 Days Past Due Date</td><td>2004</td><td>2</td><td>Overall Market</td><td>0.4</td></tr><tr><td>Percent 90 to 180 Days Past Due Date</td><td>2004</td><td>3</td><td>Overall Market</td><td>0.4</td></tr><tr><td>Percent 90 to 180 Days Past Due Date</td><td>2004</td><td>4</td><td>Overall Market</td><td>0.5</td></tr><tr><td>Percent 90 to 180 Days Past Due Date</td><td>2005</td><td>1</td><td>Overall Market</td><td>0.5</td></tr><tr><td>Percent 90 to 180 Days Past Due Date</td><td>2005</td><td>2</td><td>Overall Market</td><td>0.5</td></tr><tr><td>Percent 90 to 180 Days Past Due Date</td><td>2005</td><td>3</td><td>Overall Market</td><td>0.4</td></tr><tr><td>Percent 90 to 180 Days Past Due Date</td><td>2005</td><td>4</td><td>Overall Market</td><td>0.3</td></tr><tr><td>Percent 90 to 180 Days Past Due Date</td><td>2006</td><td>1</td><td>Overall Market</td><td>0.3</td></tr><tr><td>Percent 90 to 180 Days Past Due Date</td><td>2006</td><td>2</td><td>Overall Market</td><td>0.4</td></tr><tr><td>Percent 90 to 180 Days Past Due Date</td><td>2006</td><td>3</td><td>Overall Market</td><td>0.4</td></tr><tr><td>Percent 90 to 180 Days Past Due Date</td><td>2006</td><td>4</td><td>Overall Market</td><td>0.5</td></tr><tr><td>Percent 90 to 180 Days Past Due Date</td><td>2007</td><td>1</td><td>Overall Market</td><td>0.4</td></tr><tr><td>Percent 90 to 180 Days Past Due Date</td><td>2007</td><td>2</td><td>Overall Market</td><td>0.4</td></tr><tr><td>Percent 90 to 180 Days Past Due Date</td><td>2007</td><td>3</td><td>Overall Market</td><td>0.5</td></tr><tr><td>Percent 90 to 180 Days Past Due Date</td><td>2007</td><td>4</td><td>Overall Market</td><td>0.6</td></tr><tr><td>Percent 90 to 180 Days Past Due Date</td><td>2008</td><td>1</td><td>Overall Market</td><td>0.6</td></tr><tr><td>Percent 90 to 180 Days Past Due Date</td><td>2008</td><td>2</td><td>Overall Market</td><td>0.8</td></tr><tr><td>Percent 90 to 180 Days Past Due Date</td><td>2008</td><td>3</td><td>Overall Market</td><td>0.9</td></tr><tr><td>Percent 90 to 180 Days Past Due Date</td><td>2008</td><td>4</td><td>Overall Market</td><td>1.3</td></tr><tr><td>Percent 90 to 180 Days Past Due Date</td><td>2009</td><td>1</td><td>Overall Market</td><td>1.9</td></tr><tr><td>Percent 90 to 180 Days Past Due Date</td><td>2009</td><td>2</td><td>Overall Market</td><td>2.3</td></tr><tr><td>Percent 90 to 180 Days Past Due Date</td><td>2009</td><td>3</td><td>Overall Market</td><td>3.0</td></tr><tr><td>Percent 90 to 180 Days Past Due Date</td><td>2009</td><td>4</td><td>Overall Market</td><td>3.5</td></tr><tr><td>Percent 90 to 180 Days Past Due Date</td><td>2010</td><td>1</td><td>Overall Market</td><td>3.8</td></tr><tr><td>Percent 90 to 180 Days Past Due Date</td><td>2010</td><td>2</td><td>Overall Market</td><td>3.8</td></tr><tr><td>Percent 90 to 180 Days Past Due Date</td><td>2010</td><td>3</td><td>Overall Market</td><td>3.8</td></tr><tr><td>Percent 90 to 180 Days Past Due Date</td><td>2010</td><td>4</td><td>Overall Market</td><td>3.6</td></tr><tr><td>Percent 90 to 180 Days Past Due Date</td><td>2011</td><td>1</td><td>Overall Market</td><td>3.6</td></tr><tr><td>Percent 90 to 180 Days Past Due Date</td><td>2011</td><td>2</td><td>Overall Market</td><td>3.7</td></tr><tr><td>Percent 90 to 180 Days Past Due Date</td><td>2011</td><td>3</td><td>Overall Market</td><td>3.9</td></tr><tr><td>Percent 90 to 180 Days Past Due Date</td><td>2011</td><td>4</td><td>Overall Market</td><td>4.1</td></tr><tr><td>Percent 90 to 180 Days Past Due Date</td><td>2012</td><td>1</td><td>Overall Market</td><td>4.1</td></tr><tr><td>Percent 90 to 180 Days Past Due Date</td><td>2012</td><td>2</td><td>Overall Market</td><td>4.1</td></tr><tr><td>Percent 90 to 180 Days Past Due Date</td><td>2012</td><td>3</td><td>Overall Market</td><td>3.8</td></tr><tr><td>Percent 90 to 180 Days Past Due Date</td><td>2012</td><td>4</td><td>Overall Market</td><td>3.4</td></tr><tr><td>Percent 90 to 180 Days Past Due Date</td><td>2013</td><td>1</td><td>Overall Market</td><td>3.0</td></tr><tr><td>Percent 90 to 180 Days Past Due Date</td><td>2013</td><td>2</td><td>Overall Market</td><td>2.7</td></tr><tr><td>Percent 90 to 180 Days Past Due Date</td><td>2013</td><td>3</td><td>Overall Market</td><td>2.3</td></tr><tr><td>Percent 90 to 180 Days Past Due Date</td><td>2013</td><td>4</td><td>Overall Market</td><td>2.2</td></tr><tr><td>Percent 90 to 180 Days Past Due Date</td><td>2014</td><td>1</td><td>Overall Market</td><td>1.9</td></tr><tr><td>Percent 90 to 180 Days Past Due Date</td><td>2014</td><td>2</td><td>Overall Market</td><td>1.7</td></tr><tr><td>Percent 90 to 180 Days Past Due Date</td><td>2014</td><td>3</td><td>Overall Market</td><td>1.7</td></tr><tr><td>Percent 90 to 180 Days Past Due Date</td><td>2014</td><td>4</td><td>Overall Market</td><td>1.5</td></tr><tr><td>Percent 90 to 180 Days Past Due Date</td><td>2015</td><td>1</td><td>Overall Market</td><td>1.3</td></tr><tr><td>Percent 90 to 180 Days Past Due Date</td><td>2015</td><td>2</td><td>Overall Market</td><td>1.1</td></tr><tr><td>Percent 90 to 180 Days Past Due Date</td><td>2015</td><td>3</td><td>Overall Market</td><td>1.1</td></tr><tr><td>Percent 90 to 180 Days Past Due Date</td><td>2015</td><td>4</td><td>Overall Market</td><td>1.0</td></tr><tr><td>Percent 90 to 180 Days Past Due Date</td><td>2016</td><td>1</td><td>Overall Market</td><td>0.9</td></tr><tr><td>Percent 90 to 180 Days Past Due Date</td><td>2016</td><td>2</td><td>Overall Market</td><td>0.8</td></tr><tr><td>Percent 90 to 180 Days Past Due Date</td><td>2016</td><td>3</td><td>Overall Market</td><td>0.8</td></tr><tr><td>Percent 90 to 180 Days Past Due Date</td><td>2016</td><td>4</td><td>Overall Market</td><td>0.7</td></tr><tr><td>Percent 90 to 180 Days Past Due Date</td><td>2017</td><td>1</td><td>Overall Market</td><td>0.7</td></tr><tr><td>Percent 90 to 180 Days Past Due Date</td><td>2017</td><td>2</td><td>Overall Market</td><td>0.5</td></tr><tr><td>Percent 90 to 180 Days Past Due Date</td><td>2017</td><td>3</td><td>Overall Market</td><td>0.4</td></tr><tr><td>Percent 90 to 180 Days Past Due Date</td><td>2017</td><td>4</td><td>Overall Market</td><td>0.4</td></tr><tr><td>Percent 90 to 180 Days Past Due Date</td><td>2018</td><td>1</td><td>Overall Market</td><td>0.3</td></tr><tr><td>Percent 90 to 180 Days Past Due Date</td><td>2018</td><td>2</td><td>Overall Market</td><td>0.4</td></tr><tr><td>Percent 90 to 180 Days Past Due Date</td><td>2018</td><td>3</td><td>Overall Market</td><td>0.4</td></tr><tr><td>Percent 90 to 180 Days Past Due Date</td><td>2018</td><td>4</td><td>Overall Market</td><td>0.4</td></tr><tr><td>Percent 90 to 180 Days Past Due Date</td><td>2019</td><td>1</td><td>Overall Market</td><td>0.3</td></tr><tr><td>Percent 90 to 180 Days Past Due Date</td><td>2019</td><td>2</td><td>Overall Market</td><td>0.3</td></tr><tr><td>Percent 90 to 180 Days Past Due Date</td><td>2019</td><td>3</td><td>Overall Market</td><td>0.3</td></tr><tr><td>Percent 90 to 180 Days Past Due Date</td><td>2019</td><td>4</td><td>Overall Market</td><td>0.3</td></tr><tr><td>Percent 90 to 180 Days Past Due Date</td><td>2020</td><td>1</td><td>Overall Market</td><td>0.2</td></tr><tr><td>Percent 90 to 180 Days Past Due Date</td><td>2020</td><td>2</td><td>Overall Market</td><td>0.2</td></tr><tr><td>Percent 90 to 180 Days Past Due Date</td><td>2020</td><td>3</td><td>Overall Market</td><td>0.2</td></tr><tr><td>Percent 90 to 180 Days Past Due Date</td><td>2020</td><td>4</td><td>Overall Market</td><td>0.2</td></tr><tr><td>Percent 90 to 180 Days Past Due Date</td><td>2021</td><td>1</td><td>Overall Market</td><td>0.2</td></tr><tr><td>Percent 90 to 180 Days Past Due Date</td><td>2021</td><td>2</td><td>Overall Market</td><td>0.2</td></tr><tr><td>Percent 90 to 180 Days Past Due Date</td><td>2021</td><td>3</td><td>Overall Market</td><td>0.1</td></tr><tr><td>Percent 90 to 180 Days Past Due Date</td><td>2021</td><td>4</td><td>Overall Market</td><td>0.2</td></tr><tr><td>Percent 90 to 180 Days Past Due Date</td><td>2022</td><td>1</td><td>Overall Market</td><td>0.2</td></tr><tr><td>Percent 90 to 180 Days Past Due Date</td><td>2002</td><td>1</td><td>Other Conventional</td><td>0.5</td></tr><tr><td>Percent 90 to 180 Days Past Due Date</td><td>2002</td><td>2</td><td>Other Conventional</td><td>0.6</td></tr><tr><td>Percent 90 to 180 Days Past Due Date</td><td>2002</td><td>3</td><td>Other Conventional</td><td>0.7</td></tr><tr><td>Percent 90 to 180 Days Past Due Date</td><td>2002</td><td>4</td><td>Other Conventional</td><td>0.7</td></tr><tr><td>Percent 90 to 180 Days Past Due Date</td><td>2003</td><td>1</td><td>Other Conventional</td><td>0.7</td></tr><tr><td>Percent 90 to 180 Days Past Due Date</td><td>2003</td><td>2</td><td>Other Conventional</td><td>0.8</td></tr><tr><td>Percent 90 to 180 Days Past Due Date</td><td>2003</td><td>3</td><td>Other Conventional</td><td>0.9</td></tr><tr><td>Percent 90 to 180 Days Past Due Date</td><td>2003</td><td>4</td><td>Other Conventional</td><td>0.9</td></tr><tr><td>Percent 90 to 180 Days Past Due Date</td><td>2004</td><td>1</td><td>Other Conventional</td><td>0.8</td></tr><tr><td>Percent 90 to 180 Days Past Due Date</td><td>2004</td><td>2</td><td>Other Conventional</td><td>0.6</td></tr><tr><td>Percent 90 to 180 Days Past Due Date</td><td>2004</td><td>3</td><td>Other Conventional</td><td>0.6</td></tr><tr><td>Percent 90 to 180 Days Past Due Date</td><td>2004</td><td>4</td><td>Other Conventional</td><td>0.8</td></tr><tr><td>Percent 90 to 180 Days Past Due Date</td><td>2005</td><td>1</td><td>Other Conventional</td><td>0.8</td></tr><tr><td>Percent 90 to 180 Days Past Due Date</td><td>2005</td><td>2</td><td>Other Conventional</td><td>0.7</td></tr><tr><td>Percent 90 to 180 Days Past Due Date</td><td>2005</td><td>3</td><td>Other Conventional</td><td>0.7</td></tr><tr><td>Percent 90 to 180 Days Past Due Date</td><td>2005</td><td>4</td><td>Other Conventional</td><td>0.5</td></tr><tr><td>Percent 90 to 180 Days Past Due Date</td><td>2006</td><td>1</td><td>Other Conventional</td><td>0.5</td></tr><tr><td>Percent 90 to 180 Days Past Due Date</td><td>2006</td><td>2</td><td>Other Conventional</td><td>0.6</td></tr><tr><td>Percent 90 to 180 Days Past Due Date</td><td>2006</td><td>3</td><td>Other Conventional</td><td>0.8</td></tr><tr><td>Percent 90 to 180 Days Past Due Date</td><td>2006</td><td>4</td><td>Other Conventional</td><td>0.8</td></tr><tr><td>Percent 90 to 180 Days Past Due Date</td><td>2007</td><td>1</td><td>Other Conventional</td><td>0.7</td></tr><tr><td>Percent 90 to 180 Days Past Due Date</td><td>2007</td><td>2</td><td>Other Conventional</td><td>0.7</td></tr><tr><td>Percent 90 to 180 Days Past Due Date</td><td>2007</td><td>3</td><td>Other Conventional</td><td>1.0</td></tr><tr><td>Percent 90 to 180 Days Past Due Date</td><td>2007</td><td>4</td><td>Other Conventional</td><td>1.2</td></tr><tr><td>Percent 90 to 180 Days Past Due Date</td><td>2008</td><td>1</td><td>Other Conventional</td><td>1.4</td></tr><tr><td>Percent 90 to 180 Days Past Due Date</td><td>2008</td><td>2</td><td>Other Conventional</td><td>1.8</td></tr><tr><td>Percent 90 to 180 Days Past Due Date</td><td>2008</td><td>3</td><td>Other Conventional</td><td>2.0</td></tr><tr><td>Percent 90 to 180 Days Past Due Date</td><td>2008</td><td>4</td><td>Other Conventional</td><td>2.7</td></tr><tr><td>Percent 90 to 180 Days Past Due Date</td><td>2009</td><td>1</td><td>Other Conventional</td><td>4.1</td></tr><tr><td>Percent 90 to 180 Days Past Due Date</td><td>2009</td><td>2</td><td>Other Conventional</td><td>4.9</td></tr><tr><td>Percent 90 to 180 Days Past Due Date</td><td>2009</td><td>3</td><td>Other Conventional</td><td>6.3</td></tr><tr><td>Percent 90 to 180 Days Past Due Date</td><td>2009</td><td>4</td><td>Other Conventional</td><td>7.5</td></tr><tr><td>Percent 90 to 180 Days Past Due Date</td><td>2010</td><td>1</td><td>Other Conventional</td><td>8.0</td></tr><tr><td>Percent 90 to 180 Days Past Due Date</td><td>2010</td><td>2</td><td>Other Conventional</td><td>8.4</td></tr><tr><td>Percent 90 to 180 Days Past Due Date</td><td>2010</td><td>3</td><td>Other Conventional</td><td>8.6</td></tr><tr><td>Percent 90 to 180 Days Past Due Date</td><td>2010</td><td>4</td><td>Other Conventional</td><td>8.8</td></tr><tr><td>Percent 90 to 180 Days Past Due Date</td><td>2011</td><td>1</td><td>Other Conventional</td><td>8.8</td></tr><tr><td>Percent 90 to 180 Days Past Due Date</td><td>2011</td><td>2</td><td>Other Conventional</td><td>9.0</td></tr><tr><td>Percent 90 to 180 Days Past Due Date</td><td>2011</td><td>3</td><td>Other Conventional</td><td>9.3</td></tr><tr><td>Percent 90 to 180 Days Past Due Date</td><td>2011</td><td>4</td><td>Other Conventional</td><td>9.7</td></tr><tr><td>Percent 90 to 180 Days Past Due Date</td><td>2012</td><td>1</td><td>Other Conventional</td><td>9.7</td></tr><tr><td>Percent 90 to 180 Days Past Due Date</td><td>2012</td><td>2</td><td>Other Conventional</td><td>9.1</td></tr><tr><td>Percent 90 to 180 Days Past Due Date</td><td>2012</td><td>3</td><td>Other Conventional</td><td>8.7</td></tr><tr><td>Percent 90 to 180 Days Past Due Date</td><td>2012</td><td>4</td><td>Other Conventional</td><td>7.7</td></tr><tr><td>Percent 90 to 180 Days Past Due Date</td><td>2013</td><td>1</td><td>Other Conventional</td><td>7.0</td></tr><tr><td>Percent 90 to 180 Days Past Due Date</td><td>2013</td><td>2</td><td>Other Conventional</td><td>6.5</td></tr><tr><td>Percent 90 to 180 Days Past Due Date</td><td>2013</td><td>3</td><td>Other Conventional</td><td>5.8</td></tr><tr><td>Percent 90 to 180 Days Past Due Date</td><td>2013</td><td>4</td><td>Other Conventional</td><td>5.6</td></tr><tr><td>Percent 90 to 180 Days Past Due Date</td><td>2014</td><td>1</td><td>Other Conventional</td><td>4.8</td></tr><tr><td>Percent 90 to 180 Days Past Due Date</td><td>2014</td><td>2</td><td>Other Conventional</td><td>4.7</td></tr><tr><td>Percent 90 to 180 Days Past Due Date</td><td>2014</td><td>3</td><td>Other Conventional</td><td>4.5</td></tr><tr><td>Percent 90 to 180 Days Past Due Date</td><td>2014</td><td>4</td><td>Other Conventional</td><td>3.8</td></tr><tr><td>Percent 90 to 180 Days Past Due Date</td><td>2015</td><td>1</td><td>Other Conventional</td><td>3.4</td></tr><tr><td>Percent 90 to 180 Days Past Due Date</td><td>2015</td><td>2</td><td>Other Conventional</td><td>3.0</td></tr><tr><td>Percent 90 to 180 Days Past Due Date</td><td>2015</td><td>3</td><td>Other Conventional</td><td>2.9</td></tr><tr><td>Percent 90 to 180 Days Past Due Date</td><td>2015</td><td>4</td><td>Other Conventional</td><td>2.3</td></tr><tr><td>Percent 90 to 180 Days Past Due Date</td><td>2016</td><td>1</td><td>Other Conventional</td><td>2.1</td></tr><tr><td>Percent 90 to 180 Days Past Due Date</td><td>2016</td><td>2</td><td>Other Conventional</td><td>1.9</td></tr><tr><td>Percent 90 to 180 Days Past Due Date</td><td>2016</td><td>3</td><td>Other Conventional</td><td>1.7</td></tr><tr><td>Percent 90 to 180 Days Past Due Date</td><td>2016</td><td>4</td><td>Other Conventional</td><td>1.3</td></tr><tr><td>Percent 90 to 180 Days Past Due Date</td><td>2017</td><td>1</td><td>Other Conventional</td><td>1.3</td></tr><tr><td>Percent 90 to 180 Days Past Due Date</td><td>2017</td><td>2</td><td>Other Conventional</td><td>1.0</td></tr><tr><td>Percent 90 to 180 Days Past Due Date</td><td>2017</td><td>3</td><td>Other Conventional</td><td>0.8</td></tr><tr><td>Percent 90 to 180 Days Past Due Date</td><td>2017</td><td>4</td><td>Other Conventional</td><td>0.8</td></tr><tr><td>Percent 90 to 180 Days Past Due Date</td><td>2018</td><td>1</td><td>Other Conventional</td><td>0.6</td></tr><tr><td>Percent 90 to 180 Days Past Due Date</td><td>2018</td><td>2</td><td>Other Conventional</td><td>0.5</td></tr><tr><td>Percent 90 to 180 Days Past Due Date</td><td>2018</td><td>3</td><td>Other Conventional</td><td>0.5</td></tr><tr><td>Percent 90 to 180 Days Past Due Date</td><td>2018</td><td>4</td><td>Other Conventional</td><td>0.6</td></tr><tr><td>Percent 90 to 180 Days Past Due Date</td><td>2019</td><td>1</td><td>Other Conventional</td><td>0.4</td></tr><tr><td>Percent 90 to 180 Days Past Due Date</td><td>2019</td><td>2</td><td>Other Conventional</td><td>0.3</td></tr><tr><td>Percent 90 to 180 Days Past Due Date</td><td>2019</td><td>3</td><td>Other Conventional</td><td>0.3</td></tr><tr><td>Percent 90 to 180 Days Past Due Date</td><td>2019</td><td>4</td><td>Other Conventional</td><td>0.2</td></tr><tr><td>Percent 90 to 180 Days Past Due Date</td><td>2020</td><td>1</td><td>Other Conventional</td><td>0.2</td></tr><tr><td>Percent 90 to 180 Days Past Due Date</td><td>2020</td><td>2</td><td>Other Conventional</td><td>0.4</td></tr><tr><td>Percent 90 to 180 Days Past Due Date</td><td>2020</td><td>3</td><td>Other Conventional</td><td>0.4</td></tr><tr><td>Percent 90 to 180 Days Past Due Date</td><td>2020</td><td>4</td><td>Other Conventional</td><td>0.4</td></tr><tr><td>Percent 90 to 180 Days Past Due Date</td><td>2021</td><td>1</td><td>Other Conventional</td><td>0.3</td></tr><tr><td>Percent 90 to 180 Days Past Due Date</td><td>2021</td><td>2</td><td>Other Conventional</td><td>0.3</td></tr><tr><td>Percent 90 to 180 Days Past Due Date</td><td>2021</td><td>3</td><td>Other Conventional</td><td>0.3</td></tr><tr><td>Percent 90 to 180 Days Past Due Date</td><td>2021</td><td>4</td><td>Other Conventional</td><td>0.3</td></tr><tr><td>Percent 90 to 180 Days Past Due Date</td><td>2022</td><td>1</td><td>Other Conventional</td><td>0.3</td></tr><tr><td>Percent in the Process of Foreclosure, Bankruptcy, or Deed in Lieu</td><td>2002</td><td>1</td><td>Enterprise</td><td>0.3</td></tr><tr><td>Percent in the Process of Foreclosure, Bankruptcy, or Deed in Lieu</td><td>2002</td><td>2</td><td>Enterprise</td><td>0.3</td></tr><tr><td>Percent in the Process of Foreclosure, Bankruptcy, or Deed in Lieu</td><td>2002</td><td>3</td><td>Enterprise</td><td>0.3</td></tr><tr><td>Percent in the Process of Foreclosure, Bankruptcy, or Deed in Lieu</td><td>2002</td><td>4</td><td>Enterprise</td><td>0.3</td></tr><tr><td>Percent in the Process of Foreclosure, Bankruptcy, or Deed in Lieu</td><td>2003</td><td>1</td><td>Enterprise</td><td>0.4</td></tr><tr><td>Percent in the Process of Foreclosure, Bankruptcy, or Deed in Lieu</td><td>2003</td><td>2</td><td>Enterprise</td><td>0.3</td></tr><tr><td>Percent in the Process of Foreclosure, Bankruptcy, or Deed in Lieu</td><td>2003</td><td>3</td><td>Enterprise</td><td>0.3</td></tr><tr><td>Percent in the Process of Foreclosure, Bankruptcy, or Deed in Lieu</td><td>2003</td><td>4</td><td>Enterprise</td><td>0.3</td></tr><tr><td>Percent in the Process of Foreclosure, Bankruptcy, or Deed in Lieu</td><td>2004</td><td>1</td><td>Enterprise</td><td>0.3</td></tr><tr><td>Percent in the Process of Foreclosure, Bankruptcy, or Deed in Lieu</td><td>2004</td><td>2</td><td>Enterprise</td><td>0.3</td></tr><tr><td>Percent in the Process of Foreclosure, Bankruptcy, or Deed in Lieu</td><td>2004</td><td>3</td><td>Enterprise</td><td>0.2</td></tr><tr><td>Percent in the Process of Foreclosure, Bankruptcy, or Deed in Lieu</td><td>2004</td><td>4</td><td>Enterprise</td><td>0.3</td></tr><tr><td>Percent in the Process of Foreclosure, Bankruptcy, or Deed in Lieu</td><td>2005</td><td>1</td><td>Enterprise</td><td>0.3</td></tr><tr><td>Percent in the Process of Foreclosure, Bankruptcy, or Deed in Lieu</td><td>2005</td><td>2</td><td>Enterprise</td><td>0.2</td></tr><tr><td>Percent in the Process of Foreclosure, Bankruptcy, or Deed in Lieu</td><td>2005</td><td>3</td><td>Enterprise</td><td>0.3</td></tr><tr><td>Percent in the Process of Foreclosure, Bankruptcy, or Deed in Lieu</td><td>2005</td><td>4</td><td>Enterprise</td><td>0.2</td></tr><tr><td>Percent in the Process of Foreclosure, Bankruptcy, or Deed in Lieu</td><td>2006</td><td>1</td><td>Enterprise</td><td>0.2</td></tr><tr><td>Percent in the Process of Foreclosure, Bankruptcy, or Deed in Lieu</td><td>2006</td><td>2</td><td>Enterprise</td><td>0.2</td></tr><tr><td>Percent in the Process of Foreclosure, Bankruptcy, or Deed in Lieu</td><td>2006</td><td>3</td><td>Enterprise</td><td>0.1</td></tr><tr><td>Percent in the Process of Foreclosure, Bankruptcy, or Deed in Lieu</td><td>2006</td><td>4</td><td>Enterprise</td><td>0.2</td></tr><tr><td>Percent in the Process of Foreclosure, Bankruptcy, or Deed in Lieu</td><td>2007</td><td>1</td><td>Enterprise</td><td>0.1</td></tr><tr><td>Percent in the Process of Foreclosure, Bankruptcy, or Deed in Lieu</td><td>2007</td><td>2</td><td>Enterprise</td><td>0.1</td></tr><tr><td>Percent in the Process of Foreclosure, Bankruptcy, or Deed in Lieu</td><td>2007</td><td>3</td><td>Enterprise</td><td>0.1</td></tr><tr><td>Percent in the Process of Foreclosure, Bankruptcy, or Deed in Lieu</td><td>2007</td><td>4</td><td>Enterprise</td><td>0.1</td></tr><tr><td>Percent in the Process of Foreclosure, Bankruptcy, or Deed in Lieu</td><td>2008</td><td>1</td><td>Enterprise</td><td>0.1</td></tr><tr><td>Percent in the Process of Foreclosure, Bankruptcy, or Deed in Lieu</td><td>2008</td><td>2</td><td>Enterprise</td><td>0.2</td></tr><tr><td>Percent in the Process of Foreclosure, Bankruptcy, or Deed in Lieu</td><td>2008</td><td>3</td><td>Enterprise</td><td>0.2</td></tr><tr><td>Percent in the Process of Foreclosure, Bankruptcy, or Deed in Lieu</td><td>2008</td><td>4</td><td>Enterprise</td><td>0.3</td></tr><tr><td>Percent in the Process of Foreclosure, Bankruptcy, or Deed in Lieu</td><td>2009</td><td>1</td><td>Enterprise</td><td>0.4</td></tr><tr><td>Percent in the Process of Foreclosure, Bankruptcy, or Deed in Lieu</td><td>2009</td><td>2</td><td>Enterprise</td><td>0.6</td></tr><tr><td>Percent in the Process of Foreclosure, Bankruptcy, or Deed in Lieu</td><td>2009</td><td>3</td><td>Enterprise</td><td>0.8</td></tr><tr><td>Percent in the Process of Foreclosure, Bankruptcy, or Deed in Lieu</td><td>2009</td><td>4</td><td>Enterprise</td><td>0.8</td></tr><tr><td>Percent in the Process of Foreclosure, Bankruptcy, or Deed in Lieu</td><td>2010</td><td>1</td><td>Enterprise</td><td>0.9</td></tr><tr><td>Percent in the Process of Foreclosure, Bankruptcy, or Deed in Lieu</td><td>2010</td><td>2</td><td>Enterprise</td><td>1.1</td></tr><tr><td>Percent in the Process of Foreclosure, Bankruptcy, or Deed in Lieu</td><td>2010</td><td>3</td><td>Enterprise</td><td>1.3</td></tr><tr><td>Percent in the Process of Foreclosure, Bankruptcy, or Deed in Lieu</td><td>2010</td><td>4</td><td>Enterprise</td><td>1.8</td></tr><tr><td>Percent in the Process of Foreclosure, Bankruptcy, or Deed in Lieu</td><td>2011</td><td>1</td><td>Enterprise</td><td>1.9</td></tr><tr><td>Percent in the Process of Foreclosure, Bankruptcy, or Deed in Lieu</td><td>2011</td><td>2</td><td>Enterprise</td><td>1.9</td></tr><tr><td>Percent in the Process of Foreclosure, Bankruptcy, or Deed in Lieu</td><td>2011</td><td>3</td><td>Enterprise</td><td>1.8</td></tr><tr><td>Percent in the Process of Foreclosure, Bankruptcy, or Deed in Lieu</td><td>2011</td><td>4</td><td>Enterprise</td><td>1.7</td></tr><tr><td>Percent in the Process of Foreclosure, Bankruptcy, or Deed in Lieu</td><td>2012</td><td>1</td><td>Enterprise</td><td>1.7</td></tr><tr><td>Percent in the Process of Foreclosure, Bankruptcy, or Deed in Lieu</td><td>2012</td><td>2</td><td>Enterprise</td><td>1.7</td></tr><tr><td>Percent in the Process of Foreclosure, Bankruptcy, or Deed in Lieu</td><td>2012</td><td>3</td><td>Enterprise</td><td>1.9</td></tr><tr><td>Percent in the Process of Foreclosure, Bankruptcy, or Deed in Lieu</td><td>2012</td><td>4</td><td>Enterprise</td><td>1.8</td></tr><tr><td>Percent in the Process of Foreclosure, Bankruptcy, or Deed in Lieu</td><td>2013</td><td>1</td><td>Enterprise</td><td>1.7</td></tr><tr><td>Percent in the Process of Foreclosure, Bankruptcy, or Deed in Lieu</td><td>2013</td><td>2</td><td>Enterprise</td><td>1.4</td></tr><tr><td>Percent in the Process of Foreclosure, Bankruptcy, or Deed in Lieu</td><td>2013</td><td>3</td><td>Enterprise</td><td>1.2</td></tr><tr><td>Percent in the Process of Foreclosure, Bankruptcy, or Deed in Lieu</td><td>2013</td><td>4</td><td>Enterprise</td><td>1.0</td></tr><tr><td>Percent in the Process of Foreclosure, Bankruptcy, or Deed in Lieu</td><td>2014</td><td>1</td><td>Enterprise</td><td>1.0</td></tr><tr><td>Percent in the Process of Foreclosure, Bankruptcy, or Deed in Lieu</td><td>2014</td><td>2</td><td>Enterprise</td><td>0.9</td></tr><tr><td>Percent in the Process of Foreclosure, Bankruptcy, or Deed in Lieu</td><td>2014</td><td>3</td><td>Enterprise</td><td>0.8</td></tr><tr><td>Percent in the Process of Foreclosure, Bankruptcy, or Deed in Lieu</td><td>2014</td><td>4</td><td>Enterprise</td><td>0.6</td></tr><tr><td>Percent in the Process of Foreclosure, Bankruptcy, or Deed in Lieu</td><td>2015</td><td>1</td><td>Enterprise</td><td>0.6</td></tr><tr><td>Percent in the Process of Foreclosure, Bankruptcy, or Deed in Lieu</td><td>2015</td><td>2</td><td>Enterprise</td><td>0.5</td></tr><tr><td>Percent in the Process of Foreclosure, Bankruptcy, or Deed in Lieu</td><td>2015</td><td>3</td><td>Enterprise</td><td>0.4</td></tr><tr><td>Percent in the Process of Foreclosure, Bankruptcy, or Deed in Lieu</td><td>2015</td><td>4</td><td>Enterprise</td><td>0.3</td></tr><tr><td>Percent in the Process of Foreclosure, Bankruptcy, or Deed in Lieu</td><td>2016</td><td>1</td><td>Enterprise</td><td>0.3</td></tr><tr><td>Percent in the Process of Foreclosure, Bankruptcy, or Deed in Lieu</td><td>2016</td><td>2</td><td>Enterprise</td><td>0.2</td></tr><tr><td>Percent in the Process of Foreclosure, Bankruptcy, or Deed in Lieu</td><td>2016</td><td>3</td><td>Enterprise</td><td>0.1</td></tr><tr><td>Percent in the Process of Foreclosure, Bankruptcy, or Deed in Lieu</td><td>2016</td><td>4</td><td>Enterprise</td><td>0.1</td></tr><tr><td>Percent in the Process of Foreclosure, Bankruptcy, or Deed in Lieu</td><td>2017</td><td>1</td><td>Enterprise</td><td>0.1</td></tr><tr><td>Percent in the Process of Foreclosure, Bankruptcy, or Deed in Lieu</td><td>2017</td><td>2</td><td>Enterprise</td><td>0.1</td></tr><tr><td>Percent in the Process of Foreclosure, Bankruptcy, or Deed in Lieu</td><td>2017</td><td>3</td><td>Enterprise</td><td>0.1</td></tr><tr><td>Percent in the Process of Foreclosure, Bankruptcy, or Deed in Lieu</td><td>2017</td><td>4</td><td>Enterprise</td><td>0.1</td></tr><tr><td>Percent in the Process of Foreclosure, Bankruptcy, or Deed in Lieu</td><td>2018</td><td>1</td><td>Enterprise</td><td>0.1</td></tr><tr><td>Percent in the Process of Foreclosure, Bankruptcy, or Deed in Lieu</td><td>2018</td><td>2</td><td>Enterprise</td><td>0.1</td></tr><tr><td>Percent in the Process of Foreclosure, Bankruptcy, or Deed in Lieu</td><td>2018</td><td>3</td><td>Enterprise</td><td>0.1</td></tr><tr><td>Percent in the Process of Foreclosure, Bankruptcy, or Deed in Lieu</td><td>2018</td><td>4</td><td>Enterprise</td><td>0.0</td></tr><tr><td>Percent in the Process of Foreclosure, Bankruptcy, or Deed in Lieu</td><td>2019</td><td>1</td><td>Enterprise</td><td>0.0</td></tr><tr><td>Percent in the Process of Foreclosure, Bankruptcy, or Deed in Lieu</td><td>2019</td><td>2</td><td>Enterprise</td><td>0.0</td></tr><tr><td>Percent in the Process of Foreclosure, Bankruptcy, or Deed in Lieu</td><td>2019</td><td>3</td><td>Enterprise</td><td>0.0</td></tr><tr><td>Percent in the Process of Foreclosure, Bankruptcy, or Deed in Lieu</td><td>2019</td><td>4</td><td>Enterprise</td><td>0.0</td></tr><tr><td>Percent in the Process of Foreclosure, Bankruptcy, or Deed in Lieu</td><td>2020</td><td>1</td><td>Enterprise</td><td>0.0</td></tr><tr><td>Percent in the Process of Foreclosure, Bankruptcy, or Deed in Lieu</td><td>2020</td><td>2</td><td>Enterprise</td><td>0.0</td></tr><tr><td>Percent in the Process of Foreclosure, Bankruptcy, or Deed in Lieu</td><td>2020</td><td>3</td><td>Enterprise</td><td>0.0</td></tr><tr><td>Percent in the Process of Foreclosure, Bankruptcy, or Deed in Lieu</td><td>2020</td><td>4</td><td>Enterprise</td><td>0.0</td></tr><tr><td>Percent in the Process of Foreclosure, Bankruptcy, or Deed in Lieu</td><td>2021</td><td>1</td><td>Enterprise</td><td>0.0</td></tr><tr><td>Percent in the Process of Foreclosure, Bankruptcy, or Deed in Lieu</td><td>2021</td><td>2</td><td>Enterprise</td><td>0.0</td></tr><tr><td>Percent in the Process of Foreclosure, Bankruptcy, or Deed in Lieu</td><td>2021</td><td>3</td><td>Enterprise</td><td>0.0</td></tr><tr><td>Percent in the Process of Foreclosure, Bankruptcy, or Deed in Lieu</td><td>2021</td><td>4</td><td>Enterprise</td><td>0.0</td></tr><tr><td>Percent in the Process of Foreclosure, Bankruptcy, or Deed in Lieu</td><td>2022</td><td>1</td><td>Enterprise</td><td>0.0</td></tr><tr><td>Percent in the Process of Foreclosure, Bankruptcy, or Deed in Lieu</td><td>2002</td><td>1</td><td>Government</td><td>1.5</td></tr><tr><td>Percent in the Process of Foreclosure, Bankruptcy, or Deed in Lieu</td><td>2002</td><td>2</td><td>Government</td><td>1.4</td></tr><tr><td>Percent in the Process of Foreclosure, Bankruptcy, or Deed in Lieu</td><td>2002</td><td>3</td><td>Government</td><td>1.6</td></tr><tr><td>Percent in the Process of Foreclosure, Bankruptcy, or Deed in Lieu</td><td>2002</td><td>4</td><td>Government</td><td>1.9</td></tr><tr><td>Percent in the Process of Foreclosure, Bankruptcy, or Deed in Lieu</td><td>2003</td><td>1</td><td>Government</td><td>2.2</td></tr><tr><td>Percent in the Process of Foreclosure, Bankruptcy, or Deed in Lieu</td><td>2003</td><td>2</td><td>Government</td><td>2.2</td></tr><tr><td>Percent in the Process of Foreclosure, Bankruptcy, or Deed in Lieu</td><td>2003</td><td>3</td><td>Government</td><td>2.0</td></tr><tr><td>Percent in the Process of Foreclosure, Bankruptcy, or Deed in Lieu</td><td>2003</td><td>4</td><td>Government</td><td>1.7</td></tr><tr><td>Percent in the Process of Foreclosure, Bankruptcy, or Deed in Lieu</td><td>2004</td><td>1</td><td>Government</td><td>1.5</td></tr><tr><td>Percent in the Process of Foreclosure, Bankruptcy, or Deed in Lieu</td><td>2004</td><td>2</td><td>Government</td><td>1.5</td></tr><tr><td>Percent in the Process of Foreclosure, Bankruptcy, or Deed in Lieu</td><td>2004</td><td>3</td><td>Government</td><td>1.7</td></tr><tr><td>Percent in the Process of Foreclosure, Bankruptcy, or Deed in Lieu</td><td>2004</td><td>4</td><td>Government</td><td>1.4</td></tr><tr><td>Percent in the Process of Foreclosure, Bankruptcy, or Deed in Lieu</td><td>2005</td><td>1</td><td>Government</td><td>1.7</td></tr><tr><td>Percent in the Process of Foreclosure, Bankruptcy, or Deed in Lieu</td><td>2005</td><td>2</td><td>Government</td><td>1.5</td></tr><tr><td>Percent in the Process of Foreclosure, Bankruptcy, or Deed in Lieu</td><td>2005</td><td>3</td><td>Government</td><td>1.3</td></tr><tr><td>Percent in the Process of Foreclosure, Bankruptcy, or Deed in Lieu</td><td>2005</td><td>4</td><td>Government</td><td>1.3</td></tr><tr><td>Percent in the Process of Foreclosure, Bankruptcy, or Deed in Lieu</td><td>2006</td><td>1</td><td>Government</td><td>1.3</td></tr><tr><td>Percent in the Process of Foreclosure, Bankruptcy, or Deed in Lieu</td><td>2006</td><td>2</td><td>Government</td><td>0.9</td></tr><tr><td>Percent in the Process of Foreclosure, Bankruptcy, or Deed in Lieu</td><td>2006</td><td>3</td><td>Government</td><td>1.1</td></tr><tr><td>Percent in the Process of Foreclosure, Bankruptcy, or Deed in Lieu</td><td>2006</td><td>4</td><td>Government</td><td>0.6</td></tr><tr><td>Percent in the Process of Foreclosure, Bankruptcy, or Deed in Lieu</td><td>2007</td><td>1</td><td>Government</td><td>0.4</td></tr><tr><td>Percent in the Process of Foreclosure, Bankruptcy, or Deed in Lieu</td><td>2007</td><td>2</td><td>Government</td><td>0.4</td></tr><tr><td>Percent in the Process of Foreclosure, Bankruptcy, or Deed in Lieu</td><td>2007</td><td>3</td><td>Government</td><td>0.7</td></tr><tr><td>Percent in the Process of Foreclosure, Bankruptcy, or Deed in Lieu</td><td>2007</td><td>4</td><td>Government</td><td>0.4</td></tr><tr><td>Percent in the Process of Foreclosure, Bankruptcy, or Deed in Lieu</td><td>2008</td><td>1</td><td>Government</td><td>0.5</td></tr><tr><td>Percent in the Process of Foreclosure, Bankruptcy, or Deed in Lieu</td><td>2008</td><td>2</td><td>Government</td><td>0.4</td></tr><tr><td>Percent in the Process of Foreclosure, Bankruptcy, or Deed in Lieu</td><td>2008</td><td>3</td><td>Government</td><td>0.4</td></tr><tr><td>Percent in the Process of Foreclosure, Bankruptcy, or Deed in Lieu</td><td>2008</td><td>4</td><td>Government</td><td>0.4</td></tr><tr><td>Percent in the Process of Foreclosure, Bankruptcy, or Deed in Lieu</td><td>2009</td><td>1</td><td>Government</td><td>0.6</td></tr><tr><td>Percent in the Process of Foreclosure, Bankruptcy, or Deed in Lieu</td><td>2009</td><td>2</td><td>Government</td><td>0.8</td></tr><tr><td>Percent in the Process of Foreclosure, Bankruptcy, or Deed in Lieu</td><td>2009</td><td>3</td><td>Government</td><td>1.0</td></tr><tr><td>Percent in the Process of Foreclosure, Bankruptcy, or Deed in Lieu</td><td>2009</td><td>4</td><td>Government</td><td>0.9</td></tr><tr><td>Percent in the Process of Foreclosure, Bankruptcy, or Deed in Lieu</td><td>2010</td><td>1</td><td>Government</td><td>1.3</td></tr><tr><td>Percent in the Process of Foreclosure, Bankruptcy, or Deed in Lieu</td><td>2010</td><td>2</td><td>Government</td><td>1.6</td></tr><tr><td>Percent in the Process of Foreclosure, Bankruptcy, or Deed in Lieu</td><td>2010</td><td>3</td><td>Government</td><td>1.8</td></tr><tr><td>Percent in the Process of Foreclosure, Bankruptcy, or Deed in Lieu</td><td>2010</td><td>4</td><td>Government</td><td>1.8</td></tr><tr><td>Percent in the Process of Foreclosure, Bankruptcy, or Deed in Lieu</td><td>2011</td><td>1</td><td>Government</td><td>2.0</td></tr><tr><td>Percent in the Process of Foreclosure, Bankruptcy, or Deed in Lieu</td><td>2011</td><td>2</td><td>Government</td><td>2.2</td></tr><tr><td>Percent in the Process of Foreclosure, Bankruptcy, or Deed in Lieu</td><td>2011</td><td>3</td><td>Government</td><td>1.9</td></tr><tr><td>Percent in the Process of Foreclosure, Bankruptcy, or Deed in Lieu</td><td>2011</td><td>4</td><td>Government</td><td>1.7</td></tr><tr><td>Percent in the Process of Foreclosure, Bankruptcy, or Deed in Lieu</td><td>2012</td><td>1</td><td>Government</td><td>1.8</td></tr><tr><td>Percent in the Process of Foreclosure, Bankruptcy, or Deed in Lieu</td><td>2012</td><td>2</td><td>Government</td><td>1.9</td></tr><tr><td>Percent in the Process of Foreclosure, Bankruptcy, or Deed in Lieu</td><td>2012</td><td>3</td><td>Government</td><td>2.0</td></tr><tr><td>Percent in the Process of Foreclosure, Bankruptcy, or Deed in Lieu</td><td>2012</td><td>4</td><td>Government</td><td>1.9</td></tr><tr><td>Percent in the Process of Foreclosure, Bankruptcy, or Deed in Lieu</td><td>2013</td><td>1</td><td>Government</td><td>1.9</td></tr><tr><td>Percent in the Process of Foreclosure, Bankruptcy, or Deed in Lieu</td><td>2013</td><td>2</td><td>Government</td><td>2.0</td></tr><tr><td>Percent in the Process of Foreclosure, Bankruptcy, or Deed in Lieu</td><td>2013</td><td>3</td><td>Government</td><td>1.8</td></tr><tr><td>Percent in the Process of Foreclosure, Bankruptcy, or Deed in Lieu</td><td>2013</td><td>4</td><td>Government</td><td>1.7</td></tr><tr><td>Percent in the Process of Foreclosure, Bankruptcy, or Deed in Lieu</td><td>2014</td><td>1</td><td>Government</td><td>1.5</td></tr><tr><td>Percent in the Process of Foreclosure, Bankruptcy, or Deed in Lieu</td><td>2014</td><td>2</td><td>Government</td><td>1.3</td></tr><tr><td>Percent in the Process of Foreclosure, Bankruptcy, or Deed in Lieu</td><td>2014</td><td>3</td><td>Government</td><td>0.9</td></tr><tr><td>Percent in the Process of Foreclosure, Bankruptcy, or Deed in Lieu</td><td>2014</td><td>4</td><td>Government</td><td>1.2</td></tr><tr><td>Percent in the Process of Foreclosure, Bankruptcy, or Deed in Lieu</td><td>2015</td><td>1</td><td>Government</td><td>1.3</td></tr><tr><td>Percent in the Process of Foreclosure, Bankruptcy, or Deed in Lieu</td><td>2015</td><td>2</td><td>Government</td><td>1.3</td></tr><tr><td>Percent in the Process of Foreclosure, Bankruptcy, or Deed in Lieu</td><td>2015</td><td>3</td><td>Government</td><td>1.1</td></tr><tr><td>Percent in the Process of Foreclosure, Bankruptcy, or Deed in Lieu</td><td>2015</td><td>4</td><td>Government</td><td>0.8</td></tr><tr><td>Percent in the Process of Foreclosure, Bankruptcy, or Deed in Lieu</td><td>2016</td><td>1</td><td>Government</td><td>0.7</td></tr><tr><td>Percent in the Process of Foreclosure, Bankruptcy, or Deed in Lieu</td><td>2016</td><td>2</td><td>Government</td><td>0.6</td></tr><tr><td>Percent in the Process of Foreclosure, Bankruptcy, or Deed in Lieu</td><td>2016</td><td>3</td><td>Government</td><td>0.6</td></tr><tr><td>Percent in the Process of Foreclosure, Bankruptcy, or Deed in Lieu</td><td>2016</td><td>4</td><td>Government</td><td>0.7</td></tr><tr><td>Percent in the Process of Foreclosure, Bankruptcy, or Deed in Lieu</td><td>2017</td><td>1</td><td>Government</td><td>0.6</td></tr><tr><td>Percent in the Process of Foreclosure, Bankruptcy, or Deed in Lieu</td><td>2017</td><td>2</td><td>Government</td><td>0.5</td></tr><tr><td>Percent in the Process of Foreclosure, Bankruptcy, or Deed in Lieu</td><td>2017</td><td>3</td><td>Government</td><td>0.5</td></tr><tr><td>Percent in the Process of Foreclosure, Bankruptcy, or Deed in Lieu</td><td>2017</td><td>4</td><td>Government</td><td>0.4</td></tr><tr><td>Percent in the Process of Foreclosure, Bankruptcy, or Deed in Lieu</td><td>2018</td><td>1</td><td>Government</td><td>0.3</td></tr><tr><td>Percent in the Process of Foreclosure, Bankruptcy, or Deed in Lieu</td><td>2018</td><td>2</td><td>Government</td><td>0.3</td></tr><tr><td>Percent in the Process of Foreclosure, Bankruptcy, or Deed in Lieu</td><td>2018</td><td>3</td><td>Government</td><td>0.2</td></tr><tr><td>Percent in the Process of Foreclosure, Bankruptcy, or Deed in Lieu</td><td>2018</td><td>4</td><td>Government</td><td>0.2</td></tr><tr><td>Percent in the Process of Foreclosure, Bankruptcy, or Deed in Lieu</td><td>2019</td><td>1</td><td>Government</td><td>0.1</td></tr><tr><td>Percent in the Process of Foreclosure, Bankruptcy, or Deed in Lieu</td><td>2019</td><td>2</td><td>Government</td><td>0.2</td></tr><tr><td>Percent in the Process of Foreclosure, Bankruptcy, or Deed in Lieu</td><td>2019</td><td>3</td><td>Government</td><td>0.2</td></tr><tr><td>Percent in the Process of Foreclosure, Bankruptcy, or Deed in Lieu</td><td>2019</td><td>4</td><td>Government</td><td>0.2</td></tr><tr><td>Percent in the Process of Foreclosure, Bankruptcy, or Deed in Lieu</td><td>2020</td><td>1</td><td>Government</td><td>0.2</td></tr><tr><td>Percent in the Process of Foreclosure, Bankruptcy, or Deed in Lieu</td><td>2020</td><td>2</td><td>Government</td><td>0.1</td></tr><tr><td>Percent in the Process of Foreclosure, Bankruptcy, or Deed in Lieu</td><td>2020</td><td>3</td><td>Government</td><td>0.1</td></tr><tr><td>Percent in the Process of Foreclosure, Bankruptcy, or Deed in Lieu</td><td>2020</td><td>4</td><td>Government</td><td>0.1</td></tr><tr><td>Percent in the Process of Foreclosure, Bankruptcy, or Deed in Lieu</td><td>2021</td><td>1</td><td>Government</td><td>0.1</td></tr><tr><td>Percent in the Process of Foreclosure, Bankruptcy, or Deed in Lieu</td><td>2021</td><td>2</td><td>Government</td><td>0.1</td></tr><tr><td>Percent in the Process of Foreclosure, Bankruptcy, or Deed in Lieu</td><td>2021</td><td>3</td><td>Government</td><td>0.0</td></tr><tr><td>Percent in the Process of Foreclosure, Bankruptcy, or Deed in Lieu</td><td>2021</td><td>4</td><td>Government</td><td>0.0</td></tr><tr><td>Percent in the Process of Foreclosure, Bankruptcy, or Deed in Lieu</td><td>2022</td><td>1</td><td>Government</td><td>0.0</td></tr><tr><td>Percent in the Process of Foreclosure, Bankruptcy, or Deed in Lieu</td><td>2002</td><td>1</td><td>Overall Market</td><td>0.8</td></tr><tr><td>Percent in the Process of Foreclosure, Bankruptcy, or Deed in Lieu</td><td>2002</td><td>2</td><td>Overall Market</td><td>0.8</td></tr><tr><td>Percent in the Process of Foreclosure, Bankruptcy, or Deed in Lieu</td><td>2002</td><td>3</td><td>Overall Market</td><td>0.8</td></tr><tr><td>Percent in the Process of Foreclosure, Bankruptcy, or Deed in Lieu</td><td>2002</td><td>4</td><td>Overall Market</td><td>0.9</td></tr><tr><td>Percent in the Process of Foreclosure, Bankruptcy, or Deed in Lieu</td><td>2003</td><td>1</td><td>Overall Market</td><td>1.0</td></tr><tr><td>Percent in the Process of Foreclosure, Bankruptcy, or Deed in Lieu</td><td>2003</td><td>2</td><td>Overall Market</td><td>0.9</td></tr><tr><td>Percent in the Process of Foreclosure, Bankruptcy, or Deed in Lieu</td><td>2003</td><td>3</td><td>Overall Market</td><td>0.8</td></tr><tr><td>Percent in the Process of Foreclosure, Bankruptcy, or Deed in Lieu</td><td>2003</td><td>4</td><td>Overall Market</td><td>0.8</td></tr><tr><td>Percent in the Process of Foreclosure, Bankruptcy, or Deed in Lieu</td><td>2004</td><td>1</td><td>Overall Market</td><td>0.8</td></tr><tr><td>Percent in the Process of Foreclosure, Bankruptcy, or Deed in Lieu</td><td>2004</td><td>2</td><td>Overall Market</td><td>0.8</td></tr><tr><td>Percent in the Process of Foreclosure, Bankruptcy, or Deed in Lieu</td><td>2004</td><td>3</td><td>Overall Market</td><td>0.7</td></tr><tr><td>Percent in the Process of Foreclosure, Bankruptcy, or Deed in Lieu</td><td>2004</td><td>4</td><td>Overall Market</td><td>0.7</td></tr><tr><td>Percent in the Process of Foreclosure, Bankruptcy, or Deed in Lieu</td><td>2005</td><td>1</td><td>Overall Market</td><td>0.7</td></tr><tr><td>Percent in the Process of Foreclosure, Bankruptcy, or Deed in Lieu</td><td>2005</td><td>2</td><td>Overall Market</td><td>0.5</td></tr><tr><td>Percent in the Process of Foreclosure, Bankruptcy, or Deed in Lieu</td><td>2005</td><td>3</td><td>Overall Market</td><td>0.5</td></tr><tr><td>Percent in the Process of Foreclosure, Bankruptcy, or Deed in Lieu</td><td>2005</td><td>4</td><td>Overall Market</td><td>0.5</td></tr><tr><td>Percent in the Process of Foreclosure, Bankruptcy, or Deed in Lieu</td><td>2006</td><td>1</td><td>Overall Market</td><td>0.4</td></tr><tr><td>Percent in the Process of Foreclosure, Bankruptcy, or Deed in Lieu</td><td>2006</td><td>2</td><td>Overall Market</td><td>0.4</td></tr><tr><td>Percent in the Process of Foreclosure, Bankruptcy, or Deed in Lieu</td><td>2006</td><td>3</td><td>Overall Market</td><td>0.3</td></tr><tr><td>Percent in the Process of Foreclosure, Bankruptcy, or Deed in Lieu</td><td>2006</td><td>4</td><td>Overall Market</td><td>0.4</td></tr><tr><td>Percent in the Process of Foreclosure, Bankruptcy, or Deed in Lieu</td><td>2007</td><td>1</td><td>Overall Market</td><td>0.3</td></tr><tr><td>Percent in the Process of Foreclosure, Bankruptcy, or Deed in Lieu</td><td>2007</td><td>2</td><td>Overall Market</td><td>0.4</td></tr><tr><td>Percent in the Process of Foreclosure, Bankruptcy, or Deed in Lieu</td><td>2007</td><td>3</td><td>Overall Market</td><td>0.4</td></tr><tr><td>Percent in the Process of Foreclosure, Bankruptcy, or Deed in Lieu</td><td>2007</td><td>4</td><td>Overall Market</td><td>0.4</td></tr><tr><td>Percent in the Process of Foreclosure, Bankruptcy, or Deed in Lieu</td><td>2008</td><td>1</td><td>Overall Market</td><td>0.5</td></tr><tr><td>Percent in the Process of Foreclosure, Bankruptcy, or Deed in Lieu</td><td>2008</td><td>2</td><td>Overall Market</td><td>0.6</td></tr><tr><td>Percent in the Process of Foreclosure, Bankruptcy, or Deed in Lieu</td><td>2008</td><td>3</td><td>Overall Market</td><td>0.8</td></tr><tr><td>Percent in the Process of Foreclosure, Bankruptcy, or Deed in Lieu</td><td>2008</td><td>4</td><td>Overall Market</td><td>0.9</td></tr><tr><td>Percent in the Process of Foreclosure, Bankruptcy, or Deed in Lieu</td><td>2009</td><td>1</td><td>Overall Market</td><td>1.1</td></tr><tr><td>Percent in the Process of Foreclosure, Bankruptcy, or Deed in Lieu</td><td>2009</td><td>2</td><td>Overall Market</td><td>1.6</td></tr><tr><td>Percent in the Process of Foreclosure, Bankruptcy, or Deed in Lieu</td><td>2009</td><td>3</td><td>Overall Market</td><td>1.7</td></tr><tr><td>Percent in the Process of Foreclosure, Bankruptcy, or Deed in Lieu</td><td>2009</td><td>4</td><td>Overall Market</td><td>1.7</td></tr><tr><td>Percent in the Process of Foreclosure, Bankruptcy, or Deed in Lieu</td><td>2010</td><td>1</td><td>Overall Market</td><td>1.8</td></tr><tr><td>Percent in the Process of Foreclosure, Bankruptcy, or Deed in Lieu</td><td>2010</td><td>2</td><td>Overall Market</td><td>2.0</td></tr><tr><td>Percent in the Process of Foreclosure, Bankruptcy, or Deed in Lieu</td><td>2010</td><td>3</td><td>Overall Market</td><td>2.2</td></tr><tr><td>Percent in the Process of Foreclosure, Bankruptcy, or Deed in Lieu</td><td>2010</td><td>4</td><td>Overall Market</td><td>2.6</td></tr><tr><td>Percent in the Process of Foreclosure, Bankruptcy, or Deed in Lieu</td><td>2011</td><td>1</td><td>Overall Market</td><td>2.6</td></tr><tr><td>Percent in the Process of Foreclosure, Bankruptcy, or Deed in Lieu</td><td>2011</td><td>2</td><td>Overall Market</td><td>2.7</td></tr><tr><td>Percent in the Process of Foreclosure, Bankruptcy, or Deed in Lieu</td><td>2011</td><td>3</td><td>Overall Market</td><td>2.5</td></tr><tr><td>Percent in the Process of Foreclosure, Bankruptcy, or Deed in Lieu</td><td>2011</td><td>4</td><td>Overall Market</td><td>2.2</td></tr><tr><td>Percent in the Process of Foreclosure, Bankruptcy, or Deed in Lieu</td><td>2012</td><td>1</td><td>Overall Market</td><td>2.2</td></tr><tr><td>Percent in the Process of Foreclosure, Bankruptcy, or Deed in Lieu</td><td>2012</td><td>2</td><td>Overall Market</td><td>2.3</td></tr><tr><td>Percent in the Process of Foreclosure, Bankruptcy, or Deed in Lieu</td><td>2012</td><td>3</td><td>Overall Market</td><td>2.4</td></tr><tr><td>Percent in the Process of Foreclosure, Bankruptcy, or Deed in Lieu</td><td>2012</td><td>4</td><td>Overall Market</td><td>2.3</td></tr><tr><td>Percent in the Process of Foreclosure, Bankruptcy, or Deed in Lieu</td><td>2013</td><td>1</td><td>Overall Market</td><td>2.2</td></tr><tr><td>Percent in the Process of Foreclosure, Bankruptcy, or Deed in Lieu</td><td>2013</td><td>2</td><td>Overall Market</td><td>1.9</td></tr><tr><td>Percent in the Process of Foreclosure, Bankruptcy, or Deed in Lieu</td><td>2013</td><td>3</td><td>Overall Market</td><td>1.7</td></tr><tr><td>Percent in the Process of Foreclosure, Bankruptcy, or Deed in Lieu</td><td>2013</td><td>4</td><td>Overall Market</td><td>1.4</td></tr><tr><td>Percent in the Process of Foreclosure, Bankruptcy, or Deed in Lieu</td><td>2014</td><td>1</td><td>Overall Market</td><td>1.3</td></tr><tr><td>Percent in the Process of Foreclosure, Bankruptcy, or Deed in Lieu</td><td>2014</td><td>2</td><td>Overall Market</td><td>1.2</td></tr><tr><td>Percent in the Process of Foreclosure, Bankruptcy, or Deed in Lieu</td><td>2014</td><td>3</td><td>Overall Market</td><td>1.1</td></tr><tr><td>Percent in the Process of Foreclosure, Bankruptcy, or Deed in Lieu</td><td>2014</td><td>4</td><td>Overall Market</td><td>1.0</td></tr><tr><td>Percent in the Process of Foreclosure, Bankruptcy, or Deed in Lieu</td><td>2015</td><td>1</td><td>Overall Market</td><td>1.0</td></tr><tr><td>Percent in the Process of Foreclosure, Bankruptcy, or Deed in Lieu</td><td>2015</td><td>2</td><td>Overall Market</td><td>0.9</td></tr><tr><td>Percent in the Process of Foreclosure, Bankruptcy, or Deed in Lieu</td><td>2015</td><td>3</td><td>Overall Market</td><td>0.8</td></tr><tr><td>Percent in the Process of Foreclosure, Bankruptcy, or Deed in Lieu</td><td>2015</td><td>4</td><td>Overall Market</td><td>0.7</td></tr><tr><td>Percent in the Process of Foreclosure, Bankruptcy, or Deed in Lieu</td><td>2016</td><td>1</td><td>Overall Market</td><td>0.5</td></tr><tr><td>Percent in the Process of Foreclosure, Bankruptcy, or Deed in Lieu</td><td>2016</td><td>2</td><td>Overall Market</td><td>0.4</td></tr><tr><td>Percent in the Process of Foreclosure, Bankruptcy, or Deed in Lieu</td><td>2016</td><td>3</td><td>Overall Market</td><td>0.4</td></tr><tr><td>Percent in the Process of Foreclosure, Bankruptcy, or Deed in Lieu</td><td>2016</td><td>4</td><td>Overall Market</td><td>0.4</td></tr><tr><td>Percent in the Process of Foreclosure, Bankruptcy, or Deed in Lieu</td><td>2017</td><td>1</td><td>Overall Market</td><td>0.3</td></tr><tr><td>Percent in the Process of Foreclosure, Bankruptcy, or Deed in Lieu</td><td>2017</td><td>2</td><td>Overall Market</td><td>0.3</td></tr><tr><td>Percent in the Process of Foreclosure, Bankruptcy, or Deed in Lieu</td><td>2017</td><td>3</td><td>Overall Market</td><td>0.3</td></tr><tr><td>Percent in the Process of Foreclosure, Bankruptcy, or Deed in Lieu</td><td>2017</td><td>4</td><td>Overall Market</td><td>0.2</td></tr><tr><td>Percent in the Process of Foreclosure, Bankruptcy, or Deed in Lieu</td><td>2018</td><td>1</td><td>Overall Market</td><td>0.2</td></tr><tr><td>Percent in the Process of Foreclosure, Bankruptcy, or Deed in Lieu</td><td>2018</td><td>2</td><td>Overall Market</td><td>0.2</td></tr><tr><td>Percent in the Process of Foreclosure, Bankruptcy, or Deed in Lieu</td><td>2018</td><td>3</td><td>Overall Market</td><td>0.1</td></tr><tr><td>Percent in the Process of Foreclosure, Bankruptcy, or Deed in Lieu</td><td>2018</td><td>4</td><td>Overall Market</td><td>0.1</td></tr><tr><td>Percent in the Process of Foreclosure, Bankruptcy, or Deed in Lieu</td><td>2019</td><td>1</td><td>Overall Market</td><td>0.1</td></tr><tr><td>Percent in the Process of Foreclosure, Bankruptcy, or Deed in Lieu</td><td>2019</td><td>2</td><td>Overall Market</td><td>0.1</td></tr><tr><td>Percent in the Process of Foreclosure, Bankruptcy, or Deed in Lieu</td><td>2019</td><td>3</td><td>Overall Market</td><td>0.1</td></tr><tr><td>Percent in the Process of Foreclosure, Bankruptcy, or Deed in Lieu</td><td>2019</td><td>4</td><td>Overall Market</td><td>0.1</td></tr><tr><td>Percent in the Process of Foreclosure, Bankruptcy, or Deed in Lieu</td><td>2020</td><td>1</td><td>Overall Market</td><td>0.1</td></tr><tr><td>Percent in the Process of Foreclosure, Bankruptcy, or Deed in Lieu</td><td>2020</td><td>2</td><td>Overall Market</td><td>0.0</td></tr><tr><td>Percent in the Process of Foreclosure, Bankruptcy, or Deed in Lieu</td><td>2020</td><td>3</td><td>Overall Market</td><td>0.1</td></tr><tr><td>Percent in the Process of Foreclosure, Bankruptcy, or Deed in Lieu</td><td>2020</td><td>4</td><td>Overall Market</td><td>0.1</td></tr><tr><td>Percent in the Process of Foreclosure, Bankruptcy, or Deed in Lieu</td><td>2021</td><td>1</td><td>Overall Market</td><td>0.0</td></tr><tr><td>Percent in the Process of Foreclosure, Bankruptcy, or Deed in Lieu</td><td>2021</td><td>2</td><td>Overall Market</td><td>0.0</td></tr><tr><td>Percent in the Process of Foreclosure, Bankruptcy, or Deed in Lieu</td><td>2021</td><td>3</td><td>Overall Market</td><td>0.0</td></tr><tr><td>Percent in the Process of Foreclosure, Bankruptcy, or Deed in Lieu</td><td>2021</td><td>4</td><td>Overall Market</td><td>0.0</td></tr><tr><td>Percent in the Process of Foreclosure, Bankruptcy, or Deed in Lieu</td><td>2022</td><td>1</td><td>Overall Market</td><td>0.0</td></tr><tr><td>Percent in the Process of Foreclosure, Bankruptcy, or Deed in Lieu</td><td>2002</td><td>1</td><td>Other Conventional</td><td>1.5</td></tr><tr><td>Percent in the Process of Foreclosure, Bankruptcy, or Deed in Lieu</td><td>2002</td><td>2</td><td>Other Conventional</td><td>1.7</td></tr><tr><td>Percent in the Process of Foreclosure, Bankruptcy, or Deed in Lieu</td><td>2002</td><td>3</td><td>Other Conventional</td><td>1.7</td></tr><tr><td>Percent in the Process of Foreclosure, Bankruptcy, or Deed in Lieu</td><td>2002</td><td>4</td><td>Other Conventional</td><td>1.9</td></tr><tr><td>Percent in the Process of Foreclosure, Bankruptcy, or Deed in Lieu</td><td>2003</td><td>1</td><td>Other Conventional</td><td>1.8</td></tr><tr><td>Percent in the Process of Foreclosure, Bankruptcy, or Deed in Lieu</td><td>2003</td><td>2</td><td>Other Conventional</td><td>1.7</td></tr><tr><td>Percent in the Process of Foreclosure, Bankruptcy, or Deed in Lieu</td><td>2003</td><td>3</td><td>Other Conventional</td><td>1.6</td></tr><tr><td>Percent in the Process of Foreclosure, Bankruptcy, or Deed in Lieu</td><td>2003</td><td>4</td><td>Other Conventional</td><td>1.7</td></tr><tr><td>Percent in the Process of Foreclosure, Bankruptcy, or Deed in Lieu</td><td>2004</td><td>1</td><td>Other Conventional</td><td>1.7</td></tr><tr><td>Percent in the Process of Foreclosure, Bankruptcy, or Deed in Lieu</td><td>2004</td><td>2</td><td>Other Conventional</td><td>1.5</td></tr><tr><td>Percent in the Process of Foreclosure, Bankruptcy, or Deed in Lieu</td><td>2004</td><td>3</td><td>Other Conventional</td><td>1.4</td></tr><tr><td>Percent in the Process of Foreclosure, Bankruptcy, or Deed in Lieu</td><td>2004</td><td>4</td><td>Other Conventional</td><td>1.2</td></tr><tr><td>Percent in the Process of Foreclosure, Bankruptcy, or Deed in Lieu</td><td>2005</td><td>1</td><td>Other Conventional</td><td>1.1</td></tr><tr><td>Percent in the Process of Foreclosure, Bankruptcy, or Deed in Lieu</td><td>2005</td><td>2</td><td>Other Conventional</td><td>0.9</td></tr><tr><td>Percent in the Process of Foreclosure, Bankruptcy, or Deed in Lieu</td><td>2005</td><td>3</td><td>Other Conventional</td><td>0.8</td></tr><tr><td>Percent in the Process of Foreclosure, Bankruptcy, or Deed in Lieu</td><td>2005</td><td>4</td><td>Other Conventional</td><td>0.8</td></tr><tr><td>Percent in the Process of Foreclosure, Bankruptcy, or Deed in Lieu</td><td>2006</td><td>1</td><td>Other Conventional</td><td>0.7</td></tr><tr><td>Percent in the Process of Foreclosure, Bankruptcy, or Deed in Lieu</td><td>2006</td><td>2</td><td>Other Conventional</td><td>0.6</td></tr><tr><td>Percent in the Process of Foreclosure, Bankruptcy, or Deed in Lieu</td><td>2006</td><td>3</td><td>Other Conventional</td><td>0.6</td></tr><tr><td>Percent in the Process of Foreclosure, Bankruptcy, or Deed in Lieu</td><td>2006</td><td>4</td><td>Other Conventional</td><td>0.6</td></tr><tr><td>Percent in the Process of Foreclosure, Bankruptcy, or Deed in Lieu</td><td>2007</td><td>1</td><td>Other Conventional</td><td>0.6</td></tr><tr><td>Percent in the Process of Foreclosure, Bankruptcy, or Deed in Lieu</td><td>2007</td><td>2</td><td>Other Conventional</td><td>0.7</td></tr><tr><td>Percent in the Process of Foreclosure, Bankruptcy, or Deed in Lieu</td><td>2007</td><td>3</td><td>Other Conventional</td><td>0.7</td></tr><tr><td>Percent in the Process of Foreclosure, Bankruptcy, or Deed in Lieu</td><td>2007</td><td>4</td><td>Other Conventional</td><td>0.8</td></tr><tr><td>Percent in the Process of Foreclosure, Bankruptcy, or Deed in Lieu</td><td>2008</td><td>1</td><td>Other Conventional</td><td>1.2</td></tr><tr><td>Percent in the Process of Foreclosure, Bankruptcy, or Deed in Lieu</td><td>2008</td><td>2</td><td>Other Conventional</td><td>1.6</td></tr><tr><td>Percent in the Process of Foreclosure, Bankruptcy, or Deed in Lieu</td><td>2008</td><td>3</td><td>Other Conventional</td><td>2.0</td></tr><tr><td>Percent in the Process of Foreclosure, Bankruptcy, or Deed in Lieu</td><td>2008</td><td>4</td><td>Other Conventional</td><td>2.1</td></tr><tr><td>Percent in the Process of Foreclosure, Bankruptcy, or Deed in Lieu</td><td>2009</td><td>1</td><td>Other Conventional</td><td>2.7</td></tr><tr><td>Percent in the Process of Foreclosure, Bankruptcy, or Deed in Lieu</td><td>2009</td><td>2</td><td>Other Conventional</td><td>3.8</td></tr><tr><td>Percent in the Process of Foreclosure, Bankruptcy, or Deed in Lieu</td><td>2009</td><td>3</td><td>Other Conventional</td><td>4.0</td></tr><tr><td>Percent in the Process of Foreclosure, Bankruptcy, or Deed in Lieu</td><td>2009</td><td>4</td><td>Other Conventional</td><td>3.9</td></tr><tr><td>Percent in the Process of Foreclosure, Bankruptcy, or Deed in Lieu</td><td>2010</td><td>1</td><td>Other Conventional</td><td>4.3</td></tr><tr><td>Percent in the Process of Foreclosure, Bankruptcy, or Deed in Lieu</td><td>2010</td><td>2</td><td>Other Conventional</td><td>4.4</td></tr><tr><td>Percent in the Process of Foreclosure, Bankruptcy, or Deed in Lieu</td><td>2010</td><td>3</td><td>Other Conventional</td><td>4.7</td></tr><tr><td>Percent in the Process of Foreclosure, Bankruptcy, or Deed in Lieu</td><td>2010</td><td>4</td><td>Other Conventional</td><td>5.1</td></tr><tr><td>Percent in the Process of Foreclosure, Bankruptcy, or Deed in Lieu</td><td>2011</td><td>1</td><td>Other Conventional</td><td>5.0</td></tr><tr><td>Percent in the Process of Foreclosure, Bankruptcy, or Deed in Lieu</td><td>2011</td><td>2</td><td>Other Conventional</td><td>5.3</td></tr><tr><td>Percent in the Process of Foreclosure, Bankruptcy, or Deed in Lieu</td><td>2011</td><td>3</td><td>Other Conventional</td><td>4.7</td></tr><tr><td>Percent in the Process of Foreclosure, Bankruptcy, or Deed in Lieu</td><td>2011</td><td>4</td><td>Other Conventional</td><td>3.8</td></tr><tr><td>Percent in the Process of Foreclosure, Bankruptcy, or Deed in Lieu</td><td>2012</td><td>1</td><td>Other Conventional</td><td>3.9</td></tr><tr><td>Percent in the Process of Foreclosure, Bankruptcy, or Deed in Lieu</td><td>2012</td><td>2</td><td>Other Conventional</td><td>4.2</td></tr><tr><td>Percent in the Process of Foreclosure, Bankruptcy, or Deed in Lieu</td><td>2012</td><td>3</td><td>Other Conventional</td><td>4.4</td></tr><tr><td>Percent in the Process of Foreclosure, Bankruptcy, or Deed in Lieu</td><td>2012</td><td>4</td><td>Other Conventional</td><td>4.2</td></tr><tr><td>Percent in the Process of Foreclosure, Bankruptcy, or Deed in Lieu</td><td>2013</td><td>1</td><td>Other Conventional</td><td>4.3</td></tr><tr><td>Percent in the Process of Foreclosure, Bankruptcy, or Deed in Lieu</td><td>2013</td><td>2</td><td>Other Conventional</td><td>3.7</td></tr><tr><td>Percent in the Process of Foreclosure, Bankruptcy, or Deed in Lieu</td><td>2013</td><td>3</td><td>Other Conventional</td><td>3.3</td></tr><tr><td>Percent in the Process of Foreclosure, Bankruptcy, or Deed in Lieu</td><td>2013</td><td>4</td><td>Other Conventional</td><td>2.6</td></tr><tr><td>Percent in the Process of Foreclosure, Bankruptcy, or Deed in Lieu</td><td>2014</td><td>1</td><td>Other Conventional</td><td>2.6</td></tr><tr><td>Percent in the Process of Foreclosure, Bankruptcy, or Deed in Lieu</td><td>2014</td><td>2</td><td>Other Conventional</td><td>2.6</td></tr><tr><td>Percent in the Process of Foreclosure, Bankruptcy, or Deed in Lieu</td><td>2014</td><td>3</td><td>Other Conventional</td><td>2.2</td></tr><tr><td>Percent in the Process of Foreclosure, Bankruptcy, or Deed in Lieu</td><td>2014</td><td>4</td><td>Other Conventional</td><td>2.3</td></tr><tr><td>Percent in the Process of Foreclosure, Bankruptcy, or Deed in Lieu</td><td>2015</td><td>1</td><td>Other Conventional</td><td>2.1</td></tr><tr><td>Percent in the Process of Foreclosure, Bankruptcy, or Deed in Lieu</td><td>2015</td><td>2</td><td>Other Conventional</td><td>2.0</td></tr><tr><td>Percent in the Process of Foreclosure, Bankruptcy, or Deed in Lieu</td><td>2015</td><td>3</td><td>Other Conventional</td><td>1.8</td></tr><tr><td>Percent in the Process of Foreclosure, Bankruptcy, or Deed in Lieu</td><td>2015</td><td>4</td><td>Other Conventional</td><td>1.8</td></tr><tr><td>Percent in the Process of Foreclosure, Bankruptcy, or Deed in Lieu</td><td>2016</td><td>1</td><td>Other Conventional</td><td>1.4</td></tr><tr><td>Percent in the Process of Foreclosure, Bankruptcy, or Deed in Lieu</td><td>2016</td><td>2</td><td>Other Conventional</td><td>1.2</td></tr><tr><td>Percent in the Process of Foreclosure, Bankruptcy, or Deed in Lieu</td><td>2016</td><td>3</td><td>Other Conventional</td><td>1.1</td></tr><tr><td>Percent in the Process of Foreclosure, Bankruptcy, or Deed in Lieu</td><td>2016</td><td>4</td><td>Other Conventional</td><td>1.0</td></tr><tr><td>Percent in the Process of Foreclosure, Bankruptcy, or Deed in Lieu</td><td>2017</td><td>1</td><td>Other Conventional</td><td>0.9</td></tr><tr><td>Percent in the Process of Foreclosure, Bankruptcy, or Deed in Lieu</td><td>2017</td><td>2</td><td>Other Conventional</td><td>0.8</td></tr><tr><td>Percent in the Process of Foreclosure, Bankruptcy, or Deed in Lieu</td><td>2017</td><td>3</td><td>Other Conventional</td><td>0.8</td></tr><tr><td>Percent in the Process of Foreclosure, Bankruptcy, or Deed in Lieu</td><td>2017</td><td>4</td><td>Other Conventional</td><td>0.5</td></tr><tr><td>Percent in the Process of Foreclosure, Bankruptcy, or Deed in Lieu</td><td>2018</td><td>1</td><td>Other Conventional</td><td>0.4</td></tr><tr><td>Percent in the Process of Foreclosure, Bankruptcy, or Deed in Lieu</td><td>2018</td><td>2</td><td>Other Conventional</td><td>0.4</td></tr><tr><td>Percent in the Process of Foreclosure, Bankruptcy, or Deed in Lieu</td><td>2018</td><td>3</td><td>Other Conventional</td><td>0.3</td></tr><tr><td>Percent in the Process of Foreclosure, Bankruptcy, or Deed in Lieu</td><td>2018</td><td>4</td><td>Other Conventional</td><td>0.2</td></tr><tr><td>Percent in the Process of Foreclosure, Bankruptcy, or Deed in Lieu</td><td>2019</td><td>1</td><td>Other Conventional</td><td>0.3</td></tr><tr><td>Percent in the Process of Foreclosure, Bankruptcy, or Deed in Lieu</td><td>2019</td><td>2</td><td>Other Conventional</td><td>0.2</td></tr><tr><td>Percent in the Process of Foreclosure, Bankruptcy, or Deed in Lieu</td><td>2019</td><td>3</td><td>Other Conventional</td><td>0.2</td></tr><tr><td>Percent in the Process of Foreclosure, Bankruptcy, or Deed in Lieu</td><td>2019</td><td>4</td><td>Other Conventional</td><td>0.2</td></tr><tr><td>Percent in the Process of Foreclosure, Bankruptcy, or Deed in Lieu</td><td>2020</td><td>1</td><td>Other Conventional</td><td>0.1</td></tr><tr><td>Percent in the Process of Foreclosure, Bankruptcy, or Deed in Lieu</td><td>2020</td><td>2</td><td>Other Conventional</td><td>0.1</td></tr><tr><td>Percent in the Process of Foreclosure, Bankruptcy, or Deed in Lieu</td><td>2020</td><td>3</td><td>Other Conventional</td><td>0.2</td></tr><tr><td>Percent in the Process of Foreclosure, Bankruptcy, or Deed in Lieu</td><td>2020</td><td>4</td><td>Other Conventional</td><td>0.2</td></tr><tr><td>Percent in the Process of Foreclosure, Bankruptcy, or Deed in Lieu</td><td>2021</td><td>1</td><td>Other Conventional</td><td>0.2</td></tr><tr><td>Percent in the Process of Foreclosure, Bankruptcy, or Deed in Lieu</td><td>2021</td><td>2</td><td>Other Conventional</td><td>0.2</td></tr><tr><td>Percent in the Process of Foreclosure, Bankruptcy, or Deed in Lieu</td><td>2021</td><td>3</td><td>Other Conventional</td><td>0.1</td></tr><tr><td>Percent in the Process of Foreclosure, Bankruptcy, or Deed in Lieu</td><td>2021</td><td>4</td><td>Other Conventional</td><td>0.1</td></tr><tr><td>Percent in the Process of Foreclosure, Bankruptcy, or Deed in Lieu</td><td>2022</td><td>1</td><td>Other Conventional</td><td>0.2</td></tr></table>"
                    },
                    "metadata": {}
                }
            ],
            "execution_count": 20
        },
        {
            "cell_type": "code",
            "source": [
                "-- (Panel) Residential/conventional home loan market\n",
                "select \"SERIES\", \"YEAR\", \"QUARTER\", \"MARKET\", \"VALUE\"\n",
                "FROM seattle_mortgage\n",
                "where \"SERIES\" != 'Percent in Forbearance'\n",
                "and \"MARKET\" = 'Other Conventional'"
            ],
            "metadata": {
                "language": "sql",
                "azdata_cell_guid": "101f02cc-8c39-49d5-a82a-400a3e810665",
                "tags": [
                    "hide_input"
                ]
            },
            "outputs": [
                {
                    "output_type": "display_data",
                    "data": {
                        "text/html": "(243 row(s) affected)"
                    },
                    "metadata": {}
                },
                {
                    "output_type": "display_data",
                    "data": {
                        "text/html": "Total execution time: 00:00:00.028"
                    },
                    "metadata": {}
                },
                {
                    "output_type": "execute_result",
                    "execution_count": 24,
                    "data": {
                        "application/vnd.dataresource+json": {
                            "schema": {
                                "fields": [
                                    {
                                        "name": "SERIES"
                                    },
                                    {
                                        "name": "YEAR"
                                    },
                                    {
                                        "name": "QUARTER"
                                    },
                                    {
                                        "name": "MARKET"
                                    },
                                    {
                                        "name": "VALUE"
                                    }
                                ]
                            },
                            "data": [
                                {
                                    "0": "Percent 30 or 60 Days Past Due Date",
                                    "1": "2002",
                                    "2": "1",
                                    "3": "Other Conventional",
                                    "4": "2.1"
                                },
                                {
                                    "0": "Percent 30 or 60 Days Past Due Date",
                                    "1": "2002",
                                    "2": "2",
                                    "3": "Other Conventional",
                                    "4": "1.9"
                                },
                                {
                                    "0": "Percent 30 or 60 Days Past Due Date",
                                    "1": "2002",
                                    "2": "3",
                                    "3": "Other Conventional",
                                    "4": "2.2"
                                },
                                {
                                    "0": "Percent 30 or 60 Days Past Due Date",
                                    "1": "2002",
                                    "2": "4",
                                    "3": "Other Conventional",
                                    "4": "2.3"
                                },
                                {
                                    "0": "Percent 30 or 60 Days Past Due Date",
                                    "1": "2003",
                                    "2": "1",
                                    "3": "Other Conventional",
                                    "4": "2.0"
                                },
                                {
                                    "0": "Percent 30 or 60 Days Past Due Date",
                                    "1": "2003",
                                    "2": "2",
                                    "3": "Other Conventional",
                                    "4": "1.8"
                                },
                                {
                                    "0": "Percent 30 or 60 Days Past Due Date",
                                    "1": "2003",
                                    "2": "3",
                                    "3": "Other Conventional",
                                    "4": "1.8"
                                },
                                {
                                    "0": "Percent 30 or 60 Days Past Due Date",
                                    "1": "2003",
                                    "2": "4",
                                    "3": "Other Conventional",
                                    "4": "2.1"
                                },
                                {
                                    "0": "Percent 30 or 60 Days Past Due Date",
                                    "1": "2004",
                                    "2": "1",
                                    "3": "Other Conventional",
                                    "4": "1.8"
                                },
                                {
                                    "0": "Percent 30 or 60 Days Past Due Date",
                                    "1": "2004",
                                    "2": "2",
                                    "3": "Other Conventional",
                                    "4": "1.7"
                                },
                                {
                                    "0": "Percent 30 or 60 Days Past Due Date",
                                    "1": "2004",
                                    "2": "3",
                                    "3": "Other Conventional",
                                    "4": "1.6"
                                },
                                {
                                    "0": "Percent 30 or 60 Days Past Due Date",
                                    "1": "2004",
                                    "2": "4",
                                    "3": "Other Conventional",
                                    "4": "1.9"
                                },
                                {
                                    "0": "Percent 30 or 60 Days Past Due Date",
                                    "1": "2005",
                                    "2": "1",
                                    "3": "Other Conventional",
                                    "4": "1.7"
                                },
                                {
                                    "0": "Percent 30 or 60 Days Past Due Date",
                                    "1": "2005",
                                    "2": "2",
                                    "3": "Other Conventional",
                                    "4": "1.7"
                                },
                                {
                                    "0": "Percent 30 or 60 Days Past Due Date",
                                    "1": "2005",
                                    "2": "3",
                                    "3": "Other Conventional",
                                    "4": "1.7"
                                },
                                {
                                    "0": "Percent 30 or 60 Days Past Due Date",
                                    "1": "2005",
                                    "2": "4",
                                    "3": "Other Conventional",
                                    "4": "1.9"
                                },
                                {
                                    "0": "Percent 30 or 60 Days Past Due Date",
                                    "1": "2006",
                                    "2": "1",
                                    "3": "Other Conventional",
                                    "4": "1.7"
                                },
                                {
                                    "0": "Percent 30 or 60 Days Past Due Date",
                                    "1": "2006",
                                    "2": "2",
                                    "3": "Other Conventional",
                                    "4": "1.8"
                                },
                                {
                                    "0": "Percent 30 or 60 Days Past Due Date",
                                    "1": "2006",
                                    "2": "3",
                                    "3": "Other Conventional",
                                    "4": "1.9"
                                },
                                {
                                    "0": "Percent 30 or 60 Days Past Due Date",
                                    "1": "2006",
                                    "2": "4",
                                    "3": "Other Conventional",
                                    "4": "2.1"
                                },
                                {
                                    "0": "Percent 30 or 60 Days Past Due Date",
                                    "1": "2007",
                                    "2": "1",
                                    "3": "Other Conventional",
                                    "4": "2.0"
                                },
                                {
                                    "0": "Percent 30 or 60 Days Past Due Date",
                                    "1": "2007",
                                    "2": "2",
                                    "3": "Other Conventional",
                                    "4": "2.1"
                                },
                                {
                                    "0": "Percent 30 or 60 Days Past Due Date",
                                    "1": "2007",
                                    "2": "3",
                                    "3": "Other Conventional",
                                    "4": "2.4"
                                },
                                {
                                    "0": "Percent 30 or 60 Days Past Due Date",
                                    "1": "2007",
                                    "2": "4",
                                    "3": "Other Conventional",
                                    "4": "3.0"
                                },
                                {
                                    "0": "Percent 30 or 60 Days Past Due Date",
                                    "1": "2008",
                                    "2": "1",
                                    "3": "Other Conventional",
                                    "4": "2.9"
                                },
                                {
                                    "0": "Percent 30 or 60 Days Past Due Date",
                                    "1": "2008",
                                    "2": "2",
                                    "3": "Other Conventional",
                                    "4": "3.0"
                                },
                                {
                                    "0": "Percent 30 or 60 Days Past Due Date",
                                    "1": "2008",
                                    "2": "3",
                                    "3": "Other Conventional",
                                    "4": "3.2"
                                },
                                {
                                    "0": "Percent 30 or 60 Days Past Due Date",
                                    "1": "2008",
                                    "2": "4",
                                    "3": "Other Conventional",
                                    "4": "4.3"
                                },
                                {
                                    "0": "Percent 30 or 60 Days Past Due Date",
                                    "1": "2009",
                                    "2": "1",
                                    "3": "Other Conventional",
                                    "4": "4.3"
                                },
                                {
                                    "0": "Percent 30 or 60 Days Past Due Date",
                                    "1": "2009",
                                    "2": "2",
                                    "3": "Other Conventional",
                                    "4": "4.2"
                                },
                                {
                                    "0": "Percent 30 or 60 Days Past Due Date",
                                    "1": "2009",
                                    "2": "3",
                                    "3": "Other Conventional",
                                    "4": "4.1"
                                },
                                {
                                    "0": "Percent 30 or 60 Days Past Due Date",
                                    "1": "2009",
                                    "2": "4",
                                    "3": "Other Conventional",
                                    "4": "4.3"
                                },
                                {
                                    "0": "Percent 30 or 60 Days Past Due Date",
                                    "1": "2010",
                                    "2": "1",
                                    "3": "Other Conventional",
                                    "4": "3.7"
                                },
                                {
                                    "0": "Percent 30 or 60 Days Past Due Date",
                                    "1": "2010",
                                    "2": "2",
                                    "3": "Other Conventional",
                                    "4": "3.4"
                                },
                                {
                                    "0": "Percent 30 or 60 Days Past Due Date",
                                    "1": "2010",
                                    "2": "3",
                                    "3": "Other Conventional",
                                    "4": "3.2"
                                },
                                {
                                    "0": "Percent 30 or 60 Days Past Due Date",
                                    "1": "2010",
                                    "2": "4",
                                    "3": "Other Conventional",
                                    "4": "3.9"
                                },
                                {
                                    "0": "Percent 30 or 60 Days Past Due Date",
                                    "1": "2011",
                                    "2": "1",
                                    "3": "Other Conventional",
                                    "4": "3.2"
                                },
                                {
                                    "0": "Percent 30 or 60 Days Past Due Date",
                                    "1": "2011",
                                    "2": "2",
                                    "3": "Other Conventional",
                                    "4": "3.0"
                                },
                                {
                                    "0": "Percent 30 or 60 Days Past Due Date",
                                    "1": "2011",
                                    "2": "3",
                                    "3": "Other Conventional",
                                    "4": "3.9"
                                },
                                {
                                    "0": "Percent 30 or 60 Days Past Due Date",
                                    "1": "2011",
                                    "2": "4",
                                    "3": "Other Conventional",
                                    "4": "3.7"
                                },
                                {
                                    "0": "Percent 30 or 60 Days Past Due Date",
                                    "1": "2012",
                                    "2": "1",
                                    "3": "Other Conventional",
                                    "4": "3.2"
                                },
                                {
                                    "0": "Percent 30 or 60 Days Past Due Date",
                                    "1": "2012",
                                    "2": "2",
                                    "3": "Other Conventional",
                                    "4": "3.2"
                                },
                                {
                                    "0": "Percent 30 or 60 Days Past Due Date",
                                    "1": "2012",
                                    "2": "3",
                                    "3": "Other Conventional",
                                    "4": "3.0"
                                },
                                {
                                    "0": "Percent 30 or 60 Days Past Due Date",
                                    "1": "2012",
                                    "2": "4",
                                    "3": "Other Conventional",
                                    "4": "2.9"
                                },
                                {
                                    "0": "Percent 30 or 60 Days Past Due Date",
                                    "1": "2013",
                                    "2": "1",
                                    "3": "Other Conventional",
                                    "4": "2.6"
                                },
                                {
                                    "0": "Percent 30 or 60 Days Past Due Date",
                                    "1": "2013",
                                    "2": "2",
                                    "3": "Other Conventional",
                                    "4": "2.4"
                                },
                                {
                                    "0": "Percent 30 or 60 Days Past Due Date",
                                    "1": "2013",
                                    "2": "3",
                                    "3": "Other Conventional",
                                    "4": "2.0"
                                },
                                {
                                    "0": "Percent 30 or 60 Days Past Due Date",
                                    "1": "2013",
                                    "2": "4",
                                    "3": "Other Conventional",
                                    "4": "2.4"
                                },
                                {
                                    "0": "Percent 30 or 60 Days Past Due Date",
                                    "1": "2014",
                                    "2": "1",
                                    "3": "Other Conventional",
                                    "4": "2.5"
                                },
                                {
                                    "0": "Percent 30 or 60 Days Past Due Date",
                                    "1": "2014",
                                    "2": "2",
                                    "3": "Other Conventional",
                                    "4": "1.4"
                                },
                                {
                                    "0": "Percent 30 or 60 Days Past Due Date",
                                    "1": "2014",
                                    "2": "3",
                                    "3": "Other Conventional",
                                    "4": "1.8"
                                },
                                {
                                    "0": "Percent 30 or 60 Days Past Due Date",
                                    "1": "2014",
                                    "2": "4",
                                    "3": "Other Conventional",
                                    "4": "1.9"
                                },
                                {
                                    "0": "Percent 30 or 60 Days Past Due Date",
                                    "1": "2015",
                                    "2": "1",
                                    "3": "Other Conventional",
                                    "4": "1.4"
                                },
                                {
                                    "0": "Percent 30 or 60 Days Past Due Date",
                                    "1": "2015",
                                    "2": "2",
                                    "3": "Other Conventional",
                                    "4": "1.6"
                                },
                                {
                                    "0": "Percent 30 or 60 Days Past Due Date",
                                    "1": "2015",
                                    "2": "3",
                                    "3": "Other Conventional",
                                    "4": "1.8"
                                },
                                {
                                    "0": "Percent 30 or 60 Days Past Due Date",
                                    "1": "2015",
                                    "2": "4",
                                    "3": "Other Conventional",
                                    "4": "1.5"
                                },
                                {
                                    "0": "Percent 30 or 60 Days Past Due Date",
                                    "1": "2016",
                                    "2": "1",
                                    "3": "Other Conventional",
                                    "4": "1.4"
                                },
                                {
                                    "0": "Percent 30 or 60 Days Past Due Date",
                                    "1": "2016",
                                    "2": "2",
                                    "3": "Other Conventional",
                                    "4": "1.1"
                                },
                                {
                                    "0": "Percent 30 or 60 Days Past Due Date",
                                    "1": "2016",
                                    "2": "3",
                                    "3": "Other Conventional",
                                    "4": "1.2"
                                },
                                {
                                    "0": "Percent 30 or 60 Days Past Due Date",
                                    "1": "2016",
                                    "2": "4",
                                    "3": "Other Conventional",
                                    "4": "1.3"
                                },
                                {
                                    "0": "Percent 30 or 60 Days Past Due Date",
                                    "1": "2017",
                                    "2": "1",
                                    "3": "Other Conventional",
                                    "4": "1.0"
                                },
                                {
                                    "0": "Percent 30 or 60 Days Past Due Date",
                                    "1": "2017",
                                    "2": "2",
                                    "3": "Other Conventional",
                                    "4": "1.0"
                                },
                                {
                                    "0": "Percent 30 or 60 Days Past Due Date",
                                    "1": "2017",
                                    "2": "3",
                                    "3": "Other Conventional",
                                    "4": "0.9"
                                },
                                {
                                    "0": "Percent 30 or 60 Days Past Due Date",
                                    "1": "2017",
                                    "2": "4",
                                    "3": "Other Conventional",
                                    "4": "0.9"
                                },
                                {
                                    "0": "Percent 30 or 60 Days Past Due Date",
                                    "1": "2018",
                                    "2": "1",
                                    "3": "Other Conventional",
                                    "4": "0.8"
                                },
                                {
                                    "0": "Percent 30 or 60 Days Past Due Date",
                                    "1": "2018",
                                    "2": "2",
                                    "3": "Other Conventional",
                                    "4": "0.8"
                                },
                                {
                                    "0": "Percent 30 or 60 Days Past Due Date",
                                    "1": "2018",
                                    "2": "3",
                                    "3": "Other Conventional",
                                    "4": "0.8"
                                },
                                {
                                    "0": "Percent 30 or 60 Days Past Due Date",
                                    "1": "2018",
                                    "2": "4",
                                    "3": "Other Conventional",
                                    "4": "0.7"
                                },
                                {
                                    "0": "Percent 30 or 60 Days Past Due Date",
                                    "1": "2019",
                                    "2": "1",
                                    "3": "Other Conventional",
                                    "4": "0.6"
                                },
                                {
                                    "0": "Percent 30 or 60 Days Past Due Date",
                                    "1": "2019",
                                    "2": "2",
                                    "3": "Other Conventional",
                                    "4": "0.6"
                                },
                                {
                                    "0": "Percent 30 or 60 Days Past Due Date",
                                    "1": "2019",
                                    "2": "3",
                                    "3": "Other Conventional",
                                    "4": "0.6"
                                },
                                {
                                    "0": "Percent 30 or 60 Days Past Due Date",
                                    "1": "2019",
                                    "2": "4",
                                    "3": "Other Conventional",
                                    "4": "0.6"
                                },
                                {
                                    "0": "Percent 30 or 60 Days Past Due Date",
                                    "1": "2020",
                                    "2": "1",
                                    "3": "Other Conventional",
                                    "4": "0.7"
                                },
                                {
                                    "0": "Percent 30 or 60 Days Past Due Date",
                                    "1": "2020",
                                    "2": "2",
                                    "3": "Other Conventional",
                                    "4": "0.3"
                                },
                                {
                                    "0": "Percent 30 or 60 Days Past Due Date",
                                    "1": "2020",
                                    "2": "3",
                                    "3": "Other Conventional",
                                    "4": "0.2"
                                },
                                {
                                    "0": "Percent 30 or 60 Days Past Due Date",
                                    "1": "2020",
                                    "2": "4",
                                    "3": "Other Conventional",
                                    "4": "0.2"
                                },
                                {
                                    "0": "Percent 30 or 60 Days Past Due Date",
                                    "1": "2021",
                                    "2": "1",
                                    "3": "Other Conventional",
                                    "4": "0.2"
                                },
                                {
                                    "0": "Percent 30 or 60 Days Past Due Date",
                                    "1": "2021",
                                    "2": "2",
                                    "3": "Other Conventional",
                                    "4": "0.3"
                                },
                                {
                                    "0": "Percent 30 or 60 Days Past Due Date",
                                    "1": "2021",
                                    "2": "3",
                                    "3": "Other Conventional",
                                    "4": "0.4"
                                },
                                {
                                    "0": "Percent 30 or 60 Days Past Due Date",
                                    "1": "2021",
                                    "2": "4",
                                    "3": "Other Conventional",
                                    "4": "0.3"
                                },
                                {
                                    "0": "Percent 30 or 60 Days Past Due Date",
                                    "1": "2022",
                                    "2": "1",
                                    "3": "Other Conventional",
                                    "4": "0.4"
                                },
                                {
                                    "0": "Percent 90 to 180 Days Past Due Date",
                                    "1": "2002",
                                    "2": "1",
                                    "3": "Other Conventional",
                                    "4": "0.5"
                                },
                                {
                                    "0": "Percent 90 to 180 Days Past Due Date",
                                    "1": "2002",
                                    "2": "2",
                                    "3": "Other Conventional",
                                    "4": "0.6"
                                },
                                {
                                    "0": "Percent 90 to 180 Days Past Due Date",
                                    "1": "2002",
                                    "2": "3",
                                    "3": "Other Conventional",
                                    "4": "0.7"
                                },
                                {
                                    "0": "Percent 90 to 180 Days Past Due Date",
                                    "1": "2002",
                                    "2": "4",
                                    "3": "Other Conventional",
                                    "4": "0.7"
                                },
                                {
                                    "0": "Percent 90 to 180 Days Past Due Date",
                                    "1": "2003",
                                    "2": "1",
                                    "3": "Other Conventional",
                                    "4": "0.7"
                                },
                                {
                                    "0": "Percent 90 to 180 Days Past Due Date",
                                    "1": "2003",
                                    "2": "2",
                                    "3": "Other Conventional",
                                    "4": "0.8"
                                },
                                {
                                    "0": "Percent 90 to 180 Days Past Due Date",
                                    "1": "2003",
                                    "2": "3",
                                    "3": "Other Conventional",
                                    "4": "0.9"
                                },
                                {
                                    "0": "Percent 90 to 180 Days Past Due Date",
                                    "1": "2003",
                                    "2": "4",
                                    "3": "Other Conventional",
                                    "4": "0.9"
                                },
                                {
                                    "0": "Percent 90 to 180 Days Past Due Date",
                                    "1": "2004",
                                    "2": "1",
                                    "3": "Other Conventional",
                                    "4": "0.8"
                                },
                                {
                                    "0": "Percent 90 to 180 Days Past Due Date",
                                    "1": "2004",
                                    "2": "2",
                                    "3": "Other Conventional",
                                    "4": "0.6"
                                },
                                {
                                    "0": "Percent 90 to 180 Days Past Due Date",
                                    "1": "2004",
                                    "2": "3",
                                    "3": "Other Conventional",
                                    "4": "0.6"
                                },
                                {
                                    "0": "Percent 90 to 180 Days Past Due Date",
                                    "1": "2004",
                                    "2": "4",
                                    "3": "Other Conventional",
                                    "4": "0.8"
                                },
                                {
                                    "0": "Percent 90 to 180 Days Past Due Date",
                                    "1": "2005",
                                    "2": "1",
                                    "3": "Other Conventional",
                                    "4": "0.8"
                                },
                                {
                                    "0": "Percent 90 to 180 Days Past Due Date",
                                    "1": "2005",
                                    "2": "2",
                                    "3": "Other Conventional",
                                    "4": "0.7"
                                },
                                {
                                    "0": "Percent 90 to 180 Days Past Due Date",
                                    "1": "2005",
                                    "2": "3",
                                    "3": "Other Conventional",
                                    "4": "0.7"
                                },
                                {
                                    "0": "Percent 90 to 180 Days Past Due Date",
                                    "1": "2005",
                                    "2": "4",
                                    "3": "Other Conventional",
                                    "4": "0.5"
                                },
                                {
                                    "0": "Percent 90 to 180 Days Past Due Date",
                                    "1": "2006",
                                    "2": "1",
                                    "3": "Other Conventional",
                                    "4": "0.5"
                                },
                                {
                                    "0": "Percent 90 to 180 Days Past Due Date",
                                    "1": "2006",
                                    "2": "2",
                                    "3": "Other Conventional",
                                    "4": "0.6"
                                },
                                {
                                    "0": "Percent 90 to 180 Days Past Due Date",
                                    "1": "2006",
                                    "2": "3",
                                    "3": "Other Conventional",
                                    "4": "0.8"
                                },
                                {
                                    "0": "Percent 90 to 180 Days Past Due Date",
                                    "1": "2006",
                                    "2": "4",
                                    "3": "Other Conventional",
                                    "4": "0.8"
                                },
                                {
                                    "0": "Percent 90 to 180 Days Past Due Date",
                                    "1": "2007",
                                    "2": "1",
                                    "3": "Other Conventional",
                                    "4": "0.7"
                                },
                                {
                                    "0": "Percent 90 to 180 Days Past Due Date",
                                    "1": "2007",
                                    "2": "2",
                                    "3": "Other Conventional",
                                    "4": "0.7"
                                },
                                {
                                    "0": "Percent 90 to 180 Days Past Due Date",
                                    "1": "2007",
                                    "2": "3",
                                    "3": "Other Conventional",
                                    "4": "1.0"
                                },
                                {
                                    "0": "Percent 90 to 180 Days Past Due Date",
                                    "1": "2007",
                                    "2": "4",
                                    "3": "Other Conventional",
                                    "4": "1.2"
                                },
                                {
                                    "0": "Percent 90 to 180 Days Past Due Date",
                                    "1": "2008",
                                    "2": "1",
                                    "3": "Other Conventional",
                                    "4": "1.4"
                                },
                                {
                                    "0": "Percent 90 to 180 Days Past Due Date",
                                    "1": "2008",
                                    "2": "2",
                                    "3": "Other Conventional",
                                    "4": "1.8"
                                },
                                {
                                    "0": "Percent 90 to 180 Days Past Due Date",
                                    "1": "2008",
                                    "2": "3",
                                    "3": "Other Conventional",
                                    "4": "2.0"
                                },
                                {
                                    "0": "Percent 90 to 180 Days Past Due Date",
                                    "1": "2008",
                                    "2": "4",
                                    "3": "Other Conventional",
                                    "4": "2.7"
                                },
                                {
                                    "0": "Percent 90 to 180 Days Past Due Date",
                                    "1": "2009",
                                    "2": "1",
                                    "3": "Other Conventional",
                                    "4": "4.1"
                                },
                                {
                                    "0": "Percent 90 to 180 Days Past Due Date",
                                    "1": "2009",
                                    "2": "2",
                                    "3": "Other Conventional",
                                    "4": "4.9"
                                },
                                {
                                    "0": "Percent 90 to 180 Days Past Due Date",
                                    "1": "2009",
                                    "2": "3",
                                    "3": "Other Conventional",
                                    "4": "6.3"
                                },
                                {
                                    "0": "Percent 90 to 180 Days Past Due Date",
                                    "1": "2009",
                                    "2": "4",
                                    "3": "Other Conventional",
                                    "4": "7.5"
                                },
                                {
                                    "0": "Percent 90 to 180 Days Past Due Date",
                                    "1": "2010",
                                    "2": "1",
                                    "3": "Other Conventional",
                                    "4": "8.0"
                                },
                                {
                                    "0": "Percent 90 to 180 Days Past Due Date",
                                    "1": "2010",
                                    "2": "2",
                                    "3": "Other Conventional",
                                    "4": "8.4"
                                },
                                {
                                    "0": "Percent 90 to 180 Days Past Due Date",
                                    "1": "2010",
                                    "2": "3",
                                    "3": "Other Conventional",
                                    "4": "8.6"
                                },
                                {
                                    "0": "Percent 90 to 180 Days Past Due Date",
                                    "1": "2010",
                                    "2": "4",
                                    "3": "Other Conventional",
                                    "4": "8.8"
                                },
                                {
                                    "0": "Percent 90 to 180 Days Past Due Date",
                                    "1": "2011",
                                    "2": "1",
                                    "3": "Other Conventional",
                                    "4": "8.8"
                                },
                                {
                                    "0": "Percent 90 to 180 Days Past Due Date",
                                    "1": "2011",
                                    "2": "2",
                                    "3": "Other Conventional",
                                    "4": "9.0"
                                },
                                {
                                    "0": "Percent 90 to 180 Days Past Due Date",
                                    "1": "2011",
                                    "2": "3",
                                    "3": "Other Conventional",
                                    "4": "9.3"
                                },
                                {
                                    "0": "Percent 90 to 180 Days Past Due Date",
                                    "1": "2011",
                                    "2": "4",
                                    "3": "Other Conventional",
                                    "4": "9.7"
                                },
                                {
                                    "0": "Percent 90 to 180 Days Past Due Date",
                                    "1": "2012",
                                    "2": "1",
                                    "3": "Other Conventional",
                                    "4": "9.7"
                                },
                                {
                                    "0": "Percent 90 to 180 Days Past Due Date",
                                    "1": "2012",
                                    "2": "2",
                                    "3": "Other Conventional",
                                    "4": "9.1"
                                },
                                {
                                    "0": "Percent 90 to 180 Days Past Due Date",
                                    "1": "2012",
                                    "2": "3",
                                    "3": "Other Conventional",
                                    "4": "8.7"
                                },
                                {
                                    "0": "Percent 90 to 180 Days Past Due Date",
                                    "1": "2012",
                                    "2": "4",
                                    "3": "Other Conventional",
                                    "4": "7.7"
                                },
                                {
                                    "0": "Percent 90 to 180 Days Past Due Date",
                                    "1": "2013",
                                    "2": "1",
                                    "3": "Other Conventional",
                                    "4": "7.0"
                                },
                                {
                                    "0": "Percent 90 to 180 Days Past Due Date",
                                    "1": "2013",
                                    "2": "2",
                                    "3": "Other Conventional",
                                    "4": "6.5"
                                },
                                {
                                    "0": "Percent 90 to 180 Days Past Due Date",
                                    "1": "2013",
                                    "2": "3",
                                    "3": "Other Conventional",
                                    "4": "5.8"
                                },
                                {
                                    "0": "Percent 90 to 180 Days Past Due Date",
                                    "1": "2013",
                                    "2": "4",
                                    "3": "Other Conventional",
                                    "4": "5.6"
                                },
                                {
                                    "0": "Percent 90 to 180 Days Past Due Date",
                                    "1": "2014",
                                    "2": "1",
                                    "3": "Other Conventional",
                                    "4": "4.8"
                                },
                                {
                                    "0": "Percent 90 to 180 Days Past Due Date",
                                    "1": "2014",
                                    "2": "2",
                                    "3": "Other Conventional",
                                    "4": "4.7"
                                },
                                {
                                    "0": "Percent 90 to 180 Days Past Due Date",
                                    "1": "2014",
                                    "2": "3",
                                    "3": "Other Conventional",
                                    "4": "4.5"
                                },
                                {
                                    "0": "Percent 90 to 180 Days Past Due Date",
                                    "1": "2014",
                                    "2": "4",
                                    "3": "Other Conventional",
                                    "4": "3.8"
                                },
                                {
                                    "0": "Percent 90 to 180 Days Past Due Date",
                                    "1": "2015",
                                    "2": "1",
                                    "3": "Other Conventional",
                                    "4": "3.4"
                                },
                                {
                                    "0": "Percent 90 to 180 Days Past Due Date",
                                    "1": "2015",
                                    "2": "2",
                                    "3": "Other Conventional",
                                    "4": "3.0"
                                },
                                {
                                    "0": "Percent 90 to 180 Days Past Due Date",
                                    "1": "2015",
                                    "2": "3",
                                    "3": "Other Conventional",
                                    "4": "2.9"
                                },
                                {
                                    "0": "Percent 90 to 180 Days Past Due Date",
                                    "1": "2015",
                                    "2": "4",
                                    "3": "Other Conventional",
                                    "4": "2.3"
                                },
                                {
                                    "0": "Percent 90 to 180 Days Past Due Date",
                                    "1": "2016",
                                    "2": "1",
                                    "3": "Other Conventional",
                                    "4": "2.1"
                                },
                                {
                                    "0": "Percent 90 to 180 Days Past Due Date",
                                    "1": "2016",
                                    "2": "2",
                                    "3": "Other Conventional",
                                    "4": "1.9"
                                },
                                {
                                    "0": "Percent 90 to 180 Days Past Due Date",
                                    "1": "2016",
                                    "2": "3",
                                    "3": "Other Conventional",
                                    "4": "1.7"
                                },
                                {
                                    "0": "Percent 90 to 180 Days Past Due Date",
                                    "1": "2016",
                                    "2": "4",
                                    "3": "Other Conventional",
                                    "4": "1.3"
                                },
                                {
                                    "0": "Percent 90 to 180 Days Past Due Date",
                                    "1": "2017",
                                    "2": "1",
                                    "3": "Other Conventional",
                                    "4": "1.3"
                                },
                                {
                                    "0": "Percent 90 to 180 Days Past Due Date",
                                    "1": "2017",
                                    "2": "2",
                                    "3": "Other Conventional",
                                    "4": "1.0"
                                },
                                {
                                    "0": "Percent 90 to 180 Days Past Due Date",
                                    "1": "2017",
                                    "2": "3",
                                    "3": "Other Conventional",
                                    "4": "0.8"
                                },
                                {
                                    "0": "Percent 90 to 180 Days Past Due Date",
                                    "1": "2017",
                                    "2": "4",
                                    "3": "Other Conventional",
                                    "4": "0.8"
                                },
                                {
                                    "0": "Percent 90 to 180 Days Past Due Date",
                                    "1": "2018",
                                    "2": "1",
                                    "3": "Other Conventional",
                                    "4": "0.6"
                                },
                                {
                                    "0": "Percent 90 to 180 Days Past Due Date",
                                    "1": "2018",
                                    "2": "2",
                                    "3": "Other Conventional",
                                    "4": "0.5"
                                },
                                {
                                    "0": "Percent 90 to 180 Days Past Due Date",
                                    "1": "2018",
                                    "2": "3",
                                    "3": "Other Conventional",
                                    "4": "0.5"
                                },
                                {
                                    "0": "Percent 90 to 180 Days Past Due Date",
                                    "1": "2018",
                                    "2": "4",
                                    "3": "Other Conventional",
                                    "4": "0.6"
                                },
                                {
                                    "0": "Percent 90 to 180 Days Past Due Date",
                                    "1": "2019",
                                    "2": "1",
                                    "3": "Other Conventional",
                                    "4": "0.4"
                                },
                                {
                                    "0": "Percent 90 to 180 Days Past Due Date",
                                    "1": "2019",
                                    "2": "2",
                                    "3": "Other Conventional",
                                    "4": "0.3"
                                },
                                {
                                    "0": "Percent 90 to 180 Days Past Due Date",
                                    "1": "2019",
                                    "2": "3",
                                    "3": "Other Conventional",
                                    "4": "0.3"
                                },
                                {
                                    "0": "Percent 90 to 180 Days Past Due Date",
                                    "1": "2019",
                                    "2": "4",
                                    "3": "Other Conventional",
                                    "4": "0.2"
                                },
                                {
                                    "0": "Percent 90 to 180 Days Past Due Date",
                                    "1": "2020",
                                    "2": "1",
                                    "3": "Other Conventional",
                                    "4": "0.2"
                                },
                                {
                                    "0": "Percent 90 to 180 Days Past Due Date",
                                    "1": "2020",
                                    "2": "2",
                                    "3": "Other Conventional",
                                    "4": "0.4"
                                },
                                {
                                    "0": "Percent 90 to 180 Days Past Due Date",
                                    "1": "2020",
                                    "2": "3",
                                    "3": "Other Conventional",
                                    "4": "0.4"
                                },
                                {
                                    "0": "Percent 90 to 180 Days Past Due Date",
                                    "1": "2020",
                                    "2": "4",
                                    "3": "Other Conventional",
                                    "4": "0.4"
                                },
                                {
                                    "0": "Percent 90 to 180 Days Past Due Date",
                                    "1": "2021",
                                    "2": "1",
                                    "3": "Other Conventional",
                                    "4": "0.3"
                                },
                                {
                                    "0": "Percent 90 to 180 Days Past Due Date",
                                    "1": "2021",
                                    "2": "2",
                                    "3": "Other Conventional",
                                    "4": "0.3"
                                },
                                {
                                    "0": "Percent 90 to 180 Days Past Due Date",
                                    "1": "2021",
                                    "2": "3",
                                    "3": "Other Conventional",
                                    "4": "0.3"
                                },
                                {
                                    "0": "Percent 90 to 180 Days Past Due Date",
                                    "1": "2021",
                                    "2": "4",
                                    "3": "Other Conventional",
                                    "4": "0.3"
                                },
                                {
                                    "0": "Percent 90 to 180 Days Past Due Date",
                                    "1": "2022",
                                    "2": "1",
                                    "3": "Other Conventional",
                                    "4": "0.3"
                                },
                                {
                                    "0": "Percent in the Process of Foreclosure, Bankruptcy, or Deed in Lieu",
                                    "1": "2002",
                                    "2": "1",
                                    "3": "Other Conventional",
                                    "4": "1.5"
                                },
                                {
                                    "0": "Percent in the Process of Foreclosure, Bankruptcy, or Deed in Lieu",
                                    "1": "2002",
                                    "2": "2",
                                    "3": "Other Conventional",
                                    "4": "1.7"
                                },
                                {
                                    "0": "Percent in the Process of Foreclosure, Bankruptcy, or Deed in Lieu",
                                    "1": "2002",
                                    "2": "3",
                                    "3": "Other Conventional",
                                    "4": "1.7"
                                },
                                {
                                    "0": "Percent in the Process of Foreclosure, Bankruptcy, or Deed in Lieu",
                                    "1": "2002",
                                    "2": "4",
                                    "3": "Other Conventional",
                                    "4": "1.9"
                                },
                                {
                                    "0": "Percent in the Process of Foreclosure, Bankruptcy, or Deed in Lieu",
                                    "1": "2003",
                                    "2": "1",
                                    "3": "Other Conventional",
                                    "4": "1.8"
                                },
                                {
                                    "0": "Percent in the Process of Foreclosure, Bankruptcy, or Deed in Lieu",
                                    "1": "2003",
                                    "2": "2",
                                    "3": "Other Conventional",
                                    "4": "1.7"
                                },
                                {
                                    "0": "Percent in the Process of Foreclosure, Bankruptcy, or Deed in Lieu",
                                    "1": "2003",
                                    "2": "3",
                                    "3": "Other Conventional",
                                    "4": "1.6"
                                },
                                {
                                    "0": "Percent in the Process of Foreclosure, Bankruptcy, or Deed in Lieu",
                                    "1": "2003",
                                    "2": "4",
                                    "3": "Other Conventional",
                                    "4": "1.7"
                                },
                                {
                                    "0": "Percent in the Process of Foreclosure, Bankruptcy, or Deed in Lieu",
                                    "1": "2004",
                                    "2": "1",
                                    "3": "Other Conventional",
                                    "4": "1.7"
                                },
                                {
                                    "0": "Percent in the Process of Foreclosure, Bankruptcy, or Deed in Lieu",
                                    "1": "2004",
                                    "2": "2",
                                    "3": "Other Conventional",
                                    "4": "1.5"
                                },
                                {
                                    "0": "Percent in the Process of Foreclosure, Bankruptcy, or Deed in Lieu",
                                    "1": "2004",
                                    "2": "3",
                                    "3": "Other Conventional",
                                    "4": "1.4"
                                },
                                {
                                    "0": "Percent in the Process of Foreclosure, Bankruptcy, or Deed in Lieu",
                                    "1": "2004",
                                    "2": "4",
                                    "3": "Other Conventional",
                                    "4": "1.2"
                                },
                                {
                                    "0": "Percent in the Process of Foreclosure, Bankruptcy, or Deed in Lieu",
                                    "1": "2005",
                                    "2": "1",
                                    "3": "Other Conventional",
                                    "4": "1.1"
                                },
                                {
                                    "0": "Percent in the Process of Foreclosure, Bankruptcy, or Deed in Lieu",
                                    "1": "2005",
                                    "2": "2",
                                    "3": "Other Conventional",
                                    "4": "0.9"
                                },
                                {
                                    "0": "Percent in the Process of Foreclosure, Bankruptcy, or Deed in Lieu",
                                    "1": "2005",
                                    "2": "3",
                                    "3": "Other Conventional",
                                    "4": "0.8"
                                },
                                {
                                    "0": "Percent in the Process of Foreclosure, Bankruptcy, or Deed in Lieu",
                                    "1": "2005",
                                    "2": "4",
                                    "3": "Other Conventional",
                                    "4": "0.8"
                                },
                                {
                                    "0": "Percent in the Process of Foreclosure, Bankruptcy, or Deed in Lieu",
                                    "1": "2006",
                                    "2": "1",
                                    "3": "Other Conventional",
                                    "4": "0.7"
                                },
                                {
                                    "0": "Percent in the Process of Foreclosure, Bankruptcy, or Deed in Lieu",
                                    "1": "2006",
                                    "2": "2",
                                    "3": "Other Conventional",
                                    "4": "0.6"
                                },
                                {
                                    "0": "Percent in the Process of Foreclosure, Bankruptcy, or Deed in Lieu",
                                    "1": "2006",
                                    "2": "3",
                                    "3": "Other Conventional",
                                    "4": "0.6"
                                },
                                {
                                    "0": "Percent in the Process of Foreclosure, Bankruptcy, or Deed in Lieu",
                                    "1": "2006",
                                    "2": "4",
                                    "3": "Other Conventional",
                                    "4": "0.6"
                                },
                                {
                                    "0": "Percent in the Process of Foreclosure, Bankruptcy, or Deed in Lieu",
                                    "1": "2007",
                                    "2": "1",
                                    "3": "Other Conventional",
                                    "4": "0.6"
                                },
                                {
                                    "0": "Percent in the Process of Foreclosure, Bankruptcy, or Deed in Lieu",
                                    "1": "2007",
                                    "2": "2",
                                    "3": "Other Conventional",
                                    "4": "0.7"
                                },
                                {
                                    "0": "Percent in the Process of Foreclosure, Bankruptcy, or Deed in Lieu",
                                    "1": "2007",
                                    "2": "3",
                                    "3": "Other Conventional",
                                    "4": "0.7"
                                },
                                {
                                    "0": "Percent in the Process of Foreclosure, Bankruptcy, or Deed in Lieu",
                                    "1": "2007",
                                    "2": "4",
                                    "3": "Other Conventional",
                                    "4": "0.8"
                                },
                                {
                                    "0": "Percent in the Process of Foreclosure, Bankruptcy, or Deed in Lieu",
                                    "1": "2008",
                                    "2": "1",
                                    "3": "Other Conventional",
                                    "4": "1.2"
                                },
                                {
                                    "0": "Percent in the Process of Foreclosure, Bankruptcy, or Deed in Lieu",
                                    "1": "2008",
                                    "2": "2",
                                    "3": "Other Conventional",
                                    "4": "1.6"
                                },
                                {
                                    "0": "Percent in the Process of Foreclosure, Bankruptcy, or Deed in Lieu",
                                    "1": "2008",
                                    "2": "3",
                                    "3": "Other Conventional",
                                    "4": "2.0"
                                },
                                {
                                    "0": "Percent in the Process of Foreclosure, Bankruptcy, or Deed in Lieu",
                                    "1": "2008",
                                    "2": "4",
                                    "3": "Other Conventional",
                                    "4": "2.1"
                                },
                                {
                                    "0": "Percent in the Process of Foreclosure, Bankruptcy, or Deed in Lieu",
                                    "1": "2009",
                                    "2": "1",
                                    "3": "Other Conventional",
                                    "4": "2.7"
                                },
                                {
                                    "0": "Percent in the Process of Foreclosure, Bankruptcy, or Deed in Lieu",
                                    "1": "2009",
                                    "2": "2",
                                    "3": "Other Conventional",
                                    "4": "3.8"
                                },
                                {
                                    "0": "Percent in the Process of Foreclosure, Bankruptcy, or Deed in Lieu",
                                    "1": "2009",
                                    "2": "3",
                                    "3": "Other Conventional",
                                    "4": "4.0"
                                },
                                {
                                    "0": "Percent in the Process of Foreclosure, Bankruptcy, or Deed in Lieu",
                                    "1": "2009",
                                    "2": "4",
                                    "3": "Other Conventional",
                                    "4": "3.9"
                                },
                                {
                                    "0": "Percent in the Process of Foreclosure, Bankruptcy, or Deed in Lieu",
                                    "1": "2010",
                                    "2": "1",
                                    "3": "Other Conventional",
                                    "4": "4.3"
                                },
                                {
                                    "0": "Percent in the Process of Foreclosure, Bankruptcy, or Deed in Lieu",
                                    "1": "2010",
                                    "2": "2",
                                    "3": "Other Conventional",
                                    "4": "4.4"
                                },
                                {
                                    "0": "Percent in the Process of Foreclosure, Bankruptcy, or Deed in Lieu",
                                    "1": "2010",
                                    "2": "3",
                                    "3": "Other Conventional",
                                    "4": "4.7"
                                },
                                {
                                    "0": "Percent in the Process of Foreclosure, Bankruptcy, or Deed in Lieu",
                                    "1": "2010",
                                    "2": "4",
                                    "3": "Other Conventional",
                                    "4": "5.1"
                                },
                                {
                                    "0": "Percent in the Process of Foreclosure, Bankruptcy, or Deed in Lieu",
                                    "1": "2011",
                                    "2": "1",
                                    "3": "Other Conventional",
                                    "4": "5.0"
                                },
                                {
                                    "0": "Percent in the Process of Foreclosure, Bankruptcy, or Deed in Lieu",
                                    "1": "2011",
                                    "2": "2",
                                    "3": "Other Conventional",
                                    "4": "5.3"
                                },
                                {
                                    "0": "Percent in the Process of Foreclosure, Bankruptcy, or Deed in Lieu",
                                    "1": "2011",
                                    "2": "3",
                                    "3": "Other Conventional",
                                    "4": "4.7"
                                },
                                {
                                    "0": "Percent in the Process of Foreclosure, Bankruptcy, or Deed in Lieu",
                                    "1": "2011",
                                    "2": "4",
                                    "3": "Other Conventional",
                                    "4": "3.8"
                                },
                                {
                                    "0": "Percent in the Process of Foreclosure, Bankruptcy, or Deed in Lieu",
                                    "1": "2012",
                                    "2": "1",
                                    "3": "Other Conventional",
                                    "4": "3.9"
                                },
                                {
                                    "0": "Percent in the Process of Foreclosure, Bankruptcy, or Deed in Lieu",
                                    "1": "2012",
                                    "2": "2",
                                    "3": "Other Conventional",
                                    "4": "4.2"
                                },
                                {
                                    "0": "Percent in the Process of Foreclosure, Bankruptcy, or Deed in Lieu",
                                    "1": "2012",
                                    "2": "3",
                                    "3": "Other Conventional",
                                    "4": "4.4"
                                },
                                {
                                    "0": "Percent in the Process of Foreclosure, Bankruptcy, or Deed in Lieu",
                                    "1": "2012",
                                    "2": "4",
                                    "3": "Other Conventional",
                                    "4": "4.2"
                                },
                                {
                                    "0": "Percent in the Process of Foreclosure, Bankruptcy, or Deed in Lieu",
                                    "1": "2013",
                                    "2": "1",
                                    "3": "Other Conventional",
                                    "4": "4.3"
                                },
                                {
                                    "0": "Percent in the Process of Foreclosure, Bankruptcy, or Deed in Lieu",
                                    "1": "2013",
                                    "2": "2",
                                    "3": "Other Conventional",
                                    "4": "3.7"
                                },
                                {
                                    "0": "Percent in the Process of Foreclosure, Bankruptcy, or Deed in Lieu",
                                    "1": "2013",
                                    "2": "3",
                                    "3": "Other Conventional",
                                    "4": "3.3"
                                },
                                {
                                    "0": "Percent in the Process of Foreclosure, Bankruptcy, or Deed in Lieu",
                                    "1": "2013",
                                    "2": "4",
                                    "3": "Other Conventional",
                                    "4": "2.6"
                                },
                                {
                                    "0": "Percent in the Process of Foreclosure, Bankruptcy, or Deed in Lieu",
                                    "1": "2014",
                                    "2": "1",
                                    "3": "Other Conventional",
                                    "4": "2.6"
                                },
                                {
                                    "0": "Percent in the Process of Foreclosure, Bankruptcy, or Deed in Lieu",
                                    "1": "2014",
                                    "2": "2",
                                    "3": "Other Conventional",
                                    "4": "2.6"
                                },
                                {
                                    "0": "Percent in the Process of Foreclosure, Bankruptcy, or Deed in Lieu",
                                    "1": "2014",
                                    "2": "3",
                                    "3": "Other Conventional",
                                    "4": "2.2"
                                },
                                {
                                    "0": "Percent in the Process of Foreclosure, Bankruptcy, or Deed in Lieu",
                                    "1": "2014",
                                    "2": "4",
                                    "3": "Other Conventional",
                                    "4": "2.3"
                                },
                                {
                                    "0": "Percent in the Process of Foreclosure, Bankruptcy, or Deed in Lieu",
                                    "1": "2015",
                                    "2": "1",
                                    "3": "Other Conventional",
                                    "4": "2.1"
                                },
                                {
                                    "0": "Percent in the Process of Foreclosure, Bankruptcy, or Deed in Lieu",
                                    "1": "2015",
                                    "2": "2",
                                    "3": "Other Conventional",
                                    "4": "2.0"
                                },
                                {
                                    "0": "Percent in the Process of Foreclosure, Bankruptcy, or Deed in Lieu",
                                    "1": "2015",
                                    "2": "3",
                                    "3": "Other Conventional",
                                    "4": "1.8"
                                },
                                {
                                    "0": "Percent in the Process of Foreclosure, Bankruptcy, or Deed in Lieu",
                                    "1": "2015",
                                    "2": "4",
                                    "3": "Other Conventional",
                                    "4": "1.8"
                                },
                                {
                                    "0": "Percent in the Process of Foreclosure, Bankruptcy, or Deed in Lieu",
                                    "1": "2016",
                                    "2": "1",
                                    "3": "Other Conventional",
                                    "4": "1.4"
                                },
                                {
                                    "0": "Percent in the Process of Foreclosure, Bankruptcy, or Deed in Lieu",
                                    "1": "2016",
                                    "2": "2",
                                    "3": "Other Conventional",
                                    "4": "1.2"
                                },
                                {
                                    "0": "Percent in the Process of Foreclosure, Bankruptcy, or Deed in Lieu",
                                    "1": "2016",
                                    "2": "3",
                                    "3": "Other Conventional",
                                    "4": "1.1"
                                },
                                {
                                    "0": "Percent in the Process of Foreclosure, Bankruptcy, or Deed in Lieu",
                                    "1": "2016",
                                    "2": "4",
                                    "3": "Other Conventional",
                                    "4": "1.0"
                                },
                                {
                                    "0": "Percent in the Process of Foreclosure, Bankruptcy, or Deed in Lieu",
                                    "1": "2017",
                                    "2": "1",
                                    "3": "Other Conventional",
                                    "4": "0.9"
                                },
                                {
                                    "0": "Percent in the Process of Foreclosure, Bankruptcy, or Deed in Lieu",
                                    "1": "2017",
                                    "2": "2",
                                    "3": "Other Conventional",
                                    "4": "0.8"
                                },
                                {
                                    "0": "Percent in the Process of Foreclosure, Bankruptcy, or Deed in Lieu",
                                    "1": "2017",
                                    "2": "3",
                                    "3": "Other Conventional",
                                    "4": "0.8"
                                },
                                {
                                    "0": "Percent in the Process of Foreclosure, Bankruptcy, or Deed in Lieu",
                                    "1": "2017",
                                    "2": "4",
                                    "3": "Other Conventional",
                                    "4": "0.5"
                                },
                                {
                                    "0": "Percent in the Process of Foreclosure, Bankruptcy, or Deed in Lieu",
                                    "1": "2018",
                                    "2": "1",
                                    "3": "Other Conventional",
                                    "4": "0.4"
                                },
                                {
                                    "0": "Percent in the Process of Foreclosure, Bankruptcy, or Deed in Lieu",
                                    "1": "2018",
                                    "2": "2",
                                    "3": "Other Conventional",
                                    "4": "0.4"
                                },
                                {
                                    "0": "Percent in the Process of Foreclosure, Bankruptcy, or Deed in Lieu",
                                    "1": "2018",
                                    "2": "3",
                                    "3": "Other Conventional",
                                    "4": "0.3"
                                },
                                {
                                    "0": "Percent in the Process of Foreclosure, Bankruptcy, or Deed in Lieu",
                                    "1": "2018",
                                    "2": "4",
                                    "3": "Other Conventional",
                                    "4": "0.2"
                                },
                                {
                                    "0": "Percent in the Process of Foreclosure, Bankruptcy, or Deed in Lieu",
                                    "1": "2019",
                                    "2": "1",
                                    "3": "Other Conventional",
                                    "4": "0.3"
                                },
                                {
                                    "0": "Percent in the Process of Foreclosure, Bankruptcy, or Deed in Lieu",
                                    "1": "2019",
                                    "2": "2",
                                    "3": "Other Conventional",
                                    "4": "0.2"
                                },
                                {
                                    "0": "Percent in the Process of Foreclosure, Bankruptcy, or Deed in Lieu",
                                    "1": "2019",
                                    "2": "3",
                                    "3": "Other Conventional",
                                    "4": "0.2"
                                },
                                {
                                    "0": "Percent in the Process of Foreclosure, Bankruptcy, or Deed in Lieu",
                                    "1": "2019",
                                    "2": "4",
                                    "3": "Other Conventional",
                                    "4": "0.2"
                                },
                                {
                                    "0": "Percent in the Process of Foreclosure, Bankruptcy, or Deed in Lieu",
                                    "1": "2020",
                                    "2": "1",
                                    "3": "Other Conventional",
                                    "4": "0.1"
                                },
                                {
                                    "0": "Percent in the Process of Foreclosure, Bankruptcy, or Deed in Lieu",
                                    "1": "2020",
                                    "2": "2",
                                    "3": "Other Conventional",
                                    "4": "0.1"
                                },
                                {
                                    "0": "Percent in the Process of Foreclosure, Bankruptcy, or Deed in Lieu",
                                    "1": "2020",
                                    "2": "3",
                                    "3": "Other Conventional",
                                    "4": "0.2"
                                },
                                {
                                    "0": "Percent in the Process of Foreclosure, Bankruptcy, or Deed in Lieu",
                                    "1": "2020",
                                    "2": "4",
                                    "3": "Other Conventional",
                                    "4": "0.2"
                                },
                                {
                                    "0": "Percent in the Process of Foreclosure, Bankruptcy, or Deed in Lieu",
                                    "1": "2021",
                                    "2": "1",
                                    "3": "Other Conventional",
                                    "4": "0.2"
                                },
                                {
                                    "0": "Percent in the Process of Foreclosure, Bankruptcy, or Deed in Lieu",
                                    "1": "2021",
                                    "2": "2",
                                    "3": "Other Conventional",
                                    "4": "0.2"
                                },
                                {
                                    "0": "Percent in the Process of Foreclosure, Bankruptcy, or Deed in Lieu",
                                    "1": "2021",
                                    "2": "3",
                                    "3": "Other Conventional",
                                    "4": "0.1"
                                },
                                {
                                    "0": "Percent in the Process of Foreclosure, Bankruptcy, or Deed in Lieu",
                                    "1": "2021",
                                    "2": "4",
                                    "3": "Other Conventional",
                                    "4": "0.1"
                                },
                                {
                                    "0": "Percent in the Process of Foreclosure, Bankruptcy, or Deed in Lieu",
                                    "1": "2022",
                                    "2": "1",
                                    "3": "Other Conventional",
                                    "4": "0.2"
                                }
                            ]
                        },
                        "text/html": "<table><tr><th>SERIES</th><th>YEAR</th><th>QUARTER</th><th>MARKET</th><th>VALUE</th></tr><tr><td>Percent 30 or 60 Days Past Due Date</td><td>2002</td><td>1</td><td>Other Conventional</td><td>2.1</td></tr><tr><td>Percent 30 or 60 Days Past Due Date</td><td>2002</td><td>2</td><td>Other Conventional</td><td>1.9</td></tr><tr><td>Percent 30 or 60 Days Past Due Date</td><td>2002</td><td>3</td><td>Other Conventional</td><td>2.2</td></tr><tr><td>Percent 30 or 60 Days Past Due Date</td><td>2002</td><td>4</td><td>Other Conventional</td><td>2.3</td></tr><tr><td>Percent 30 or 60 Days Past Due Date</td><td>2003</td><td>1</td><td>Other Conventional</td><td>2.0</td></tr><tr><td>Percent 30 or 60 Days Past Due Date</td><td>2003</td><td>2</td><td>Other Conventional</td><td>1.8</td></tr><tr><td>Percent 30 or 60 Days Past Due Date</td><td>2003</td><td>3</td><td>Other Conventional</td><td>1.8</td></tr><tr><td>Percent 30 or 60 Days Past Due Date</td><td>2003</td><td>4</td><td>Other Conventional</td><td>2.1</td></tr><tr><td>Percent 30 or 60 Days Past Due Date</td><td>2004</td><td>1</td><td>Other Conventional</td><td>1.8</td></tr><tr><td>Percent 30 or 60 Days Past Due Date</td><td>2004</td><td>2</td><td>Other Conventional</td><td>1.7</td></tr><tr><td>Percent 30 or 60 Days Past Due Date</td><td>2004</td><td>3</td><td>Other Conventional</td><td>1.6</td></tr><tr><td>Percent 30 or 60 Days Past Due Date</td><td>2004</td><td>4</td><td>Other Conventional</td><td>1.9</td></tr><tr><td>Percent 30 or 60 Days Past Due Date</td><td>2005</td><td>1</td><td>Other Conventional</td><td>1.7</td></tr><tr><td>Percent 30 or 60 Days Past Due Date</td><td>2005</td><td>2</td><td>Other Conventional</td><td>1.7</td></tr><tr><td>Percent 30 or 60 Days Past Due Date</td><td>2005</td><td>3</td><td>Other Conventional</td><td>1.7</td></tr><tr><td>Percent 30 or 60 Days Past Due Date</td><td>2005</td><td>4</td><td>Other Conventional</td><td>1.9</td></tr><tr><td>Percent 30 or 60 Days Past Due Date</td><td>2006</td><td>1</td><td>Other Conventional</td><td>1.7</td></tr><tr><td>Percent 30 or 60 Days Past Due Date</td><td>2006</td><td>2</td><td>Other Conventional</td><td>1.8</td></tr><tr><td>Percent 30 or 60 Days Past Due Date</td><td>2006</td><td>3</td><td>Other Conventional</td><td>1.9</td></tr><tr><td>Percent 30 or 60 Days Past Due Date</td><td>2006</td><td>4</td><td>Other Conventional</td><td>2.1</td></tr><tr><td>Percent 30 or 60 Days Past Due Date</td><td>2007</td><td>1</td><td>Other Conventional</td><td>2.0</td></tr><tr><td>Percent 30 or 60 Days Past Due Date</td><td>2007</td><td>2</td><td>Other Conventional</td><td>2.1</td></tr><tr><td>Percent 30 or 60 Days Past Due Date</td><td>2007</td><td>3</td><td>Other Conventional</td><td>2.4</td></tr><tr><td>Percent 30 or 60 Days Past Due Date</td><td>2007</td><td>4</td><td>Other Conventional</td><td>3.0</td></tr><tr><td>Percent 30 or 60 Days Past Due Date</td><td>2008</td><td>1</td><td>Other Conventional</td><td>2.9</td></tr><tr><td>Percent 30 or 60 Days Past Due Date</td><td>2008</td><td>2</td><td>Other Conventional</td><td>3.0</td></tr><tr><td>Percent 30 or 60 Days Past Due Date</td><td>2008</td><td>3</td><td>Other Conventional</td><td>3.2</td></tr><tr><td>Percent 30 or 60 Days Past Due Date</td><td>2008</td><td>4</td><td>Other Conventional</td><td>4.3</td></tr><tr><td>Percent 30 or 60 Days Past Due Date</td><td>2009</td><td>1</td><td>Other Conventional</td><td>4.3</td></tr><tr><td>Percent 30 or 60 Days Past Due Date</td><td>2009</td><td>2</td><td>Other Conventional</td><td>4.2</td></tr><tr><td>Percent 30 or 60 Days Past Due Date</td><td>2009</td><td>3</td><td>Other Conventional</td><td>4.1</td></tr><tr><td>Percent 30 or 60 Days Past Due Date</td><td>2009</td><td>4</td><td>Other Conventional</td><td>4.3</td></tr><tr><td>Percent 30 or 60 Days Past Due Date</td><td>2010</td><td>1</td><td>Other Conventional</td><td>3.7</td></tr><tr><td>Percent 30 or 60 Days Past Due Date</td><td>2010</td><td>2</td><td>Other Conventional</td><td>3.4</td></tr><tr><td>Percent 30 or 60 Days Past Due Date</td><td>2010</td><td>3</td><td>Other Conventional</td><td>3.2</td></tr><tr><td>Percent 30 or 60 Days Past Due Date</td><td>2010</td><td>4</td><td>Other Conventional</td><td>3.9</td></tr><tr><td>Percent 30 or 60 Days Past Due Date</td><td>2011</td><td>1</td><td>Other Conventional</td><td>3.2</td></tr><tr><td>Percent 30 or 60 Days Past Due Date</td><td>2011</td><td>2</td><td>Other Conventional</td><td>3.0</td></tr><tr><td>Percent 30 or 60 Days Past Due Date</td><td>2011</td><td>3</td><td>Other Conventional</td><td>3.9</td></tr><tr><td>Percent 30 or 60 Days Past Due Date</td><td>2011</td><td>4</td><td>Other Conventional</td><td>3.7</td></tr><tr><td>Percent 30 or 60 Days Past Due Date</td><td>2012</td><td>1</td><td>Other Conventional</td><td>3.2</td></tr><tr><td>Percent 30 or 60 Days Past Due Date</td><td>2012</td><td>2</td><td>Other Conventional</td><td>3.2</td></tr><tr><td>Percent 30 or 60 Days Past Due Date</td><td>2012</td><td>3</td><td>Other Conventional</td><td>3.0</td></tr><tr><td>Percent 30 or 60 Days Past Due Date</td><td>2012</td><td>4</td><td>Other Conventional</td><td>2.9</td></tr><tr><td>Percent 30 or 60 Days Past Due Date</td><td>2013</td><td>1</td><td>Other Conventional</td><td>2.6</td></tr><tr><td>Percent 30 or 60 Days Past Due Date</td><td>2013</td><td>2</td><td>Other Conventional</td><td>2.4</td></tr><tr><td>Percent 30 or 60 Days Past Due Date</td><td>2013</td><td>3</td><td>Other Conventional</td><td>2.0</td></tr><tr><td>Percent 30 or 60 Days Past Due Date</td><td>2013</td><td>4</td><td>Other Conventional</td><td>2.4</td></tr><tr><td>Percent 30 or 60 Days Past Due Date</td><td>2014</td><td>1</td><td>Other Conventional</td><td>2.5</td></tr><tr><td>Percent 30 or 60 Days Past Due Date</td><td>2014</td><td>2</td><td>Other Conventional</td><td>1.4</td></tr><tr><td>Percent 30 or 60 Days Past Due Date</td><td>2014</td><td>3</td><td>Other Conventional</td><td>1.8</td></tr><tr><td>Percent 30 or 60 Days Past Due Date</td><td>2014</td><td>4</td><td>Other Conventional</td><td>1.9</td></tr><tr><td>Percent 30 or 60 Days Past Due Date</td><td>2015</td><td>1</td><td>Other Conventional</td><td>1.4</td></tr><tr><td>Percent 30 or 60 Days Past Due Date</td><td>2015</td><td>2</td><td>Other Conventional</td><td>1.6</td></tr><tr><td>Percent 30 or 60 Days Past Due Date</td><td>2015</td><td>3</td><td>Other Conventional</td><td>1.8</td></tr><tr><td>Percent 30 or 60 Days Past Due Date</td><td>2015</td><td>4</td><td>Other Conventional</td><td>1.5</td></tr><tr><td>Percent 30 or 60 Days Past Due Date</td><td>2016</td><td>1</td><td>Other Conventional</td><td>1.4</td></tr><tr><td>Percent 30 or 60 Days Past Due Date</td><td>2016</td><td>2</td><td>Other Conventional</td><td>1.1</td></tr><tr><td>Percent 30 or 60 Days Past Due Date</td><td>2016</td><td>3</td><td>Other Conventional</td><td>1.2</td></tr><tr><td>Percent 30 or 60 Days Past Due Date</td><td>2016</td><td>4</td><td>Other Conventional</td><td>1.3</td></tr><tr><td>Percent 30 or 60 Days Past Due Date</td><td>2017</td><td>1</td><td>Other Conventional</td><td>1.0</td></tr><tr><td>Percent 30 or 60 Days Past Due Date</td><td>2017</td><td>2</td><td>Other Conventional</td><td>1.0</td></tr><tr><td>Percent 30 or 60 Days Past Due Date</td><td>2017</td><td>3</td><td>Other Conventional</td><td>0.9</td></tr><tr><td>Percent 30 or 60 Days Past Due Date</td><td>2017</td><td>4</td><td>Other Conventional</td><td>0.9</td></tr><tr><td>Percent 30 or 60 Days Past Due Date</td><td>2018</td><td>1</td><td>Other Conventional</td><td>0.8</td></tr><tr><td>Percent 30 or 60 Days Past Due Date</td><td>2018</td><td>2</td><td>Other Conventional</td><td>0.8</td></tr><tr><td>Percent 30 or 60 Days Past Due Date</td><td>2018</td><td>3</td><td>Other Conventional</td><td>0.8</td></tr><tr><td>Percent 30 or 60 Days Past Due Date</td><td>2018</td><td>4</td><td>Other Conventional</td><td>0.7</td></tr><tr><td>Percent 30 or 60 Days Past Due Date</td><td>2019</td><td>1</td><td>Other Conventional</td><td>0.6</td></tr><tr><td>Percent 30 or 60 Days Past Due Date</td><td>2019</td><td>2</td><td>Other Conventional</td><td>0.6</td></tr><tr><td>Percent 30 or 60 Days Past Due Date</td><td>2019</td><td>3</td><td>Other Conventional</td><td>0.6</td></tr><tr><td>Percent 30 or 60 Days Past Due Date</td><td>2019</td><td>4</td><td>Other Conventional</td><td>0.6</td></tr><tr><td>Percent 30 or 60 Days Past Due Date</td><td>2020</td><td>1</td><td>Other Conventional</td><td>0.7</td></tr><tr><td>Percent 30 or 60 Days Past Due Date</td><td>2020</td><td>2</td><td>Other Conventional</td><td>0.3</td></tr><tr><td>Percent 30 or 60 Days Past Due Date</td><td>2020</td><td>3</td><td>Other Conventional</td><td>0.2</td></tr><tr><td>Percent 30 or 60 Days Past Due Date</td><td>2020</td><td>4</td><td>Other Conventional</td><td>0.2</td></tr><tr><td>Percent 30 or 60 Days Past Due Date</td><td>2021</td><td>1</td><td>Other Conventional</td><td>0.2</td></tr><tr><td>Percent 30 or 60 Days Past Due Date</td><td>2021</td><td>2</td><td>Other Conventional</td><td>0.3</td></tr><tr><td>Percent 30 or 60 Days Past Due Date</td><td>2021</td><td>3</td><td>Other Conventional</td><td>0.4</td></tr><tr><td>Percent 30 or 60 Days Past Due Date</td><td>2021</td><td>4</td><td>Other Conventional</td><td>0.3</td></tr><tr><td>Percent 30 or 60 Days Past Due Date</td><td>2022</td><td>1</td><td>Other Conventional</td><td>0.4</td></tr><tr><td>Percent 90 to 180 Days Past Due Date</td><td>2002</td><td>1</td><td>Other Conventional</td><td>0.5</td></tr><tr><td>Percent 90 to 180 Days Past Due Date</td><td>2002</td><td>2</td><td>Other Conventional</td><td>0.6</td></tr><tr><td>Percent 90 to 180 Days Past Due Date</td><td>2002</td><td>3</td><td>Other Conventional</td><td>0.7</td></tr><tr><td>Percent 90 to 180 Days Past Due Date</td><td>2002</td><td>4</td><td>Other Conventional</td><td>0.7</td></tr><tr><td>Percent 90 to 180 Days Past Due Date</td><td>2003</td><td>1</td><td>Other Conventional</td><td>0.7</td></tr><tr><td>Percent 90 to 180 Days Past Due Date</td><td>2003</td><td>2</td><td>Other Conventional</td><td>0.8</td></tr><tr><td>Percent 90 to 180 Days Past Due Date</td><td>2003</td><td>3</td><td>Other Conventional</td><td>0.9</td></tr><tr><td>Percent 90 to 180 Days Past Due Date</td><td>2003</td><td>4</td><td>Other Conventional</td><td>0.9</td></tr><tr><td>Percent 90 to 180 Days Past Due Date</td><td>2004</td><td>1</td><td>Other Conventional</td><td>0.8</td></tr><tr><td>Percent 90 to 180 Days Past Due Date</td><td>2004</td><td>2</td><td>Other Conventional</td><td>0.6</td></tr><tr><td>Percent 90 to 180 Days Past Due Date</td><td>2004</td><td>3</td><td>Other Conventional</td><td>0.6</td></tr><tr><td>Percent 90 to 180 Days Past Due Date</td><td>2004</td><td>4</td><td>Other Conventional</td><td>0.8</td></tr><tr><td>Percent 90 to 180 Days Past Due Date</td><td>2005</td><td>1</td><td>Other Conventional</td><td>0.8</td></tr><tr><td>Percent 90 to 180 Days Past Due Date</td><td>2005</td><td>2</td><td>Other Conventional</td><td>0.7</td></tr><tr><td>Percent 90 to 180 Days Past Due Date</td><td>2005</td><td>3</td><td>Other Conventional</td><td>0.7</td></tr><tr><td>Percent 90 to 180 Days Past Due Date</td><td>2005</td><td>4</td><td>Other Conventional</td><td>0.5</td></tr><tr><td>Percent 90 to 180 Days Past Due Date</td><td>2006</td><td>1</td><td>Other Conventional</td><td>0.5</td></tr><tr><td>Percent 90 to 180 Days Past Due Date</td><td>2006</td><td>2</td><td>Other Conventional</td><td>0.6</td></tr><tr><td>Percent 90 to 180 Days Past Due Date</td><td>2006</td><td>3</td><td>Other Conventional</td><td>0.8</td></tr><tr><td>Percent 90 to 180 Days Past Due Date</td><td>2006</td><td>4</td><td>Other Conventional</td><td>0.8</td></tr><tr><td>Percent 90 to 180 Days Past Due Date</td><td>2007</td><td>1</td><td>Other Conventional</td><td>0.7</td></tr><tr><td>Percent 90 to 180 Days Past Due Date</td><td>2007</td><td>2</td><td>Other Conventional</td><td>0.7</td></tr><tr><td>Percent 90 to 180 Days Past Due Date</td><td>2007</td><td>3</td><td>Other Conventional</td><td>1.0</td></tr><tr><td>Percent 90 to 180 Days Past Due Date</td><td>2007</td><td>4</td><td>Other Conventional</td><td>1.2</td></tr><tr><td>Percent 90 to 180 Days Past Due Date</td><td>2008</td><td>1</td><td>Other Conventional</td><td>1.4</td></tr><tr><td>Percent 90 to 180 Days Past Due Date</td><td>2008</td><td>2</td><td>Other Conventional</td><td>1.8</td></tr><tr><td>Percent 90 to 180 Days Past Due Date</td><td>2008</td><td>3</td><td>Other Conventional</td><td>2.0</td></tr><tr><td>Percent 90 to 180 Days Past Due Date</td><td>2008</td><td>4</td><td>Other Conventional</td><td>2.7</td></tr><tr><td>Percent 90 to 180 Days Past Due Date</td><td>2009</td><td>1</td><td>Other Conventional</td><td>4.1</td></tr><tr><td>Percent 90 to 180 Days Past Due Date</td><td>2009</td><td>2</td><td>Other Conventional</td><td>4.9</td></tr><tr><td>Percent 90 to 180 Days Past Due Date</td><td>2009</td><td>3</td><td>Other Conventional</td><td>6.3</td></tr><tr><td>Percent 90 to 180 Days Past Due Date</td><td>2009</td><td>4</td><td>Other Conventional</td><td>7.5</td></tr><tr><td>Percent 90 to 180 Days Past Due Date</td><td>2010</td><td>1</td><td>Other Conventional</td><td>8.0</td></tr><tr><td>Percent 90 to 180 Days Past Due Date</td><td>2010</td><td>2</td><td>Other Conventional</td><td>8.4</td></tr><tr><td>Percent 90 to 180 Days Past Due Date</td><td>2010</td><td>3</td><td>Other Conventional</td><td>8.6</td></tr><tr><td>Percent 90 to 180 Days Past Due Date</td><td>2010</td><td>4</td><td>Other Conventional</td><td>8.8</td></tr><tr><td>Percent 90 to 180 Days Past Due Date</td><td>2011</td><td>1</td><td>Other Conventional</td><td>8.8</td></tr><tr><td>Percent 90 to 180 Days Past Due Date</td><td>2011</td><td>2</td><td>Other Conventional</td><td>9.0</td></tr><tr><td>Percent 90 to 180 Days Past Due Date</td><td>2011</td><td>3</td><td>Other Conventional</td><td>9.3</td></tr><tr><td>Percent 90 to 180 Days Past Due Date</td><td>2011</td><td>4</td><td>Other Conventional</td><td>9.7</td></tr><tr><td>Percent 90 to 180 Days Past Due Date</td><td>2012</td><td>1</td><td>Other Conventional</td><td>9.7</td></tr><tr><td>Percent 90 to 180 Days Past Due Date</td><td>2012</td><td>2</td><td>Other Conventional</td><td>9.1</td></tr><tr><td>Percent 90 to 180 Days Past Due Date</td><td>2012</td><td>3</td><td>Other Conventional</td><td>8.7</td></tr><tr><td>Percent 90 to 180 Days Past Due Date</td><td>2012</td><td>4</td><td>Other Conventional</td><td>7.7</td></tr><tr><td>Percent 90 to 180 Days Past Due Date</td><td>2013</td><td>1</td><td>Other Conventional</td><td>7.0</td></tr><tr><td>Percent 90 to 180 Days Past Due Date</td><td>2013</td><td>2</td><td>Other Conventional</td><td>6.5</td></tr><tr><td>Percent 90 to 180 Days Past Due Date</td><td>2013</td><td>3</td><td>Other Conventional</td><td>5.8</td></tr><tr><td>Percent 90 to 180 Days Past Due Date</td><td>2013</td><td>4</td><td>Other Conventional</td><td>5.6</td></tr><tr><td>Percent 90 to 180 Days Past Due Date</td><td>2014</td><td>1</td><td>Other Conventional</td><td>4.8</td></tr><tr><td>Percent 90 to 180 Days Past Due Date</td><td>2014</td><td>2</td><td>Other Conventional</td><td>4.7</td></tr><tr><td>Percent 90 to 180 Days Past Due Date</td><td>2014</td><td>3</td><td>Other Conventional</td><td>4.5</td></tr><tr><td>Percent 90 to 180 Days Past Due Date</td><td>2014</td><td>4</td><td>Other Conventional</td><td>3.8</td></tr><tr><td>Percent 90 to 180 Days Past Due Date</td><td>2015</td><td>1</td><td>Other Conventional</td><td>3.4</td></tr><tr><td>Percent 90 to 180 Days Past Due Date</td><td>2015</td><td>2</td><td>Other Conventional</td><td>3.0</td></tr><tr><td>Percent 90 to 180 Days Past Due Date</td><td>2015</td><td>3</td><td>Other Conventional</td><td>2.9</td></tr><tr><td>Percent 90 to 180 Days Past Due Date</td><td>2015</td><td>4</td><td>Other Conventional</td><td>2.3</td></tr><tr><td>Percent 90 to 180 Days Past Due Date</td><td>2016</td><td>1</td><td>Other Conventional</td><td>2.1</td></tr><tr><td>Percent 90 to 180 Days Past Due Date</td><td>2016</td><td>2</td><td>Other Conventional</td><td>1.9</td></tr><tr><td>Percent 90 to 180 Days Past Due Date</td><td>2016</td><td>3</td><td>Other Conventional</td><td>1.7</td></tr><tr><td>Percent 90 to 180 Days Past Due Date</td><td>2016</td><td>4</td><td>Other Conventional</td><td>1.3</td></tr><tr><td>Percent 90 to 180 Days Past Due Date</td><td>2017</td><td>1</td><td>Other Conventional</td><td>1.3</td></tr><tr><td>Percent 90 to 180 Days Past Due Date</td><td>2017</td><td>2</td><td>Other Conventional</td><td>1.0</td></tr><tr><td>Percent 90 to 180 Days Past Due Date</td><td>2017</td><td>3</td><td>Other Conventional</td><td>0.8</td></tr><tr><td>Percent 90 to 180 Days Past Due Date</td><td>2017</td><td>4</td><td>Other Conventional</td><td>0.8</td></tr><tr><td>Percent 90 to 180 Days Past Due Date</td><td>2018</td><td>1</td><td>Other Conventional</td><td>0.6</td></tr><tr><td>Percent 90 to 180 Days Past Due Date</td><td>2018</td><td>2</td><td>Other Conventional</td><td>0.5</td></tr><tr><td>Percent 90 to 180 Days Past Due Date</td><td>2018</td><td>3</td><td>Other Conventional</td><td>0.5</td></tr><tr><td>Percent 90 to 180 Days Past Due Date</td><td>2018</td><td>4</td><td>Other Conventional</td><td>0.6</td></tr><tr><td>Percent 90 to 180 Days Past Due Date</td><td>2019</td><td>1</td><td>Other Conventional</td><td>0.4</td></tr><tr><td>Percent 90 to 180 Days Past Due Date</td><td>2019</td><td>2</td><td>Other Conventional</td><td>0.3</td></tr><tr><td>Percent 90 to 180 Days Past Due Date</td><td>2019</td><td>3</td><td>Other Conventional</td><td>0.3</td></tr><tr><td>Percent 90 to 180 Days Past Due Date</td><td>2019</td><td>4</td><td>Other Conventional</td><td>0.2</td></tr><tr><td>Percent 90 to 180 Days Past Due Date</td><td>2020</td><td>1</td><td>Other Conventional</td><td>0.2</td></tr><tr><td>Percent 90 to 180 Days Past Due Date</td><td>2020</td><td>2</td><td>Other Conventional</td><td>0.4</td></tr><tr><td>Percent 90 to 180 Days Past Due Date</td><td>2020</td><td>3</td><td>Other Conventional</td><td>0.4</td></tr><tr><td>Percent 90 to 180 Days Past Due Date</td><td>2020</td><td>4</td><td>Other Conventional</td><td>0.4</td></tr><tr><td>Percent 90 to 180 Days Past Due Date</td><td>2021</td><td>1</td><td>Other Conventional</td><td>0.3</td></tr><tr><td>Percent 90 to 180 Days Past Due Date</td><td>2021</td><td>2</td><td>Other Conventional</td><td>0.3</td></tr><tr><td>Percent 90 to 180 Days Past Due Date</td><td>2021</td><td>3</td><td>Other Conventional</td><td>0.3</td></tr><tr><td>Percent 90 to 180 Days Past Due Date</td><td>2021</td><td>4</td><td>Other Conventional</td><td>0.3</td></tr><tr><td>Percent 90 to 180 Days Past Due Date</td><td>2022</td><td>1</td><td>Other Conventional</td><td>0.3</td></tr><tr><td>Percent in the Process of Foreclosure, Bankruptcy, or Deed in Lieu</td><td>2002</td><td>1</td><td>Other Conventional</td><td>1.5</td></tr><tr><td>Percent in the Process of Foreclosure, Bankruptcy, or Deed in Lieu</td><td>2002</td><td>2</td><td>Other Conventional</td><td>1.7</td></tr><tr><td>Percent in the Process of Foreclosure, Bankruptcy, or Deed in Lieu</td><td>2002</td><td>3</td><td>Other Conventional</td><td>1.7</td></tr><tr><td>Percent in the Process of Foreclosure, Bankruptcy, or Deed in Lieu</td><td>2002</td><td>4</td><td>Other Conventional</td><td>1.9</td></tr><tr><td>Percent in the Process of Foreclosure, Bankruptcy, or Deed in Lieu</td><td>2003</td><td>1</td><td>Other Conventional</td><td>1.8</td></tr><tr><td>Percent in the Process of Foreclosure, Bankruptcy, or Deed in Lieu</td><td>2003</td><td>2</td><td>Other Conventional</td><td>1.7</td></tr><tr><td>Percent in the Process of Foreclosure, Bankruptcy, or Deed in Lieu</td><td>2003</td><td>3</td><td>Other Conventional</td><td>1.6</td></tr><tr><td>Percent in the Process of Foreclosure, Bankruptcy, or Deed in Lieu</td><td>2003</td><td>4</td><td>Other Conventional</td><td>1.7</td></tr><tr><td>Percent in the Process of Foreclosure, Bankruptcy, or Deed in Lieu</td><td>2004</td><td>1</td><td>Other Conventional</td><td>1.7</td></tr><tr><td>Percent in the Process of Foreclosure, Bankruptcy, or Deed in Lieu</td><td>2004</td><td>2</td><td>Other Conventional</td><td>1.5</td></tr><tr><td>Percent in the Process of Foreclosure, Bankruptcy, or Deed in Lieu</td><td>2004</td><td>3</td><td>Other Conventional</td><td>1.4</td></tr><tr><td>Percent in the Process of Foreclosure, Bankruptcy, or Deed in Lieu</td><td>2004</td><td>4</td><td>Other Conventional</td><td>1.2</td></tr><tr><td>Percent in the Process of Foreclosure, Bankruptcy, or Deed in Lieu</td><td>2005</td><td>1</td><td>Other Conventional</td><td>1.1</td></tr><tr><td>Percent in the Process of Foreclosure, Bankruptcy, or Deed in Lieu</td><td>2005</td><td>2</td><td>Other Conventional</td><td>0.9</td></tr><tr><td>Percent in the Process of Foreclosure, Bankruptcy, or Deed in Lieu</td><td>2005</td><td>3</td><td>Other Conventional</td><td>0.8</td></tr><tr><td>Percent in the Process of Foreclosure, Bankruptcy, or Deed in Lieu</td><td>2005</td><td>4</td><td>Other Conventional</td><td>0.8</td></tr><tr><td>Percent in the Process of Foreclosure, Bankruptcy, or Deed in Lieu</td><td>2006</td><td>1</td><td>Other Conventional</td><td>0.7</td></tr><tr><td>Percent in the Process of Foreclosure, Bankruptcy, or Deed in Lieu</td><td>2006</td><td>2</td><td>Other Conventional</td><td>0.6</td></tr><tr><td>Percent in the Process of Foreclosure, Bankruptcy, or Deed in Lieu</td><td>2006</td><td>3</td><td>Other Conventional</td><td>0.6</td></tr><tr><td>Percent in the Process of Foreclosure, Bankruptcy, or Deed in Lieu</td><td>2006</td><td>4</td><td>Other Conventional</td><td>0.6</td></tr><tr><td>Percent in the Process of Foreclosure, Bankruptcy, or Deed in Lieu</td><td>2007</td><td>1</td><td>Other Conventional</td><td>0.6</td></tr><tr><td>Percent in the Process of Foreclosure, Bankruptcy, or Deed in Lieu</td><td>2007</td><td>2</td><td>Other Conventional</td><td>0.7</td></tr><tr><td>Percent in the Process of Foreclosure, Bankruptcy, or Deed in Lieu</td><td>2007</td><td>3</td><td>Other Conventional</td><td>0.7</td></tr><tr><td>Percent in the Process of Foreclosure, Bankruptcy, or Deed in Lieu</td><td>2007</td><td>4</td><td>Other Conventional</td><td>0.8</td></tr><tr><td>Percent in the Process of Foreclosure, Bankruptcy, or Deed in Lieu</td><td>2008</td><td>1</td><td>Other Conventional</td><td>1.2</td></tr><tr><td>Percent in the Process of Foreclosure, Bankruptcy, or Deed in Lieu</td><td>2008</td><td>2</td><td>Other Conventional</td><td>1.6</td></tr><tr><td>Percent in the Process of Foreclosure, Bankruptcy, or Deed in Lieu</td><td>2008</td><td>3</td><td>Other Conventional</td><td>2.0</td></tr><tr><td>Percent in the Process of Foreclosure, Bankruptcy, or Deed in Lieu</td><td>2008</td><td>4</td><td>Other Conventional</td><td>2.1</td></tr><tr><td>Percent in the Process of Foreclosure, Bankruptcy, or Deed in Lieu</td><td>2009</td><td>1</td><td>Other Conventional</td><td>2.7</td></tr><tr><td>Percent in the Process of Foreclosure, Bankruptcy, or Deed in Lieu</td><td>2009</td><td>2</td><td>Other Conventional</td><td>3.8</td></tr><tr><td>Percent in the Process of Foreclosure, Bankruptcy, or Deed in Lieu</td><td>2009</td><td>3</td><td>Other Conventional</td><td>4.0</td></tr><tr><td>Percent in the Process of Foreclosure, Bankruptcy, or Deed in Lieu</td><td>2009</td><td>4</td><td>Other Conventional</td><td>3.9</td></tr><tr><td>Percent in the Process of Foreclosure, Bankruptcy, or Deed in Lieu</td><td>2010</td><td>1</td><td>Other Conventional</td><td>4.3</td></tr><tr><td>Percent in the Process of Foreclosure, Bankruptcy, or Deed in Lieu</td><td>2010</td><td>2</td><td>Other Conventional</td><td>4.4</td></tr><tr><td>Percent in the Process of Foreclosure, Bankruptcy, or Deed in Lieu</td><td>2010</td><td>3</td><td>Other Conventional</td><td>4.7</td></tr><tr><td>Percent in the Process of Foreclosure, Bankruptcy, or Deed in Lieu</td><td>2010</td><td>4</td><td>Other Conventional</td><td>5.1</td></tr><tr><td>Percent in the Process of Foreclosure, Bankruptcy, or Deed in Lieu</td><td>2011</td><td>1</td><td>Other Conventional</td><td>5.0</td></tr><tr><td>Percent in the Process of Foreclosure, Bankruptcy, or Deed in Lieu</td><td>2011</td><td>2</td><td>Other Conventional</td><td>5.3</td></tr><tr><td>Percent in the Process of Foreclosure, Bankruptcy, or Deed in Lieu</td><td>2011</td><td>3</td><td>Other Conventional</td><td>4.7</td></tr><tr><td>Percent in the Process of Foreclosure, Bankruptcy, or Deed in Lieu</td><td>2011</td><td>4</td><td>Other Conventional</td><td>3.8</td></tr><tr><td>Percent in the Process of Foreclosure, Bankruptcy, or Deed in Lieu</td><td>2012</td><td>1</td><td>Other Conventional</td><td>3.9</td></tr><tr><td>Percent in the Process of Foreclosure, Bankruptcy, or Deed in Lieu</td><td>2012</td><td>2</td><td>Other Conventional</td><td>4.2</td></tr><tr><td>Percent in the Process of Foreclosure, Bankruptcy, or Deed in Lieu</td><td>2012</td><td>3</td><td>Other Conventional</td><td>4.4</td></tr><tr><td>Percent in the Process of Foreclosure, Bankruptcy, or Deed in Lieu</td><td>2012</td><td>4</td><td>Other Conventional</td><td>4.2</td></tr><tr><td>Percent in the Process of Foreclosure, Bankruptcy, or Deed in Lieu</td><td>2013</td><td>1</td><td>Other Conventional</td><td>4.3</td></tr><tr><td>Percent in the Process of Foreclosure, Bankruptcy, or Deed in Lieu</td><td>2013</td><td>2</td><td>Other Conventional</td><td>3.7</td></tr><tr><td>Percent in the Process of Foreclosure, Bankruptcy, or Deed in Lieu</td><td>2013</td><td>3</td><td>Other Conventional</td><td>3.3</td></tr><tr><td>Percent in the Process of Foreclosure, Bankruptcy, or Deed in Lieu</td><td>2013</td><td>4</td><td>Other Conventional</td><td>2.6</td></tr><tr><td>Percent in the Process of Foreclosure, Bankruptcy, or Deed in Lieu</td><td>2014</td><td>1</td><td>Other Conventional</td><td>2.6</td></tr><tr><td>Percent in the Process of Foreclosure, Bankruptcy, or Deed in Lieu</td><td>2014</td><td>2</td><td>Other Conventional</td><td>2.6</td></tr><tr><td>Percent in the Process of Foreclosure, Bankruptcy, or Deed in Lieu</td><td>2014</td><td>3</td><td>Other Conventional</td><td>2.2</td></tr><tr><td>Percent in the Process of Foreclosure, Bankruptcy, or Deed in Lieu</td><td>2014</td><td>4</td><td>Other Conventional</td><td>2.3</td></tr><tr><td>Percent in the Process of Foreclosure, Bankruptcy, or Deed in Lieu</td><td>2015</td><td>1</td><td>Other Conventional</td><td>2.1</td></tr><tr><td>Percent in the Process of Foreclosure, Bankruptcy, or Deed in Lieu</td><td>2015</td><td>2</td><td>Other Conventional</td><td>2.0</td></tr><tr><td>Percent in the Process of Foreclosure, Bankruptcy, or Deed in Lieu</td><td>2015</td><td>3</td><td>Other Conventional</td><td>1.8</td></tr><tr><td>Percent in the Process of Foreclosure, Bankruptcy, or Deed in Lieu</td><td>2015</td><td>4</td><td>Other Conventional</td><td>1.8</td></tr><tr><td>Percent in the Process of Foreclosure, Bankruptcy, or Deed in Lieu</td><td>2016</td><td>1</td><td>Other Conventional</td><td>1.4</td></tr><tr><td>Percent in the Process of Foreclosure, Bankruptcy, or Deed in Lieu</td><td>2016</td><td>2</td><td>Other Conventional</td><td>1.2</td></tr><tr><td>Percent in the Process of Foreclosure, Bankruptcy, or Deed in Lieu</td><td>2016</td><td>3</td><td>Other Conventional</td><td>1.1</td></tr><tr><td>Percent in the Process of Foreclosure, Bankruptcy, or Deed in Lieu</td><td>2016</td><td>4</td><td>Other Conventional</td><td>1.0</td></tr><tr><td>Percent in the Process of Foreclosure, Bankruptcy, or Deed in Lieu</td><td>2017</td><td>1</td><td>Other Conventional</td><td>0.9</td></tr><tr><td>Percent in the Process of Foreclosure, Bankruptcy, or Deed in Lieu</td><td>2017</td><td>2</td><td>Other Conventional</td><td>0.8</td></tr><tr><td>Percent in the Process of Foreclosure, Bankruptcy, or Deed in Lieu</td><td>2017</td><td>3</td><td>Other Conventional</td><td>0.8</td></tr><tr><td>Percent in the Process of Foreclosure, Bankruptcy, or Deed in Lieu</td><td>2017</td><td>4</td><td>Other Conventional</td><td>0.5</td></tr><tr><td>Percent in the Process of Foreclosure, Bankruptcy, or Deed in Lieu</td><td>2018</td><td>1</td><td>Other Conventional</td><td>0.4</td></tr><tr><td>Percent in the Process of Foreclosure, Bankruptcy, or Deed in Lieu</td><td>2018</td><td>2</td><td>Other Conventional</td><td>0.4</td></tr><tr><td>Percent in the Process of Foreclosure, Bankruptcy, or Deed in Lieu</td><td>2018</td><td>3</td><td>Other Conventional</td><td>0.3</td></tr><tr><td>Percent in the Process of Foreclosure, Bankruptcy, or Deed in Lieu</td><td>2018</td><td>4</td><td>Other Conventional</td><td>0.2</td></tr><tr><td>Percent in the Process of Foreclosure, Bankruptcy, or Deed in Lieu</td><td>2019</td><td>1</td><td>Other Conventional</td><td>0.3</td></tr><tr><td>Percent in the Process of Foreclosure, Bankruptcy, or Deed in Lieu</td><td>2019</td><td>2</td><td>Other Conventional</td><td>0.2</td></tr><tr><td>Percent in the Process of Foreclosure, Bankruptcy, or Deed in Lieu</td><td>2019</td><td>3</td><td>Other Conventional</td><td>0.2</td></tr><tr><td>Percent in the Process of Foreclosure, Bankruptcy, or Deed in Lieu</td><td>2019</td><td>4</td><td>Other Conventional</td><td>0.2</td></tr><tr><td>Percent in the Process of Foreclosure, Bankruptcy, or Deed in Lieu</td><td>2020</td><td>1</td><td>Other Conventional</td><td>0.1</td></tr><tr><td>Percent in the Process of Foreclosure, Bankruptcy, or Deed in Lieu</td><td>2020</td><td>2</td><td>Other Conventional</td><td>0.1</td></tr><tr><td>Percent in the Process of Foreclosure, Bankruptcy, or Deed in Lieu</td><td>2020</td><td>3</td><td>Other Conventional</td><td>0.2</td></tr><tr><td>Percent in the Process of Foreclosure, Bankruptcy, or Deed in Lieu</td><td>2020</td><td>4</td><td>Other Conventional</td><td>0.2</td></tr><tr><td>Percent in the Process of Foreclosure, Bankruptcy, or Deed in Lieu</td><td>2021</td><td>1</td><td>Other Conventional</td><td>0.2</td></tr><tr><td>Percent in the Process of Foreclosure, Bankruptcy, or Deed in Lieu</td><td>2021</td><td>2</td><td>Other Conventional</td><td>0.2</td></tr><tr><td>Percent in the Process of Foreclosure, Bankruptcy, or Deed in Lieu</td><td>2021</td><td>3</td><td>Other Conventional</td><td>0.1</td></tr><tr><td>Percent in the Process of Foreclosure, Bankruptcy, or Deed in Lieu</td><td>2021</td><td>4</td><td>Other Conventional</td><td>0.1</td></tr><tr><td>Percent in the Process of Foreclosure, Bankruptcy, or Deed in Lieu</td><td>2022</td><td>1</td><td>Other Conventional</td><td>0.2</td></tr></table>"
                    },
                    "metadata": {}
                }
            ],
            "execution_count": 24
        },
        {
            "cell_type": "code",
            "source": [
                "-- (Agg. Val.) Average appraisal value\n",
                "select CEILING(AVG(TO_NUMBER(\"Appraised Value\", 'FM99G999G999' ))) as \"Average\"\n",
                "from \"SeattleDistressedProp\"\n",
                "\n",
                ""
            ],
            "metadata": {
                "language": "sql",
                "azdata_cell_guid": "f79fd7ed-55f0-4984-b225-0f8f227db518",
                "tags": []
            },
            "outputs": [
                {
                    "output_type": "display_data",
                    "data": {
                        "text/html": "(1 row(s) affected)"
                    },
                    "metadata": {}
                },
                {
                    "output_type": "display_data",
                    "data": {
                        "text/html": "Total execution time: 00:00:00.012"
                    },
                    "metadata": {}
                },
                {
                    "output_type": "execute_result",
                    "metadata": {},
                    "execution_count": 32,
                    "data": {
                        "application/vnd.dataresource+json": {
                            "schema": {
                                "fields": [
                                    {
                                        "name": "Average"
                                    }
                                ]
                            },
                            "data": [
                                {
                                    "0": "479606"
                                }
                            ]
                        },
                        "text/html": [
                            "<table>",
                            "<tr><th>Average</th></tr>",
                            "<tr><td>479606</td></tr>",
                            "</table>"
                        ]
                    }
                }
            ],
            "execution_count": 32
        },
        {
            "cell_type": "code",
            "source": [
                "-- (Cross-sectional) List of distressed properties in the king county area\n",
                "select \"Record Date\",\"PID\",\"Address\",\"Appraised Value\",\"Latitude\",\"Longitude\",\"Neighborhood\",\"Metro\",\"Grantee\"\n",
                "from \"SeattleDistressedProp\"\n",
                "ORDER BY \"Record Date\""
            ],
            "metadata": {
                "azdata_cell_guid": "c108c3a0-92ac-436f-9255-121cfccd94bd",
                "language": "sql",
                "tags": []
            },
            "outputs": [
                {
                    "output_type": "display_data",
                    "data": {
                        "text/html": "(134 row(s) affected)"
                    },
                    "metadata": {}
                },
                {
                    "output_type": "display_data",
                    "data": {
                        "text/html": "Total execution time: 00:00:00.027"
                    },
                    "metadata": {}
                },
                {
                    "output_type": "execute_result",
                    "metadata": {},
                    "execution_count": 37,
                    "data": {
                        "application/vnd.dataresource+json": {
                            "schema": {
                                "fields": [
                                    {
                                        "name": "Record Date"
                                    },
                                    {
                                        "name": "PID"
                                    },
                                    {
                                        "name": "Address"
                                    },
                                    {
                                        "name": "Appraised Value"
                                    },
                                    {
                                        "name": "Latitude"
                                    },
                                    {
                                        "name": "Longitude"
                                    },
                                    {
                                        "name": "Neighborhood"
                                    },
                                    {
                                        "name": "Metro"
                                    },
                                    {
                                        "name": "Grantee"
                                    }
                                ]
                            },
                            "data": [
                                {
                                    "0": "06/21/2022",
                                    "1": "7225500280",
                                    "2": "30537 5TH AVE SW 98023",
                                    "3": "519,000",
                                    "4": "47.327724599999996",
                                    "5": "-122.34113418535375",
                                    "6": "Mirror Lake",
                                    "7": "Federal Way",
                                    "8": "CLEAR RECON CORPAEGIS LAND TITLE GROUP..."
                                },
                                {
                                    "0": "06/22/2022",
                                    "1": "0699002230",
                                    "2": "12932 NE 131ST ST 98034",
                                    "3": "328,000",
                                    "4": "47.7175885",
                                    "5": "-122.16798441313318",
                                    "6": "Kirkland",
                                    "7": "King County",
                                    "8": "NORTH STAR TRUSTEE LLCHOMESTREET BANK..."
                                },
                                {
                                    "0": "06/22/2022",
                                    "1": "1222069101",
                                    "2": "19324 HOLLYHILLS DR NE 98011",
                                    "3": "989,000",
                                    "4": "47.76782685",
                                    "5": "-122.17036347613123",
                                    "6": "North Creek",
                                    "7": "Bothell",
                                    "8": "ACKER SEAN DACKER HEIDI J..."
                                },
                                {
                                    "0": "06/23/2022",
                                    "1": "3971701899",
                                    "2": "22024 260TH AVE SE 98038",
                                    "3": "682,000",
                                    "4": "47.40390495",
                                    "5": "-121.99406930091548",
                                    "6": "Maple Valley",
                                    "7": "King County",
                                    "8": "QUALITY LOAN SERVICE CORPORATION OF WALAKEVIEW LOAN SERVICING LLC..."
                                },
                                {
                                    "0": "06/23/2022",
                                    "1": "3546000540",
                                    "2": "24230 116TH PL SE ",
                                    "3": "465,000",
                                    "4": "47.384213700000004",
                                    "5": "-122.1859362960468",
                                    "6": "East Pointe",
                                    "7": "Kent",
                                    "8": "BEACH MORTGAGE COMPANYQUALITY LOAN SERVICE CORPORATION OF WA..."
                                },
                                {
                                    "0": "06/23/2022",
                                    "1": "2122059213",
                                    "2": "4729 ROOSEVELT WAY NE 98105",
                                    "3": "839,000",
                                    "4": "47.66402575",
                                    "5": "-122.31770574597698",
                                    "6": "University Heights",
                                    "7": "University District",
                                    "8": "PNC BANK NAQUALITY LOAN SERVICE CORPORATION OF WA"
                                },
                                {
                                    "0": "06/23/2022",
                                    "1": "5335200070",
                                    "2": "21518 117TH AVE SE 98031",
                                    "3": "1,521,000",
                                    "4": "47.40944485",
                                    "5": "-122.18516267433654",
                                    "6": "Hillshire Terrace",
                                    "7": "Kent",
                                    "8": "NORTH STAR TRUSTEE LLCWILMINGTON TRUST NA"
                                },
                                {
                                    "0": "06/23/2022",
                                    "1": "1459750120",
                                    "2": "119 37TH AVE E 98112",
                                    "3": "536,000",
                                    "4": "47.61898334999999",
                                    "5": "-122.28674057451731",
                                    "6": "Denny-Blaine",
                                    "7": "Harrison/Denny–Blaine",
                                    "8": "NORTH STAR TRUSTEE LLCSERVICEMAC LLC"
                                },
                                {
                                    "0": "06/23/2022",
                                    "1": "9103000450",
                                    "2": "1822 NE 190TH ST 98155",
                                    "3": "869,000",
                                    "4": "47.76668377777778",
                                    "5": "-122.30996488888889",
                                    "6": "Shoreline",
                                    "7": "King County",
                                    "8": "BORREGO MANAGEMENT LLCKLAVANO JIM..."
                                },
                                {
                                    "0": "06/24/2022",
                                    "1": "7129302745",
                                    "2": "12508 SE 273RD PL 98030",
                                    "3": "263,000",
                                    "4": "47.356899",
                                    "5": "-122.17383036668008",
                                    "6": "Kent",
                                    "7": "King County",
                                    "8": "CULVER GARY EKROHN GARY"
                                },
                                {
                                    "0": "06/27/2022",
                                    "1": "5153100040",
                                    "2": "14906 73RD AVE NE 98028",
                                    "3": "491,000",
                                    "4": "47.7366309",
                                    "5": "-122.2432920956626",
                                    "6": "Moorlands",
                                    "7": "Kenmore",
                                    "8": "WELLS FARGO BANK N A"
                                },
                                {
                                    "0": "06/27/2022",
                                    "1": "1523069141",
                                    "2": "24301 9TH AVE S 98198",
                                    "3": "715,000",
                                    "4": "47.38384165",
                                    "5": "-122.32236929999999",
                                    "6": "Zenith",
                                    "7": "Des Moines",
                                    "8": "MINNS JULIETHOMSEN SUZANNE..."
                                },
                                {
                                    "0": "06/28/2022",
                                    "1": "1843200120",
                                    "2": "12055 69TH AVE S 98178",
                                    "3": "351,000",
                                    "4": "47.4932266",
                                    "5": "-122.24809988353795",
                                    "6": "Skyway",
                                    "7": "Seattle",
                                    "8": "SELENE FINANCE LP"
                                },
                                {
                                    "0": "06/28/2022",
                                    "1": "9363600410",
                                    "2": "44931 283RD AVE SE 98022",
                                    "3": "961,000",
                                    "4": "47.197396499999996",
                                    "5": "-121.96605558851675",
                                    "6": "Enumclaw",
                                    "7": "King County",
                                    "8": "US BANK TRUST NAQUALITY LOAN SERVICE CORPORATION OF WASHINGTON..."
                                },
                                {
                                    "0": "06/28/2022",
                                    "1": "7792000150",
                                    "2": "2608 FIR ST SE 98092",
                                    "3": "644,000",
                                    "4": "47.2861468",
                                    "5": "-122.18977194607578",
                                    "6": "Forrest Villa",
                                    "7": "Auburn",
                                    "8": "LAKEVIEW LOAN SERVICING LLCQUALITY LOAN SERVICE CORPORATION OF WA..."
                                },
                                {
                                    "0": "06/28/2022",
                                    "1": "7812801760",
                                    "2": "31500 33RD PL SW 98023",
                                    "3": "527,000",
                                    "4": "47.321235900000005",
                                    "5": "-122.3747438",
                                    "6": "Madera West",
                                    "7": "Federal Way",
                                    "8": "CASALLO CONRADO M"
                                },
                                {
                                    "0": "06/29/2022",
                                    "1": "2207600380",
                                    "2": "3629 S 249TH ST 98032",
                                    "3": "396,000",
                                    "4": "47.378274000000005",
                                    "5": "-122.28496638670197",
                                    "6": "Kent",
                                    "7": "King County",
                                    "8": "BANK OF AMERICA NAQUALITY LOAN CORP OF WA"
                                },
                                {
                                    "0": "07/05/2022",
                                    "1": "1788900230",
                                    "2": "28814 40TH AVE S 98001",
                                    "3": "301,000",
                                    "4": "47.34283525",
                                    "5": "-122.28315790779251",
                                    "6": "Auburn",
                                    "7": "King County",
                                    "8": "GRANGER CHRISTOPHER"
                                },
                                {
                                    "0": "07/05/2022",
                                    "1": "5556800330",
                                    "2": "31468 122ND AVE SE 98092",
                                    "3": "329,000",
                                    "4": "47.31968775",
                                    "5": "-122.17829186722561",
                                    "6": "Lea Hill",
                                    "7": "Auburn",
                                    "8": "WELLS FARGO BANK NA"
                                },
                                {
                                    "0": "07/07/2022",
                                    "1": "3449500075",
                                    "2": "2445 78TH AVE NE 98039",
                                    "3": "738,000",
                                    "4": "47.63267435054261",
                                    "5": "-122.23604658625452",
                                    "6": "Medina",
                                    "7": "King County",
                                    "8": "MTC FINANCIAL INCTRUSTEE CORPS..."
                                },
                                {
                                    "0": "07/08/2022",
                                    "1": "1137800020",
                                    "2": "3417 NE 17TH PL 98056",
                                    "3": "661,000",
                                    "4": "47.50736575",
                                    "5": "-122.1735101",
                                    "6": "Renton",
                                    "7": "King County",
                                    "8": "MIDFIRST BANKQUALITY LOAN SERVICE CORPORATION OF WA"
                                },
                                {
                                    "0": "07/11/2022",
                                    "1": "3211530070",
                                    "2": "140 6TH AVE SW 98047",
                                    "3": "207,000",
                                    "4": "47.259070550000004",
                                    "5": "-122.25527963926163",
                                    "6": "Pacific",
                                    "7": "King County",
                                    "8": "NORTH STAR TRUSTEE LLCNEWREZ LLC..."
                                },
                                {
                                    "0": "07/11/2022",
                                    "1": "7212800440",
                                    "2": "36201 1ST PL S 98003",
                                    "3": "294,000",
                                    "4": "47.27738215",
                                    "5": "-122.3342333634381",
                                    "6": "Federal Way",
                                    "7": "King County",
                                    "8": "WELLS FARGO BANK NAQUALITY LOAN SERVICE CORPORATION OF WA"
                                },
                                {
                                    "0": "07/14/2022",
                                    "1": "6041000130",
                                    "2": "1008 ROOSEVELT AVE E 98022",
                                    "3": "1,631,000",
                                    "4": "47.1986263",
                                    "5": "-121.9674706",
                                    "6": "Enumclaw",
                                    "7": "King County",
                                    "8": "BAIOCCHI MICHAEL MBAIOCCHI GABRIELA N"
                                },
                                {
                                    "0": "07/14/2022",
                                    "1": "7792000025",
                                    "2": "2202 S 300TH ST 98003",
                                    "3": "650,000",
                                    "4": "47.33403615",
                                    "5": "-122.30498645",
                                    "6": "Federal Way",
                                    "7": "King County",
                                    "8": "FREEDOM MORTGAGE CORPORATIONQUALITY LOAN SERVICE CORPORATION OF WA"
                                },
                                {
                                    "0": "07/14/2022",
                                    "1": "7683800193",
                                    "2": "3933 SW PORTLAND ST 98136",
                                    "3": "528,000",
                                    "4": "47.532665800000004",
                                    "5": "-122.38341735771812",
                                    "6": "High Point",
                                    "7": "Seattle",
                                    "8": "U S BANK TRUST NATIONAL ASSOCIATIONLSF9 MASTER PARTICIPATION TRUST..."
                                },
                                {
                                    "0": "07/14/2022",
                                    "1": "2490200545",
                                    "2": "20515 292ND AVE SE 98038",
                                    "3": "831,000",
                                    "4": "47.418222",
                                    "5": "-121.95533702016724",
                                    "6": "Maple Valley",
                                    "7": "King County",
                                    "8": "CLEAR RECON CORPARBORETUM MORTGAGE..."
                                },
                                {
                                    "0": "07/14/2022",
                                    "1": "0622079080",
                                    "2": "736 SHELTON AVE NE 98056",
                                    "3": "1,114,000",
                                    "4": "47.4960767",
                                    "5": "-122.1661857667739",
                                    "6": "President Park",
                                    "7": "Renton",
                                    "8": "GHIDOTTI MICHELLE ESQCENTER STREET LENDING VIII SPE LLC..."
                                },
                                {
                                    "0": "07/14/2022",
                                    "1": "8898000040",
                                    "2": "1387 42ND ST NE ",
                                    "3": "528,000",
                                    "4": "47.3451504",
                                    "5": "-122.21365172503306",
                                    "6": "North Auburn",
                                    "7": "Auburn",
                                    "8": "FREEDOM MORTGAGE CORPORATIONQUALITY LOAN SERVICE CORPORATION OF WA"
                                },
                                {
                                    "0": "07/18/2022",
                                    "1": "5530200020",
                                    "2": "4611 S 164TH ST 98188",
                                    "3": "332,000",
                                    "4": "47.4560185",
                                    "5": "-122.2757265",
                                    "6": "McMicken Heights",
                                    "7": "SeaTac",
                                    "8": "FIDELITY NATIONAL TITLE COMPANY"
                                },
                                {
                                    "0": "07/20/2022",
                                    "1": "7853302290",
                                    "2": "6619 ELLIS AVE S 98108",
                                    "3": "1,053,000",
                                    "4": "47.543436549999996",
                                    "5": "-122.3194167161017",
                                    "6": "Van Asselt",
                                    "7": "Georgetown",
                                    "8": "NORTH STAR TRUSTEE LLC"
                                },
                                {
                                    "0": "07/20/2022",
                                    "1": "3468800030",
                                    "2": "25622 158TH PL SE 98042",
                                    "3": "585,000",
                                    "4": "47.37184395",
                                    "5": "-122.12985389449405",
                                    "6": "Fairfield",
                                    "7": "Covington",
                                    "8": "SELECT PORTFOLIO SERVICING INC"
                                },
                                {
                                    "0": "07/21/2022",
                                    "1": "2491201175",
                                    "2": "6706 QUIGLEY AVE SE 98065",
                                    "3": "683,000",
                                    "4": "47.54062756002483",
                                    "5": "-121.88633493495297",
                                    "6": "Snoqualmie",
                                    "7": "King County",
                                    "8": "BOEING EMPLOYEES CREDIT UNION BECUQUALITY LOAN SERVICE CORPORATION OF WA"
                                },
                                {
                                    "0": "07/21/2022",
                                    "1": "8847600220",
                                    "2": "33113 GLACIER AVE SE ",
                                    "3": "302,000",
                                    "4": "47.30548415",
                                    "5": "-122.02528849535847",
                                    "6": "Ten Trails",
                                    "7": "Morganville",
                                    "8": "CLEAR RECON CORPSERVICELINK NATL..."
                                },
                                {
                                    "0": "07/21/2022",
                                    "1": "8576010450",
                                    "2": "13002 OCCIDENTAL AVE S 98168",
                                    "3": "688,000",
                                    "4": "47.486562",
                                    "5": "-122.33215383554293",
                                    "6": "Beverly Park",
                                    "7": "Burien",
                                    "8": "CLEAR RECON CORPCHICAGO TITLE INSURANCE CO..."
                                },
                                {
                                    "0": "07/21/2022",
                                    "1": "1446400840",
                                    "2": "32605 49TH CT SW 98023",
                                    "3": "462,000",
                                    "4": "47.3097021",
                                    "5": "-122.39610756643393",
                                    "6": "Twin Lakes",
                                    "7": "Federal Way",
                                    "8": "CLEAR RECON CORPLAKEVIEW LOAN SERVICING LLC..."
                                },
                                {
                                    "0": "07/21/2022",
                                    "1": "8732190870",
                                    "2": "9423 36TH AVE SW 98126",
                                    "3": "373,000",
                                    "4": "47.51871245",
                                    "5": "-122.37866979756623",
                                    "6": "Arbor Heights",
                                    "7": "Seattle",
                                    "8": "QUALITY LOAN SERVICE CORPNATIONSTAR MORTGAGE LLC..."
                                },
                                {
                                    "0": "07/25/2022",
                                    "1": "0739600430",
                                    "2": "12757 8TH AVE NW 98177",
                                    "3": "536,000",
                                    "4": "47.7230968",
                                    "5": "-122.36671213193588",
                                    "6": "Broadview",
                                    "7": "Seattle",
                                    "8": "QUALITY LOAN SERVICE CORP"
                                },
                                {
                                    "0": "07/26/2022",
                                    "1": "6204050020",
                                    "2": "21227 113TH AVE SE 98031",
                                    "3": "819,000",
                                    "4": "47.4110077",
                                    "5": "-122.19104080543946",
                                    "6": "Kent",
                                    "7": "King County",
                                    "8": "CICERO JOHN E"
                                },
                                {
                                    "0": "07/27/2022",
                                    "1": "3621059053",
                                    "2": "13244 4TH AVE SW 98146",
                                    "3": "1,028,000",
                                    "4": "47.483576",
                                    "5": "-122.33888834991083",
                                    "6": "Burien",
                                    "7": "King County",
                                    "8": "MTC FINANCIAL INCTRUSTEE CORPS..."
                                },
                                {
                                    "0": "07/27/2022",
                                    "1": "4437600015",
                                    "2": "5273 236TH PL SE ",
                                    "3": "332,000",
                                    "4": "47.55598798773073",
                                    "5": "-122.02445379237396",
                                    "6": "Summerhill Village",
                                    "7": "Issaquah",
                                    "8": "WELLS FARGO BANK NA"
                                },
                                {
                                    "0": "07/27/2022",
                                    "1": "80786514505",
                                    "2": "752 BELLEVUE AVE E 98102",
                                    "3": "529,000",
                                    "4": "47.626611800000006",
                                    "5": "-122.32608395856664",
                                    "6": "Capitol Hill",
                                    "7": "Seattle",
                                    "8": "RUSHMORE LOAN MANAGEMENT SERVICES LLCQUALITY LOAN SERVICE CORPORATION OF WA..."
                                },
                                {
                                    "0": "07/27/2022",
                                    "1": "5566500050",
                                    "2": "6703 S 120TH ST 98178",
                                    "3": "277,000",
                                    "4": "47.495418349999994",
                                    "5": "-122.25005857803751",
                                    "6": "Skyway",
                                    "7": "Seattle",
                                    "8": "1ST SECURITY BANK OF WASHINGTON"
                                },
                                {
                                    "0": "07/27/2022",
                                    "1": "7574911050",
                                    "2": "11180 NE 162ND ST 98011",
                                    "3": "1,788,000",
                                    "4": "47.745284600000005",
                                    "5": "-122.19194880557544",
                                    "6": "Bothell",
                                    "7": "King County",
                                    "8": "US BANK TRUST NATIONAL ASSOCIATIONSN SERVICING COPR..."
                                },
                                {
                                    "0": "07/28/2022",
                                    "1": "2323059157",
                                    "2": "26727 NE STELLA ST 98019",
                                    "3": "766,000",
                                    "4": "47.7407356122449",
                                    "5": "-121.9813698367347",
                                    "6": "Duvall",
                                    "7": "King County",
                                    "8": "CLEAR RECON CORPFIDELITY NATIONAL TITLE COMPANY..."
                                },
                                {
                                    "0": "07/28/2022",
                                    "1": "8684000820",
                                    "2": "12828 78TH AVE S 98178",
                                    "3": "426,000",
                                    "4": "47.487503849999996",
                                    "5": "-122.23530957029786",
                                    "6": "Bryn Mawr",
                                    "7": "Seattle",
                                    "8": "QUALITY LOAN SERVICE CORP OF WA TOWD POINT MORTGAGE TRUST 2019 3..."
                                },
                                {
                                    "0": "07/28/2022",
                                    "1": "2144800096",
                                    "2": "2425 SW BARTON ST 98106",
                                    "3": "584,000",
                                    "4": "47.5208449",
                                    "5": "-122.36429099228937",
                                    "6": "Westwood",
                                    "7": "Seattle",
                                    "8": "US BANK TRUST NATIONAL ASSOCIATIONGHIDOTTI MICHELLE R..."
                                },
                                {
                                    "0": "07/28/2022",
                                    "1": "7387500245",
                                    "2": "10429 59TH AVE S 98178",
                                    "3": "546,000",
                                    "4": "47.5073216",
                                    "5": "-122.25979859993473",
                                    "6": "Rainier Beach",
                                    "7": "Seattle",
                                    "8": "IMPAC FUNDING CORPORATIONDEUTSCHE BANK NATIONAL TRUST..."
                                },
                                {
                                    "0": "07/28/2022",
                                    "1": "8068000150",
                                    "2": "17114 SE 383RD ST 98092",
                                    "3": "654,000",
                                    "4": "47.2585525",
                                    "5": "-122.11360881593407",
                                    "6": "Auburn",
                                    "7": "King County",
                                    "8": "GHIDOTTI MICHELLE RRUSHMORE LOAN MANAGEMENT SERVICES LLC..."
                                },
                                {
                                    "0": "07/29/2022",
                                    "1": "0301402370",
                                    "2": "15820 SE 148TH ST 98059",
                                    "3": "430,000",
                                    "4": "47.471463400000005",
                                    "5": "-122.12855240719654",
                                    "6": "Renton",
                                    "7": "King County",
                                    "8": "AMERICAN PACIFIC MORTGAGE CORPORATIONQUALITY LOAN SERVICE CORPORATION OF WA..."
                                },
                                {
                                    "0": "08/01/2022",
                                    "1": "6872001030",
                                    "2": "109 2ND ST S #233 98033",
                                    "3": "696,000",
                                    "4": "47.6745812",
                                    "5": "-122.2051592",
                                    "6": "Kirkland",
                                    "7": "King County",
                                    "8": "CLEAR RECON CORPFIDELITY NATIONAL TITLE COMPANY..."
                                },
                                {
                                    "0": "08/04/2022",
                                    "1": "7977201770",
                                    "2": "7700 34TH AVE NE 98115",
                                    "3": "1,548,000",
                                    "4": "47.6849906",
                                    "5": "-122.29129720027352",
                                    "6": "Wedgwood",
                                    "7": "Seattle",
                                    "8": "HALL CHARLES F"
                                },
                                {
                                    "0": "08/04/2022",
                                    "1": "3095600020",
                                    "2": "18110 DENSMORE AVE N 98133",
                                    "3": "710,000",
                                    "4": "47.76055828145774",
                                    "5": "-122.33871965834125",
                                    "6": "Meridian Park",
                                    "7": "Richmond Highlands",
                                    "8": "TRINITY FINANCIAL SERVICES LLCAZTEC FORECLOSURE CORPORATION OF WASHINGTON"
                                },
                                {
                                    "0": "08/05/2022",
                                    "1": "5416510470",
                                    "2": "22710 SE 268TH PL ",
                                    "3": "806,000",
                                    "4": "47.3613524",
                                    "5": "-122.03799595000001",
                                    "6": "Rock Creek Meadows",
                                    "7": "Danville",
                                    "8": "MIDFIRST BANKQUALITY LOAN SERVICE CORPORATION OF WASHINGTON"
                                },
                                {
                                    "0": "08/08/2022",
                                    "1": "2220069131",
                                    "2": "24128 SE 440TH ST ",
                                    "3": "450,000",
                                    "4": "47.207454999999996",
                                    "5": "-122.019105",
                                    "6": "Enumclaw",
                                    "7": "King County",
                                    "8": "GHIDOTTI MICHELLE R RUSHMORE LOAN MANAGEMENT SERVICES LLC..."
                                },
                                {
                                    "0": "08/08/2022",
                                    "1": "7518508899",
                                    "2": "6718 24TH AVE NW 98117",
                                    "3": "966,000",
                                    "4": "47.6783306",
                                    "5": "-122.3871818",
                                    "6": "Ballard",
                                    "7": "Seattle",
                                    "8": "PRLAP INCBANK OF AMERICA NA..."
                                },
                                {
                                    "0": "08/09/2022",
                                    "1": "2225069002",
                                    "2": "23737 NE REDMOND-FALL CITY RD 98053",
                                    "3": "859,000",
                                    "4": "47.64328834664646",
                                    "5": "-122.02098540230953",
                                    "6": "King County",
                                    "7": "Washington",
                                    "8": "BANK OF AMERICA NAQUALITY LOAN SERVICE CORPORATION OF WA"
                                },
                                {
                                    "0": "08/09/2022",
                                    "1": "8651430430",
                                    "2": "19629 SE 259TH ST 98042",
                                    "3": "402,000",
                                    "4": "47.369584",
                                    "5": "-122.0780915",
                                    "6": "Timberlane",
                                    "7": "Covington",
                                    "8": "MANNING HEATHER"
                                },
                                {
                                    "0": "08/09/2022",
                                    "1": "7635800390",
                                    "2": "2021 SW 149TH ST 98166",
                                    "3": "802,000",
                                    "4": "47.4691907",
                                    "5": "-122.35995677577756",
                                    "6": "Seahurst",
                                    "7": "Burien",
                                    "8": "BOEING EMPLOYEES CREDIT UNIONQUALITY LOAN SERVICE CORPORATION OF WA"
                                },
                                {
                                    "0": "08/11/2022",
                                    "1": "6163900811",
                                    "2": "1010 NE SERPENTINE PL 98155",
                                    "3": "811,000",
                                    "4": "47.75647091836735",
                                    "5": "-122.31846785714285",
                                    "6": "North City",
                                    "7": "Shoreline",
                                    "8": "DUTTON BENJAMIN PDUTTON WENDY R"
                                },
                                {
                                    "0": "08/11/2022",
                                    "1": "8856004335",
                                    "2": "407 MILWAUKEE BLVD S 98001",
                                    "3": "490,000",
                                    "4": "47.27376425",
                                    "5": "-122.25035605973194",
                                    "6": "Algona",
                                    "7": "King County",
                                    "8": "U S BANK NATIONAL ASSOCIATIONQUALITY LOAN SERVICE CORPORATION OF WA"
                                },
                                {
                                    "0": "08/11/2022",
                                    "1": "5494400080",
                                    "2": "9215 SE SHORELAND PL 98004",
                                    "3": "6,731,000",
                                    "4": "47.6082457",
                                    "5": "-122.2143699",
                                    "6": "Bellevue",
                                    "7": "King County",
                                    "8": "SPECIALIZED LOAN SERVICING LLCU S BANK NA..."
                                },
                                {
                                    "0": "08/11/2022",
                                    "1": "3956500030",
                                    "2": "2015 NE 28TH ST 98056",
                                    "3": "802,000",
                                    "4": "47.5164677",
                                    "5": "-122.1918254057154",
                                    "6": "Kennydale",
                                    "7": "Renton",
                                    "8": "CLEAR RECON CORPRAINIER TITLE..."
                                },
                                {
                                    "0": "08/11/2022",
                                    "1": "9829200035",
                                    "2": "506 WELLINGTON AVE 98122",
                                    "3": "971,000",
                                    "4": "47.606325600000005",
                                    "5": "-122.28518447139746",
                                    "6": "Madrona",
                                    "7": "Seattle",
                                    "8": "NORTH STAR TRUSTEE LLC1SHARPE OPPORTUNITY INTERMEDIATE TRUST..."
                                },
                                {
                                    "0": "08/15/2022",
                                    "1": "0009000060",
                                    "2": "7004 RAVENNA AVE NE 98115",
                                    "3": "809,000",
                                    "4": "47.67963695",
                                    "5": "-122.30352492706469",
                                    "6": "Ravenna",
                                    "7": "Seattle",
                                    "8": "SEWELL SUZANNE"
                                },
                                {
                                    "0": "08/16/2022",
                                    "1": "3031200305",
                                    "2": "7321 33RD AVE S 98118",
                                    "3": "500,000",
                                    "4": "47.53640495",
                                    "5": "-122.29024378484951",
                                    "6": "NewHolly",
                                    "7": "Seattle",
                                    "8": "CITIBANK N ANEW RESIDENTIAL MORTGAGE LOAN TRUST 2020-RPL1..."
                                },
                                {
                                    "0": "08/16/2022",
                                    "1": "2076800050",
                                    "2": "18935 47TH AVE S 98188",
                                    "3": "535,000",
                                    "4": "47.432519",
                                    "5": "-122.27562800000001",
                                    "6": "SeaTac",
                                    "7": "King County",
                                    "8": "CALIBER HOME LOANS INCQUALITY LOAN SERVICE CORPORATION OF WA"
                                },
                                {
                                    "0": "08/16/2022",
                                    "1": "2624039122",
                                    "2": "4221 1/2 SW MYRTLE ST 98136",
                                    "3": "593,000",
                                    "4": "47.53943135",
                                    "5": "-122.38620436947154",
                                    "6": "Morgan Junction",
                                    "7": "Seattle",
                                    "8": "US BANK TRUST NAQUALITY LOAN SERVICE CORPORATION OF WA..."
                                },
                                {
                                    "0": "08/16/2022",
                                    "1": "1321400300",
                                    "2": "32806 6TH PL S 98003",
                                    "3": "461,000",
                                    "4": "47.30845015",
                                    "5": "-122.32598410150382",
                                    "6": "Federal Way",
                                    "7": "King County",
                                    "8": "LIGAYA JANINA LIGAYA LIGAYA DANIEL"
                                },
                                {
                                    "0": "08/16/2022",
                                    "1": "0821049003",
                                    "2": "1029 S 308TH ST 98003",
                                    "3": "403,000",
                                    "4": "47.32574315",
                                    "5": "-122.32014959857649",
                                    "6": "Lake Easter Estates",
                                    "7": "Federal Way",
                                    "8": "AZTEC FORECLOSURE CORPORATION OF WASHINGTONCARRINGTON MORTGAGE SERVICES LLC..."
                                },
                                {
                                    "0": "08/16/2022",
                                    "1": "2817550030",
                                    "2": "2124 S 254TH ST 98198",
                                    "3": "173,000",
                                    "4": "47.3743462",
                                    "5": "-122.30554770128731",
                                    "6": "Woodmont",
                                    "7": "Des Moines",
                                    "8": "WELLS FARGO BANK N AQUALITY LOAN SERVICE CORPORATION OF WA"
                                },
                                {
                                    "0": "08/16/2022",
                                    "1": "8965410020",
                                    "2": "16642 SE 48TH CT 98006",
                                    "3": "1,872,000",
                                    "4": "47.55940357487128",
                                    "5": "-122.11841411616844",
                                    "6": "Cougar Hills",
                                    "7": "Bellevue",
                                    "8": "BANK OF NEW YORK MELLONBANK OF NEW YORK..."
                                },
                                {
                                    "0": "08/17/2022",
                                    "1": "3649100165",
                                    "2": "7240 NE 150TH ST 98028",
                                    "3": "617,000",
                                    "4": "47.7379014",
                                    "5": "-122.2444544034206",
                                    "6": "Moorlands",
                                    "7": "Kenmore",
                                    "8": "MCGRUDER CHRISTOPHER A"
                                },
                                {
                                    "0": "08/17/2022",
                                    "1": "3879901865",
                                    "2": "636 W MERCER PL 98119",
                                    "3": "818,000",
                                    "4": "47.62618315",
                                    "5": "-122.36585533737528",
                                    "6": "Uptown",
                                    "7": "Belltown",
                                    "8": "LAKEWOOD 92 ASSOCIATES LLCHERMES RUSSEL J"
                                },
                                {
                                    "0": "08/18/2022",
                                    "1": "3395450420",
                                    "2": "19803 127TH CT NE 98011",
                                    "3": "365,000",
                                    "4": "47.771406",
                                    "5": "-122.17181750809291",
                                    "6": "Bothell",
                                    "7": "King County",
                                    "8": "CLEAR RECON CORPBANK OF AMERICA NA..."
                                },
                                {
                                    "0": "08/22/2022",
                                    "1": "5425700150",
                                    "2": "8037 NE 28TH ST 98039",
                                    "3": "1,572,000",
                                    "4": "47.63550359183674",
                                    "5": "-122.2323976122449",
                                    "6": "Medina",
                                    "7": "King County",
                                    "8": "ALLY BANKFIRST AMERICAN TITLE INSURANCE CO..."
                                },
                                {
                                    "0": "08/22/2022",
                                    "1": "3342103199",
                                    "2": "1301 N 34TH ST 98056",
                                    "3": "1,571,000",
                                    "4": "47.521875449999996",
                                    "5": "-122.2014614",
                                    "6": "Kennydale",
                                    "7": "Renton",
                                    "8": "UNIONBANCAL MORTGAGE CORPORATIONUNION BANK NA..."
                                },
                                {
                                    "0": "08/22/2022",
                                    "1": "9417400435",
                                    "2": "5933 47TH AVE SW 98136",
                                    "3": "717,000",
                                    "4": "47.549219550000004",
                                    "5": "-122.39284604305732",
                                    "6": "Morgan Junction",
                                    "7": "Seattle",
                                    "8": "PNC BANK N AQUALITY LOAN SERVICE CORP OF WA"
                                },
                                {
                                    "0": "08/23/2022",
                                    "1": "4158000065",
                                    "2": "36715 32ND AVE S 98001",
                                    "3": "375,000",
                                    "4": "47.272193349999995",
                                    "5": "-122.29274577767856",
                                    "6": "Auburn",
                                    "7": "King County",
                                    "8": "LOANCARE LLCQUALITY LOAN SERVICE CORPORATION OF WA..."
                                },
                                {
                                    "0": "08/24/2022",
                                    "1": "1250201490",
                                    "2": "403 31ST AVE S 98144",
                                    "3": "2,379,000",
                                    "4": "47.5989552",
                                    "5": "-122.2929674",
                                    "6": "Leschi",
                                    "7": "Seattle",
                                    "8": "FLAGSTART BANKCARSON RYAN..."
                                },
                                {
                                    "0": "08/24/2022",
                                    "1": "0126039380",
                                    "2": "1421 NW 196TH ST 98177",
                                    "3": "648,000",
                                    "4": "47.77141502040816",
                                    "5": "-122.37490946938776",
                                    "6": "Shoreline",
                                    "7": "King County",
                                    "8": "STEWART TITLE COMPANYMORTGAGE ELECTRONIC REGISTRATION SYSTEMS INC..."
                                },
                                {
                                    "0": "08/25/2022",
                                    "1": "7549802490",
                                    "2": "5823 16TH AVE S 98108",
                                    "3": "770,000",
                                    "4": "47.5504824",
                                    "5": "-122.31262324150094",
                                    "6": "Van Asselt",
                                    "7": "Georgetown",
                                    "8": "LOZANO DANTE CLOZANO JOSELITA B"
                                },
                                {
                                    "0": "08/25/2022",
                                    "1": "4232400601",
                                    "2": "517 A 16TH AVE E 98112",
                                    "3": "1,000,000",
                                    "4": "47.6237894",
                                    "5": "-122.3116019",
                                    "6": "Madison Valley",
                                    "7": "Capitol Hill",
                                    "8": "LAPPENBUSCH RICHARD WILLIAM"
                                },
                                {
                                    "0": "08/25/2022",
                                    "1": "9292900300",
                                    "2": "2717 S 256TH ST 98032",
                                    "3": "753,000",
                                    "4": "47.371976950000004",
                                    "5": "-122.29739472469396",
                                    "6": "Kent",
                                    "7": "King County",
                                    "8": "DIVSAR SEBAHAT"
                                },
                                {
                                    "0": "08/25/2022",
                                    "1": "0333100136",
                                    "2": "7830 NE 112TH ST 98034",
                                    "3": "852,000",
                                    "4": "47.701677950000004",
                                    "5": "-122.23636101933701",
                                    "6": "Kirkland",
                                    "7": "King County",
                                    "8": "METROPOLITAN LIFE INSURANCE COMPANYMTC FINANCIAL INC..."
                                },
                                {
                                    "0": "08/25/2022",
                                    "1": "0823069038",
                                    "2": "11303 207TH AVE SE 98027",
                                    "3": "1,528,000",
                                    "4": "47.5008985",
                                    "5": "-122.06559516466189",
                                    "6": "Issaquah",
                                    "7": "King County",
                                    "8": "CENLAR FSBBOEING EMPLOYEES CREDIT UNION..."
                                },
                                {
                                    "0": "08/25/2022",
                                    "1": "8651442680",
                                    "2": "18709 SE 268TH ST 98042",
                                    "3": "390,000",
                                    "4": "47.361836499999995",
                                    "5": "-122.09084049999998",
                                    "6": "Covington Woods",
                                    "7": "Timberlane",
                                    "8": "CLEAR RECON CORP"
                                },
                                {
                                    "0": "08/25/2022",
                                    "1": "1953400015",
                                    "2": "23203 25TH AVE S 98198",
                                    "3": "425,000",
                                    "4": "47.39354255",
                                    "5": "-122.30146012486709",
                                    "6": "North Highline",
                                    "7": "Des Moines",
                                    "8": "CLEAR RECON CORP"
                                },
                                {
                                    "0": "08/26/2022",
                                    "1": "7738500420",
                                    "2": "16112 BOTHELL WAY NE 98155",
                                    "3": "1,141,000",
                                    "4": "47.745482240440246",
                                    "5": "-122.28604468988995",
                                    "6": "Sheridan Beach",
                                    "7": "Lake Forest Park",
                                    "8": "NORTH STAR TRUSTEE LLCARVEST CENTRAL MORTGAGE COMPANY"
                                },
                                {
                                    "0": "08/26/2022",
                                    "1": "8651440410",
                                    "2": "26407 TIMBERLANE DR SE 98042",
                                    "3": "483,000",
                                    "4": "47.365397",
                                    "5": "-122.09145846348315",
                                    "6": "Covington Woods",
                                    "7": "Timberlane",
                                    "8": "BANK OF AMERICA NAMTC FINANCIAL INC..."
                                },
                                {
                                    "0": "08/29/2022",
                                    "1": "1760650570",
                                    "2": "26810 195TH CT SE ",
                                    "3": "632,000",
                                    "4": "47.360784",
                                    "5": "-122.08180125",
                                    "6": "Cornerstone",
                                    "7": "Timberlane",
                                    "8": "GUILD MORTGAGEQUALITY LOAN SERVICE CORPORATION OF WA"
                                },
                                {
                                    "0": "08/29/2022",
                                    "1": "1327600270",
                                    "2": "25426 136TH AVE SE ",
                                    "3": "659,000",
                                    "4": "47.373539949999994",
                                    "5": "-122.15979798092218",
                                    "6": "Stillwater Green",
                                    "7": "Kent",
                                    "8": "WELLS FARGO BANK NAAZTEC FORECLOSIRE CORPORATION"
                                },
                                {
                                    "0": "08/29/2022",
                                    "1": "2216100020",
                                    "2": "14011 SE 142ND ST 98059",
                                    "3": "670,000",
                                    "4": "47.47557485",
                                    "5": "-122.15314130004624",
                                    "6": "Maplewood Heights",
                                    "7": "Renton",
                                    "8": "MTC FINANCIAL INC DBA TRUSTEE CORPSBALCKSTONE NATIONAL TITLE..."
                                },
                                {
                                    "0": "08/29/2022",
                                    "1": "4337600305",
                                    "2": "259 SW 139TH ST 98166",
                                    "3": "523,000",
                                    "4": "47.47787665",
                                    "5": "-122.33892499405756",
                                    "6": "Burien",
                                    "7": "King County",
                                    "8": "LAKEVIEW LOAN SERVICING LLCQUALITY LOAN SERVICE CORPORATION OF WA..."
                                },
                                {
                                    "0": "08/29/2022",
                                    "1": "7196090460",
                                    "2": "17707 134TH LN SE 98058",
                                    "3": "334,000",
                                    "4": "47.4438833",
                                    "5": "-122.1615613",
                                    "6": "Fairwood",
                                    "7": "Renton",
                                    "8": "BOEING EMPLOYEES CREDIT UNIONQUALITY LOAN SERVICE CORPORATION OF WA"
                                },
                                {
                                    "0": "08/29/2022",
                                    "1": "3727800100",
                                    "2": "7530 30TH AVE NW 98117",
                                    "3": "793,000",
                                    "4": "47.6839971",
                                    "5": "-122.39538674316165",
                                    "6": "Loyal Heights",
                                    "7": "Ballard",
                                    "8": "POLLOCK ROY W"
                                },
                                {
                                    "0": "08/29/2022",
                                    "1": "3323059097",
                                    "2": "18320 124TH AVE SE 98058",
                                    "3": "558,000",
                                    "4": "47.43835705",
                                    "5": "-122.17485987459325",
                                    "6": "Renton",
                                    "7": "King County",
                                    "8": "WELLS FARGO BANK NA.DQUAL..."
                                },
                                {
                                    "0": "08/29/2022",
                                    "1": "7806100090",
                                    "2": "7127 S 129TH ST 98178",
                                    "3": "576,000",
                                    "4": "47.48752555",
                                    "5": "-122.24399055860121",
                                    "6": "Skyway",
                                    "7": "Seattle",
                                    "8": "BOEING EMPLOYEES CREDIT UNIONQUALITY LOAN SERVICE CORPORATION OF WASHINGTON"
                                },
                                {
                                    "0": "08/30/2022",
                                    "1": "2517000270",
                                    "2": "22614 134TH PL SE ",
                                    "3": "554,000",
                                    "4": "47.39898595",
                                    "5": "-122.1615293634267",
                                    "6": "Fern Crest",
                                    "7": "Kent",
                                    "8": "SELECT PORTFOLIO SERVICING INCQUALITY LOAN SERVICE CORPORATION OF WA..."
                                },
                                {
                                    "0": "08/30/2022",
                                    "1": "6385150010",
                                    "2": "34202 36TH PL SW 98023",
                                    "3": "410,000",
                                    "4": "47.295135849999994",
                                    "5": "-122.37873622340061",
                                    "6": "Federal Way",
                                    "7": "King County",
                                    "8": "TWENTIETH CENTURY MORTGAGE INCBANK OF AMERICA NA..."
                                },
                                {
                                    "0": "08/30/2022",
                                    "1": "0203900110",
                                    "2": "27739 NE AMES LAKE RD 98053",
                                    "3": "395,000",
                                    "4": "47.63995152759131",
                                    "5": "-121.96800875164824",
                                    "6": "Ames Lake",
                                    "7": "King County",
                                    "8": "PHH MORTGAGE CORPORATIONWESTERN PROGRESSIVE WASHINGTON INC"
                                },
                                {
                                    "0": "08/30/2022",
                                    "1": "3226200195",
                                    "2": "9215 RENTON AVE S 98118",
                                    "3": "553,000",
                                    "4": "47.5204686",
                                    "5": "-122.2735583928648",
                                    "6": "Rainier Beach",
                                    "7": "Seattle",
                                    "8": "PHH MORTGAGE CORPORATIONWESTERN PROGRESSIVE WASHINGTON INC"
                                },
                                {
                                    "0": "08/30/2022",
                                    "1": "0738100080",
                                    "2": "10602 SE 237TH ST 98031",
                                    "3": "425,000",
                                    "4": "47.3897642",
                                    "5": "-122.19948979387473",
                                    "6": "East Hill",
                                    "7": "Kent",
                                    "8": "MORTGAGE RESEARCH CENTER LLCCALIBER HOME LOANS INC..."
                                },
                                {
                                    "0": "08/30/2022",
                                    "1": "9320900760",
                                    "2": "2316 SW 333RD ST 98023",
                                    "3": "213,000",
                                    "4": "47.3042112",
                                    "5": "-122.36385527491171",
                                    "6": "Twin Lakes",
                                    "7": "Federal Way",
                                    "8": "QUICKEN LOANS LLCQUICKEN LOANS INC..."
                                },
                                {
                                    "0": "08/31/2022",
                                    "1": "1061400120",
                                    "2": "1055 REDMOND AVE NE 98056",
                                    "3": "541,000",
                                    "4": "47.50062395",
                                    "5": "-122.16972103011719",
                                    "6": "President Park",
                                    "7": "Renton",
                                    "8": "MONEY SOURCE INC OLD REPUBLIC TITLE LTD..."
                                },
                                {
                                    "0": "08/31/2022",
                                    "1": "7016820460",
                                    "2": "32716 3RD PL S 98003",
                                    "3": "293,000",
                                    "4": "47.3093656",
                                    "5": "-122.3308466",
                                    "6": "Federal Way",
                                    "7": "King County",
                                    "8": "DEUTSCHE BANK NATIONAL TRUST COMPANY"
                                },
                                {
                                    "0": "08/31/2022",
                                    "1": "1423910050",
                                    "2": "12724 SE 168TH ST 98058",
                                    "3": "564,000",
                                    "4": "47.45256235",
                                    "5": "-122.17175792061187",
                                    "6": "Renton",
                                    "7": "King County",
                                    "8": "WESTERN PROGRESSIVE WASHINGTON INCPHH MORTGAGE CORPORATION"
                                },
                                {
                                    "0": "09/01/2022",
                                    "1": "2111010950",
                                    "2": "12828 SE 296TH WAY 98092",
                                    "3": "485,000",
                                    "4": "47.3363631",
                                    "5": "-122.17027142386533",
                                    "6": "Lea Hill",
                                    "7": "Auburn",
                                    "8": "AMERIHOME MORTGAGE COMPANY LLCMTC FINANCIAL INC..."
                                },
                                {
                                    "0": "09/01/2022",
                                    "1": "1608010020",
                                    "2": "24110 119TH PL SE ",
                                    "3": "702,000",
                                    "4": "47.385775949999996",
                                    "5": "-122.18175375618586",
                                    "6": "Kent",
                                    "7": "King County",
                                    "8": "SPECIALIZED LOAN SERVICING LLCCHICAGO TITLE CO..."
                                },
                                {
                                    "0": "09/02/2022",
                                    "1": "6151800613",
                                    "2": "22025 SE 288TH ST 98010",
                                    "3": "488,000",
                                    "4": "47.3433773",
                                    "5": "-122.04756230454547",
                                    "6": "Henrys",
                                    "7": "Black Diamond",
                                    "8": "CLEAR RECON CORPFNTIC CORPORATION..."
                                },
                                {
                                    "0": "09/06/2022",
                                    "1": "7574911050",
                                    "2": "22320 NE 160TH PL 98077",
                                    "3": "1,788,000",
                                    "4": "47.74378488232526",
                                    "5": "-122.03882405764493",
                                    "6": "Saybrook Estates",
                                    "7": "King County",
                                    "8": "COOPER CHRISTOPHER ECOOPER PATRICIA P"
                                },
                                {
                                    "0": "09/09/2022",
                                    "1": "7812801630",
                                    "2": "12058 69TH AVE S 98178",
                                    "3": "578,000",
                                    "4": "47.493306000000004",
                                    "5": "-122.24743875",
                                    "6": "Skyway",
                                    "7": "Seattle",
                                    "8": "DEUTSCHE BANK TRUST COMPANYPHH MORGTGAGE..."
                                },
                                {
                                    "0": "09/09/2022",
                                    "1": "9578090410",
                                    "2": "17295 NE 120TH WAY ",
                                    "3": "1,806,000",
                                    "4": "47.7075366",
                                    "5": "-122.10919773494898",
                                    "6": "Wynstone",
                                    "7": "Redmond",
                                    "8": "U S BANK NAMTC FINANCIAL INC..."
                                },
                                {
                                    "0": "09/09/2022",
                                    "1": "7564600240",
                                    "2": "231 GARDEN AVE N 98057",
                                    "3": "487,000",
                                    "4": "47.48597725",
                                    "5": "-122.20074380338983",
                                    "6": "North Renton",
                                    "7": "Renton",
                                    "8": "CENLAR FSBQUALITY LOAN SERVICE CORPORATION OF WA..."
                                },
                                {
                                    "0": "09/12/2022",
                                    "1": "3222079052",
                                    "2": "28220 RETREAT-KANASKAT RD SE ",
                                    "3": "452,000",
                                    "4": "47.3483202",
                                    "5": "-121.9452331",
                                    "6": "King County",
                                    "7": "Washington",
                                    "8": "AZTEC FORECLOSURE CORPORATIONMONEY SOURCE INC"
                                },
                                {
                                    "0": "09/12/2022",
                                    "1": "3329530410",
                                    "2": "30019 58TH PL S 98001",
                                    "3": "387,000",
                                    "4": "47.3323435",
                                    "5": "-122.2611955",
                                    "6": "Auburn",
                                    "7": "King County",
                                    "8": "AZTEC FORECLOSURE CORP"
                                },
                                {
                                    "0": "09/12/2022",
                                    "1": "2621760440",
                                    "2": "25826 176TH PL SE 98042",
                                    "3": "730,000",
                                    "4": "47.3704645",
                                    "5": "-122.10602850000001",
                                    "6": "Foxfield",
                                    "7": "Covington",
                                    "8": "CLEAR RECON CORPUNIONBANCAL MORTGAGE CORPORATION..."
                                },
                                {
                                    "0": "09/13/2022",
                                    "1": "5381000395",
                                    "2": "3615 S 173RD ST 98188",
                                    "3": "353,000",
                                    "4": "47.4476255",
                                    "5": "-122.285526",
                                    "6": "McVan",
                                    "7": "SeaTac",
                                    "8": "QUALITY LOAN SERVICE CORPORATION OF WABOEING EMPLOYEES CREDIT UNION"
                                },
                                {
                                    "0": "09/14/2022",
                                    "1": "0040000805",
                                    "2": "4228 S 148TH ST 98168",
                                    "3": "574,000",
                                    "4": "47.470749299999994",
                                    "5": "-122.27993162513992",
                                    "6": "Tukwila",
                                    "7": "King County",
                                    "8": "SELECT PORTFOLIO SERVICING INCU S BANK TRUST CO..."
                                },
                                {
                                    "0": "09/14/2022",
                                    "1": "2771600855",
                                    "2": "2401 THORNDYKE PL W 98199",
                                    "3": "4,291,000",
                                    "4": "47.64015475040141",
                                    "5": "-122.38735693471543",
                                    "6": "Southeast Magnolia",
                                    "7": "Magnolia",
                                    "8": "BERYLLIUM HOLDING LLC"
                                },
                                {
                                    "0": "09/15/2022",
                                    "1": "4038600290",
                                    "2": "16518 NE 2ND PL 98008",
                                    "3": "1,531,000",
                                    "4": "47.61152960402472",
                                    "5": "-122.11993069717299",
                                    "6": "Lake Hills",
                                    "7": "Bellevue",
                                    "8": "DEUTSCHE BANK NATIONAL TRUST COGSR MORTGAGE LOAN TRUST..."
                                },
                                {
                                    "0": "09/15/2022",
                                    "1": "9357000715",
                                    "2": "10235 37TH PL SW 98146",
                                    "3": "615,000",
                                    "4": "47.51098135",
                                    "5": "-122.37969538882682",
                                    "6": "Arbor Heights",
                                    "7": "Seattle",
                                    "8": "NORTH STAR TRUSTEE LLCMATRIX FINANCIAL SERVICES CORP"
                                },
                                {
                                    "0": "09/15/2022",
                                    "1": "1459950610",
                                    "2": "750 N 143RD ST 98133",
                                    "3": "263,000",
                                    "4": "47.7328111",
                                    "5": "-122.3485564",
                                    "6": "Foy",
                                    "7": "Broadview",
                                    "8": "PENNYMAC LOAN SERVICES LLCFIRST AMERICAN TITLE INSURANCE CO"
                                },
                                {
                                    "0": "09/16/2022",
                                    "1": "3374900010",
                                    "2": "150 NW 135TH PL 98177",
                                    "3": "759,000",
                                    "4": "47.727523899999994",
                                    "5": "-122.36044209871483",
                                    "6": "Broadview",
                                    "7": "Seattle",
                                    "8": "BANK OF NEW YORK MELLONBANK OF NEW YORK..."
                                },
                                {
                                    "0": "09/16/2022",
                                    "1": "0621069138",
                                    "2": "29523 188TH AVE SE 98042",
                                    "3": "428,000",
                                    "4": "47.3365413",
                                    "5": "-122.09158617525445",
                                    "6": "Kent",
                                    "7": "King County",
                                    "8": "LOANCARE LLCLAKEVIEW LOAN SERVICING LLC..."
                                },
                                {
                                    "0": "09/19/2022",
                                    "1": "0945000700",
                                    "2": "300 NW 85TH ST 98117",
                                    "3": "1,069,100",
                                    "4": "47.69085515",
                                    "5": "-122.3608797",
                                    "6": "Crown Hill",
                                    "7": "Greenwood",
                                    "8": "LDH FUNDING LLC"
                                },
                                {
                                    "0": "09/19/2022",
                                    "1": "4168000160",
                                    "2": "1235 SW 313TH ST 98023",
                                    "3": "340,000",
                                    "4": "47.32161685",
                                    "5": "-122.35283885",
                                    "6": "Federal Way",
                                    "7": "King County",
                                    "8": "SPECIALIZED LOAN SERVICING LLCQUALITY LOAN SERVICE CORPORATION OF WA"
                                },
                                {
                                    "0": "09/20/2022",
                                    "1": "6669100110",
                                    "2": "13115 NE 38TH PL 98005",
                                    "3": "3,060,000",
                                    "4": "47.64458",
                                    "5": "-122.16558157118003",
                                    "6": "Parkside East",
                                    "7": "Bellevue",
                                    "8": "QUALITY LOAN SERVICE CORPORATION OF WAJPMORGAN CHASE BANK NA"
                                },
                                {
                                    "0": "09/20/2022",
                                    "1": "7700100005",
                                    "2": "8360 SE 46TH ST 98040",
                                    "3": "2,371,000",
                                    "4": "47.563887839027586",
                                    "5": "-122.2272965892654",
                                    "6": "Mercer Heights",
                                    "7": "Mercer Island",
                                    "8": "CLEAR RECON CORPMUFG UNION BANK..."
                                },
                                {
                                    "0": "09/21/2022",
                                    "1": "5381000022",
                                    "2": "16629 40TH AVE S 98188",
                                    "3": "476,000",
                                    "4": "47.453808499999994",
                                    "5": "-122.283218",
                                    "6": "McMicken Heights",
                                    "7": "SeaTac",
                                    "8": "MTC FINANCIALTRUSTEE CORPS..."
                                },
                                {
                                    "0": "09/21/2022",
                                    "1": "5249800225",
                                    "2": "4430 42ND AVE S 98118",
                                    "3": "704,000",
                                    "4": "47.56311255",
                                    "5": "-122.28047906571098",
                                    "6": "Columbia City",
                                    "7": "Rainier Valley",
                                    "8": "GHIDOTTI MICHELLE ESQU S BANK NA..."
                                },
                                {
                                    "0": "09/22/2022",
                                    "1": "0722079035",
                                    "2": "21048 276TH AVE SE 98038",
                                    "3": "345,000",
                                    "4": "47.41261900000001",
                                    "5": "-121.97291354545453",
                                    "6": "Maple Valley",
                                    "7": "King County",
                                    "8": "PHH MORTGAE CORPORATION"
                                },
                                {
                                    "0": "09/23/2022",
                                    "1": "1402950380",
                                    "2": "11340 SE 299TH CT 98092",
                                    "3": "456,000",
                                    "4": "47.33406875",
                                    "5": "-122.19026975",
                                    "6": "Lea Hill",
                                    "7": "Auburn",
                                    "8": "PENNYMAC LOAN SERVICES LLCQUALITY LOAN SERVICE CORPORATION OF WA"
                                },
                                {
                                    "0": "09/23/2022",
                                    "1": "2011400744",
                                    "2": "22515 10TH AVE S 98198",
                                    "3": "1,112,000",
                                    "4": "47.399969999999996",
                                    "5": "-122.32152458996333",
                                    "6": "Central Des Moines",
                                    "7": "Des Moines",
                                    "8": "WASHINGTON FEDERAL NAQUALITY LOAN SERVICE CORPORATION OF WA..."
                                }
                            ]
                        },
                        "text/html": [
                            "<table>",
                            "<tr><th>Record Date</th><th>PID</th><th>Address</th><th>Appraised Value</th><th>Latitude</th><th>Longitude</th><th>Neighborhood</th><th>Metro</th><th>Grantee</th></tr>",
                            "<tr><td>06/21/2022</td><td>7225500280</td><td>30537 5TH AVE SW 98023</td><td>519,000</td><td>47.327724599999996</td><td>-122.34113418535375</td><td>Mirror Lake</td><td>Federal Way</td><td>CLEAR RECON CORPAEGIS LAND TITLE GROUP...</td></tr>",
                            "<tr><td>06/22/2022</td><td>0699002230</td><td>12932 NE 131ST ST 98034</td><td>328,000</td><td>47.7175885</td><td>-122.16798441313318</td><td>Kirkland</td><td>King County</td><td>NORTH STAR TRUSTEE LLCHOMESTREET BANK...</td></tr>",
                            "<tr><td>06/22/2022</td><td>1222069101</td><td>19324 HOLLYHILLS DR NE 98011</td><td>989,000</td><td>47.76782685</td><td>-122.17036347613123</td><td>North Creek</td><td>Bothell</td><td>ACKER SEAN DACKER HEIDI J...</td></tr>",
                            "<tr><td>06/23/2022</td><td>3971701899</td><td>22024 260TH AVE SE 98038</td><td>682,000</td><td>47.40390495</td><td>-121.99406930091548</td><td>Maple Valley</td><td>King County</td><td>QUALITY LOAN SERVICE CORPORATION OF WALAKEVIEW LOAN SERVICING LLC...</td></tr>",
                            "<tr><td>06/23/2022</td><td>3546000540</td><td>24230 116TH PL SE </td><td>465,000</td><td>47.384213700000004</td><td>-122.1859362960468</td><td>East Pointe</td><td>Kent</td><td>BEACH MORTGAGE COMPANYQUALITY LOAN SERVICE CORPORATION OF WA...</td></tr>",
                            "<tr><td>06/23/2022</td><td>2122059213</td><td>4729 ROOSEVELT WAY NE 98105</td><td>839,000</td><td>47.66402575</td><td>-122.31770574597698</td><td>University Heights</td><td>University District</td><td>PNC BANK NAQUALITY LOAN SERVICE CORPORATION OF WA</td></tr>",
                            "<tr><td>06/23/2022</td><td>5335200070</td><td>21518 117TH AVE SE 98031</td><td>1,521,000</td><td>47.40944485</td><td>-122.18516267433654</td><td>Hillshire Terrace</td><td>Kent</td><td>NORTH STAR TRUSTEE LLCWILMINGTON TRUST NA</td></tr>",
                            "<tr><td>06/23/2022</td><td>1459750120</td><td>119 37TH AVE E 98112</td><td>536,000</td><td>47.61898334999999</td><td>-122.28674057451731</td><td>Denny-Blaine</td><td>Harrison/Denny–Blaine</td><td>NORTH STAR TRUSTEE LLCSERVICEMAC LLC</td></tr>",
                            "<tr><td>06/23/2022</td><td>9103000450</td><td>1822 NE 190TH ST 98155</td><td>869,000</td><td>47.76668377777778</td><td>-122.30996488888889</td><td>Shoreline</td><td>King County</td><td>BORREGO MANAGEMENT LLCKLAVANO JIM...</td></tr>",
                            "<tr><td>06/24/2022</td><td>7129302745</td><td>12508 SE 273RD PL 98030</td><td>263,000</td><td>47.356899</td><td>-122.17383036668008</td><td>Kent</td><td>King County</td><td>CULVER GARY EKROHN GARY</td></tr>",
                            "<tr><td>06/27/2022</td><td>5153100040</td><td>14906 73RD AVE NE 98028</td><td>491,000</td><td>47.7366309</td><td>-122.2432920956626</td><td>Moorlands</td><td>Kenmore</td><td>WELLS FARGO BANK N A</td></tr>",
                            "<tr><td>06/27/2022</td><td>1523069141</td><td>24301 9TH AVE S 98198</td><td>715,000</td><td>47.38384165</td><td>-122.32236929999999</td><td>Zenith</td><td>Des Moines</td><td>MINNS JULIETHOMSEN SUZANNE...</td></tr>",
                            "<tr><td>06/28/2022</td><td>1843200120</td><td>12055 69TH AVE S 98178</td><td>351,000</td><td>47.4932266</td><td>-122.24809988353795</td><td>Skyway</td><td>Seattle</td><td>SELENE FINANCE LP</td></tr>",
                            "<tr><td>06/28/2022</td><td>9363600410</td><td>44931 283RD AVE SE 98022</td><td>961,000</td><td>47.197396499999996</td><td>-121.96605558851675</td><td>Enumclaw</td><td>King County</td><td>US BANK TRUST NAQUALITY LOAN SERVICE CORPORATION OF WASHINGTON...</td></tr>",
                            "<tr><td>06/28/2022</td><td>7792000150</td><td>2608 FIR ST SE 98092</td><td>644,000</td><td>47.2861468</td><td>-122.18977194607578</td><td>Forrest Villa</td><td>Auburn</td><td>LAKEVIEW LOAN SERVICING LLCQUALITY LOAN SERVICE CORPORATION OF WA...</td></tr>",
                            "<tr><td>06/28/2022</td><td>7812801760</td><td>31500 33RD PL SW 98023</td><td>527,000</td><td>47.321235900000005</td><td>-122.3747438</td><td>Madera West</td><td>Federal Way</td><td>CASALLO CONRADO M</td></tr>",
                            "<tr><td>06/29/2022</td><td>2207600380</td><td>3629 S 249TH ST 98032</td><td>396,000</td><td>47.378274000000005</td><td>-122.28496638670197</td><td>Kent</td><td>King County</td><td>BANK OF AMERICA NAQUALITY LOAN CORP OF WA</td></tr>",
                            "<tr><td>07/05/2022</td><td>1788900230</td><td>28814 40TH AVE S 98001</td><td>301,000</td><td>47.34283525</td><td>-122.28315790779251</td><td>Auburn</td><td>King County</td><td>GRANGER CHRISTOPHER</td></tr>",
                            "<tr><td>07/05/2022</td><td>5556800330</td><td>31468 122ND AVE SE 98092</td><td>329,000</td><td>47.31968775</td><td>-122.17829186722561</td><td>Lea Hill</td><td>Auburn</td><td>WELLS FARGO BANK NA</td></tr>",
                            "<tr><td>07/07/2022</td><td>3449500075</td><td>2445 78TH AVE NE 98039</td><td>738,000</td><td>47.63267435054261</td><td>-122.23604658625452</td><td>Medina</td><td>King County</td><td>MTC FINANCIAL INCTRUSTEE CORPS...</td></tr>",
                            "<tr><td>07/08/2022</td><td>1137800020</td><td>3417 NE 17TH PL 98056</td><td>661,000</td><td>47.50736575</td><td>-122.1735101</td><td>Renton</td><td>King County</td><td>MIDFIRST BANKQUALITY LOAN SERVICE CORPORATION OF WA</td></tr>",
                            "<tr><td>07/11/2022</td><td>3211530070</td><td>140 6TH AVE SW 98047</td><td>207,000</td><td>47.259070550000004</td><td>-122.25527963926163</td><td>Pacific</td><td>King County</td><td>NORTH STAR TRUSTEE LLCNEWREZ LLC...</td></tr>",
                            "<tr><td>07/11/2022</td><td>7212800440</td><td>36201 1ST PL S 98003</td><td>294,000</td><td>47.27738215</td><td>-122.3342333634381</td><td>Federal Way</td><td>King County</td><td>WELLS FARGO BANK NAQUALITY LOAN SERVICE CORPORATION OF WA</td></tr>",
                            "<tr><td>07/14/2022</td><td>6041000130</td><td>1008 ROOSEVELT AVE E 98022</td><td>1,631,000</td><td>47.1986263</td><td>-121.9674706</td><td>Enumclaw</td><td>King County</td><td>BAIOCCHI MICHAEL MBAIOCCHI GABRIELA N</td></tr>",
                            "<tr><td>07/14/2022</td><td>7792000025</td><td>2202 S 300TH ST 98003</td><td>650,000</td><td>47.33403615</td><td>-122.30498645</td><td>Federal Way</td><td>King County</td><td>FREEDOM MORTGAGE CORPORATIONQUALITY LOAN SERVICE CORPORATION OF WA</td></tr>",
                            "<tr><td>07/14/2022</td><td>7683800193</td><td>3933 SW PORTLAND ST 98136</td><td>528,000</td><td>47.532665800000004</td><td>-122.38341735771812</td><td>High Point</td><td>Seattle</td><td>U S BANK TRUST NATIONAL ASSOCIATIONLSF9 MASTER PARTICIPATION TRUST...</td></tr>",
                            "<tr><td>07/14/2022</td><td>2490200545</td><td>20515 292ND AVE SE 98038</td><td>831,000</td><td>47.418222</td><td>-121.95533702016724</td><td>Maple Valley</td><td>King County</td><td>CLEAR RECON CORPARBORETUM MORTGAGE...</td></tr>",
                            "<tr><td>07/14/2022</td><td>0622079080</td><td>736 SHELTON AVE NE 98056</td><td>1,114,000</td><td>47.4960767</td><td>-122.1661857667739</td><td>President Park</td><td>Renton</td><td>GHIDOTTI MICHELLE ESQCENTER STREET LENDING VIII SPE LLC...</td></tr>",
                            "<tr><td>07/14/2022</td><td>8898000040</td><td>1387 42ND ST NE </td><td>528,000</td><td>47.3451504</td><td>-122.21365172503306</td><td>North Auburn</td><td>Auburn</td><td>FREEDOM MORTGAGE CORPORATIONQUALITY LOAN SERVICE CORPORATION OF WA</td></tr>",
                            "<tr><td>07/18/2022</td><td>5530200020</td><td>4611 S 164TH ST 98188</td><td>332,000</td><td>47.4560185</td><td>-122.2757265</td><td>McMicken Heights</td><td>SeaTac</td><td>FIDELITY NATIONAL TITLE COMPANY</td></tr>",
                            "<tr><td>07/20/2022</td><td>7853302290</td><td>6619 ELLIS AVE S 98108</td><td>1,053,000</td><td>47.543436549999996</td><td>-122.3194167161017</td><td>Van Asselt</td><td>Georgetown</td><td>NORTH STAR TRUSTEE LLC</td></tr>",
                            "<tr><td>07/20/2022</td><td>3468800030</td><td>25622 158TH PL SE 98042</td><td>585,000</td><td>47.37184395</td><td>-122.12985389449405</td><td>Fairfield</td><td>Covington</td><td>SELECT PORTFOLIO SERVICING INC</td></tr>",
                            "<tr><td>07/21/2022</td><td>2491201175</td><td>6706 QUIGLEY AVE SE 98065</td><td>683,000</td><td>47.54062756002483</td><td>-121.88633493495297</td><td>Snoqualmie</td><td>King County</td><td>BOEING EMPLOYEES CREDIT UNION BECUQUALITY LOAN SERVICE CORPORATION OF WA</td></tr>",
                            "<tr><td>07/21/2022</td><td>8847600220</td><td>33113 GLACIER AVE SE </td><td>302,000</td><td>47.30548415</td><td>-122.02528849535847</td><td>Ten Trails</td><td>Morganville</td><td>CLEAR RECON CORPSERVICELINK NATL...</td></tr>",
                            "<tr><td>07/21/2022</td><td>8576010450</td><td>13002 OCCIDENTAL AVE S 98168</td><td>688,000</td><td>47.486562</td><td>-122.33215383554293</td><td>Beverly Park</td><td>Burien</td><td>CLEAR RECON CORPCHICAGO TITLE INSURANCE CO...</td></tr>",
                            "<tr><td>07/21/2022</td><td>1446400840</td><td>32605 49TH CT SW 98023</td><td>462,000</td><td>47.3097021</td><td>-122.39610756643393</td><td>Twin Lakes</td><td>Federal Way</td><td>CLEAR RECON CORPLAKEVIEW LOAN SERVICING LLC...</td></tr>",
                            "<tr><td>07/21/2022</td><td>8732190870</td><td>9423 36TH AVE SW 98126</td><td>373,000</td><td>47.51871245</td><td>-122.37866979756623</td><td>Arbor Heights</td><td>Seattle</td><td>QUALITY LOAN SERVICE CORPNATIONSTAR MORTGAGE LLC...</td></tr>",
                            "<tr><td>07/25/2022</td><td>0739600430</td><td>12757 8TH AVE NW 98177</td><td>536,000</td><td>47.7230968</td><td>-122.36671213193588</td><td>Broadview</td><td>Seattle</td><td>QUALITY LOAN SERVICE CORP</td></tr>",
                            "<tr><td>07/26/2022</td><td>6204050020</td><td>21227 113TH AVE SE 98031</td><td>819,000</td><td>47.4110077</td><td>-122.19104080543946</td><td>Kent</td><td>King County</td><td>CICERO JOHN E</td></tr>",
                            "<tr><td>07/27/2022</td><td>3621059053</td><td>13244 4TH AVE SW 98146</td><td>1,028,000</td><td>47.483576</td><td>-122.33888834991083</td><td>Burien</td><td>King County</td><td>MTC FINANCIAL INCTRUSTEE CORPS...</td></tr>",
                            "<tr><td>07/27/2022</td><td>4437600015</td><td>5273 236TH PL SE </td><td>332,000</td><td>47.55598798773073</td><td>-122.02445379237396</td><td>Summerhill Village</td><td>Issaquah</td><td>WELLS FARGO BANK NA</td></tr>",
                            "<tr><td>07/27/2022</td><td>80786514505</td><td>752 BELLEVUE AVE E 98102</td><td>529,000</td><td>47.626611800000006</td><td>-122.32608395856664</td><td>Capitol Hill</td><td>Seattle</td><td>RUSHMORE LOAN MANAGEMENT SERVICES LLCQUALITY LOAN SERVICE CORPORATION OF WA...</td></tr>",
                            "<tr><td>07/27/2022</td><td>5566500050</td><td>6703 S 120TH ST 98178</td><td>277,000</td><td>47.495418349999994</td><td>-122.25005857803751</td><td>Skyway</td><td>Seattle</td><td>1ST SECURITY BANK OF WASHINGTON</td></tr>",
                            "<tr><td>07/27/2022</td><td>7574911050</td><td>11180 NE 162ND ST 98011</td><td>1,788,000</td><td>47.745284600000005</td><td>-122.19194880557544</td><td>Bothell</td><td>King County</td><td>US BANK TRUST NATIONAL ASSOCIATIONSN SERVICING COPR...</td></tr>",
                            "<tr><td>07/28/2022</td><td>2323059157</td><td>26727 NE STELLA ST 98019</td><td>766,000</td><td>47.7407356122449</td><td>-121.9813698367347</td><td>Duvall</td><td>King County</td><td>CLEAR RECON CORPFIDELITY NATIONAL TITLE COMPANY...</td></tr>",
                            "<tr><td>07/28/2022</td><td>8684000820</td><td>12828 78TH AVE S 98178</td><td>426,000</td><td>47.487503849999996</td><td>-122.23530957029786</td><td>Bryn Mawr</td><td>Seattle</td><td>QUALITY LOAN SERVICE CORP OF WA TOWD POINT MORTGAGE TRUST 2019 3...</td></tr>",
                            "<tr><td>07/28/2022</td><td>2144800096</td><td>2425 SW BARTON ST 98106</td><td>584,000</td><td>47.5208449</td><td>-122.36429099228937</td><td>Westwood</td><td>Seattle</td><td>US BANK TRUST NATIONAL ASSOCIATIONGHIDOTTI MICHELLE R...</td></tr>",
                            "<tr><td>07/28/2022</td><td>7387500245</td><td>10429 59TH AVE S 98178</td><td>546,000</td><td>47.5073216</td><td>-122.25979859993473</td><td>Rainier Beach</td><td>Seattle</td><td>IMPAC FUNDING CORPORATIONDEUTSCHE BANK NATIONAL TRUST...</td></tr>",
                            "<tr><td>07/28/2022</td><td>8068000150</td><td>17114 SE 383RD ST 98092</td><td>654,000</td><td>47.2585525</td><td>-122.11360881593407</td><td>Auburn</td><td>King County</td><td>GHIDOTTI MICHELLE RRUSHMORE LOAN MANAGEMENT SERVICES LLC...</td></tr>",
                            "<tr><td>07/29/2022</td><td>0301402370</td><td>15820 SE 148TH ST 98059</td><td>430,000</td><td>47.471463400000005</td><td>-122.12855240719654</td><td>Renton</td><td>King County</td><td>AMERICAN PACIFIC MORTGAGE CORPORATIONQUALITY LOAN SERVICE CORPORATION OF WA...</td></tr>",
                            "<tr><td>08/01/2022</td><td>6872001030</td><td>109 2ND ST S #233 98033</td><td>696,000</td><td>47.6745812</td><td>-122.2051592</td><td>Kirkland</td><td>King County</td><td>CLEAR RECON CORPFIDELITY NATIONAL TITLE COMPANY...</td></tr>",
                            "<tr><td>08/04/2022</td><td>7977201770</td><td>7700 34TH AVE NE 98115</td><td>1,548,000</td><td>47.6849906</td><td>-122.29129720027352</td><td>Wedgwood</td><td>Seattle</td><td>HALL CHARLES F</td></tr>",
                            "<tr><td>08/04/2022</td><td>3095600020</td><td>18110 DENSMORE AVE N 98133</td><td>710,000</td><td>47.76055828145774</td><td>-122.33871965834125</td><td>Meridian Park</td><td>Richmond Highlands</td><td>TRINITY FINANCIAL SERVICES LLCAZTEC FORECLOSURE CORPORATION OF WASHINGTON</td></tr>",
                            "<tr><td>08/05/2022</td><td>5416510470</td><td>22710 SE 268TH PL </td><td>806,000</td><td>47.3613524</td><td>-122.03799595000001</td><td>Rock Creek Meadows</td><td>Danville</td><td>MIDFIRST BANKQUALITY LOAN SERVICE CORPORATION OF WASHINGTON</td></tr>",
                            "<tr><td>08/08/2022</td><td>2220069131</td><td>24128 SE 440TH ST </td><td>450,000</td><td>47.207454999999996</td><td>-122.019105</td><td>Enumclaw</td><td>King County</td><td>GHIDOTTI MICHELLE R RUSHMORE LOAN MANAGEMENT SERVICES LLC...</td></tr>",
                            "<tr><td>08/08/2022</td><td>7518508899</td><td>6718 24TH AVE NW 98117</td><td>966,000</td><td>47.6783306</td><td>-122.3871818</td><td>Ballard</td><td>Seattle</td><td>PRLAP INCBANK OF AMERICA NA...</td></tr>",
                            "<tr><td>08/09/2022</td><td>2225069002</td><td>23737 NE REDMOND-FALL CITY RD 98053</td><td>859,000</td><td>47.64328834664646</td><td>-122.02098540230953</td><td>King County</td><td>Washington</td><td>BANK OF AMERICA NAQUALITY LOAN SERVICE CORPORATION OF WA</td></tr>",
                            "<tr><td>08/09/2022</td><td>8651430430</td><td>19629 SE 259TH ST 98042</td><td>402,000</td><td>47.369584</td><td>-122.0780915</td><td>Timberlane</td><td>Covington</td><td>MANNING HEATHER</td></tr>",
                            "<tr><td>08/09/2022</td><td>7635800390</td><td>2021 SW 149TH ST 98166</td><td>802,000</td><td>47.4691907</td><td>-122.35995677577756</td><td>Seahurst</td><td>Burien</td><td>BOEING EMPLOYEES CREDIT UNIONQUALITY LOAN SERVICE CORPORATION OF WA</td></tr>",
                            "<tr><td>08/11/2022</td><td>6163900811</td><td>1010 NE SERPENTINE PL 98155</td><td>811,000</td><td>47.75647091836735</td><td>-122.31846785714285</td><td>North City</td><td>Shoreline</td><td>DUTTON BENJAMIN PDUTTON WENDY R</td></tr>",
                            "<tr><td>08/11/2022</td><td>8856004335</td><td>407 MILWAUKEE BLVD S 98001</td><td>490,000</td><td>47.27376425</td><td>-122.25035605973194</td><td>Algona</td><td>King County</td><td>U S BANK NATIONAL ASSOCIATIONQUALITY LOAN SERVICE CORPORATION OF WA</td></tr>",
                            "<tr><td>08/11/2022</td><td>5494400080</td><td>9215 SE SHORELAND PL 98004</td><td>6,731,000</td><td>47.6082457</td><td>-122.2143699</td><td>Bellevue</td><td>King County</td><td>SPECIALIZED LOAN SERVICING LLCU S BANK NA...</td></tr>",
                            "<tr><td>08/11/2022</td><td>3956500030</td><td>2015 NE 28TH ST 98056</td><td>802,000</td><td>47.5164677</td><td>-122.1918254057154</td><td>Kennydale</td><td>Renton</td><td>CLEAR RECON CORPRAINIER TITLE...</td></tr>",
                            "<tr><td>08/11/2022</td><td>9829200035</td><td>506 WELLINGTON AVE 98122</td><td>971,000</td><td>47.606325600000005</td><td>-122.28518447139746</td><td>Madrona</td><td>Seattle</td><td>NORTH STAR TRUSTEE LLC1SHARPE OPPORTUNITY INTERMEDIATE TRUST...</td></tr>",
                            "<tr><td>08/15/2022</td><td>0009000060</td><td>7004 RAVENNA AVE NE 98115</td><td>809,000</td><td>47.67963695</td><td>-122.30352492706469</td><td>Ravenna</td><td>Seattle</td><td>SEWELL SUZANNE</td></tr>",
                            "<tr><td>08/16/2022</td><td>3031200305</td><td>7321 33RD AVE S 98118</td><td>500,000</td><td>47.53640495</td><td>-122.29024378484951</td><td>NewHolly</td><td>Seattle</td><td>CITIBANK N ANEW RESIDENTIAL MORTGAGE LOAN TRUST 2020-RPL1...</td></tr>",
                            "<tr><td>08/16/2022</td><td>2076800050</td><td>18935 47TH AVE S 98188</td><td>535,000</td><td>47.432519</td><td>-122.27562800000001</td><td>SeaTac</td><td>King County</td><td>CALIBER HOME LOANS INCQUALITY LOAN SERVICE CORPORATION OF WA</td></tr>",
                            "<tr><td>08/16/2022</td><td>2624039122</td><td>4221 1/2 SW MYRTLE ST 98136</td><td>593,000</td><td>47.53943135</td><td>-122.38620436947154</td><td>Morgan Junction</td><td>Seattle</td><td>US BANK TRUST NAQUALITY LOAN SERVICE CORPORATION OF WA...</td></tr>",
                            "<tr><td>08/16/2022</td><td>1321400300</td><td>32806 6TH PL S 98003</td><td>461,000</td><td>47.30845015</td><td>-122.32598410150382</td><td>Federal Way</td><td>King County</td><td>LIGAYA JANINA LIGAYA LIGAYA DANIEL</td></tr>",
                            "<tr><td>08/16/2022</td><td>0821049003</td><td>1029 S 308TH ST 98003</td><td>403,000</td><td>47.32574315</td><td>-122.32014959857649</td><td>Lake Easter Estates</td><td>Federal Way</td><td>AZTEC FORECLOSURE CORPORATION OF WASHINGTONCARRINGTON MORTGAGE SERVICES LLC...</td></tr>",
                            "<tr><td>08/16/2022</td><td>2817550030</td><td>2124 S 254TH ST 98198</td><td>173,000</td><td>47.3743462</td><td>-122.30554770128731</td><td>Woodmont</td><td>Des Moines</td><td>WELLS FARGO BANK N AQUALITY LOAN SERVICE CORPORATION OF WA</td></tr>",
                            "<tr><td>08/16/2022</td><td>8965410020</td><td>16642 SE 48TH CT 98006</td><td>1,872,000</td><td>47.55940357487128</td><td>-122.11841411616844</td><td>Cougar Hills</td><td>Bellevue</td><td>BANK OF NEW YORK MELLONBANK OF NEW YORK...</td></tr>",
                            "<tr><td>08/17/2022</td><td>3649100165</td><td>7240 NE 150TH ST 98028</td><td>617,000</td><td>47.7379014</td><td>-122.2444544034206</td><td>Moorlands</td><td>Kenmore</td><td>MCGRUDER CHRISTOPHER A</td></tr>",
                            "<tr><td>08/17/2022</td><td>3879901865</td><td>636 W MERCER PL 98119</td><td>818,000</td><td>47.62618315</td><td>-122.36585533737528</td><td>Uptown</td><td>Belltown</td><td>LAKEWOOD 92 ASSOCIATES LLCHERMES RUSSEL J</td></tr>",
                            "<tr><td>08/18/2022</td><td>3395450420</td><td>19803 127TH CT NE 98011</td><td>365,000</td><td>47.771406</td><td>-122.17181750809291</td><td>Bothell</td><td>King County</td><td>CLEAR RECON CORPBANK OF AMERICA NA...</td></tr>",
                            "<tr><td>08/22/2022</td><td>5425700150</td><td>8037 NE 28TH ST 98039</td><td>1,572,000</td><td>47.63550359183674</td><td>-122.2323976122449</td><td>Medina</td><td>King County</td><td>ALLY BANKFIRST AMERICAN TITLE INSURANCE CO...</td></tr>",
                            "<tr><td>08/22/2022</td><td>3342103199</td><td>1301 N 34TH ST 98056</td><td>1,571,000</td><td>47.521875449999996</td><td>-122.2014614</td><td>Kennydale</td><td>Renton</td><td>UNIONBANCAL MORTGAGE CORPORATIONUNION BANK NA...</td></tr>",
                            "<tr><td>08/22/2022</td><td>9417400435</td><td>5933 47TH AVE SW 98136</td><td>717,000</td><td>47.549219550000004</td><td>-122.39284604305732</td><td>Morgan Junction</td><td>Seattle</td><td>PNC BANK N AQUALITY LOAN SERVICE CORP OF WA</td></tr>",
                            "<tr><td>08/23/2022</td><td>4158000065</td><td>36715 32ND AVE S 98001</td><td>375,000</td><td>47.272193349999995</td><td>-122.29274577767856</td><td>Auburn</td><td>King County</td><td>LOANCARE LLCQUALITY LOAN SERVICE CORPORATION OF WA...</td></tr>",
                            "<tr><td>08/24/2022</td><td>1250201490</td><td>403 31ST AVE S 98144</td><td>2,379,000</td><td>47.5989552</td><td>-122.2929674</td><td>Leschi</td><td>Seattle</td><td>FLAGSTART BANKCARSON RYAN...</td></tr>",
                            "<tr><td>08/24/2022</td><td>0126039380</td><td>1421 NW 196TH ST 98177</td><td>648,000</td><td>47.77141502040816</td><td>-122.37490946938776</td><td>Shoreline</td><td>King County</td><td>STEWART TITLE COMPANYMORTGAGE ELECTRONIC REGISTRATION SYSTEMS INC...</td></tr>",
                            "<tr><td>08/25/2022</td><td>7549802490</td><td>5823 16TH AVE S 98108</td><td>770,000</td><td>47.5504824</td><td>-122.31262324150094</td><td>Van Asselt</td><td>Georgetown</td><td>LOZANO DANTE CLOZANO JOSELITA B</td></tr>",
                            "<tr><td>08/25/2022</td><td>4232400601</td><td>517 A 16TH AVE E 98112</td><td>1,000,000</td><td>47.6237894</td><td>-122.3116019</td><td>Madison Valley</td><td>Capitol Hill</td><td>LAPPENBUSCH RICHARD WILLIAM</td></tr>",
                            "<tr><td>08/25/2022</td><td>9292900300</td><td>2717 S 256TH ST 98032</td><td>753,000</td><td>47.371976950000004</td><td>-122.29739472469396</td><td>Kent</td><td>King County</td><td>DIVSAR SEBAHAT</td></tr>",
                            "<tr><td>08/25/2022</td><td>0333100136</td><td>7830 NE 112TH ST 98034</td><td>852,000</td><td>47.701677950000004</td><td>-122.23636101933701</td><td>Kirkland</td><td>King County</td><td>METROPOLITAN LIFE INSURANCE COMPANYMTC FINANCIAL INC...</td></tr>",
                            "<tr><td>08/25/2022</td><td>0823069038</td><td>11303 207TH AVE SE 98027</td><td>1,528,000</td><td>47.5008985</td><td>-122.06559516466189</td><td>Issaquah</td><td>King County</td><td>CENLAR FSBBOEING EMPLOYEES CREDIT UNION...</td></tr>",
                            "<tr><td>08/25/2022</td><td>8651442680</td><td>18709 SE 268TH ST 98042</td><td>390,000</td><td>47.361836499999995</td><td>-122.09084049999998</td><td>Covington Woods</td><td>Timberlane</td><td>CLEAR RECON CORP</td></tr>",
                            "<tr><td>08/25/2022</td><td>1953400015</td><td>23203 25TH AVE S 98198</td><td>425,000</td><td>47.39354255</td><td>-122.30146012486709</td><td>North Highline</td><td>Des Moines</td><td>CLEAR RECON CORP</td></tr>",
                            "<tr><td>08/26/2022</td><td>7738500420</td><td>16112 BOTHELL WAY NE 98155</td><td>1,141,000</td><td>47.745482240440246</td><td>-122.28604468988995</td><td>Sheridan Beach</td><td>Lake Forest Park</td><td>NORTH STAR TRUSTEE LLCARVEST CENTRAL MORTGAGE COMPANY</td></tr>",
                            "<tr><td>08/26/2022</td><td>8651440410</td><td>26407 TIMBERLANE DR SE 98042</td><td>483,000</td><td>47.365397</td><td>-122.09145846348315</td><td>Covington Woods</td><td>Timberlane</td><td>BANK OF AMERICA NAMTC FINANCIAL INC...</td></tr>",
                            "<tr><td>08/29/2022</td><td>1760650570</td><td>26810 195TH CT SE </td><td>632,000</td><td>47.360784</td><td>-122.08180125</td><td>Cornerstone</td><td>Timberlane</td><td>GUILD MORTGAGEQUALITY LOAN SERVICE CORPORATION OF WA</td></tr>",
                            "<tr><td>08/29/2022</td><td>1327600270</td><td>25426 136TH AVE SE </td><td>659,000</td><td>47.373539949999994</td><td>-122.15979798092218</td><td>Stillwater Green</td><td>Kent</td><td>WELLS FARGO BANK NAAZTEC FORECLOSIRE CORPORATION</td></tr>",
                            "<tr><td>08/29/2022</td><td>2216100020</td><td>14011 SE 142ND ST 98059</td><td>670,000</td><td>47.47557485</td><td>-122.15314130004624</td><td>Maplewood Heights</td><td>Renton</td><td>MTC FINANCIAL INC DBA TRUSTEE CORPSBALCKSTONE NATIONAL TITLE...</td></tr>",
                            "<tr><td>08/29/2022</td><td>4337600305</td><td>259 SW 139TH ST 98166</td><td>523,000</td><td>47.47787665</td><td>-122.33892499405756</td><td>Burien</td><td>King County</td><td>LAKEVIEW LOAN SERVICING LLCQUALITY LOAN SERVICE CORPORATION OF WA...</td></tr>",
                            "<tr><td>08/29/2022</td><td>7196090460</td><td>17707 134TH LN SE 98058</td><td>334,000</td><td>47.4438833</td><td>-122.1615613</td><td>Fairwood</td><td>Renton</td><td>BOEING EMPLOYEES CREDIT UNIONQUALITY LOAN SERVICE CORPORATION OF WA</td></tr>",
                            "<tr><td>08/29/2022</td><td>3727800100</td><td>7530 30TH AVE NW 98117</td><td>793,000</td><td>47.6839971</td><td>-122.39538674316165</td><td>Loyal Heights</td><td>Ballard</td><td>POLLOCK ROY W</td></tr>",
                            "<tr><td>08/29/2022</td><td>3323059097</td><td>18320 124TH AVE SE 98058</td><td>558,000</td><td>47.43835705</td><td>-122.17485987459325</td><td>Renton</td><td>King County</td><td>WELLS FARGO BANK NA.DQUAL...</td></tr>",
                            "<tr><td>08/29/2022</td><td>7806100090</td><td>7127 S 129TH ST 98178</td><td>576,000</td><td>47.48752555</td><td>-122.24399055860121</td><td>Skyway</td><td>Seattle</td><td>BOEING EMPLOYEES CREDIT UNIONQUALITY LOAN SERVICE CORPORATION OF WASHINGTON</td></tr>",
                            "<tr><td>08/30/2022</td><td>2517000270</td><td>22614 134TH PL SE </td><td>554,000</td><td>47.39898595</td><td>-122.1615293634267</td><td>Fern Crest</td><td>Kent</td><td>SELECT PORTFOLIO SERVICING INCQUALITY LOAN SERVICE CORPORATION OF WA...</td></tr>",
                            "<tr><td>08/30/2022</td><td>6385150010</td><td>34202 36TH PL SW 98023</td><td>410,000</td><td>47.295135849999994</td><td>-122.37873622340061</td><td>Federal Way</td><td>King County</td><td>TWENTIETH CENTURY MORTGAGE INCBANK OF AMERICA NA...</td></tr>",
                            "<tr><td>08/30/2022</td><td>0203900110</td><td>27739 NE AMES LAKE RD 98053</td><td>395,000</td><td>47.63995152759131</td><td>-121.96800875164824</td><td>Ames Lake</td><td>King County</td><td>PHH MORTGAGE CORPORATIONWESTERN PROGRESSIVE WASHINGTON INC</td></tr>",
                            "<tr><td>08/30/2022</td><td>3226200195</td><td>9215 RENTON AVE S 98118</td><td>553,000</td><td>47.5204686</td><td>-122.2735583928648</td><td>Rainier Beach</td><td>Seattle</td><td>PHH MORTGAGE CORPORATIONWESTERN PROGRESSIVE WASHINGTON INC</td></tr>",
                            "<tr><td>08/30/2022</td><td>0738100080</td><td>10602 SE 237TH ST 98031</td><td>425,000</td><td>47.3897642</td><td>-122.19948979387473</td><td>East Hill</td><td>Kent</td><td>MORTGAGE RESEARCH CENTER LLCCALIBER HOME LOANS INC...</td></tr>",
                            "<tr><td>08/30/2022</td><td>9320900760</td><td>2316 SW 333RD ST 98023</td><td>213,000</td><td>47.3042112</td><td>-122.36385527491171</td><td>Twin Lakes</td><td>Federal Way</td><td>QUICKEN LOANS LLCQUICKEN LOANS INC...</td></tr>",
                            "<tr><td>08/31/2022</td><td>1061400120</td><td>1055 REDMOND AVE NE 98056</td><td>541,000</td><td>47.50062395</td><td>-122.16972103011719</td><td>President Park</td><td>Renton</td><td>MONEY SOURCE INC OLD REPUBLIC TITLE LTD...</td></tr>",
                            "<tr><td>08/31/2022</td><td>7016820460</td><td>32716 3RD PL S 98003</td><td>293,000</td><td>47.3093656</td><td>-122.3308466</td><td>Federal Way</td><td>King County</td><td>DEUTSCHE BANK NATIONAL TRUST COMPANY</td></tr>",
                            "<tr><td>08/31/2022</td><td>1423910050</td><td>12724 SE 168TH ST 98058</td><td>564,000</td><td>47.45256235</td><td>-122.17175792061187</td><td>Renton</td><td>King County</td><td>WESTERN PROGRESSIVE WASHINGTON INCPHH MORTGAGE CORPORATION</td></tr>",
                            "<tr><td>09/01/2022</td><td>2111010950</td><td>12828 SE 296TH WAY 98092</td><td>485,000</td><td>47.3363631</td><td>-122.17027142386533</td><td>Lea Hill</td><td>Auburn</td><td>AMERIHOME MORTGAGE COMPANY LLCMTC FINANCIAL INC...</td></tr>",
                            "<tr><td>09/01/2022</td><td>1608010020</td><td>24110 119TH PL SE </td><td>702,000</td><td>47.385775949999996</td><td>-122.18175375618586</td><td>Kent</td><td>King County</td><td>SPECIALIZED LOAN SERVICING LLCCHICAGO TITLE CO...</td></tr>",
                            "<tr><td>09/02/2022</td><td>6151800613</td><td>22025 SE 288TH ST 98010</td><td>488,000</td><td>47.3433773</td><td>-122.04756230454547</td><td>Henrys</td><td>Black Diamond</td><td>CLEAR RECON CORPFNTIC CORPORATION...</td></tr>",
                            "<tr><td>09/06/2022</td><td>7574911050</td><td>22320 NE 160TH PL 98077</td><td>1,788,000</td><td>47.74378488232526</td><td>-122.03882405764493</td><td>Saybrook Estates</td><td>King County</td><td>COOPER CHRISTOPHER ECOOPER PATRICIA P</td></tr>",
                            "<tr><td>09/09/2022</td><td>7812801630</td><td>12058 69TH AVE S 98178</td><td>578,000</td><td>47.493306000000004</td><td>-122.24743875</td><td>Skyway</td><td>Seattle</td><td>DEUTSCHE BANK TRUST COMPANYPHH MORGTGAGE...</td></tr>",
                            "<tr><td>09/09/2022</td><td>9578090410</td><td>17295 NE 120TH WAY </td><td>1,806,000</td><td>47.7075366</td><td>-122.10919773494898</td><td>Wynstone</td><td>Redmond</td><td>U S BANK NAMTC FINANCIAL INC...</td></tr>",
                            "<tr><td>09/09/2022</td><td>7564600240</td><td>231 GARDEN AVE N 98057</td><td>487,000</td><td>47.48597725</td><td>-122.20074380338983</td><td>North Renton</td><td>Renton</td><td>CENLAR FSBQUALITY LOAN SERVICE CORPORATION OF WA...</td></tr>",
                            "<tr><td>09/12/2022</td><td>3222079052</td><td>28220 RETREAT-KANASKAT RD SE </td><td>452,000</td><td>47.3483202</td><td>-121.9452331</td><td>King County</td><td>Washington</td><td>AZTEC FORECLOSURE CORPORATIONMONEY SOURCE INC</td></tr>",
                            "<tr><td>09/12/2022</td><td>3329530410</td><td>30019 58TH PL S 98001</td><td>387,000</td><td>47.3323435</td><td>-122.2611955</td><td>Auburn</td><td>King County</td><td>AZTEC FORECLOSURE CORP</td></tr>",
                            "<tr><td>09/12/2022</td><td>2621760440</td><td>25826 176TH PL SE 98042</td><td>730,000</td><td>47.3704645</td><td>-122.10602850000001</td><td>Foxfield</td><td>Covington</td><td>CLEAR RECON CORPUNIONBANCAL MORTGAGE CORPORATION...</td></tr>",
                            "<tr><td>09/13/2022</td><td>5381000395</td><td>3615 S 173RD ST 98188</td><td>353,000</td><td>47.4476255</td><td>-122.285526</td><td>McVan</td><td>SeaTac</td><td>QUALITY LOAN SERVICE CORPORATION OF WABOEING EMPLOYEES CREDIT UNION</td></tr>",
                            "<tr><td>09/14/2022</td><td>0040000805</td><td>4228 S 148TH ST 98168</td><td>574,000</td><td>47.470749299999994</td><td>-122.27993162513992</td><td>Tukwila</td><td>King County</td><td>SELECT PORTFOLIO SERVICING INCU S BANK TRUST CO...</td></tr>",
                            "<tr><td>09/14/2022</td><td>2771600855</td><td>2401 THORNDYKE PL W 98199</td><td>4,291,000</td><td>47.64015475040141</td><td>-122.38735693471543</td><td>Southeast Magnolia</td><td>Magnolia</td><td>BERYLLIUM HOLDING LLC</td></tr>",
                            "<tr><td>09/15/2022</td><td>4038600290</td><td>16518 NE 2ND PL 98008</td><td>1,531,000</td><td>47.61152960402472</td><td>-122.11993069717299</td><td>Lake Hills</td><td>Bellevue</td><td>DEUTSCHE BANK NATIONAL TRUST COGSR MORTGAGE LOAN TRUST...</td></tr>",
                            "<tr><td>09/15/2022</td><td>9357000715</td><td>10235 37TH PL SW 98146</td><td>615,000</td><td>47.51098135</td><td>-122.37969538882682</td><td>Arbor Heights</td><td>Seattle</td><td>NORTH STAR TRUSTEE LLCMATRIX FINANCIAL SERVICES CORP</td></tr>",
                            "<tr><td>09/15/2022</td><td>1459950610</td><td>750 N 143RD ST 98133</td><td>263,000</td><td>47.7328111</td><td>-122.3485564</td><td>Foy</td><td>Broadview</td><td>PENNYMAC LOAN SERVICES LLCFIRST AMERICAN TITLE INSURANCE CO</td></tr>",
                            "<tr><td>09/16/2022</td><td>3374900010</td><td>150 NW 135TH PL 98177</td><td>759,000</td><td>47.727523899999994</td><td>-122.36044209871483</td><td>Broadview</td><td>Seattle</td><td>BANK OF NEW YORK MELLONBANK OF NEW YORK...</td></tr>",
                            "<tr><td>09/16/2022</td><td>0621069138</td><td>29523 188TH AVE SE 98042</td><td>428,000</td><td>47.3365413</td><td>-122.09158617525445</td><td>Kent</td><td>King County</td><td>LOANCARE LLCLAKEVIEW LOAN SERVICING LLC...</td></tr>",
                            "<tr><td>09/19/2022</td><td>0945000700</td><td>300 NW 85TH ST 98117</td><td>1,069,100</td><td>47.69085515</td><td>-122.3608797</td><td>Crown Hill</td><td>Greenwood</td><td>LDH FUNDING LLC</td></tr>",
                            "<tr><td>09/19/2022</td><td>4168000160</td><td>1235 SW 313TH ST 98023</td><td>340,000</td><td>47.32161685</td><td>-122.35283885</td><td>Federal Way</td><td>King County</td><td>SPECIALIZED LOAN SERVICING LLCQUALITY LOAN SERVICE CORPORATION OF WA</td></tr>",
                            "<tr><td>09/20/2022</td><td>6669100110</td><td>13115 NE 38TH PL 98005</td><td>3,060,000</td><td>47.64458</td><td>-122.16558157118003</td><td>Parkside East</td><td>Bellevue</td><td>QUALITY LOAN SERVICE CORPORATION OF WAJPMORGAN CHASE BANK NA</td></tr>",
                            "<tr><td>09/20/2022</td><td>7700100005</td><td>8360 SE 46TH ST 98040</td><td>2,371,000</td><td>47.563887839027586</td><td>-122.2272965892654</td><td>Mercer Heights</td><td>Mercer Island</td><td>CLEAR RECON CORPMUFG UNION BANK...</td></tr>",
                            "<tr><td>09/21/2022</td><td>5381000022</td><td>16629 40TH AVE S 98188</td><td>476,000</td><td>47.453808499999994</td><td>-122.283218</td><td>McMicken Heights</td><td>SeaTac</td><td>MTC FINANCIALTRUSTEE CORPS...</td></tr>",
                            "<tr><td>09/21/2022</td><td>5249800225</td><td>4430 42ND AVE S 98118</td><td>704,000</td><td>47.56311255</td><td>-122.28047906571098</td><td>Columbia City</td><td>Rainier Valley</td><td>GHIDOTTI MICHELLE ESQU S BANK NA...</td></tr>",
                            "<tr><td>09/22/2022</td><td>0722079035</td><td>21048 276TH AVE SE 98038</td><td>345,000</td><td>47.41261900000001</td><td>-121.97291354545453</td><td>Maple Valley</td><td>King County</td><td>PHH MORTGAE CORPORATION</td></tr>",
                            "<tr><td>09/23/2022</td><td>1402950380</td><td>11340 SE 299TH CT 98092</td><td>456,000</td><td>47.33406875</td><td>-122.19026975</td><td>Lea Hill</td><td>Auburn</td><td>PENNYMAC LOAN SERVICES LLCQUALITY LOAN SERVICE CORPORATION OF WA</td></tr>",
                            "<tr><td>09/23/2022</td><td>2011400744</td><td>22515 10TH AVE S 98198</td><td>1,112,000</td><td>47.399969999999996</td><td>-122.32152458996333</td><td>Central Des Moines</td><td>Des Moines</td><td>WASHINGTON FEDERAL NAQUALITY LOAN SERVICE CORPORATION OF WA...</td></tr>",
                            "</table>"
                        ]
                    }
                }
            ],
            "execution_count": 37
        }
    ]
}